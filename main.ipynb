{
  "cells": [
    {
      "cell_type": "markdown",
      "metadata": {
        "id": "view-in-github",
        "colab_type": "text"
      },
      "source": [
        "<a href=\"https://colab.research.google.com/github/weeg16/STINTSY/blob/main/main.ipynb\" target=\"_parent\"><img src=\"https://colab.research.google.com/assets/colab-badge.svg\" alt=\"Open In Colab\"/></a>"
      ]
    },
    {
      "cell_type": "markdown",
      "metadata": {
        "id": "Rhd44EMwuDVO"
      },
      "source": [
        "# **STINTSY Machine Project**"
      ]
    },
    {
      "cell_type": "markdown",
      "source": [
        "<font face=\"Papyrus\" size=7 color='#d39aed'>Hi sir alon . 👅<font>"
      ],
      "metadata": {
        "id": "wSWyx5iF_edA"
      }
    },
    {
      "cell_type": "markdown",
      "metadata": {
        "id": "ZzlG6D0NuDVP"
      },
      "source": [
        "## *Group # - S16*\n",
        "- **Ang, Danielle Faith**\n",
        "- **De Los Santos, Hanna Angela**\n",
        "- **Robles, Luis Miguel**\n",
        "- **Sarreal, Sophia Althea**"
      ]
    },
    {
      "cell_type": "markdown",
      "metadata": {
        "id": "OMjIXNBVuDVP"
      },
      "source": [
        "# **Import Libraries**"
      ]
    },
    {
      "cell_type": "code",
      "execution_count": 1262,
      "metadata": {
        "id": "WB_1zi_DuDVP"
      },
      "outputs": [],
      "source": [
        "import pandas as pd\n",
        "import numpy as np\n",
        "import matplotlib.pyplot as plt\n",
        "import seaborn as sns\n",
        "from sklearn.preprocessing import StandardScaler\n",
        "from sklearn.model_selection import train_test_split\n",
        "from sklearn.neighbors import KNeighborsRegressor\n",
        "from sklearn.metrics import mean_squared_error\n",
        "from scipy.stats import skew\n",
        "from sklearn.feature_selection import SelectKBest, f_regression\n",
        "from sklearn.impute import SimpleImputer\n",
        "\n",
        "# for neural networks\n",
        "\n",
        "import tensorflow as tf\n",
        "from tensorflow import keras\n",
        "from tensorflow.keras.models import Sequential\n",
        "from tensorflow.keras.layers import Dense, Dropout, BatchNormalization, Activation\n",
        "from tensorflow.keras.optimizers import Adam\n",
        "from tensorflow.keras.callbacks import EarlyStopping, ReduceLROnPlateau"
      ]
    },
    {
      "cell_type": "markdown",
      "metadata": {
        "id": "CHSZDr7zuDVQ"
      },
      "source": [
        "# **Dataset Description**"
      ]
    },
    {
      "cell_type": "markdown",
      "metadata": {
        "id": "mbPT9SbNuDVQ"
      },
      "source": [
        "The file contains data about expenditures and other disbursements, housing characteristics, social protection, Income and other receipts and Entrepreneural Activities."
      ]
    },
    {
      "cell_type": "markdown",
      "metadata": {
        "id": "1WymCJuruDVQ"
      },
      "source": [
        "# **Structure of the Dataset**"
      ]
    },
    {
      "cell_type": "markdown",
      "metadata": {
        "id": "ySQnXnrCuDVQ"
      },
      "source": []
    },
    {
      "cell_type": "markdown",
      "metadata": {
        "id": "Nvz-uyMiuDVQ"
      },
      "source": [
        "# **Reading the Dataset**"
      ]
    },
    {
      "cell_type": "code",
      "execution_count": 1263,
      "metadata": {
        "id": "_Nafd1NLuDVQ"
      },
      "outputs": [],
      "source": [
        "fies_df = pd.read_csv('FIES PUF 2012 Vol.1.CSV')"
      ]
    },
    {
      "cell_type": "markdown",
      "metadata": {
        "id": "Pi-eeDrzuDVQ"
      },
      "source": [
        "# **Cleaning the Dataset**"
      ]
    },
    {
      "cell_type": "code",
      "execution_count": 1264,
      "metadata": {
        "id": "CWYBJBrKuDVR",
        "outputId": "bbbcfe53-9014-4d81-f8b5-90122232c7be",
        "colab": {
          "base_uri": "https://localhost:8080/",
          "height": 255
        }
      },
      "outputs": [
        {
          "output_type": "display_data",
          "data": {
            "text/plain": [
              "   W_REGN      W_OID  W_SHSN  W_HCN  URB   RSTR     PSU  BWEIGHT     RFACT  \\\n",
              "0      14  101001000       2     25    2  21100  415052   138.25  200.6576   \n",
              "1      14  101001000       3     43    2  21100  415052   138.25  200.6576   \n",
              "2      14  101001000       4     62    2  21100  415052   138.25  200.6576   \n",
              "3      14  101001000       5     79    2  21100  415052   138.25  200.6576   \n",
              "4      14  101001000      10    165    2  21100  415052   138.25  200.6576   \n",
              "\n",
              "   FSIZE  ...  PC_QTY  OVEN_QTY  MOTOR_BANCA_QTY  MOTORCYCLE_QTY   POP_ADJ  \\\n",
              "0    3.0  ...      01        01                                   0.946172   \n",
              "1   12.5  ...                01                               01  0.946172   \n",
              "2    2.0  ...                01                                   0.946172   \n",
              "3    4.0  ...                01                                   0.946172   \n",
              "4    5.0  ...                                                 01  0.946172   \n",
              "\n",
              "       PCINC  NATPC  NATDC  REGDC  REGPC  \n",
              "0  108417.00      9      8      8      9  \n",
              "1   30631.60      5      9      9      4  \n",
              "2   86992.50      9      6      6      8  \n",
              "3   43325.75      6      6      6      6  \n",
              "4   37481.80      6      6      6      5  \n",
              "\n",
              "[5 rows x 119 columns]"
            ],
            "text/html": [
              "\n",
              "  <div id=\"df-a29c2ea3-39d1-4f2d-a5bc-1089eb7e9f03\" class=\"colab-df-container\">\n",
              "    <div>\n",
              "<style scoped>\n",
              "    .dataframe tbody tr th:only-of-type {\n",
              "        vertical-align: middle;\n",
              "    }\n",
              "\n",
              "    .dataframe tbody tr th {\n",
              "        vertical-align: top;\n",
              "    }\n",
              "\n",
              "    .dataframe thead th {\n",
              "        text-align: right;\n",
              "    }\n",
              "</style>\n",
              "<table border=\"1\" class=\"dataframe\">\n",
              "  <thead>\n",
              "    <tr style=\"text-align: right;\">\n",
              "      <th></th>\n",
              "      <th>W_REGN</th>\n",
              "      <th>W_OID</th>\n",
              "      <th>W_SHSN</th>\n",
              "      <th>W_HCN</th>\n",
              "      <th>URB</th>\n",
              "      <th>RSTR</th>\n",
              "      <th>PSU</th>\n",
              "      <th>BWEIGHT</th>\n",
              "      <th>RFACT</th>\n",
              "      <th>FSIZE</th>\n",
              "      <th>...</th>\n",
              "      <th>PC_QTY</th>\n",
              "      <th>OVEN_QTY</th>\n",
              "      <th>MOTOR_BANCA_QTY</th>\n",
              "      <th>MOTORCYCLE_QTY</th>\n",
              "      <th>POP_ADJ</th>\n",
              "      <th>PCINC</th>\n",
              "      <th>NATPC</th>\n",
              "      <th>NATDC</th>\n",
              "      <th>REGDC</th>\n",
              "      <th>REGPC</th>\n",
              "    </tr>\n",
              "  </thead>\n",
              "  <tbody>\n",
              "    <tr>\n",
              "      <th>0</th>\n",
              "      <td>14</td>\n",
              "      <td>101001000</td>\n",
              "      <td>2</td>\n",
              "      <td>25</td>\n",
              "      <td>2</td>\n",
              "      <td>21100</td>\n",
              "      <td>415052</td>\n",
              "      <td>138.25</td>\n",
              "      <td>200.6576</td>\n",
              "      <td>3.0</td>\n",
              "      <td>...</td>\n",
              "      <td>01</td>\n",
              "      <td>01</td>\n",
              "      <td></td>\n",
              "      <td></td>\n",
              "      <td>0.946172</td>\n",
              "      <td>108417.00</td>\n",
              "      <td>9</td>\n",
              "      <td>8</td>\n",
              "      <td>8</td>\n",
              "      <td>9</td>\n",
              "    </tr>\n",
              "    <tr>\n",
              "      <th>1</th>\n",
              "      <td>14</td>\n",
              "      <td>101001000</td>\n",
              "      <td>3</td>\n",
              "      <td>43</td>\n",
              "      <td>2</td>\n",
              "      <td>21100</td>\n",
              "      <td>415052</td>\n",
              "      <td>138.25</td>\n",
              "      <td>200.6576</td>\n",
              "      <td>12.5</td>\n",
              "      <td>...</td>\n",
              "      <td></td>\n",
              "      <td>01</td>\n",
              "      <td></td>\n",
              "      <td>01</td>\n",
              "      <td>0.946172</td>\n",
              "      <td>30631.60</td>\n",
              "      <td>5</td>\n",
              "      <td>9</td>\n",
              "      <td>9</td>\n",
              "      <td>4</td>\n",
              "    </tr>\n",
              "    <tr>\n",
              "      <th>2</th>\n",
              "      <td>14</td>\n",
              "      <td>101001000</td>\n",
              "      <td>4</td>\n",
              "      <td>62</td>\n",
              "      <td>2</td>\n",
              "      <td>21100</td>\n",
              "      <td>415052</td>\n",
              "      <td>138.25</td>\n",
              "      <td>200.6576</td>\n",
              "      <td>2.0</td>\n",
              "      <td>...</td>\n",
              "      <td></td>\n",
              "      <td>01</td>\n",
              "      <td></td>\n",
              "      <td></td>\n",
              "      <td>0.946172</td>\n",
              "      <td>86992.50</td>\n",
              "      <td>9</td>\n",
              "      <td>6</td>\n",
              "      <td>6</td>\n",
              "      <td>8</td>\n",
              "    </tr>\n",
              "    <tr>\n",
              "      <th>3</th>\n",
              "      <td>14</td>\n",
              "      <td>101001000</td>\n",
              "      <td>5</td>\n",
              "      <td>79</td>\n",
              "      <td>2</td>\n",
              "      <td>21100</td>\n",
              "      <td>415052</td>\n",
              "      <td>138.25</td>\n",
              "      <td>200.6576</td>\n",
              "      <td>4.0</td>\n",
              "      <td>...</td>\n",
              "      <td></td>\n",
              "      <td>01</td>\n",
              "      <td></td>\n",
              "      <td></td>\n",
              "      <td>0.946172</td>\n",
              "      <td>43325.75</td>\n",
              "      <td>6</td>\n",
              "      <td>6</td>\n",
              "      <td>6</td>\n",
              "      <td>6</td>\n",
              "    </tr>\n",
              "    <tr>\n",
              "      <th>4</th>\n",
              "      <td>14</td>\n",
              "      <td>101001000</td>\n",
              "      <td>10</td>\n",
              "      <td>165</td>\n",
              "      <td>2</td>\n",
              "      <td>21100</td>\n",
              "      <td>415052</td>\n",
              "      <td>138.25</td>\n",
              "      <td>200.6576</td>\n",
              "      <td>5.0</td>\n",
              "      <td>...</td>\n",
              "      <td></td>\n",
              "      <td></td>\n",
              "      <td></td>\n",
              "      <td>01</td>\n",
              "      <td>0.946172</td>\n",
              "      <td>37481.80</td>\n",
              "      <td>6</td>\n",
              "      <td>6</td>\n",
              "      <td>6</td>\n",
              "      <td>5</td>\n",
              "    </tr>\n",
              "  </tbody>\n",
              "</table>\n",
              "<p>5 rows × 119 columns</p>\n",
              "</div>\n",
              "    <div class=\"colab-df-buttons\">\n",
              "\n",
              "  <div class=\"colab-df-container\">\n",
              "    <button class=\"colab-df-convert\" onclick=\"convertToInteractive('df-a29c2ea3-39d1-4f2d-a5bc-1089eb7e9f03')\"\n",
              "            title=\"Convert this dataframe to an interactive table.\"\n",
              "            style=\"display:none;\">\n",
              "\n",
              "  <svg xmlns=\"http://www.w3.org/2000/svg\" height=\"24px\" viewBox=\"0 -960 960 960\">\n",
              "    <path d=\"M120-120v-720h720v720H120Zm60-500h600v-160H180v160Zm220 220h160v-160H400v160Zm0 220h160v-160H400v160ZM180-400h160v-160H180v160Zm440 0h160v-160H620v160ZM180-180h160v-160H180v160Zm440 0h160v-160H620v160Z\"/>\n",
              "  </svg>\n",
              "    </button>\n",
              "\n",
              "  <style>\n",
              "    .colab-df-container {\n",
              "      display:flex;\n",
              "      gap: 12px;\n",
              "    }\n",
              "\n",
              "    .colab-df-convert {\n",
              "      background-color: #E8F0FE;\n",
              "      border: none;\n",
              "      border-radius: 50%;\n",
              "      cursor: pointer;\n",
              "      display: none;\n",
              "      fill: #1967D2;\n",
              "      height: 32px;\n",
              "      padding: 0 0 0 0;\n",
              "      width: 32px;\n",
              "    }\n",
              "\n",
              "    .colab-df-convert:hover {\n",
              "      background-color: #E2EBFA;\n",
              "      box-shadow: 0px 1px 2px rgba(60, 64, 67, 0.3), 0px 1px 3px 1px rgba(60, 64, 67, 0.15);\n",
              "      fill: #174EA6;\n",
              "    }\n",
              "\n",
              "    .colab-df-buttons div {\n",
              "      margin-bottom: 4px;\n",
              "    }\n",
              "\n",
              "    [theme=dark] .colab-df-convert {\n",
              "      background-color: #3B4455;\n",
              "      fill: #D2E3FC;\n",
              "    }\n",
              "\n",
              "    [theme=dark] .colab-df-convert:hover {\n",
              "      background-color: #434B5C;\n",
              "      box-shadow: 0px 1px 3px 1px rgba(0, 0, 0, 0.15);\n",
              "      filter: drop-shadow(0px 1px 2px rgba(0, 0, 0, 0.3));\n",
              "      fill: #FFFFFF;\n",
              "    }\n",
              "  </style>\n",
              "\n",
              "    <script>\n",
              "      const buttonEl =\n",
              "        document.querySelector('#df-a29c2ea3-39d1-4f2d-a5bc-1089eb7e9f03 button.colab-df-convert');\n",
              "      buttonEl.style.display =\n",
              "        google.colab.kernel.accessAllowed ? 'block' : 'none';\n",
              "\n",
              "      async function convertToInteractive(key) {\n",
              "        const element = document.querySelector('#df-a29c2ea3-39d1-4f2d-a5bc-1089eb7e9f03');\n",
              "        const dataTable =\n",
              "          await google.colab.kernel.invokeFunction('convertToInteractive',\n",
              "                                                    [key], {});\n",
              "        if (!dataTable) return;\n",
              "\n",
              "        const docLinkHtml = 'Like what you see? Visit the ' +\n",
              "          '<a target=\"_blank\" href=https://colab.research.google.com/notebooks/data_table.ipynb>data table notebook</a>'\n",
              "          + ' to learn more about interactive tables.';\n",
              "        element.innerHTML = '';\n",
              "        dataTable['output_type'] = 'display_data';\n",
              "        await google.colab.output.renderOutput(dataTable, element);\n",
              "        const docLink = document.createElement('div');\n",
              "        docLink.innerHTML = docLinkHtml;\n",
              "        element.appendChild(docLink);\n",
              "      }\n",
              "    </script>\n",
              "  </div>\n",
              "\n",
              "\n",
              "<div id=\"df-0a9808b1-3311-42d6-8e53-6633d9686e0c\">\n",
              "  <button class=\"colab-df-quickchart\" onclick=\"quickchart('df-0a9808b1-3311-42d6-8e53-6633d9686e0c')\"\n",
              "            title=\"Suggest charts\"\n",
              "            style=\"display:none;\">\n",
              "\n",
              "<svg xmlns=\"http://www.w3.org/2000/svg\" height=\"24px\"viewBox=\"0 0 24 24\"\n",
              "     width=\"24px\">\n",
              "    <g>\n",
              "        <path d=\"M19 3H5c-1.1 0-2 .9-2 2v14c0 1.1.9 2 2 2h14c1.1 0 2-.9 2-2V5c0-1.1-.9-2-2-2zM9 17H7v-7h2v7zm4 0h-2V7h2v10zm4 0h-2v-4h2v4z\"/>\n",
              "    </g>\n",
              "</svg>\n",
              "  </button>\n",
              "\n",
              "<style>\n",
              "  .colab-df-quickchart {\n",
              "      --bg-color: #E8F0FE;\n",
              "      --fill-color: #1967D2;\n",
              "      --hover-bg-color: #E2EBFA;\n",
              "      --hover-fill-color: #174EA6;\n",
              "      --disabled-fill-color: #AAA;\n",
              "      --disabled-bg-color: #DDD;\n",
              "  }\n",
              "\n",
              "  [theme=dark] .colab-df-quickchart {\n",
              "      --bg-color: #3B4455;\n",
              "      --fill-color: #D2E3FC;\n",
              "      --hover-bg-color: #434B5C;\n",
              "      --hover-fill-color: #FFFFFF;\n",
              "      --disabled-bg-color: #3B4455;\n",
              "      --disabled-fill-color: #666;\n",
              "  }\n",
              "\n",
              "  .colab-df-quickchart {\n",
              "    background-color: var(--bg-color);\n",
              "    border: none;\n",
              "    border-radius: 50%;\n",
              "    cursor: pointer;\n",
              "    display: none;\n",
              "    fill: var(--fill-color);\n",
              "    height: 32px;\n",
              "    padding: 0;\n",
              "    width: 32px;\n",
              "  }\n",
              "\n",
              "  .colab-df-quickchart:hover {\n",
              "    background-color: var(--hover-bg-color);\n",
              "    box-shadow: 0 1px 2px rgba(60, 64, 67, 0.3), 0 1px 3px 1px rgba(60, 64, 67, 0.15);\n",
              "    fill: var(--button-hover-fill-color);\n",
              "  }\n",
              "\n",
              "  .colab-df-quickchart-complete:disabled,\n",
              "  .colab-df-quickchart-complete:disabled:hover {\n",
              "    background-color: var(--disabled-bg-color);\n",
              "    fill: var(--disabled-fill-color);\n",
              "    box-shadow: none;\n",
              "  }\n",
              "\n",
              "  .colab-df-spinner {\n",
              "    border: 2px solid var(--fill-color);\n",
              "    border-color: transparent;\n",
              "    border-bottom-color: var(--fill-color);\n",
              "    animation:\n",
              "      spin 1s steps(1) infinite;\n",
              "  }\n",
              "\n",
              "  @keyframes spin {\n",
              "    0% {\n",
              "      border-color: transparent;\n",
              "      border-bottom-color: var(--fill-color);\n",
              "      border-left-color: var(--fill-color);\n",
              "    }\n",
              "    20% {\n",
              "      border-color: transparent;\n",
              "      border-left-color: var(--fill-color);\n",
              "      border-top-color: var(--fill-color);\n",
              "    }\n",
              "    30% {\n",
              "      border-color: transparent;\n",
              "      border-left-color: var(--fill-color);\n",
              "      border-top-color: var(--fill-color);\n",
              "      border-right-color: var(--fill-color);\n",
              "    }\n",
              "    40% {\n",
              "      border-color: transparent;\n",
              "      border-right-color: var(--fill-color);\n",
              "      border-top-color: var(--fill-color);\n",
              "    }\n",
              "    60% {\n",
              "      border-color: transparent;\n",
              "      border-right-color: var(--fill-color);\n",
              "    }\n",
              "    80% {\n",
              "      border-color: transparent;\n",
              "      border-right-color: var(--fill-color);\n",
              "      border-bottom-color: var(--fill-color);\n",
              "    }\n",
              "    90% {\n",
              "      border-color: transparent;\n",
              "      border-bottom-color: var(--fill-color);\n",
              "    }\n",
              "  }\n",
              "</style>\n",
              "\n",
              "  <script>\n",
              "    async function quickchart(key) {\n",
              "      const quickchartButtonEl =\n",
              "        document.querySelector('#' + key + ' button');\n",
              "      quickchartButtonEl.disabled = true;  // To prevent multiple clicks.\n",
              "      quickchartButtonEl.classList.add('colab-df-spinner');\n",
              "      try {\n",
              "        const charts = await google.colab.kernel.invokeFunction(\n",
              "            'suggestCharts', [key], {});\n",
              "      } catch (error) {\n",
              "        console.error('Error during call to suggestCharts:', error);\n",
              "      }\n",
              "      quickchartButtonEl.classList.remove('colab-df-spinner');\n",
              "      quickchartButtonEl.classList.add('colab-df-quickchart-complete');\n",
              "    }\n",
              "    (() => {\n",
              "      let quickchartButtonEl =\n",
              "        document.querySelector('#df-0a9808b1-3311-42d6-8e53-6633d9686e0c button');\n",
              "      quickchartButtonEl.style.display =\n",
              "        google.colab.kernel.accessAllowed ? 'block' : 'none';\n",
              "    })();\n",
              "  </script>\n",
              "</div>\n",
              "\n",
              "    </div>\n",
              "  </div>\n"
            ],
            "application/vnd.google.colaboratory.intrinsic+json": {
              "type": "dataframe"
            }
          },
          "metadata": {}
        }
      ],
      "source": [
        "display(fies_df.head())"
      ]
    },
    {
      "cell_type": "code",
      "source": [
        "fies_df.info()"
      ],
      "metadata": {
        "colab": {
          "base_uri": "https://localhost:8080/"
        },
        "id": "MOvTKR7kbVO6",
        "outputId": "40731cc6-f747-4926-b68e-408d4a872ea2"
      },
      "execution_count": 1265,
      "outputs": [
        {
          "output_type": "stream",
          "name": "stdout",
          "text": [
            "<class 'pandas.core.frame.DataFrame'>\n",
            "RangeIndex: 40171 entries, 0 to 40170\n",
            "Columns: 119 entries, W_REGN to REGPC\n",
            "dtypes: float64(5), int64(92), object(22)\n",
            "memory usage: 36.5+ MB\n"
          ]
        }
      ]
    },
    {
      "cell_type": "markdown",
      "source": [
        "### ***Drop ID Columns***"
      ],
      "metadata": {
        "id": "eTV8a_rUdyhX"
      }
    },
    {
      "cell_type": "code",
      "source": [
        "id_cols = [\"W_OID\", \"W_SHSN\", \"W_HCN\"]\n",
        "fies_df.drop(columns=id_cols, inplace=True, errors='ignore')"
      ],
      "metadata": {
        "id": "AN78Pt72dx8C"
      },
      "execution_count": 1266,
      "outputs": []
    },
    {
      "cell_type": "markdown",
      "source": [
        "### ***Categorical Variables***"
      ],
      "metadata": {
        "id": "APtuKiHo5ivA"
      }
    },
    {
      "cell_type": "code",
      "source": [
        "object_columns = fies_df.select_dtypes(include=['object']).columns\n",
        "print(\"Categorical Variables (Object Dtypes):\")\n",
        "print(object_columns)"
      ],
      "metadata": {
        "colab": {
          "base_uri": "https://localhost:8080/"
        },
        "id": "fnvgAxKRcNhe",
        "outputId": "1793d2e2-0075-453e-bffc-67147553894d"
      },
      "execution_count": 1267,
      "outputs": [
        {
          "output_type": "stream",
          "name": "stdout",
          "text": [
            "Categorical Variables (Object Dtypes):\n",
            "Index(['OCCUP', 'KB', 'CW', 'AGELESS5', 'AGE5_17', 'EMPLOYED_PAY',\n",
            "       'EMPLOYED_PROF', 'DISTANCE', 'RADIO_QTY', 'TV_QTY', 'CD_QTY',\n",
            "       'STEREO_QTY', 'REF_QTY', 'WASH_QTY', 'AIRCON_QTY', 'CAR_QTY',\n",
            "       'LANDLINE_QTY', 'CELLPHONE_QTY', 'PC_QTY', 'OVEN_QTY',\n",
            "       'MOTOR_BANCA_QTY', 'MOTORCYCLE_QTY'],\n",
            "      dtype='object')\n"
          ]
        }
      ]
    },
    {
      "cell_type": "markdown",
      "source": [
        "By studying the dataset, we see that `AGELESS5`, `AGE5_17`, `EMPLOYED_PAY`,\n",
        "       `EMPLOYED_PROF`, `DISTANCE`, `RADIO_QTY`, `TV_QTY`, `CD_QTY`,\n",
        "       `STEREO_QTY`, `REF_QTY`, `WASH_QTY`, `AIRCON_QTY`, `CAR_QTY`,\n",
        "       `LANDLINE_QTY`, `CELLPHONE_QTY`, `PC_QTY`, `OVEN_QTY`,\n",
        "       `MOTOR_BANCA_QTY`, `MOTORCYCLE_QTY` all represent numeric quantities."
      ],
      "metadata": {
        "id": "Azt7kH825zeS"
      }
    },
    {
      "cell_type": "code",
      "source": [
        "cols = ['AGELESS5', 'AGE5_17', 'EMPLOYED_PAY',\n",
        "       'EMPLOYED_PROF', 'DISTANCE', 'RADIO_QTY', 'TV_QTY', 'CD_QTY',\n",
        "       'STEREO_QTY', 'REF_QTY', 'WASH_QTY', 'AIRCON_QTY', 'CAR_QTY',\n",
        "       'LANDLINE_QTY', 'CELLPHONE_QTY', 'PC_QTY', 'OVEN_QTY',\n",
        "       'MOTOR_BANCA_QTY', 'MOTORCYCLE_QTY']\n",
        "\n",
        "fies_df[cols] = fies_df[cols].apply(pd.to_numeric, errors='coerce')\n"
      ],
      "metadata": {
        "id": "UUdpvd-beejG"
      },
      "execution_count": 1268,
      "outputs": []
    },
    {
      "cell_type": "markdown",
      "source": [
        "### ***Mapping/One-Hot Encoding for Categorical Variables***"
      ],
      "metadata": {
        "id": "G0ZexYiP6tAg"
      }
    },
    {
      "cell_type": "markdown",
      "metadata": {
        "id": "f81XsyNYuDVR"
      },
      "source": [
        "### **`HGC`** - ***(Household Head) Highest Grade Completed***"
      ]
    },
    {
      "cell_type": "markdown",
      "metadata": {
        "id": "rdGmG1M5uDVR"
      },
      "source": [
        "The **HGC** variable represents the highest level of education completed by the household head.\n",
        "\n",
        "### **Education Levels and Codes:**\n",
        "\n",
        "- **No Grade Completed:** `0`  \n",
        "- **Preschool:** `10`  \n",
        "- **Elementary Undergraduate:** `210-260`  \n",
        "- **Elementary Graduate:** `280`  \n",
        "- **High School Undergraduate:** `310-330`  \n",
        "- **High School Graduate:** `350`  \n",
        "- **Post-Secondary Undergraduate:** `410-420`  \n",
        "- **Post-Secondary Graduate (Technical/Vocational):** `501-589`  \n",
        "- **College Undergraduate:** `810-840`  \n",
        "- **College Graduate:** `601-689`  \n",
        "- **Post-Baccalaureate:** `900`  "
      ]
    },
    {
      "cell_type": "code",
      "execution_count": 1269,
      "metadata": {
        "id": "rxTyste8uDVR",
        "outputId": "d32eef14-07bb-4a27-9b73-8aab5c0c7d0a",
        "colab": {
          "base_uri": "https://localhost:8080/"
        }
      },
      "outputs": [
        {
          "output_type": "execute_result",
          "data": {
            "text/plain": [
              "array([280, 250, 552, 830, 350, 634, 554, 320, 514, 240, 581, 810, 614,\n",
              "       900, 652, 330,   0, 840, 230, 584, 534, 562, 220, 310, 210, 622,\n",
              "       410, 686, 572, 662, 672, 820, 260, 681, 420, 631, 684, 642, 648,\n",
              "       601, 646, 676, 586, 589, 658, 689, 501, 621, 548, 632, 654, 638,\n",
              "       664,  10, 522, 685, 521, 644, 542, 531, 558, 532])"
            ]
          },
          "metadata": {},
          "execution_count": 1269
        }
      ],
      "source": [
        "fies_df[\"HGC\"].unique()"
      ]
    },
    {
      "cell_type": "markdown",
      "metadata": {
        "id": "bblE9JmUuDVS"
      },
      "source": [
        "As seen by using **`.unique()`**, these codes are not continuous single values, but instead appear in ranges for certain education levels.\n",
        "\n",
        "With this, we mapped these numerical codes into standardized categories based on the dictionary.\n",
        "\n",
        "<small>***Note that the dictionary lists College Undergraduate as ranging from **810-840** and College Graduate as **601-689**, so their values in the mapping may seem reversed.* </small>"
      ]
    },
    {
      "cell_type": "code",
      "execution_count": 1270,
      "metadata": {
        "id": "E-MeY1OHuDVS",
        "outputId": "172be792-d2dd-4bda-d590-1d91764b91ee",
        "colab": {
          "base_uri": "https://localhost:8080/"
        }
      },
      "outputs": [
        {
          "output_type": "stream",
          "name": "stdout",
          "text": [
            "4210\n",
            "3237\n"
          ]
        }
      ],
      "source": [
        "print(fies_df[\"HGC\"].between(601, 689).sum())  # Expected graduates\n",
        "print(fies_df[\"HGC\"].between(810, 840).sum())  # Expected undergraduates\n"
      ]
    },
    {
      "cell_type": "markdown",
      "source": [
        "An ordinal mapping was used to represent educational attainment levels. This ensures that there is a meaningful order."
      ],
      "metadata": {
        "id": "YpdEJSxp7SPV"
      }
    },
    {
      "cell_type": "code",
      "execution_count": 1271,
      "metadata": {
        "id": "eUIvZ29VuDVS",
        "outputId": "1875a11e-53cb-4873-fa0b-352db5a3af1f",
        "colab": {
          "base_uri": "https://localhost:8080/",
          "height": 458
        }
      },
      "outputs": [
        {
          "output_type": "execute_result",
          "data": {
            "text/plain": [
              "0        3.0\n",
              "1        2.0\n",
              "2        7.0\n",
              "3        8.0\n",
              "4        5.0\n",
              "        ... \n",
              "40166    5.0\n",
              "40167    5.0\n",
              "40168    2.0\n",
              "40169    3.0\n",
              "40170    2.0\n",
              "Name: HGC, Length: 40171, dtype: float64"
            ],
            "text/html": [
              "<div>\n",
              "<style scoped>\n",
              "    .dataframe tbody tr th:only-of-type {\n",
              "        vertical-align: middle;\n",
              "    }\n",
              "\n",
              "    .dataframe tbody tr th {\n",
              "        vertical-align: top;\n",
              "    }\n",
              "\n",
              "    .dataframe thead th {\n",
              "        text-align: right;\n",
              "    }\n",
              "</style>\n",
              "<table border=\"1\" class=\"dataframe\">\n",
              "  <thead>\n",
              "    <tr style=\"text-align: right;\">\n",
              "      <th></th>\n",
              "      <th>HGC</th>\n",
              "    </tr>\n",
              "  </thead>\n",
              "  <tbody>\n",
              "    <tr>\n",
              "      <th>0</th>\n",
              "      <td>3.0</td>\n",
              "    </tr>\n",
              "    <tr>\n",
              "      <th>1</th>\n",
              "      <td>2.0</td>\n",
              "    </tr>\n",
              "    <tr>\n",
              "      <th>2</th>\n",
              "      <td>7.0</td>\n",
              "    </tr>\n",
              "    <tr>\n",
              "      <th>3</th>\n",
              "      <td>8.0</td>\n",
              "    </tr>\n",
              "    <tr>\n",
              "      <th>4</th>\n",
              "      <td>5.0</td>\n",
              "    </tr>\n",
              "    <tr>\n",
              "      <th>...</th>\n",
              "      <td>...</td>\n",
              "    </tr>\n",
              "    <tr>\n",
              "      <th>40166</th>\n",
              "      <td>5.0</td>\n",
              "    </tr>\n",
              "    <tr>\n",
              "      <th>40167</th>\n",
              "      <td>5.0</td>\n",
              "    </tr>\n",
              "    <tr>\n",
              "      <th>40168</th>\n",
              "      <td>2.0</td>\n",
              "    </tr>\n",
              "    <tr>\n",
              "      <th>40169</th>\n",
              "      <td>3.0</td>\n",
              "    </tr>\n",
              "    <tr>\n",
              "      <th>40170</th>\n",
              "      <td>2.0</td>\n",
              "    </tr>\n",
              "  </tbody>\n",
              "</table>\n",
              "<p>40171 rows × 1 columns</p>\n",
              "</div><br><label><b>dtype:</b> float64</label>"
            ]
          },
          "metadata": {},
          "execution_count": 1271
        }
      ],
      "source": [
        "conditions = [\n",
        "    (fies_df[\"HGC\"] == 0),\n",
        "    (fies_df[\"HGC\"] == 10),\n",
        "    (fies_df[\"HGC\"].between(210, 260)),\n",
        "    (fies_df[\"HGC\"] == 280),\n",
        "    (fies_df[\"HGC\"].between(310, 330)),\n",
        "    (fies_df[\"HGC\"] == 350),\n",
        "    (fies_df[\"HGC\"].between(410, 420)),\n",
        "    (fies_df[\"HGC\"].between(501, 589)),\n",
        "    (fies_df[\"HGC\"].between(810, 840)),\n",
        "    (fies_df[\"HGC\"].between(601, 689)),\n",
        "    (fies_df[\"HGC\"] >= 900)\n",
        "]\n",
        "\n",
        "values = [0, 1, 2, 3, 4, 5, 6, 7, 8, 9, 10]\n",
        "\n",
        "fies_df[\"HGC\"] = np.select(conditions, values, default=np.nan)\n",
        "\n",
        "fies_df[\"HGC\"]"
      ]
    },
    {
      "cell_type": "markdown",
      "source": [
        "### **`OCCUP`** - ***Primary occupation of the head of the family during the past six months***"
      ],
      "metadata": {
        "id": "ro30PgxApIUK"
      }
    },
    {
      "cell_type": "markdown",
      "source": [
        "The **OCCUP** variable categorizes the primary occupation of the household head based on standardized occupation codes. These codes are grouped into broader occupational categories.\n",
        "\n",
        "### **Occupation Groups and Codes:**\n",
        "- **Officials, Executives, and Managers:** `1110-1490`  \n",
        "- **Professionals:** `2111-2460`  \n",
        "- **Technicians and Associate Professionals:** `3111-3480`  \n",
        "- **Clerks:** `4111-4223`  \n",
        "- **Service Workers and Sales Workers:** `5111-5230`  \n",
        "- **Farmers, Forestry Workers, and Fishermen:** `6111-6590`  \n",
        "- **Trades and Related Workers:** `7111-7442`  \n",
        "- **Plant and Machine Operators and Assemblers:** `8111-8340`  \n",
        "- **Laborers and Unskilled Workers:** `9111-9333`  \n",
        "- **Special Occupations:** `111-113, 121-129, 930`  "
      ],
      "metadata": {
        "id": "3lXMk95BEUSp"
      }
    },
    {
      "cell_type": "code",
      "source": [
        "fies_df['OCCUP'].unique()"
      ],
      "metadata": {
        "colab": {
          "base_uri": "https://localhost:8080/"
        },
        "id": "tZSfq7OEpH1f",
        "outputId": "643ba771-3591-4a4e-cbcb-ddf889011568"
      },
      "execution_count": 1272,
      "outputs": [
        {
          "output_type": "execute_result",
          "data": {
            "text/plain": [
              "array(['    ', '1314', '6111', '5220', '6212', '6114', '5132', '7122',\n",
              "       '9211', '1316', '4121', '1130', '8322', '2331', '3118', '9132',\n",
              "       '7241', '1312', '7231', '1317', '7123', '4115', '4142', '1120',\n",
              "       '8324', '8263', '8321', '9131', '9112', '3152', '9133', '6420',\n",
              "       '1430', '2341', '4215', '6119', '7433', '9313', '1412', '5162',\n",
              "       '2449', '3450', '6219', '8141', '6112', '6122', '9151', '5169',\n",
              "       '6116', '6124', '6121', '7243', '7422', '5123', '2310', '1490',\n",
              "       '3434', '4190', '2412', '6310', '7414', '8275', '3415', '3151',\n",
              "       '9333', '7212', '9322', '9311', '4113', '2152', '3431', '1319',\n",
              "       '7141', '1224', '1231', '3131', '4211', '7242', '9120', '6330',\n",
              "       '5151', '1313', '6340', '7111', '9212', '8222', '5139', '9213',\n",
              "       '2154', '8231', '9312', '4131', '2224', '9152', '8113', '0129',\n",
              "       '6129', '5131', '6115', '7415', '0121', '8323', '3232', '5161',\n",
              "       '3416', '7432', '9161', '3132', '1315', '2221', '9111', '4133',\n",
              "       '3114', '6123', '7411', '6320', '3112', '3480', '3449', '2446',\n",
              "       '4141', '9141', '8240', '6413', '3460', '8274', '5122', '3439',\n",
              "       '7246', '2351', '8340', '3242', '3475', '4213', '6131', '5112',\n",
              "       '9113', '3472', '7142', '1318', '5230', '3212', '1222', '1110',\n",
              "       '1311', '2227', '2151', '7332', '9331', '9162', '7412', '3300',\n",
              "       '8331', '9321', '4214', '0113', '2222', '7244', '7424', '6211',\n",
              "       '2460', '6113', '6430', '4222', '7221', '7435', '7213', '1411',\n",
              "       '7136', '0112', '7322', '7442', '8273', '0930', '1227', '8266',\n",
              "       '6221', '3417', '1225', '7233', '7235', '6411', '0122', '7347',\n",
              "       '3133', '3141', '8267', '8334', '3413', '7331', '5133', '4223',\n",
              "       '5153', '3113', '3143', '1441', '8171', '5113', '3432', '7423',\n",
              "       '3222', '2131', '3121', '2399', '1236', '7133', '3231', '4132',\n",
              "       '1210', '3229', '4122', '2419', '2132', '2231', '2226', '2153',\n",
              "       '3122', '2139', '2411', '2232', '6117', '1239', '7234', '3117',\n",
              "       '8111', '6139', '2423', '2213', '2214', '1221', '2453', '1233',\n",
              "       '8261', '7425', '3219', '7341', '1237', '3414', '2332', '6222',\n",
              "       '8290', '7436', '3473', '7222', '8268', '3412', '7434', '8332',\n",
              "       '4212', '7129', '3116', '2157', '8124', '7214', '7313', '7224',\n",
              "       '8232', '2228', '1226', '0111', '1449', '5152', '3441', '3241',\n",
              "       '0119', '2333', '2421', '4112', '1429', '3421', '1442', '7421',\n",
              "       '8223', '8311', '3115', '1235', '8262', '3429', '1232', '8333',\n",
              "       '5121', '8131', '3471', '2158', '8264', '3423', '8254', '8211',\n",
              "       '3139', '8163', '7131', '6490', '7215', '9332', '7311', '2141',\n",
              "       '4111', '8253', '8276', '7321', '8265', '2113', '8122', '2451',\n",
              "       '1223', '5142', '3142', '7245', '7344', '6229', '3433', '6414',\n",
              "       '7346', '3442', '8112', '2454', '2320', '5159', '2225', '7416',\n",
              "       '7323', '3119', '8212', '8271', '7324', '8139', '3474', '1421',\n",
              "       '6290', '2353', '6419', '8161', '0123', '2142', '7223', '8159',\n",
              "       '2391', '3411', '3144', '4221', '3444', '2452', '2430', '5163',\n",
              "       '3422', '2352', '2122', '2422', '3221', '9142', '2155', '8221',\n",
              "       '2229', '7113', '4143', '1229', '2159', '7343', '7211', '8162',\n",
              "       '8272', '2459', '7413', '7312', '7132', '5210', '7345', '8229',\n",
              "       '8255', '2455', '8259', '2156', '8251', '8252', '7134', '8143',\n",
              "       '3224', '5111', '1144', '2443'], dtype=object)"
            ]
          },
          "metadata": {},
          "execution_count": 1272
        }
      ]
    },
    {
      "cell_type": "code",
      "source": [
        "fies_df['OCCUP'] = fies_df['OCCUP'].apply(pd.to_numeric, errors='coerce')"
      ],
      "metadata": {
        "id": "jc0-yZityIf2"
      },
      "execution_count": 1273,
      "outputs": []
    },
    {
      "cell_type": "markdown",
      "source": [
        "Like the previous variable, we will map the ranges to represent the categories covered by `OCCUP`. We will do this before applying one-hot encoding because applying one-hot encoding directly to the raw occupation codes would treat each unique value as a separate category, resulting in an unnecessarily large number of features. This would also fail to capture the intended grouping of occupations as defined in the dataset."
      ],
      "metadata": {
        "id": "Ax0dY-c-8niK"
      }
    },
    {
      "cell_type": "code",
      "source": [
        "conditions = [\n",
        "    fies_df[\"OCCUP\"].between(1110, 1490),\n",
        "    fies_df[\"OCCUP\"].between(2111, 2460),\n",
        "    fies_df[\"OCCUP\"].between(3111, 3480),\n",
        "    fies_df[\"OCCUP\"].between(4111, 4223),\n",
        "    fies_df[\"OCCUP\"].between(5111, 5230),\n",
        "    fies_df[\"OCCUP\"].between(6111, 6590),\n",
        "    fies_df[\"OCCUP\"].between(7111, 7442),\n",
        "    fies_df[\"OCCUP\"].between(8111, 8340),\n",
        "    fies_df[\"OCCUP\"].between(9111, 9333),\n",
        "    fies_df[\"OCCUP\"].isin([111, 112, 113, 121, 122, 123, 124, 125, 126, 127, 128, 129, 930])\n",
        "]\n",
        "\n",
        "values = [\n",
        "    \"Officials & Executives\",\n",
        "    \"Professionals\",\n",
        "    \"Technicians\",\n",
        "    \"Clerks\",\n",
        "    \"Service Workers\",\n",
        "    \"Farmers & Fishers\",\n",
        "    \"Trades Workers\",\n",
        "    \"Machine Operators\",\n",
        "    \"Laborers\",\n",
        "    \"Special Occupations\"\n",
        "]\n",
        "\n",
        "fies_df[\"OCCUP_GROUP\"] = np.select(conditions, values, default=\"Unknown\")\n",
        "\n",
        "fies_df[\"OCCUP_GROUP\"]"
      ],
      "metadata": {
        "colab": {
          "base_uri": "https://localhost:8080/",
          "height": 458
        },
        "id": "KoYubFu8xQ-H",
        "outputId": "bcc6145b-618f-4385-e401-9536e2fdb493"
      },
      "execution_count": 1274,
      "outputs": [
        {
          "output_type": "execute_result",
          "data": {
            "text/plain": [
              "0                       Unknown\n",
              "1        Officials & Executives\n",
              "2                       Unknown\n",
              "3             Farmers & Fishers\n",
              "4               Service Workers\n",
              "                  ...          \n",
              "40166    Officials & Executives\n",
              "40167         Machine Operators\n",
              "40168    Officials & Executives\n",
              "40169    Officials & Executives\n",
              "40170         Farmers & Fishers\n",
              "Name: OCCUP_GROUP, Length: 40171, dtype: object"
            ],
            "text/html": [
              "<div>\n",
              "<style scoped>\n",
              "    .dataframe tbody tr th:only-of-type {\n",
              "        vertical-align: middle;\n",
              "    }\n",
              "\n",
              "    .dataframe tbody tr th {\n",
              "        vertical-align: top;\n",
              "    }\n",
              "\n",
              "    .dataframe thead th {\n",
              "        text-align: right;\n",
              "    }\n",
              "</style>\n",
              "<table border=\"1\" class=\"dataframe\">\n",
              "  <thead>\n",
              "    <tr style=\"text-align: right;\">\n",
              "      <th></th>\n",
              "      <th>OCCUP_GROUP</th>\n",
              "    </tr>\n",
              "  </thead>\n",
              "  <tbody>\n",
              "    <tr>\n",
              "      <th>0</th>\n",
              "      <td>Unknown</td>\n",
              "    </tr>\n",
              "    <tr>\n",
              "      <th>1</th>\n",
              "      <td>Officials &amp; Executives</td>\n",
              "    </tr>\n",
              "    <tr>\n",
              "      <th>2</th>\n",
              "      <td>Unknown</td>\n",
              "    </tr>\n",
              "    <tr>\n",
              "      <th>3</th>\n",
              "      <td>Farmers &amp; Fishers</td>\n",
              "    </tr>\n",
              "    <tr>\n",
              "      <th>4</th>\n",
              "      <td>Service Workers</td>\n",
              "    </tr>\n",
              "    <tr>\n",
              "      <th>...</th>\n",
              "      <td>...</td>\n",
              "    </tr>\n",
              "    <tr>\n",
              "      <th>40166</th>\n",
              "      <td>Officials &amp; Executives</td>\n",
              "    </tr>\n",
              "    <tr>\n",
              "      <th>40167</th>\n",
              "      <td>Machine Operators</td>\n",
              "    </tr>\n",
              "    <tr>\n",
              "      <th>40168</th>\n",
              "      <td>Officials &amp; Executives</td>\n",
              "    </tr>\n",
              "    <tr>\n",
              "      <th>40169</th>\n",
              "      <td>Officials &amp; Executives</td>\n",
              "    </tr>\n",
              "    <tr>\n",
              "      <th>40170</th>\n",
              "      <td>Farmers &amp; Fishers</td>\n",
              "    </tr>\n",
              "  </tbody>\n",
              "</table>\n",
              "<p>40171 rows × 1 columns</p>\n",
              "</div><br><label><b>dtype:</b> object</label>"
            ]
          },
          "metadata": {},
          "execution_count": 1274
        }
      ]
    },
    {
      "cell_type": "markdown",
      "source": [
        "After, one-hot encoding is applied."
      ],
      "metadata": {
        "id": "STIsDFKVDZxk"
      }
    },
    {
      "cell_type": "code",
      "source": [
        "fies_df = pd.get_dummies(fies_df, columns=[\"OCCUP_GROUP\"], drop_first=True, dtype=int)\n"
      ],
      "metadata": {
        "id": "BTISB78xytzV"
      },
      "execution_count": 1275,
      "outputs": []
    },
    {
      "cell_type": "markdown",
      "source": [
        "### **`KB`** - ***Household Head Kind of Business/Industry***"
      ],
      "metadata": {
        "id": "JtCNZcjhz2i6"
      }
    },
    {
      "cell_type": "markdown",
      "source": [
        "The **KB** variable categorizes the primary business or industry in which the household head is engaged. These industries are grouped based on standardized industry codes.\n",
        "\n",
        "### **Business/Industry Categories and Codes:**\n",
        "- **Agriculture, Forestry, and Fishing:** `111-329`  \n",
        "- **Mining and Quarrying:** `510-990`  \n",
        "- **Manufacturing:** `1011-3320`  \n",
        "- **Electricity, Gas, Steam, and Airconditioning Supply:** `3510-3530`  \n",
        "- **Water Supply, Sewerage, Waste Management, and Remediation Activities:** `3600-3900`  \n",
        "- **Construction:** `4100-4390`  \n",
        "- **Wholesale and Retail Trade; Repair of Motor Vehicles and Motorcycles:** `4510-4799`  \n",
        "- **Transportation and Storage:** `4911-5320`  \n",
        "- **Accommodation and Food Service Activities:** `5510-5630`  \n",
        "- **Information and Communication:** `5811-6399`  \n",
        "- **Financial and Insurance Activities:** `6411-6630`  \n",
        "- **Real Estate Activities:** `6811-6820`  \n",
        "- **Professional, Scientific, and Technical Activities:** `6910-7500`  \n",
        "- **Administrative and Support Service Activities:** `7710-8299`  \n",
        "- **Public Administration and Defense; Compulsory Social Security:** `8411-8430`  \n",
        "- **Education:** `8511-8560`  \n",
        "- **Human Health and Social Work Services:** `8611-8890`  \n",
        "- **Arts, Entertainment, and Recreation:** `9000-9329`  \n",
        "- **Other Service Activities:** `9411-9690`  \n",
        "- **Activities of Households as Employers of Domestic Personnel:** `9700`  \n",
        "- **Activities of Extra-Territorial Organizations and Bodies:** `9901-9909`  "
      ],
      "metadata": {
        "id": "pEpSW9m2H2_j"
      }
    },
    {
      "cell_type": "code",
      "source": [
        "fies_df['KB'] = fies_df['KB'].apply(pd.to_numeric, errors='coerce')"
      ],
      "metadata": {
        "id": "UY0sxeDh06gY"
      },
      "execution_count": 1276,
      "outputs": []
    },
    {
      "cell_type": "markdown",
      "source": [
        "Using the same rationale as the previous variable, mapping the ranges first before one-hot encoding ensures that the business categories are grouped appropriately."
      ],
      "metadata": {
        "id": "4f6CjWCqIAXJ"
      }
    },
    {
      "cell_type": "code",
      "source": [
        "conditions = [\n",
        "    fies_df[\"KB\"].between(111, 329),\n",
        "    fies_df[\"KB\"].between(510, 990),\n",
        "    fies_df[\"KB\"].between(1011, 3320),\n",
        "    fies_df[\"KB\"].between(3510, 3530),\n",
        "    fies_df[\"KB\"].between(3600, 3900),\n",
        "    fies_df[\"KB\"].between(4100, 4390),\n",
        "    fies_df[\"KB\"].between(4510, 4799),\n",
        "    fies_df[\"KB\"].between(4911, 5320),\n",
        "    fies_df[\"KB\"].between(5510, 5630),\n",
        "    fies_df[\"KB\"].between(5811, 6399),\n",
        "    fies_df[\"KB\"].between(6411, 6630),\n",
        "    fies_df[\"KB\"].between(6811, 6820),\n",
        "    fies_df[\"KB\"].between(6910, 7500),\n",
        "    fies_df[\"KB\"].between(7710, 8299),\n",
        "    fies_df[\"KB\"].between(8411, 8430),\n",
        "    fies_df[\"KB\"].between(8511, 8560),\n",
        "    fies_df[\"KB\"].between(8611, 8890),\n",
        "    fies_df[\"KB\"].between(9000, 9329),\n",
        "    fies_df[\"KB\"].between(9411, 9690),\n",
        "    fies_df[\"KB\"] == 9700,\n",
        "    fies_df[\"KB\"].between(9901, 9909)\n",
        "]\n",
        "\n",
        "values = [\n",
        "    \"Agriculture\", \"Mining\", \"Manufacturing\", \"Electricity\", \"Water Supply\", \"Construction\",\n",
        "    \"Retail\", \"Transport\", \"Food Service\", \"IT\", \"Finance\", \"Real Estate\", \"Professional\",\n",
        "    \"Admin\", \"Public Admin\", \"Education\", \"Health\", \"Arts\", \"Other Services\",\n",
        "    \"Household Employers\", \"Extra-territorial\"\n",
        "]\n",
        "\n",
        "fies_df[\"KB_Group\"] = np.select(conditions, values, default=np.nan)"
      ],
      "metadata": {
        "id": "bVLGy9GT0Z9g"
      },
      "execution_count": 1277,
      "outputs": []
    },
    {
      "cell_type": "markdown",
      "source": [
        "After nominal mapping, we can apply one-hot encoding."
      ],
      "metadata": {
        "id": "NhYd3qlpIXKV"
      }
    },
    {
      "cell_type": "code",
      "source": [
        "fies_df = pd.get_dummies(fies_df, columns=[\"KB_Group\"], drop_first=True, dtype=int)"
      ],
      "metadata": {
        "id": "Lmq3tV_F1XmD"
      },
      "execution_count": 1278,
      "outputs": []
    },
    {
      "cell_type": "markdown",
      "source": [
        "### **`CW`** - ***Household Head Class of Worker***"
      ],
      "metadata": {
        "id": "vKD3MIPX2X4F"
      }
    },
    {
      "cell_type": "markdown",
      "source": [
        "The **CW_VS1** variable identifies the **class of worker** for the household head during the second visit. It categorizes the employment type based on the nature of the employer or work arrangement.  \n",
        "\n",
        "### **Categories and Codes:**  \n",
        "- **Worked for private household**: `0`  \n",
        "- **Worked for private establishment**: `1`  \n",
        "- **Worked for government/government corporation**: `2`  \n",
        "- **Self-employed without any employee**: `3`  \n",
        "- **Employer in own family-operated farm or business**: `4`  \n",
        "- **Worked with pay in own family-operated farm or business**: `5`  \n",
        "- **Worked without pay in own family-operated farm or business**: `6`  "
      ],
      "metadata": {
        "id": "GQ9wQ06SKzu6"
      }
    },
    {
      "cell_type": "code",
      "source": [
        "fies_df['CW'] = fies_df['CW'].apply(pd.to_numeric, errors='coerce')"
      ],
      "metadata": {
        "id": "Ob5N-5Tr2mAd"
      },
      "execution_count": 1279,
      "outputs": []
    },
    {
      "cell_type": "markdown",
      "source": [
        "This is mapped into categorical labels to make the data more interpretable before applying one-hot encoding."
      ],
      "metadata": {
        "id": "Kku7exLRLuhj"
      }
    },
    {
      "cell_type": "code",
      "source": [
        "cw_mapping = {\n",
        "    0: \"Private Household\",\n",
        "    1: \"Private Establishment\",\n",
        "    2: \"Government\",\n",
        "    3: \"Self-Employed\",\n",
        "    4: \"Employer in Family Business\",\n",
        "    5: \"Worked with Pay in Family Business\",\n",
        "    6: \"Worked without Pay in Family Business\"\n",
        "}\n",
        "\n",
        "fies_df[\"CW_Group\"] = fies_df[\"CW\"].map(cw_mapping)\n"
      ],
      "metadata": {
        "id": "UivfIq0v2pqC"
      },
      "execution_count": 1280,
      "outputs": []
    },
    {
      "cell_type": "markdown",
      "source": [
        "Apply one-hot encoding."
      ],
      "metadata": {
        "id": "KpiAXJ5EMVGG"
      }
    },
    {
      "cell_type": "code",
      "source": [
        "fies_df = pd.get_dummies(fies_df, columns=[\"CW_Group\"], drop_first=True, dtype=int)"
      ],
      "metadata": {
        "id": "6puZGm2lMWd4"
      },
      "execution_count": 1281,
      "outputs": []
    },
    {
      "cell_type": "markdown",
      "source": [
        "Check if there are any more `object` dtypes."
      ],
      "metadata": {
        "id": "5xZckXFS4_Pz"
      }
    },
    {
      "cell_type": "code",
      "source": [
        "fies_df.info()"
      ],
      "metadata": {
        "colab": {
          "base_uri": "https://localhost:8080/"
        },
        "id": "VXXlslwaeqa_",
        "outputId": "a79bc0ef-f414-46fc-c7d0-2eb1df60c9a0"
      },
      "execution_count": 1282,
      "outputs": [
        {
          "output_type": "stream",
          "name": "stdout",
          "text": [
            "<class 'pandas.core.frame.DataFrame'>\n",
            "RangeIndex: 40171 entries, 0 to 40170\n",
            "Columns: 153 entries, W_REGN to CW_Group_Worked without Pay in Family Business\n",
            "dtypes: float64(28), int64(125)\n",
            "memory usage: 46.9 MB\n"
          ]
        }
      ]
    },
    {
      "cell_type": "markdown",
      "source": [
        "Now, since we converted the dtypes of categorical variables into float/int, we check for missing values."
      ],
      "metadata": {
        "id": "MpD-qNRj5XBx"
      }
    },
    {
      "cell_type": "code",
      "source": [
        "missing_values = fies_df.isnull().sum()\n",
        "print(\"Missing values per col: \", missing_values[missing_values>0])"
      ],
      "metadata": {
        "colab": {
          "base_uri": "https://localhost:8080/"
        },
        "id": "rZENCQMFS0cM",
        "outputId": "d4f0008a-0996-4b92-efa7-d0afb6322373"
      },
      "execution_count": 1283,
      "outputs": [
        {
          "output_type": "stream",
          "name": "stdout",
          "text": [
            "Missing values per col:  OCCUP               7374\n",
            "KB                  7374\n",
            "CW                  7374\n",
            "AGELESS5           15361\n",
            "AGE5_17             8237\n",
            "EMPLOYED_PAY        8296\n",
            "EMPLOYED_PROF      12698\n",
            "DISTANCE           16806\n",
            "RADIO_QTY          16053\n",
            "TV_QTY              7812\n",
            "CD_QTY             14266\n",
            "STEREO_QTY         23013\n",
            "REF_QTY            17781\n",
            "WASH_QTY           20106\n",
            "AIRCON_QTY         25630\n",
            "CAR_QTY            26157\n",
            "LANDLINE_QTY       26133\n",
            "CELLPHONE_QTY       6425\n",
            "PC_QTY             23430\n",
            "OVEN_QTY           24133\n",
            "MOTOR_BANCA_QTY    27536\n",
            "MOTORCYCLE_QTY     23128\n",
            "dtype: int64\n"
          ]
        }
      ]
    },
    {
      "cell_type": "markdown",
      "source": [
        "We check the percentage of missing data per column."
      ],
      "metadata": {
        "id": "fGoUrWkGMi3j"
      }
    },
    {
      "cell_type": "code",
      "source": [
        "missing_percent = (fies_df.isnull().sum() / len(fies_df)) * 100\n",
        "missing_percent = missing_percent[missing_percent > 0]\n",
        "print(missing_percent)\n"
      ],
      "metadata": {
        "colab": {
          "base_uri": "https://localhost:8080/"
        },
        "id": "jNrMPBDR3oKh",
        "outputId": "c53c1188-8868-4be2-e9d7-3b2091d16eb3"
      },
      "execution_count": 1284,
      "outputs": [
        {
          "output_type": "stream",
          "name": "stdout",
          "text": [
            "OCCUP              18.356526\n",
            "KB                 18.356526\n",
            "CW                 18.356526\n",
            "AGELESS5           38.239028\n",
            "AGE5_17            20.504842\n",
            "EMPLOYED_PAY       20.651714\n",
            "EMPLOYED_PROF      31.609868\n",
            "DISTANCE           41.836150\n",
            "RADIO_QTY          39.961664\n",
            "TV_QTY             19.446865\n",
            "CD_QTY             35.513181\n",
            "STEREO_QTY         57.287596\n",
            "REF_QTY            44.263275\n",
            "WASH_QTY           50.051032\n",
            "AIRCON_QTY         63.802245\n",
            "CAR_QTY            65.114137\n",
            "LANDLINE_QTY       65.054392\n",
            "CELLPHONE_QTY      15.994125\n",
            "PC_QTY             58.325658\n",
            "OVEN_QTY           60.075676\n",
            "MOTOR_BANCA_QTY    68.546962\n",
            "MOTORCYCLE_QTY     57.573872\n",
            "dtype: float64\n"
          ]
        }
      ]
    },
    {
      "cell_type": "markdown",
      "source": [
        "For those with missing values `> 80%` , we drop the column."
      ],
      "metadata": {
        "id": "T4Xa1H_ila6R"
      }
    },
    {
      "cell_type": "code",
      "source": [
        "missing_threshold = 0.80\n",
        "missing_percent = fies_df.isnull().mean()\n",
        "\n",
        "cols_to_drop = missing_percent[missing_percent > missing_threshold].index\n",
        "fies_df = fies_df.drop(columns=cols_to_drop)\n",
        "\n",
        "print(\"Dropped columns:\", cols_to_drop.tolist())"
      ],
      "metadata": {
        "colab": {
          "base_uri": "https://localhost:8080/"
        },
        "id": "WHuxH4gk_Sme",
        "outputId": "8c3284dd-4139-42d7-c2b6-9159c47af9d8"
      },
      "execution_count": 1285,
      "outputs": [
        {
          "output_type": "stream",
          "name": "stdout",
          "text": [
            "Dropped columns: []\n"
          ]
        }
      ]
    },
    {
      "cell_type": "code",
      "source": [
        "num_imputer = SimpleImputer(strategy=\"median\")\n",
        "numeric_cols = fies_df.select_dtypes(include=['number']).columns\n",
        "fies_df[numeric_cols] = num_imputer.fit_transform(fies_df[numeric_cols])"
      ],
      "metadata": {
        "id": "a3OrLVF5laqc"
      },
      "execution_count": 1286,
      "outputs": []
    },
    {
      "cell_type": "markdown",
      "source": [
        "# **Additional Preprocessing**"
      ],
      "metadata": {
        "id": "Vdk-i3nmuCRV"
      }
    },
    {
      "cell_type": "code",
      "source": [
        "numeric_cols = fies_df.select_dtypes(include=['int64', 'float64']).columns"
      ],
      "metadata": {
        "id": "I8qZ2CIruFVD"
      },
      "execution_count": 1287,
      "outputs": []
    },
    {
      "cell_type": "code",
      "source": [
        "skewness_values = fies_df[numeric_cols].skew()\n",
        "print(skewness_values)"
      ],
      "metadata": {
        "id": "RdPDWqSTuF_6",
        "outputId": "f2aafe07-0667-4198-d0f5-1a7f0a7da669",
        "colab": {
          "base_uri": "https://localhost:8080/"
        }
      },
      "execution_count": 1288,
      "outputs": [
        {
          "output_type": "stream",
          "name": "stdout",
          "text": [
            "W_REGN                                             1.597655\n",
            "URB                                               -0.482736\n",
            "RSTR                                              -2.233511\n",
            "PSU                                                0.019593\n",
            "BWEIGHT                                            2.159761\n",
            "                                                    ...    \n",
            "CW_Group_Private Establishment                     0.763906\n",
            "CW_Group_Private Household                         7.507205\n",
            "CW_Group_Self-Employed                             0.679782\n",
            "CW_Group_Worked with Pay in Family Business       70.843137\n",
            "CW_Group_Worked without Pay in Family Business    12.507067\n",
            "Length: 153, dtype: float64\n"
          ]
        }
      ]
    },
    {
      "cell_type": "code",
      "source": [
        "exclude_cols = [\n",
        "    \"SEX\", \"JOB\",\n",
        "    \"HGC\",\n",
        "    \"OCCUP_GROUP\", \"KB_Group\", \"CW_Group\"\n",
        "]\n",
        "\n",
        "exclude_one_hot = [col for col in fies_df.columns if \"OCCUP_GROUP_\" in col or \"KB_Group_\" in col or \"CW_Group_\" in col]\n",
        "\n",
        "exclude_cols += exclude_one_hot\n",
        "\n",
        "print(\"Columns to Exclude from Log Transform & Scaling:\", exclude_cols)\n"
      ],
      "metadata": {
        "id": "913p6E-32gKk",
        "outputId": "6ee4cdaa-41fa-4191-9c99-5b0807308ffd",
        "colab": {
          "base_uri": "https://localhost:8080/"
        }
      },
      "execution_count": 1289,
      "outputs": [
        {
          "output_type": "stream",
          "name": "stdout",
          "text": [
            "Columns to Exclude from Log Transform & Scaling: ['SEX', 'JOB', 'HGC', 'OCCUP_GROUP', 'KB_Group', 'CW_Group', 'OCCUP_GROUP_Farmers & Fishers', 'OCCUP_GROUP_Laborers', 'OCCUP_GROUP_Machine Operators', 'OCCUP_GROUP_Officials & Executives', 'OCCUP_GROUP_Professionals', 'OCCUP_GROUP_Service Workers', 'OCCUP_GROUP_Special Occupations', 'OCCUP_GROUP_Technicians', 'OCCUP_GROUP_Trades Workers', 'OCCUP_GROUP_Unknown', 'KB_Group_Agriculture', 'KB_Group_Arts', 'KB_Group_Construction', 'KB_Group_Education', 'KB_Group_Electricity', 'KB_Group_Extra-territorial', 'KB_Group_Finance', 'KB_Group_Food Service', 'KB_Group_Health', 'KB_Group_Household Employers', 'KB_Group_IT', 'KB_Group_Manufacturing', 'KB_Group_Mining', 'KB_Group_Other Services', 'KB_Group_Professional', 'KB_Group_Public Admin', 'KB_Group_Real Estate', 'KB_Group_Retail', 'KB_Group_Transport', 'KB_Group_Water Supply', 'KB_Group_nan', 'CW_Group_Government', 'CW_Group_Private Establishment', 'CW_Group_Private Household', 'CW_Group_Self-Employed', 'CW_Group_Worked with Pay in Family Business', 'CW_Group_Worked without Pay in Family Business']\n"
          ]
        }
      ]
    },
    {
      "cell_type": "code",
      "source": [
        "skewed_cols = skewness_values[abs(skewness_values) > 1].index\n",
        "print(\"Highly skewed variables:\", skewed_cols)"
      ],
      "metadata": {
        "id": "8KCk2LfquMOD",
        "outputId": "c7444672-0c12-4b8e-dcb9-e0dea7103ace",
        "colab": {
          "base_uri": "https://localhost:8080/"
        }
      },
      "execution_count": 1290,
      "outputs": [
        {
          "output_type": "stream",
          "name": "stdout",
          "text": [
            "Highly skewed variables: Index(['W_REGN', 'RSTR', 'BWEIGHT', 'RFACT', 'AGRI_SAL', 'NONAGRI_SAL',\n",
            "       'WAGES', 'NETSHARE', 'CASH_ABROAD', 'CASH_DOMESTIC',\n",
            "       ...\n",
            "       'KB_Group_Public Admin', 'KB_Group_Real Estate', 'KB_Group_Retail',\n",
            "       'KB_Group_Transport', 'KB_Group_Water Supply', 'KB_Group_nan',\n",
            "       'CW_Group_Government', 'CW_Group_Private Household',\n",
            "       'CW_Group_Worked with Pay in Family Business',\n",
            "       'CW_Group_Worked without Pay in Family Business'],\n",
            "      dtype='object', length=129)\n"
          ]
        }
      ]
    },
    {
      "cell_type": "code",
      "source": [
        "fies_df[skewed_cols] = np.log1p(fies_df[skewed_cols])\n",
        "\n",
        "numeric_cols = [col for col in fies_df.select_dtypes(include=[\"int64\", \"float64\"]).columns if col not in exclude_cols]\n",
        "\n",
        "fies_df[numeric_cols] = np.log1p(fies_df[numeric_cols])\n",
        "\n"
      ],
      "metadata": {
        "id": "lSSh4NyQuYDC"
      },
      "execution_count": 1291,
      "outputs": []
    },
    {
      "cell_type": "code",
      "source": [
        "fies_df[numeric_cols]"
      ],
      "metadata": {
        "id": "jQoJ8ndq37us",
        "outputId": "283f6e6d-83ec-4482-9d9f-3fa105ed0302",
        "colab": {
          "base_uri": "https://localhost:8080/",
          "height": 443
        }
      },
      "execution_count": 1292,
      "outputs": [
        {
          "output_type": "execute_result",
          "data": {
            "text/plain": [
              "         W_REGN       URB      RSTR        PSU   BWEIGHT     RFACT     FSIZE  \\\n",
              "0      1.310506  1.098612  2.393985  12.936162  1.781081  1.841592  1.386294   \n",
              "1      1.310506  1.098612  2.393985  12.936162  1.781081  1.841592  2.602690   \n",
              "2      1.310506  1.098612  2.393985  12.936162  1.781081  1.841592  1.098612   \n",
              "3      1.310506  1.098612  2.393985  12.936162  1.781081  1.841592  1.609438   \n",
              "4      1.310506  1.098612  2.393985  12.936162  1.781081  1.841592  1.791759   \n",
              "...         ...       ...       ...        ...       ...       ...       ...   \n",
              "40166  1.271150  0.693147  2.397790  11.644506  1.888087  2.063227  1.791759   \n",
              "40167  1.271150  1.098612  2.397790  12.933785  1.888087  1.998704  2.302585   \n",
              "40168  1.271150  1.098612  2.397790  12.933785  1.888087  1.998704  1.945910   \n",
              "40169  1.271150  1.098612  2.397790  12.933785  1.888087  1.998704  1.791759   \n",
              "40170  1.271150  1.098612  2.397790  12.933785  1.888087  1.998704  2.079442   \n",
              "\n",
              "       AGRI_SAL  NONAGRI_SAL     WAGES  ...    PC_QTY  OVEN_QTY  \\\n",
              "0       0.00000     0.000000  0.000000  ...  0.526589  0.526589   \n",
              "1       0.00000     0.000000  0.000000  ...  0.000000  0.526589   \n",
              "2       0.00000     0.000000  0.000000  ...  0.000000  0.526589   \n",
              "3       0.00000     0.000000  0.000000  ...  0.000000  0.526589   \n",
              "4       0.00000     2.431288  2.431288  ...  0.000000  0.000000   \n",
              "...         ...          ...       ...  ...       ...       ...   \n",
              "40166   0.00000     0.000000  0.000000  ...  0.000000  0.000000   \n",
              "40167   0.00000     2.470450  2.470450  ...  0.000000  0.526589   \n",
              "40168   0.00000     0.000000  0.000000  ...  0.000000  0.000000   \n",
              "40169   0.00000     2.527369  2.527369  ...  0.000000  0.526589   \n",
              "40170   2.02188     0.000000  2.021880  ...  0.000000  0.000000   \n",
              "\n",
              "       MOTOR_BANCA_QTY  MOTORCYCLE_QTY   POP_ADJ     PCINC     NATPC  \\\n",
              "0                  0.0        0.000000  0.665865  2.533201  2.302585   \n",
              "1                  0.0        0.526589  0.665865  2.427438  1.791759   \n",
              "2                  0.0        0.000000  0.665865  2.515564  2.302585   \n",
              "3                  0.0        0.000000  0.665865  2.457580  1.945910   \n",
              "4                  0.0        0.526589  0.665865  2.445094  1.945910   \n",
              "...                ...             ...       ...       ...       ...   \n",
              "40166              0.0        0.000000  0.643360  2.425897  1.791759   \n",
              "40167              0.0        0.000000  0.643360  2.358293  0.693147   \n",
              "40168              0.0        0.000000  0.643360  2.385036  1.386294   \n",
              "40169              0.0        0.000000  0.643360  2.428450  1.791759   \n",
              "40170              0.0        0.000000  0.643360  2.366864  1.098612   \n",
              "\n",
              "          NATDC     REGDC     REGPC  \n",
              "0      2.197225  2.197225  2.302585  \n",
              "1      2.302585  2.302585  1.609438  \n",
              "2      1.945910  1.945910  2.197225  \n",
              "3      1.945910  1.945910  1.945910  \n",
              "4      1.945910  1.945910  1.791759  \n",
              "...         ...       ...       ...  \n",
              "40166  1.791759  2.079442  2.079442  \n",
              "40167  1.791759  2.079442  1.386294  \n",
              "40168  1.609438  1.945910  1.609438  \n",
              "40169  1.945910  2.079442  2.079442  \n",
              "40170  1.609438  1.945910  1.386294  \n",
              "\n",
              "[40171 rows x 113 columns]"
            ],
            "text/html": [
              "\n",
              "  <div id=\"df-64bef7ed-ca49-4a34-80e6-4d8a8c50dedd\" class=\"colab-df-container\">\n",
              "    <div>\n",
              "<style scoped>\n",
              "    .dataframe tbody tr th:only-of-type {\n",
              "        vertical-align: middle;\n",
              "    }\n",
              "\n",
              "    .dataframe tbody tr th {\n",
              "        vertical-align: top;\n",
              "    }\n",
              "\n",
              "    .dataframe thead th {\n",
              "        text-align: right;\n",
              "    }\n",
              "</style>\n",
              "<table border=\"1\" class=\"dataframe\">\n",
              "  <thead>\n",
              "    <tr style=\"text-align: right;\">\n",
              "      <th></th>\n",
              "      <th>W_REGN</th>\n",
              "      <th>URB</th>\n",
              "      <th>RSTR</th>\n",
              "      <th>PSU</th>\n",
              "      <th>BWEIGHT</th>\n",
              "      <th>RFACT</th>\n",
              "      <th>FSIZE</th>\n",
              "      <th>AGRI_SAL</th>\n",
              "      <th>NONAGRI_SAL</th>\n",
              "      <th>WAGES</th>\n",
              "      <th>...</th>\n",
              "      <th>PC_QTY</th>\n",
              "      <th>OVEN_QTY</th>\n",
              "      <th>MOTOR_BANCA_QTY</th>\n",
              "      <th>MOTORCYCLE_QTY</th>\n",
              "      <th>POP_ADJ</th>\n",
              "      <th>PCINC</th>\n",
              "      <th>NATPC</th>\n",
              "      <th>NATDC</th>\n",
              "      <th>REGDC</th>\n",
              "      <th>REGPC</th>\n",
              "    </tr>\n",
              "  </thead>\n",
              "  <tbody>\n",
              "    <tr>\n",
              "      <th>0</th>\n",
              "      <td>1.310506</td>\n",
              "      <td>1.098612</td>\n",
              "      <td>2.393985</td>\n",
              "      <td>12.936162</td>\n",
              "      <td>1.781081</td>\n",
              "      <td>1.841592</td>\n",
              "      <td>1.386294</td>\n",
              "      <td>0.00000</td>\n",
              "      <td>0.000000</td>\n",
              "      <td>0.000000</td>\n",
              "      <td>...</td>\n",
              "      <td>0.526589</td>\n",
              "      <td>0.526589</td>\n",
              "      <td>0.0</td>\n",
              "      <td>0.000000</td>\n",
              "      <td>0.665865</td>\n",
              "      <td>2.533201</td>\n",
              "      <td>2.302585</td>\n",
              "      <td>2.197225</td>\n",
              "      <td>2.197225</td>\n",
              "      <td>2.302585</td>\n",
              "    </tr>\n",
              "    <tr>\n",
              "      <th>1</th>\n",
              "      <td>1.310506</td>\n",
              "      <td>1.098612</td>\n",
              "      <td>2.393985</td>\n",
              "      <td>12.936162</td>\n",
              "      <td>1.781081</td>\n",
              "      <td>1.841592</td>\n",
              "      <td>2.602690</td>\n",
              "      <td>0.00000</td>\n",
              "      <td>0.000000</td>\n",
              "      <td>0.000000</td>\n",
              "      <td>...</td>\n",
              "      <td>0.000000</td>\n",
              "      <td>0.526589</td>\n",
              "      <td>0.0</td>\n",
              "      <td>0.526589</td>\n",
              "      <td>0.665865</td>\n",
              "      <td>2.427438</td>\n",
              "      <td>1.791759</td>\n",
              "      <td>2.302585</td>\n",
              "      <td>2.302585</td>\n",
              "      <td>1.609438</td>\n",
              "    </tr>\n",
              "    <tr>\n",
              "      <th>2</th>\n",
              "      <td>1.310506</td>\n",
              "      <td>1.098612</td>\n",
              "      <td>2.393985</td>\n",
              "      <td>12.936162</td>\n",
              "      <td>1.781081</td>\n",
              "      <td>1.841592</td>\n",
              "      <td>1.098612</td>\n",
              "      <td>0.00000</td>\n",
              "      <td>0.000000</td>\n",
              "      <td>0.000000</td>\n",
              "      <td>...</td>\n",
              "      <td>0.000000</td>\n",
              "      <td>0.526589</td>\n",
              "      <td>0.0</td>\n",
              "      <td>0.000000</td>\n",
              "      <td>0.665865</td>\n",
              "      <td>2.515564</td>\n",
              "      <td>2.302585</td>\n",
              "      <td>1.945910</td>\n",
              "      <td>1.945910</td>\n",
              "      <td>2.197225</td>\n",
              "    </tr>\n",
              "    <tr>\n",
              "      <th>3</th>\n",
              "      <td>1.310506</td>\n",
              "      <td>1.098612</td>\n",
              "      <td>2.393985</td>\n",
              "      <td>12.936162</td>\n",
              "      <td>1.781081</td>\n",
              "      <td>1.841592</td>\n",
              "      <td>1.609438</td>\n",
              "      <td>0.00000</td>\n",
              "      <td>0.000000</td>\n",
              "      <td>0.000000</td>\n",
              "      <td>...</td>\n",
              "      <td>0.000000</td>\n",
              "      <td>0.526589</td>\n",
              "      <td>0.0</td>\n",
              "      <td>0.000000</td>\n",
              "      <td>0.665865</td>\n",
              "      <td>2.457580</td>\n",
              "      <td>1.945910</td>\n",
              "      <td>1.945910</td>\n",
              "      <td>1.945910</td>\n",
              "      <td>1.945910</td>\n",
              "    </tr>\n",
              "    <tr>\n",
              "      <th>4</th>\n",
              "      <td>1.310506</td>\n",
              "      <td>1.098612</td>\n",
              "      <td>2.393985</td>\n",
              "      <td>12.936162</td>\n",
              "      <td>1.781081</td>\n",
              "      <td>1.841592</td>\n",
              "      <td>1.791759</td>\n",
              "      <td>0.00000</td>\n",
              "      <td>2.431288</td>\n",
              "      <td>2.431288</td>\n",
              "      <td>...</td>\n",
              "      <td>0.000000</td>\n",
              "      <td>0.000000</td>\n",
              "      <td>0.0</td>\n",
              "      <td>0.526589</td>\n",
              "      <td>0.665865</td>\n",
              "      <td>2.445094</td>\n",
              "      <td>1.945910</td>\n",
              "      <td>1.945910</td>\n",
              "      <td>1.945910</td>\n",
              "      <td>1.791759</td>\n",
              "    </tr>\n",
              "    <tr>\n",
              "      <th>...</th>\n",
              "      <td>...</td>\n",
              "      <td>...</td>\n",
              "      <td>...</td>\n",
              "      <td>...</td>\n",
              "      <td>...</td>\n",
              "      <td>...</td>\n",
              "      <td>...</td>\n",
              "      <td>...</td>\n",
              "      <td>...</td>\n",
              "      <td>...</td>\n",
              "      <td>...</td>\n",
              "      <td>...</td>\n",
              "      <td>...</td>\n",
              "      <td>...</td>\n",
              "      <td>...</td>\n",
              "      <td>...</td>\n",
              "      <td>...</td>\n",
              "      <td>...</td>\n",
              "      <td>...</td>\n",
              "      <td>...</td>\n",
              "      <td>...</td>\n",
              "    </tr>\n",
              "    <tr>\n",
              "      <th>40166</th>\n",
              "      <td>1.271150</td>\n",
              "      <td>0.693147</td>\n",
              "      <td>2.397790</td>\n",
              "      <td>11.644506</td>\n",
              "      <td>1.888087</td>\n",
              "      <td>2.063227</td>\n",
              "      <td>1.791759</td>\n",
              "      <td>0.00000</td>\n",
              "      <td>0.000000</td>\n",
              "      <td>0.000000</td>\n",
              "      <td>...</td>\n",
              "      <td>0.000000</td>\n",
              "      <td>0.000000</td>\n",
              "      <td>0.0</td>\n",
              "      <td>0.000000</td>\n",
              "      <td>0.643360</td>\n",
              "      <td>2.425897</td>\n",
              "      <td>1.791759</td>\n",
              "      <td>1.791759</td>\n",
              "      <td>2.079442</td>\n",
              "      <td>2.079442</td>\n",
              "    </tr>\n",
              "    <tr>\n",
              "      <th>40167</th>\n",
              "      <td>1.271150</td>\n",
              "      <td>1.098612</td>\n",
              "      <td>2.397790</td>\n",
              "      <td>12.933785</td>\n",
              "      <td>1.888087</td>\n",
              "      <td>1.998704</td>\n",
              "      <td>2.302585</td>\n",
              "      <td>0.00000</td>\n",
              "      <td>2.470450</td>\n",
              "      <td>2.470450</td>\n",
              "      <td>...</td>\n",
              "      <td>0.000000</td>\n",
              "      <td>0.526589</td>\n",
              "      <td>0.0</td>\n",
              "      <td>0.000000</td>\n",
              "      <td>0.643360</td>\n",
              "      <td>2.358293</td>\n",
              "      <td>0.693147</td>\n",
              "      <td>1.791759</td>\n",
              "      <td>2.079442</td>\n",
              "      <td>1.386294</td>\n",
              "    </tr>\n",
              "    <tr>\n",
              "      <th>40168</th>\n",
              "      <td>1.271150</td>\n",
              "      <td>1.098612</td>\n",
              "      <td>2.397790</td>\n",
              "      <td>12.933785</td>\n",
              "      <td>1.888087</td>\n",
              "      <td>1.998704</td>\n",
              "      <td>1.945910</td>\n",
              "      <td>0.00000</td>\n",
              "      <td>0.000000</td>\n",
              "      <td>0.000000</td>\n",
              "      <td>...</td>\n",
              "      <td>0.000000</td>\n",
              "      <td>0.000000</td>\n",
              "      <td>0.0</td>\n",
              "      <td>0.000000</td>\n",
              "      <td>0.643360</td>\n",
              "      <td>2.385036</td>\n",
              "      <td>1.386294</td>\n",
              "      <td>1.609438</td>\n",
              "      <td>1.945910</td>\n",
              "      <td>1.609438</td>\n",
              "    </tr>\n",
              "    <tr>\n",
              "      <th>40169</th>\n",
              "      <td>1.271150</td>\n",
              "      <td>1.098612</td>\n",
              "      <td>2.397790</td>\n",
              "      <td>12.933785</td>\n",
              "      <td>1.888087</td>\n",
              "      <td>1.998704</td>\n",
              "      <td>1.791759</td>\n",
              "      <td>0.00000</td>\n",
              "      <td>2.527369</td>\n",
              "      <td>2.527369</td>\n",
              "      <td>...</td>\n",
              "      <td>0.000000</td>\n",
              "      <td>0.526589</td>\n",
              "      <td>0.0</td>\n",
              "      <td>0.000000</td>\n",
              "      <td>0.643360</td>\n",
              "      <td>2.428450</td>\n",
              "      <td>1.791759</td>\n",
              "      <td>1.945910</td>\n",
              "      <td>2.079442</td>\n",
              "      <td>2.079442</td>\n",
              "    </tr>\n",
              "    <tr>\n",
              "      <th>40170</th>\n",
              "      <td>1.271150</td>\n",
              "      <td>1.098612</td>\n",
              "      <td>2.397790</td>\n",
              "      <td>12.933785</td>\n",
              "      <td>1.888087</td>\n",
              "      <td>1.998704</td>\n",
              "      <td>2.079442</td>\n",
              "      <td>2.02188</td>\n",
              "      <td>0.000000</td>\n",
              "      <td>2.021880</td>\n",
              "      <td>...</td>\n",
              "      <td>0.000000</td>\n",
              "      <td>0.000000</td>\n",
              "      <td>0.0</td>\n",
              "      <td>0.000000</td>\n",
              "      <td>0.643360</td>\n",
              "      <td>2.366864</td>\n",
              "      <td>1.098612</td>\n",
              "      <td>1.609438</td>\n",
              "      <td>1.945910</td>\n",
              "      <td>1.386294</td>\n",
              "    </tr>\n",
              "  </tbody>\n",
              "</table>\n",
              "<p>40171 rows × 113 columns</p>\n",
              "</div>\n",
              "    <div class=\"colab-df-buttons\">\n",
              "\n",
              "  <div class=\"colab-df-container\">\n",
              "    <button class=\"colab-df-convert\" onclick=\"convertToInteractive('df-64bef7ed-ca49-4a34-80e6-4d8a8c50dedd')\"\n",
              "            title=\"Convert this dataframe to an interactive table.\"\n",
              "            style=\"display:none;\">\n",
              "\n",
              "  <svg xmlns=\"http://www.w3.org/2000/svg\" height=\"24px\" viewBox=\"0 -960 960 960\">\n",
              "    <path d=\"M120-120v-720h720v720H120Zm60-500h600v-160H180v160Zm220 220h160v-160H400v160Zm0 220h160v-160H400v160ZM180-400h160v-160H180v160Zm440 0h160v-160H620v160ZM180-180h160v-160H180v160Zm440 0h160v-160H620v160Z\"/>\n",
              "  </svg>\n",
              "    </button>\n",
              "\n",
              "  <style>\n",
              "    .colab-df-container {\n",
              "      display:flex;\n",
              "      gap: 12px;\n",
              "    }\n",
              "\n",
              "    .colab-df-convert {\n",
              "      background-color: #E8F0FE;\n",
              "      border: none;\n",
              "      border-radius: 50%;\n",
              "      cursor: pointer;\n",
              "      display: none;\n",
              "      fill: #1967D2;\n",
              "      height: 32px;\n",
              "      padding: 0 0 0 0;\n",
              "      width: 32px;\n",
              "    }\n",
              "\n",
              "    .colab-df-convert:hover {\n",
              "      background-color: #E2EBFA;\n",
              "      box-shadow: 0px 1px 2px rgba(60, 64, 67, 0.3), 0px 1px 3px 1px rgba(60, 64, 67, 0.15);\n",
              "      fill: #174EA6;\n",
              "    }\n",
              "\n",
              "    .colab-df-buttons div {\n",
              "      margin-bottom: 4px;\n",
              "    }\n",
              "\n",
              "    [theme=dark] .colab-df-convert {\n",
              "      background-color: #3B4455;\n",
              "      fill: #D2E3FC;\n",
              "    }\n",
              "\n",
              "    [theme=dark] .colab-df-convert:hover {\n",
              "      background-color: #434B5C;\n",
              "      box-shadow: 0px 1px 3px 1px rgba(0, 0, 0, 0.15);\n",
              "      filter: drop-shadow(0px 1px 2px rgba(0, 0, 0, 0.3));\n",
              "      fill: #FFFFFF;\n",
              "    }\n",
              "  </style>\n",
              "\n",
              "    <script>\n",
              "      const buttonEl =\n",
              "        document.querySelector('#df-64bef7ed-ca49-4a34-80e6-4d8a8c50dedd button.colab-df-convert');\n",
              "      buttonEl.style.display =\n",
              "        google.colab.kernel.accessAllowed ? 'block' : 'none';\n",
              "\n",
              "      async function convertToInteractive(key) {\n",
              "        const element = document.querySelector('#df-64bef7ed-ca49-4a34-80e6-4d8a8c50dedd');\n",
              "        const dataTable =\n",
              "          await google.colab.kernel.invokeFunction('convertToInteractive',\n",
              "                                                    [key], {});\n",
              "        if (!dataTable) return;\n",
              "\n",
              "        const docLinkHtml = 'Like what you see? Visit the ' +\n",
              "          '<a target=\"_blank\" href=https://colab.research.google.com/notebooks/data_table.ipynb>data table notebook</a>'\n",
              "          + ' to learn more about interactive tables.';\n",
              "        element.innerHTML = '';\n",
              "        dataTable['output_type'] = 'display_data';\n",
              "        await google.colab.output.renderOutput(dataTable, element);\n",
              "        const docLink = document.createElement('div');\n",
              "        docLink.innerHTML = docLinkHtml;\n",
              "        element.appendChild(docLink);\n",
              "      }\n",
              "    </script>\n",
              "  </div>\n",
              "\n",
              "\n",
              "<div id=\"df-70aff0d5-6775-413f-8940-5c3ab76cc1bd\">\n",
              "  <button class=\"colab-df-quickchart\" onclick=\"quickchart('df-70aff0d5-6775-413f-8940-5c3ab76cc1bd')\"\n",
              "            title=\"Suggest charts\"\n",
              "            style=\"display:none;\">\n",
              "\n",
              "<svg xmlns=\"http://www.w3.org/2000/svg\" height=\"24px\"viewBox=\"0 0 24 24\"\n",
              "     width=\"24px\">\n",
              "    <g>\n",
              "        <path d=\"M19 3H5c-1.1 0-2 .9-2 2v14c0 1.1.9 2 2 2h14c1.1 0 2-.9 2-2V5c0-1.1-.9-2-2-2zM9 17H7v-7h2v7zm4 0h-2V7h2v10zm4 0h-2v-4h2v4z\"/>\n",
              "    </g>\n",
              "</svg>\n",
              "  </button>\n",
              "\n",
              "<style>\n",
              "  .colab-df-quickchart {\n",
              "      --bg-color: #E8F0FE;\n",
              "      --fill-color: #1967D2;\n",
              "      --hover-bg-color: #E2EBFA;\n",
              "      --hover-fill-color: #174EA6;\n",
              "      --disabled-fill-color: #AAA;\n",
              "      --disabled-bg-color: #DDD;\n",
              "  }\n",
              "\n",
              "  [theme=dark] .colab-df-quickchart {\n",
              "      --bg-color: #3B4455;\n",
              "      --fill-color: #D2E3FC;\n",
              "      --hover-bg-color: #434B5C;\n",
              "      --hover-fill-color: #FFFFFF;\n",
              "      --disabled-bg-color: #3B4455;\n",
              "      --disabled-fill-color: #666;\n",
              "  }\n",
              "\n",
              "  .colab-df-quickchart {\n",
              "    background-color: var(--bg-color);\n",
              "    border: none;\n",
              "    border-radius: 50%;\n",
              "    cursor: pointer;\n",
              "    display: none;\n",
              "    fill: var(--fill-color);\n",
              "    height: 32px;\n",
              "    padding: 0;\n",
              "    width: 32px;\n",
              "  }\n",
              "\n",
              "  .colab-df-quickchart:hover {\n",
              "    background-color: var(--hover-bg-color);\n",
              "    box-shadow: 0 1px 2px rgba(60, 64, 67, 0.3), 0 1px 3px 1px rgba(60, 64, 67, 0.15);\n",
              "    fill: var(--button-hover-fill-color);\n",
              "  }\n",
              "\n",
              "  .colab-df-quickchart-complete:disabled,\n",
              "  .colab-df-quickchart-complete:disabled:hover {\n",
              "    background-color: var(--disabled-bg-color);\n",
              "    fill: var(--disabled-fill-color);\n",
              "    box-shadow: none;\n",
              "  }\n",
              "\n",
              "  .colab-df-spinner {\n",
              "    border: 2px solid var(--fill-color);\n",
              "    border-color: transparent;\n",
              "    border-bottom-color: var(--fill-color);\n",
              "    animation:\n",
              "      spin 1s steps(1) infinite;\n",
              "  }\n",
              "\n",
              "  @keyframes spin {\n",
              "    0% {\n",
              "      border-color: transparent;\n",
              "      border-bottom-color: var(--fill-color);\n",
              "      border-left-color: var(--fill-color);\n",
              "    }\n",
              "    20% {\n",
              "      border-color: transparent;\n",
              "      border-left-color: var(--fill-color);\n",
              "      border-top-color: var(--fill-color);\n",
              "    }\n",
              "    30% {\n",
              "      border-color: transparent;\n",
              "      border-left-color: var(--fill-color);\n",
              "      border-top-color: var(--fill-color);\n",
              "      border-right-color: var(--fill-color);\n",
              "    }\n",
              "    40% {\n",
              "      border-color: transparent;\n",
              "      border-right-color: var(--fill-color);\n",
              "      border-top-color: var(--fill-color);\n",
              "    }\n",
              "    60% {\n",
              "      border-color: transparent;\n",
              "      border-right-color: var(--fill-color);\n",
              "    }\n",
              "    80% {\n",
              "      border-color: transparent;\n",
              "      border-right-color: var(--fill-color);\n",
              "      border-bottom-color: var(--fill-color);\n",
              "    }\n",
              "    90% {\n",
              "      border-color: transparent;\n",
              "      border-bottom-color: var(--fill-color);\n",
              "    }\n",
              "  }\n",
              "</style>\n",
              "\n",
              "  <script>\n",
              "    async function quickchart(key) {\n",
              "      const quickchartButtonEl =\n",
              "        document.querySelector('#' + key + ' button');\n",
              "      quickchartButtonEl.disabled = true;  // To prevent multiple clicks.\n",
              "      quickchartButtonEl.classList.add('colab-df-spinner');\n",
              "      try {\n",
              "        const charts = await google.colab.kernel.invokeFunction(\n",
              "            'suggestCharts', [key], {});\n",
              "      } catch (error) {\n",
              "        console.error('Error during call to suggestCharts:', error);\n",
              "      }\n",
              "      quickchartButtonEl.classList.remove('colab-df-spinner');\n",
              "      quickchartButtonEl.classList.add('colab-df-quickchart-complete');\n",
              "    }\n",
              "    (() => {\n",
              "      let quickchartButtonEl =\n",
              "        document.querySelector('#df-70aff0d5-6775-413f-8940-5c3ab76cc1bd button');\n",
              "      quickchartButtonEl.style.display =\n",
              "        google.colab.kernel.accessAllowed ? 'block' : 'none';\n",
              "    })();\n",
              "  </script>\n",
              "</div>\n",
              "\n",
              "    </div>\n",
              "  </div>\n"
            ],
            "application/vnd.google.colaboratory.intrinsic+json": {
              "type": "dataframe"
            }
          },
          "metadata": {},
          "execution_count": 1292
        }
      ]
    },
    {
      "cell_type": "markdown",
      "source": [
        "# **Feature Selection**"
      ],
      "metadata": {
        "id": "Ng27BDcs9-AV"
      }
    },
    {
      "cell_type": "code",
      "source": [
        "X = fies_df.drop(columns=[\"TOINC\"])\n",
        "y = fies_df[\"TOINC\"]\n",
        "\n",
        "selector = SelectKBest(score_func=f_regression, k=20)\n",
        "X_selected = selector.fit_transform(X, y)\n",
        "\n",
        "selected_features = X.columns[selector.get_support()]\n",
        "print(\"Selected Features:\\n\", selected_features)"
      ],
      "metadata": {
        "colab": {
          "base_uri": "https://localhost:8080/"
        },
        "id": "pZzPsHDuiKXL",
        "outputId": "2bc9bebc-ffb8-478a-c2f4-aec41fd7d081"
      },
      "execution_count": 1293,
      "outputs": [
        {
          "output_type": "stream",
          "name": "stdout",
          "text": [
            "Selected Features:\n",
            " Index(['T_MILK', 'T_MINERAL', 'T_FOOD_HOME', 'T_FOOD', 'T_FURNISHING',\n",
            "       'T_HOUSING_WATER', 'T_RENTVAL', 'T_COMMUNICATION', 'T_MISCELLANEOUS',\n",
            "       'T_NFOOD', 'T_TOTEX', 'T_TOTDIS', 'T_TOREC', 'HGC', 'PC_QTY', 'PCINC',\n",
            "       'NATPC', 'NATDC', 'REGDC', 'REGPC'],\n",
            "      dtype='object')\n"
          ]
        }
      ]
    },
    {
      "cell_type": "code",
      "source": [
        "to_remove = [\n",
        "    \"WAGES\", \"NETSHARE\", \"CASH_ABROAD\", \"CASH_DOMESTIC\", \"RENTALS_REC\",\n",
        "    \"INTEREST\", \"PENSION\", \"DIVIDENDS\", \"OTHER_SOURCE\", \"NET_RECEIPT\",\n",
        "    \"REGFT\", \"EAINC\", \"T_IMPUTED_RENT\", \"T_TOREC\", \"T_TOTDIS\", \"T_TOTEX\",\n",
        "    \"T_NFOOD\", \"T_FOOD\", \"PCINC\", \"NATPC\", \"NATDC\", \"REGDC\", \"REGPC\", \"NONAGRI_SAL\", \"AGRI_SAL\"\n",
        "]\n",
        "\n",
        "X_selected_df = pd.DataFrame(X_selected, columns=selected_features)\n",
        "\n",
        "X_selected_df = X_selected_df.drop(columns=to_remove, errors='ignore')\n",
        "\n",
        "selected_features = [feature for feature in selected_features if feature not in to_remove]\n",
        "\n",
        "print(\"Updated Selected Features:\\n\", selected_features)\n"
      ],
      "metadata": {
        "id": "raz-K5d0zqVK",
        "outputId": "6b8b2f8b-defc-4218-f2c7-22993dac9487",
        "colab": {
          "base_uri": "https://localhost:8080/"
        }
      },
      "execution_count": 1294,
      "outputs": [
        {
          "output_type": "stream",
          "name": "stdout",
          "text": [
            "Updated Selected Features:\n",
            " ['T_MILK', 'T_MINERAL', 'T_FOOD_HOME', 'T_FURNISHING', 'T_HOUSING_WATER', 'T_RENTVAL', 'T_COMMUNICATION', 'T_MISCELLANEOUS', 'HGC', 'PC_QTY']\n"
          ]
        }
      ]
    },
    {
      "cell_type": "code",
      "execution_count": 1295,
      "metadata": {
        "id": "P7Sk4MEfuDVR"
      },
      "outputs": [],
      "source": [
        "X_selected_df = pd.DataFrame(X_selected_df, columns=selected_features)\n",
        "\n",
        "selected_df = X_selected_df.copy()\n",
        "selected_df[\"TOINC\"] = y\n"
      ]
    },
    {
      "cell_type": "code",
      "execution_count": 1296,
      "metadata": {
        "id": "MyhL-apEuDVR",
        "outputId": "0bee3eb1-6338-4ecb-a3fc-97b9210d5bb6",
        "colab": {
          "base_uri": "https://localhost:8080/",
          "height": 423
        }
      },
      "outputs": [
        {
          "output_type": "execute_result",
          "data": {
            "text/plain": [
              "         T_MILK  T_MINERAL  T_FOOD_HOME  T_FURNISHING  T_HOUSING_WATER  \\\n",
              "0      2.215958   2.278017     2.519218      2.217943         2.478002   \n",
              "1      2.359048   2.313871     2.571207      2.237250         2.407498   \n",
              "2      2.092982   2.186372     2.474923      2.203754         2.451915   \n",
              "3      2.232367   2.092173     2.486364      2.395901         2.435865   \n",
              "4      2.230896   2.112166     2.493831      2.193079         2.498793   \n",
              "...         ...        ...          ...           ...              ...   \n",
              "40166  2.243861   2.188183     2.502414      2.108469         2.351527   \n",
              "40167  2.226785   2.226674     2.539485      2.122400         2.392475   \n",
              "40168  2.332489   2.203475     2.528744      2.101980         2.376840   \n",
              "40169  2.209222   2.152157     2.532599      2.084931         2.382499   \n",
              "40170  2.156250   2.221681     2.520957      2.107502         2.382944   \n",
              "\n",
              "       T_RENTVAL  T_COMMUNICATION  T_MISCELLANEOUS  HGC    PC_QTY     TOINC  \n",
              "0       2.385337         2.115496         2.382588  3.0  0.526589  2.616838  \n",
              "1       2.186206         2.214308         2.325921  2.0  0.000000  2.628684  \n",
              "2       2.362350         2.264919         2.325578  7.0  0.000000  2.570069  \n",
              "3       2.272093         2.177616         2.323606  8.0  0.000000  2.569769  \n",
              "4       2.476266         2.146070         2.258710  5.0  0.000000  2.575741  \n",
              "...          ...              ...              ...  ...       ...       ...  \n",
              "40166   2.306189         2.228320         2.229132  5.0  0.000000  2.558914  \n",
              "40167   2.319405         2.170006         2.268842  5.0  0.000000  2.547103  \n",
              "40168   2.313039         2.131458         2.243258  2.0  0.000000  2.537749  \n",
              "40169   2.313039         2.290712         2.286838  3.0  0.000000  2.561150  \n",
              "40170   2.313039         2.084387         2.188183  2.0  0.000000  2.534471  \n",
              "\n",
              "[40171 rows x 11 columns]"
            ],
            "text/html": [
              "\n",
              "  <div id=\"df-68daf115-64e3-4bec-a7bc-3a636a0495d7\" class=\"colab-df-container\">\n",
              "    <div>\n",
              "<style scoped>\n",
              "    .dataframe tbody tr th:only-of-type {\n",
              "        vertical-align: middle;\n",
              "    }\n",
              "\n",
              "    .dataframe tbody tr th {\n",
              "        vertical-align: top;\n",
              "    }\n",
              "\n",
              "    .dataframe thead th {\n",
              "        text-align: right;\n",
              "    }\n",
              "</style>\n",
              "<table border=\"1\" class=\"dataframe\">\n",
              "  <thead>\n",
              "    <tr style=\"text-align: right;\">\n",
              "      <th></th>\n",
              "      <th>T_MILK</th>\n",
              "      <th>T_MINERAL</th>\n",
              "      <th>T_FOOD_HOME</th>\n",
              "      <th>T_FURNISHING</th>\n",
              "      <th>T_HOUSING_WATER</th>\n",
              "      <th>T_RENTVAL</th>\n",
              "      <th>T_COMMUNICATION</th>\n",
              "      <th>T_MISCELLANEOUS</th>\n",
              "      <th>HGC</th>\n",
              "      <th>PC_QTY</th>\n",
              "      <th>TOINC</th>\n",
              "    </tr>\n",
              "  </thead>\n",
              "  <tbody>\n",
              "    <tr>\n",
              "      <th>0</th>\n",
              "      <td>2.215958</td>\n",
              "      <td>2.278017</td>\n",
              "      <td>2.519218</td>\n",
              "      <td>2.217943</td>\n",
              "      <td>2.478002</td>\n",
              "      <td>2.385337</td>\n",
              "      <td>2.115496</td>\n",
              "      <td>2.382588</td>\n",
              "      <td>3.0</td>\n",
              "      <td>0.526589</td>\n",
              "      <td>2.616838</td>\n",
              "    </tr>\n",
              "    <tr>\n",
              "      <th>1</th>\n",
              "      <td>2.359048</td>\n",
              "      <td>2.313871</td>\n",
              "      <td>2.571207</td>\n",
              "      <td>2.237250</td>\n",
              "      <td>2.407498</td>\n",
              "      <td>2.186206</td>\n",
              "      <td>2.214308</td>\n",
              "      <td>2.325921</td>\n",
              "      <td>2.0</td>\n",
              "      <td>0.000000</td>\n",
              "      <td>2.628684</td>\n",
              "    </tr>\n",
              "    <tr>\n",
              "      <th>2</th>\n",
              "      <td>2.092982</td>\n",
              "      <td>2.186372</td>\n",
              "      <td>2.474923</td>\n",
              "      <td>2.203754</td>\n",
              "      <td>2.451915</td>\n",
              "      <td>2.362350</td>\n",
              "      <td>2.264919</td>\n",
              "      <td>2.325578</td>\n",
              "      <td>7.0</td>\n",
              "      <td>0.000000</td>\n",
              "      <td>2.570069</td>\n",
              "    </tr>\n",
              "    <tr>\n",
              "      <th>3</th>\n",
              "      <td>2.232367</td>\n",
              "      <td>2.092173</td>\n",
              "      <td>2.486364</td>\n",
              "      <td>2.395901</td>\n",
              "      <td>2.435865</td>\n",
              "      <td>2.272093</td>\n",
              "      <td>2.177616</td>\n",
              "      <td>2.323606</td>\n",
              "      <td>8.0</td>\n",
              "      <td>0.000000</td>\n",
              "      <td>2.569769</td>\n",
              "    </tr>\n",
              "    <tr>\n",
              "      <th>4</th>\n",
              "      <td>2.230896</td>\n",
              "      <td>2.112166</td>\n",
              "      <td>2.493831</td>\n",
              "      <td>2.193079</td>\n",
              "      <td>2.498793</td>\n",
              "      <td>2.476266</td>\n",
              "      <td>2.146070</td>\n",
              "      <td>2.258710</td>\n",
              "      <td>5.0</td>\n",
              "      <td>0.000000</td>\n",
              "      <td>2.575741</td>\n",
              "    </tr>\n",
              "    <tr>\n",
              "      <th>...</th>\n",
              "      <td>...</td>\n",
              "      <td>...</td>\n",
              "      <td>...</td>\n",
              "      <td>...</td>\n",
              "      <td>...</td>\n",
              "      <td>...</td>\n",
              "      <td>...</td>\n",
              "      <td>...</td>\n",
              "      <td>...</td>\n",
              "      <td>...</td>\n",
              "      <td>...</td>\n",
              "    </tr>\n",
              "    <tr>\n",
              "      <th>40166</th>\n",
              "      <td>2.243861</td>\n",
              "      <td>2.188183</td>\n",
              "      <td>2.502414</td>\n",
              "      <td>2.108469</td>\n",
              "      <td>2.351527</td>\n",
              "      <td>2.306189</td>\n",
              "      <td>2.228320</td>\n",
              "      <td>2.229132</td>\n",
              "      <td>5.0</td>\n",
              "      <td>0.000000</td>\n",
              "      <td>2.558914</td>\n",
              "    </tr>\n",
              "    <tr>\n",
              "      <th>40167</th>\n",
              "      <td>2.226785</td>\n",
              "      <td>2.226674</td>\n",
              "      <td>2.539485</td>\n",
              "      <td>2.122400</td>\n",
              "      <td>2.392475</td>\n",
              "      <td>2.319405</td>\n",
              "      <td>2.170006</td>\n",
              "      <td>2.268842</td>\n",
              "      <td>5.0</td>\n",
              "      <td>0.000000</td>\n",
              "      <td>2.547103</td>\n",
              "    </tr>\n",
              "    <tr>\n",
              "      <th>40168</th>\n",
              "      <td>2.332489</td>\n",
              "      <td>2.203475</td>\n",
              "      <td>2.528744</td>\n",
              "      <td>2.101980</td>\n",
              "      <td>2.376840</td>\n",
              "      <td>2.313039</td>\n",
              "      <td>2.131458</td>\n",
              "      <td>2.243258</td>\n",
              "      <td>2.0</td>\n",
              "      <td>0.000000</td>\n",
              "      <td>2.537749</td>\n",
              "    </tr>\n",
              "    <tr>\n",
              "      <th>40169</th>\n",
              "      <td>2.209222</td>\n",
              "      <td>2.152157</td>\n",
              "      <td>2.532599</td>\n",
              "      <td>2.084931</td>\n",
              "      <td>2.382499</td>\n",
              "      <td>2.313039</td>\n",
              "      <td>2.290712</td>\n",
              "      <td>2.286838</td>\n",
              "      <td>3.0</td>\n",
              "      <td>0.000000</td>\n",
              "      <td>2.561150</td>\n",
              "    </tr>\n",
              "    <tr>\n",
              "      <th>40170</th>\n",
              "      <td>2.156250</td>\n",
              "      <td>2.221681</td>\n",
              "      <td>2.520957</td>\n",
              "      <td>2.107502</td>\n",
              "      <td>2.382944</td>\n",
              "      <td>2.313039</td>\n",
              "      <td>2.084387</td>\n",
              "      <td>2.188183</td>\n",
              "      <td>2.0</td>\n",
              "      <td>0.000000</td>\n",
              "      <td>2.534471</td>\n",
              "    </tr>\n",
              "  </tbody>\n",
              "</table>\n",
              "<p>40171 rows × 11 columns</p>\n",
              "</div>\n",
              "    <div class=\"colab-df-buttons\">\n",
              "\n",
              "  <div class=\"colab-df-container\">\n",
              "    <button class=\"colab-df-convert\" onclick=\"convertToInteractive('df-68daf115-64e3-4bec-a7bc-3a636a0495d7')\"\n",
              "            title=\"Convert this dataframe to an interactive table.\"\n",
              "            style=\"display:none;\">\n",
              "\n",
              "  <svg xmlns=\"http://www.w3.org/2000/svg\" height=\"24px\" viewBox=\"0 -960 960 960\">\n",
              "    <path d=\"M120-120v-720h720v720H120Zm60-500h600v-160H180v160Zm220 220h160v-160H400v160Zm0 220h160v-160H400v160ZM180-400h160v-160H180v160Zm440 0h160v-160H620v160ZM180-180h160v-160H180v160Zm440 0h160v-160H620v160Z\"/>\n",
              "  </svg>\n",
              "    </button>\n",
              "\n",
              "  <style>\n",
              "    .colab-df-container {\n",
              "      display:flex;\n",
              "      gap: 12px;\n",
              "    }\n",
              "\n",
              "    .colab-df-convert {\n",
              "      background-color: #E8F0FE;\n",
              "      border: none;\n",
              "      border-radius: 50%;\n",
              "      cursor: pointer;\n",
              "      display: none;\n",
              "      fill: #1967D2;\n",
              "      height: 32px;\n",
              "      padding: 0 0 0 0;\n",
              "      width: 32px;\n",
              "    }\n",
              "\n",
              "    .colab-df-convert:hover {\n",
              "      background-color: #E2EBFA;\n",
              "      box-shadow: 0px 1px 2px rgba(60, 64, 67, 0.3), 0px 1px 3px 1px rgba(60, 64, 67, 0.15);\n",
              "      fill: #174EA6;\n",
              "    }\n",
              "\n",
              "    .colab-df-buttons div {\n",
              "      margin-bottom: 4px;\n",
              "    }\n",
              "\n",
              "    [theme=dark] .colab-df-convert {\n",
              "      background-color: #3B4455;\n",
              "      fill: #D2E3FC;\n",
              "    }\n",
              "\n",
              "    [theme=dark] .colab-df-convert:hover {\n",
              "      background-color: #434B5C;\n",
              "      box-shadow: 0px 1px 3px 1px rgba(0, 0, 0, 0.15);\n",
              "      filter: drop-shadow(0px 1px 2px rgba(0, 0, 0, 0.3));\n",
              "      fill: #FFFFFF;\n",
              "    }\n",
              "  </style>\n",
              "\n",
              "    <script>\n",
              "      const buttonEl =\n",
              "        document.querySelector('#df-68daf115-64e3-4bec-a7bc-3a636a0495d7 button.colab-df-convert');\n",
              "      buttonEl.style.display =\n",
              "        google.colab.kernel.accessAllowed ? 'block' : 'none';\n",
              "\n",
              "      async function convertToInteractive(key) {\n",
              "        const element = document.querySelector('#df-68daf115-64e3-4bec-a7bc-3a636a0495d7');\n",
              "        const dataTable =\n",
              "          await google.colab.kernel.invokeFunction('convertToInteractive',\n",
              "                                                    [key], {});\n",
              "        if (!dataTable) return;\n",
              "\n",
              "        const docLinkHtml = 'Like what you see? Visit the ' +\n",
              "          '<a target=\"_blank\" href=https://colab.research.google.com/notebooks/data_table.ipynb>data table notebook</a>'\n",
              "          + ' to learn more about interactive tables.';\n",
              "        element.innerHTML = '';\n",
              "        dataTable['output_type'] = 'display_data';\n",
              "        await google.colab.output.renderOutput(dataTable, element);\n",
              "        const docLink = document.createElement('div');\n",
              "        docLink.innerHTML = docLinkHtml;\n",
              "        element.appendChild(docLink);\n",
              "      }\n",
              "    </script>\n",
              "  </div>\n",
              "\n",
              "\n",
              "<div id=\"df-319dfdf6-259a-41ed-8fc4-2fdde6ef396a\">\n",
              "  <button class=\"colab-df-quickchart\" onclick=\"quickchart('df-319dfdf6-259a-41ed-8fc4-2fdde6ef396a')\"\n",
              "            title=\"Suggest charts\"\n",
              "            style=\"display:none;\">\n",
              "\n",
              "<svg xmlns=\"http://www.w3.org/2000/svg\" height=\"24px\"viewBox=\"0 0 24 24\"\n",
              "     width=\"24px\">\n",
              "    <g>\n",
              "        <path d=\"M19 3H5c-1.1 0-2 .9-2 2v14c0 1.1.9 2 2 2h14c1.1 0 2-.9 2-2V5c0-1.1-.9-2-2-2zM9 17H7v-7h2v7zm4 0h-2V7h2v10zm4 0h-2v-4h2v4z\"/>\n",
              "    </g>\n",
              "</svg>\n",
              "  </button>\n",
              "\n",
              "<style>\n",
              "  .colab-df-quickchart {\n",
              "      --bg-color: #E8F0FE;\n",
              "      --fill-color: #1967D2;\n",
              "      --hover-bg-color: #E2EBFA;\n",
              "      --hover-fill-color: #174EA6;\n",
              "      --disabled-fill-color: #AAA;\n",
              "      --disabled-bg-color: #DDD;\n",
              "  }\n",
              "\n",
              "  [theme=dark] .colab-df-quickchart {\n",
              "      --bg-color: #3B4455;\n",
              "      --fill-color: #D2E3FC;\n",
              "      --hover-bg-color: #434B5C;\n",
              "      --hover-fill-color: #FFFFFF;\n",
              "      --disabled-bg-color: #3B4455;\n",
              "      --disabled-fill-color: #666;\n",
              "  }\n",
              "\n",
              "  .colab-df-quickchart {\n",
              "    background-color: var(--bg-color);\n",
              "    border: none;\n",
              "    border-radius: 50%;\n",
              "    cursor: pointer;\n",
              "    display: none;\n",
              "    fill: var(--fill-color);\n",
              "    height: 32px;\n",
              "    padding: 0;\n",
              "    width: 32px;\n",
              "  }\n",
              "\n",
              "  .colab-df-quickchart:hover {\n",
              "    background-color: var(--hover-bg-color);\n",
              "    box-shadow: 0 1px 2px rgba(60, 64, 67, 0.3), 0 1px 3px 1px rgba(60, 64, 67, 0.15);\n",
              "    fill: var(--button-hover-fill-color);\n",
              "  }\n",
              "\n",
              "  .colab-df-quickchart-complete:disabled,\n",
              "  .colab-df-quickchart-complete:disabled:hover {\n",
              "    background-color: var(--disabled-bg-color);\n",
              "    fill: var(--disabled-fill-color);\n",
              "    box-shadow: none;\n",
              "  }\n",
              "\n",
              "  .colab-df-spinner {\n",
              "    border: 2px solid var(--fill-color);\n",
              "    border-color: transparent;\n",
              "    border-bottom-color: var(--fill-color);\n",
              "    animation:\n",
              "      spin 1s steps(1) infinite;\n",
              "  }\n",
              "\n",
              "  @keyframes spin {\n",
              "    0% {\n",
              "      border-color: transparent;\n",
              "      border-bottom-color: var(--fill-color);\n",
              "      border-left-color: var(--fill-color);\n",
              "    }\n",
              "    20% {\n",
              "      border-color: transparent;\n",
              "      border-left-color: var(--fill-color);\n",
              "      border-top-color: var(--fill-color);\n",
              "    }\n",
              "    30% {\n",
              "      border-color: transparent;\n",
              "      border-left-color: var(--fill-color);\n",
              "      border-top-color: var(--fill-color);\n",
              "      border-right-color: var(--fill-color);\n",
              "    }\n",
              "    40% {\n",
              "      border-color: transparent;\n",
              "      border-right-color: var(--fill-color);\n",
              "      border-top-color: var(--fill-color);\n",
              "    }\n",
              "    60% {\n",
              "      border-color: transparent;\n",
              "      border-right-color: var(--fill-color);\n",
              "    }\n",
              "    80% {\n",
              "      border-color: transparent;\n",
              "      border-right-color: var(--fill-color);\n",
              "      border-bottom-color: var(--fill-color);\n",
              "    }\n",
              "    90% {\n",
              "      border-color: transparent;\n",
              "      border-bottom-color: var(--fill-color);\n",
              "    }\n",
              "  }\n",
              "</style>\n",
              "\n",
              "  <script>\n",
              "    async function quickchart(key) {\n",
              "      const quickchartButtonEl =\n",
              "        document.querySelector('#' + key + ' button');\n",
              "      quickchartButtonEl.disabled = true;  // To prevent multiple clicks.\n",
              "      quickchartButtonEl.classList.add('colab-df-spinner');\n",
              "      try {\n",
              "        const charts = await google.colab.kernel.invokeFunction(\n",
              "            'suggestCharts', [key], {});\n",
              "      } catch (error) {\n",
              "        console.error('Error during call to suggestCharts:', error);\n",
              "      }\n",
              "      quickchartButtonEl.classList.remove('colab-df-spinner');\n",
              "      quickchartButtonEl.classList.add('colab-df-quickchart-complete');\n",
              "    }\n",
              "    (() => {\n",
              "      let quickchartButtonEl =\n",
              "        document.querySelector('#df-319dfdf6-259a-41ed-8fc4-2fdde6ef396a button');\n",
              "      quickchartButtonEl.style.display =\n",
              "        google.colab.kernel.accessAllowed ? 'block' : 'none';\n",
              "    })();\n",
              "  </script>\n",
              "</div>\n",
              "\n",
              "  <div id=\"id_e021a907-e71b-46b3-aeee-1f11074a6341\">\n",
              "    <style>\n",
              "      .colab-df-generate {\n",
              "        background-color: #E8F0FE;\n",
              "        border: none;\n",
              "        border-radius: 50%;\n",
              "        cursor: pointer;\n",
              "        display: none;\n",
              "        fill: #1967D2;\n",
              "        height: 32px;\n",
              "        padding: 0 0 0 0;\n",
              "        width: 32px;\n",
              "      }\n",
              "\n",
              "      .colab-df-generate:hover {\n",
              "        background-color: #E2EBFA;\n",
              "        box-shadow: 0px 1px 2px rgba(60, 64, 67, 0.3), 0px 1px 3px 1px rgba(60, 64, 67, 0.15);\n",
              "        fill: #174EA6;\n",
              "      }\n",
              "\n",
              "      [theme=dark] .colab-df-generate {\n",
              "        background-color: #3B4455;\n",
              "        fill: #D2E3FC;\n",
              "      }\n",
              "\n",
              "      [theme=dark] .colab-df-generate:hover {\n",
              "        background-color: #434B5C;\n",
              "        box-shadow: 0px 1px 3px 1px rgba(0, 0, 0, 0.15);\n",
              "        filter: drop-shadow(0px 1px 2px rgba(0, 0, 0, 0.3));\n",
              "        fill: #FFFFFF;\n",
              "      }\n",
              "    </style>\n",
              "    <button class=\"colab-df-generate\" onclick=\"generateWithVariable('selected_df')\"\n",
              "            title=\"Generate code using this dataframe.\"\n",
              "            style=\"display:none;\">\n",
              "\n",
              "  <svg xmlns=\"http://www.w3.org/2000/svg\" height=\"24px\"viewBox=\"0 0 24 24\"\n",
              "       width=\"24px\">\n",
              "    <path d=\"M7,19H8.4L18.45,9,17,7.55,7,17.6ZM5,21V16.75L18.45,3.32a2,2,0,0,1,2.83,0l1.4,1.43a1.91,1.91,0,0,1,.58,1.4,1.91,1.91,0,0,1-.58,1.4L9.25,21ZM18.45,9,17,7.55Zm-12,3A5.31,5.31,0,0,0,4.9,8.1,5.31,5.31,0,0,0,1,6.5,5.31,5.31,0,0,0,4.9,4.9,5.31,5.31,0,0,0,6.5,1,5.31,5.31,0,0,0,8.1,4.9,5.31,5.31,0,0,0,12,6.5,5.46,5.46,0,0,0,6.5,12Z\"/>\n",
              "  </svg>\n",
              "    </button>\n",
              "    <script>\n",
              "      (() => {\n",
              "      const buttonEl =\n",
              "        document.querySelector('#id_e021a907-e71b-46b3-aeee-1f11074a6341 button.colab-df-generate');\n",
              "      buttonEl.style.display =\n",
              "        google.colab.kernel.accessAllowed ? 'block' : 'none';\n",
              "\n",
              "      buttonEl.onclick = () => {\n",
              "        google.colab.notebook.generateWithVariable('selected_df');\n",
              "      }\n",
              "      })();\n",
              "    </script>\n",
              "  </div>\n",
              "\n",
              "    </div>\n",
              "  </div>\n"
            ],
            "application/vnd.google.colaboratory.intrinsic+json": {
              "type": "dataframe",
              "variable_name": "selected_df",
              "summary": "{\n  \"name\": \"selected_df\",\n  \"rows\": 40171,\n  \"fields\": [\n    {\n      \"column\": \"T_MILK\",\n      \"properties\": {\n        \"dtype\": \"number\",\n        \"std\": 0.2113010622392298,\n        \"min\": 0.0,\n        \"max\": 2.5846820714610352,\n        \"num_unique_values\": 12419,\n        \"samples\": [\n          2.4043206724592086,\n          2.2590854942626875,\n          2.371299021990891\n        ],\n        \"semantic_type\": \"\",\n        \"description\": \"\"\n      }\n    },\n    {\n      \"column\": \"T_MINERAL\",\n      \"properties\": {\n        \"dtype\": \"number\",\n        \"std\": 0.37949049284256964,\n        \"min\": 0.0,\n        \"max\": 2.479380955571242,\n        \"num_unique_values\": 7300,\n        \"samples\": [\n          2.274802134253129,\n          2.389133124445352,\n          2.346593203415816\n        ],\n        \"semantic_type\": \"\",\n        \"description\": \"\"\n      }\n    },\n    {\n      \"column\": \"T_FOOD_HOME\",\n      \"properties\": {\n        \"dtype\": \"number\",\n        \"std\": 0.0626741739762775,\n        \"min\": 0.0,\n        \"max\": 2.657614516704708,\n        \"num_unique_values\": 33463,\n        \"samples\": [\n          2.5101418714970554,\n          2.433448676657737,\n          2.499459662665509\n        ],\n        \"semantic_type\": \"\",\n        \"description\": \"\"\n      }\n    },\n    {\n      \"column\": \"T_FURNISHING\",\n      \"properties\": {\n        \"dtype\": \"number\",\n        \"std\": 0.1477243389744501,\n        \"min\": 0.0,\n        \"max\": 2.6338212209401943,\n        \"num_unique_values\": 10377,\n        \"samples\": [\n          2.4271449222138597,\n          2.3620924086472685,\n          2.123546928330772\n        ],\n        \"semantic_type\": \"\",\n        \"description\": \"\"\n      }\n    },\n    {\n      \"column\": \"T_HOUSING_WATER\",\n      \"properties\": {\n        \"dtype\": \"number\",\n        \"std\": 0.08124891963788632,\n        \"min\": 2.025597515002669,\n        \"max\": 2.6997646528243724,\n        \"num_unique_values\": 12593,\n        \"samples\": [\n          2.494804522488439,\n          2.422203082435281,\n          2.3096106982106064\n        ],\n        \"semantic_type\": \"\",\n        \"description\": \"\"\n      }\n    },\n    {\n      \"column\": \"T_RENTVAL\",\n      \"properties\": {\n        \"dtype\": \"number\",\n        \"std\": 0.099431096328628,\n        \"min\": 1.757131886054717,\n        \"max\": 2.6838366284423776,\n        \"num_unique_values\": 522,\n        \"samples\": [\n          2.215245244918433,\n          2.2731181849710804,\n          2.350236310074246\n        ],\n        \"semantic_type\": \"\",\n        \"description\": \"\"\n      }\n    },\n    {\n      \"column\": \"T_COMMUNICATION\",\n      \"properties\": {\n        \"dtype\": \"number\",\n        \"std\": 0.7811871560089295,\n        \"min\": 0.0,\n        \"max\": 2.600565917621092,\n        \"num_unique_values\": 3805,\n        \"samples\": [\n          2.3529665163302744,\n          2.135202909066315,\n          1.8072636887169242\n        ],\n        \"semantic_type\": \"\",\n        \"description\": \"\"\n      }\n    },\n    {\n      \"column\": \"T_MISCELLANEOUS\",\n      \"properties\": {\n        \"dtype\": \"number\",\n        \"std\": 0.1227939184923202,\n        \"min\": 0.0,\n        \"max\": 2.648853288390647,\n        \"num_unique_values\": 7386,\n        \"samples\": [\n          2.506342376081434,\n          2.4648812745550295,\n          2.330811199391949\n        ],\n        \"semantic_type\": \"\",\n        \"description\": \"\"\n      }\n    },\n    {\n      \"column\": \"HGC\",\n      \"properties\": {\n        \"dtype\": \"number\",\n        \"std\": 2.4221970137896087,\n        \"min\": 0.0,\n        \"max\": 10.0,\n        \"num_unique_values\": 11,\n        \"samples\": [\n          9.0,\n          3.0,\n          6.0\n        ],\n        \"semantic_type\": \"\",\n        \"description\": \"\"\n      }\n    },\n    {\n      \"column\": \"PC_QTY\",\n      \"properties\": {\n        \"dtype\": \"number\",\n        \"std\": 0.21606903558040397,\n        \"min\": 0.0,\n        \"max\": 1.0804178182729878,\n        \"num_unique_values\": 7,\n        \"samples\": [\n          0.5265890341390445,\n          0.0,\n          1.026672031199051\n        ],\n        \"semantic_type\": \"\",\n        \"description\": \"\"\n      }\n    },\n    {\n      \"column\": \"TOINC\",\n      \"properties\": {\n        \"dtype\": \"number\",\n        \"std\": 0.062098894487689446,\n        \"min\": 2.2572527803900604,\n        \"max\": 2.8316425713352205,\n        \"num_unique_values\": 37235,\n        \"samples\": [\n          2.6363706078989235,\n          2.5407541800808766,\n          2.5956187019930743\n        ],\n        \"semantic_type\": \"\",\n        \"description\": \"\"\n      }\n    }\n  ]\n}"
            }
          },
          "metadata": {},
          "execution_count": 1296
        }
      ],
      "source": [
        "selected_df"
      ]
    },
    {
      "cell_type": "markdown",
      "source": [
        "# **Exploratory Data Analysis**"
      ],
      "metadata": {
        "id": "jAyd60_MLqmI"
      }
    },
    {
      "cell_type": "code",
      "source": [
        "plt.figure(figsize=(10, 8))\n",
        "sns.heatmap(selected_df.corr(), annot=True, cmap=\"coolwarm\", fmt=\".2f\", linewidths=0.5)\n",
        "plt.title(\"Correlation Heatmap\")\n",
        "plt.show()"
      ],
      "metadata": {
        "id": "Y4mmWd7xRAVh",
        "outputId": "d825ca3b-7130-4d10-8aa4-921daee51cef",
        "colab": {
          "base_uri": "https://localhost:8080/",
          "height": 821
        }
      },
      "execution_count": 1297,
      "outputs": [
        {
          "output_type": "display_data",
          "data": {
            "text/plain": [
              "<Figure size 1000x800 with 2 Axes>"
            ],
            "image/png": "[encoded data removed]"
          },
          "metadata": {}
        }
      ]
    },
    {
      "cell_type": "markdown",
      "metadata": {
        "id": "ZZI1QyRcuDVV"
      },
      "source": [
        "# **Splitting the Dataset**"
      ]
    },
    {
      "cell_type": "code",
      "execution_count": 1298,
      "metadata": {
        "id": "yA7b69XquDVV"
      },
      "outputs": [],
      "source": [
        "X = selected_df.drop(columns=[\"TOINC\"])\n",
        "y = selected_df[\"TOINC\"]"
      ]
    },
    {
      "cell_type": "code",
      "execution_count": 1299,
      "metadata": {
        "id": "STwDgdIUuDVW"
      },
      "outputs": [],
      "source": [
        "X_train, X_test, y_train, y_test = train_test_split(X, y, random_state=11, test_size=0.2)"
      ]
    },
    {
      "cell_type": "code",
      "source": [
        "reduce_lr = ReduceLROnPlateau(monitor=\"val_loss\", factor=0.5, patience=5, verbose=1, min_lr=1e-5)\n",
        "\n",
        "early_stopping = EarlyStopping(monitor=\"val_loss\", patience=10, restore_best_weights=True)"
      ],
      "metadata": {
        "id": "wQjJ_4kKd4o3"
      },
      "execution_count": 1300,
      "outputs": []
    },
    {
      "cell_type": "markdown",
      "source": [
        "Lowering **patience** to ~10 may stop training earlier without hurting performance.\n",
        "\n",
        "standardize after splitting dataset"
      ],
      "metadata": {
        "id": "_9MrdfPAtBHn"
      }
    },
    {
      "cell_type": "code",
      "source": [
        "scaler = StandardScaler()\n",
        "X_train_scaled = scaler.fit_transform(X_train)\n",
        "X_test_scaled = scaler.transform(X_test)\n",
        "\n",
        "numeric_cols = selected_df.select_dtypes(include=['int64', 'float64']).columns\n",
        "\n",
        "selected_df[numeric_cols] = scaler.fit_transform(selected_df[numeric_cols])"
      ],
      "metadata": {
        "id": "ArQwzsN8tHXu"
      },
      "execution_count": 1301,
      "outputs": []
    },
    {
      "cell_type": "markdown",
      "source": [
        "# **Initial Model Training**"
      ],
      "metadata": {
        "id": "euNBih-ZwMcm"
      }
    },
    {
      "cell_type": "markdown",
      "source": [
        "## **K Nearest Neighbors Regression**"
      ],
      "metadata": {
        "id": "P6vp25bmYJrb"
      }
    },
    {
      "cell_type": "code",
      "source": [
        "knn = KNeighborsRegressor(n_neighbors=20)"
      ],
      "metadata": {
        "id": "hMi1NptRYLNT"
      },
      "execution_count": 1302,
      "outputs": []
    },
    {
      "cell_type": "code",
      "source": [
        "knn.fit(X_train, y_train)"
      ],
      "metadata": {
        "id": "U09KKOnDYMvU",
        "outputId": "079abb44-eeb9-4071-f109-8e6a16300c1a",
        "colab": {
          "base_uri": "https://localhost:8080/",
          "height": 80
        }
      },
      "execution_count": 1303,
      "outputs": [
        {
          "output_type": "execute_result",
          "data": {
            "text/plain": [
              "KNeighborsRegressor(n_neighbors=20)"
            ],
            "text/html": [
              "<style>#sk-container-id-18 {\n",
              "  /* Definition of color scheme common for light and dark mode */\n",
              "  --sklearn-color-text: #000;\n",
              "  --sklearn-color-text-muted: #666;\n",
              "  --sklearn-color-line: gray;\n",
              "  /* Definition of color scheme for unfitted estimators */\n",
              "  --sklearn-color-unfitted-level-0: #fff5e6;\n",
              "  --sklearn-color-unfitted-level-1: #f6e4d2;\n",
              "  --sklearn-color-unfitted-level-2: #ffe0b3;\n",
              "  --sklearn-color-unfitted-level-3: chocolate;\n",
              "  /* Definition of color scheme for fitted estimators */\n",
              "  --sklearn-color-fitted-level-0: #f0f8ff;\n",
              "  --sklearn-color-fitted-level-1: #d4ebff;\n",
              "  --sklearn-color-fitted-level-2: #b3dbfd;\n",
              "  --sklearn-color-fitted-level-3: cornflowerblue;\n",
              "\n",
              "  /* Specific color for light theme */\n",
              "  --sklearn-color-text-on-default-background: var(--sg-text-color, var(--theme-code-foreground, var(--jp-content-font-color1, black)));\n",
              "  --sklearn-color-background: var(--sg-background-color, var(--theme-background, var(--jp-layout-color0, white)));\n",
              "  --sklearn-color-border-box: var(--sg-text-color, var(--theme-code-foreground, var(--jp-content-font-color1, black)));\n",
              "  --sklearn-color-icon: #696969;\n",
              "\n",
              "  @media (prefers-color-scheme: dark) {\n",
              "    /* Redefinition of color scheme for dark theme */\n",
              "    --sklearn-color-text-on-default-background: var(--sg-text-color, var(--theme-code-foreground, var(--jp-content-font-color1, white)));\n",
              "    --sklearn-color-background: var(--sg-background-color, var(--theme-background, var(--jp-layout-color0, #111)));\n",
              "    --sklearn-color-border-box: var(--sg-text-color, var(--theme-code-foreground, var(--jp-content-font-color1, white)));\n",
              "    --sklearn-color-icon: #878787;\n",
              "  }\n",
              "}\n",
              "\n",
              "#sk-container-id-18 {\n",
              "  color: var(--sklearn-color-text);\n",
              "}\n",
              "\n",
              "#sk-container-id-18 pre {\n",
              "  padding: 0;\n",
              "}\n",
              "\n",
              "#sk-container-id-18 input.sk-hidden--visually {\n",
              "  border: 0;\n",
              "  clip: rect(1px 1px 1px 1px);\n",
              "  clip: rect(1px, 1px, 1px, 1px);\n",
              "  height: 1px;\n",
              "  margin: -1px;\n",
              "  overflow: hidden;\n",
              "  padding: 0;\n",
              "  position: absolute;\n",
              "  width: 1px;\n",
              "}\n",
              "\n",
              "#sk-container-id-18 div.sk-dashed-wrapped {\n",
              "  border: 1px dashed var(--sklearn-color-line);\n",
              "  margin: 0 0.4em 0.5em 0.4em;\n",
              "  box-sizing: border-box;\n",
              "  padding-bottom: 0.4em;\n",
              "  background-color: var(--sklearn-color-background);\n",
              "}\n",
              "\n",
              "#sk-container-id-18 div.sk-container {\n",
              "  /* jupyter's `normalize.less` sets `[hidden] { display: none; }`\n",
              "     but bootstrap.min.css set `[hidden] { display: none !important; }`\n",
              "     so we also need the `!important` here to be able to override the\n",
              "     default hidden behavior on the sphinx rendered scikit-learn.org.\n",
              "     See: https://github.com/scikit-learn/scikit-learn/issues/21755 */\n",
              "  display: inline-block !important;\n",
              "  position: relative;\n",
              "}\n",
              "\n",
              "#sk-container-id-18 div.sk-text-repr-fallback {\n",
              "  display: none;\n",
              "}\n",
              "\n",
              "div.sk-parallel-item,\n",
              "div.sk-serial,\n",
              "div.sk-item {\n",
              "  /* draw centered vertical line to link estimators */\n",
              "  background-image: linear-gradient(var(--sklearn-color-text-on-default-background), var(--sklearn-color-text-on-default-background));\n",
              "  background-size: 2px 100%;\n",
              "  background-repeat: no-repeat;\n",
              "  background-position: center center;\n",
              "}\n",
              "\n",
              "/* Parallel-specific style estimator block */\n",
              "\n",
              "#sk-container-id-18 div.sk-parallel-item::after {\n",
              "  content: \"\";\n",
              "  width: 100%;\n",
              "  border-bottom: 2px solid var(--sklearn-color-text-on-default-background);\n",
              "  flex-grow: 1;\n",
              "}\n",
              "\n",
              "#sk-container-id-18 div.sk-parallel {\n",
              "  display: flex;\n",
              "  align-items: stretch;\n",
              "  justify-content: center;\n",
              "  background-color: var(--sklearn-color-background);\n",
              "  position: relative;\n",
              "}\n",
              "\n",
              "#sk-container-id-18 div.sk-parallel-item {\n",
              "  display: flex;\n",
              "  flex-direction: column;\n",
              "}\n",
              "\n",
              "#sk-container-id-18 div.sk-parallel-item:first-child::after {\n",
              "  align-self: flex-end;\n",
              "  width: 50%;\n",
              "}\n",
              "\n",
              "#sk-container-id-18 div.sk-parallel-item:last-child::after {\n",
              "  align-self: flex-start;\n",
              "  width: 50%;\n",
              "}\n",
              "\n",
              "#sk-container-id-18 div.sk-parallel-item:only-child::after {\n",
              "  width: 0;\n",
              "}\n",
              "\n",
              "/* Serial-specific style estimator block */\n",
              "\n",
              "#sk-container-id-18 div.sk-serial {\n",
              "  display: flex;\n",
              "  flex-direction: column;\n",
              "  align-items: center;\n",
              "  background-color: var(--sklearn-color-background);\n",
              "  padding-right: 1em;\n",
              "  padding-left: 1em;\n",
              "}\n",
              "\n",
              "\n",
              "/* Toggleable style: style used for estimator/Pipeline/ColumnTransformer box that is\n",
              "clickable and can be expanded/collapsed.\n",
              "- Pipeline and ColumnTransformer use this feature and define the default style\n",
              "- Estimators will overwrite some part of the style using the `sk-estimator` class\n",
              "*/\n",
              "\n",
              "/* Pipeline and ColumnTransformer style (default) */\n",
              "\n",
              "#sk-container-id-18 div.sk-toggleable {\n",
              "  /* Default theme specific background. It is overwritten whether we have a\n",
              "  specific estimator or a Pipeline/ColumnTransformer */\n",
              "  background-color: var(--sklearn-color-background);\n",
              "}\n",
              "\n",
              "/* Toggleable label */\n",
              "#sk-container-id-18 label.sk-toggleable__label {\n",
              "  cursor: pointer;\n",
              "  display: flex;\n",
              "  width: 100%;\n",
              "  margin-bottom: 0;\n",
              "  padding: 0.5em;\n",
              "  box-sizing: border-box;\n",
              "  text-align: center;\n",
              "  align-items: start;\n",
              "  justify-content: space-between;\n",
              "  gap: 0.5em;\n",
              "}\n",
              "\n",
              "#sk-container-id-18 label.sk-toggleable__label .caption {\n",
              "  font-size: 0.6rem;\n",
              "  font-weight: lighter;\n",
              "  color: var(--sklearn-color-text-muted);\n",
              "}\n",
              "\n",
              "#sk-container-id-18 label.sk-toggleable__label-arrow:before {\n",
              "  /* Arrow on the left of the label */\n",
              "  content: \"▸\";\n",
              "  float: left;\n",
              "  margin-right: 0.25em;\n",
              "  color: var(--sklearn-color-icon);\n",
              "}\n",
              "\n",
              "#sk-container-id-18 label.sk-toggleable__label-arrow:hover:before {\n",
              "  color: var(--sklearn-color-text);\n",
              "}\n",
              "\n",
              "/* Toggleable content - dropdown */\n",
              "\n",
              "#sk-container-id-18 div.sk-toggleable__content {\n",
              "  max-height: 0;\n",
              "  max-width: 0;\n",
              "  overflow: hidden;\n",
              "  text-align: left;\n",
              "  /* unfitted */\n",
              "  background-color: var(--sklearn-color-unfitted-level-0);\n",
              "}\n",
              "\n",
              "#sk-container-id-18 div.sk-toggleable__content.fitted {\n",
              "  /* fitted */\n",
              "  background-color: var(--sklearn-color-fitted-level-0);\n",
              "}\n",
              "\n",
              "#sk-container-id-18 div.sk-toggleable__content pre {\n",
              "  margin: 0.2em;\n",
              "  border-radius: 0.25em;\n",
              "  color: var(--sklearn-color-text);\n",
              "  /* unfitted */\n",
              "  background-color: var(--sklearn-color-unfitted-level-0);\n",
              "}\n",
              "\n",
              "#sk-container-id-18 div.sk-toggleable__content.fitted pre {\n",
              "  /* unfitted */\n",
              "  background-color: var(--sklearn-color-fitted-level-0);\n",
              "}\n",
              "\n",
              "#sk-container-id-18 input.sk-toggleable__control:checked~div.sk-toggleable__content {\n",
              "  /* Expand drop-down */\n",
              "  max-height: 200px;\n",
              "  max-width: 100%;\n",
              "  overflow: auto;\n",
              "}\n",
              "\n",
              "#sk-container-id-18 input.sk-toggleable__control:checked~label.sk-toggleable__label-arrow:before {\n",
              "  content: \"▾\";\n",
              "}\n",
              "\n",
              "/* Pipeline/ColumnTransformer-specific style */\n",
              "\n",
              "#sk-container-id-18 div.sk-label input.sk-toggleable__control:checked~label.sk-toggleable__label {\n",
              "  color: var(--sklearn-color-text);\n",
              "  background-color: var(--sklearn-color-unfitted-level-2);\n",
              "}\n",
              "\n",
              "#sk-container-id-18 div.sk-label.fitted input.sk-toggleable__control:checked~label.sk-toggleable__label {\n",
              "  background-color: var(--sklearn-color-fitted-level-2);\n",
              "}\n",
              "\n",
              "/* Estimator-specific style */\n",
              "\n",
              "/* Colorize estimator box */\n",
              "#sk-container-id-18 div.sk-estimator input.sk-toggleable__control:checked~label.sk-toggleable__label {\n",
              "  /* unfitted */\n",
              "  background-color: var(--sklearn-color-unfitted-level-2);\n",
              "}\n",
              "\n",
              "#sk-container-id-18 div.sk-estimator.fitted input.sk-toggleable__control:checked~label.sk-toggleable__label {\n",
              "  /* fitted */\n",
              "  background-color: var(--sklearn-color-fitted-level-2);\n",
              "}\n",
              "\n",
              "#sk-container-id-18 div.sk-label label.sk-toggleable__label,\n",
              "#sk-container-id-18 div.sk-label label {\n",
              "  /* The background is the default theme color */\n",
              "  color: var(--sklearn-color-text-on-default-background);\n",
              "}\n",
              "\n",
              "/* On hover, darken the color of the background */\n",
              "#sk-container-id-18 div.sk-label:hover label.sk-toggleable__label {\n",
              "  color: var(--sklearn-color-text);\n",
              "  background-color: var(--sklearn-color-unfitted-level-2);\n",
              "}\n",
              "\n",
              "/* Label box, darken color on hover, fitted */\n",
              "#sk-container-id-18 div.sk-label.fitted:hover label.sk-toggleable__label.fitted {\n",
              "  color: var(--sklearn-color-text);\n",
              "  background-color: var(--sklearn-color-fitted-level-2);\n",
              "}\n",
              "\n",
              "/* Estimator label */\n",
              "\n",
              "#sk-container-id-18 div.sk-label label {\n",
              "  font-family: monospace;\n",
              "  font-weight: bold;\n",
              "  display: inline-block;\n",
              "  line-height: 1.2em;\n",
              "}\n",
              "\n",
              "#sk-container-id-18 div.sk-label-container {\n",
              "  text-align: center;\n",
              "}\n",
              "\n",
              "/* Estimator-specific */\n",
              "#sk-container-id-18 div.sk-estimator {\n",
              "  font-family: monospace;\n",
              "  border: 1px dotted var(--sklearn-color-border-box);\n",
              "  border-radius: 0.25em;\n",
              "  box-sizing: border-box;\n",
              "  margin-bottom: 0.5em;\n",
              "  /* unfitted */\n",
              "  background-color: var(--sklearn-color-unfitted-level-0);\n",
              "}\n",
              "\n",
              "#sk-container-id-18 div.sk-estimator.fitted {\n",
              "  /* fitted */\n",
              "  background-color: var(--sklearn-color-fitted-level-0);\n",
              "}\n",
              "\n",
              "/* on hover */\n",
              "#sk-container-id-18 div.sk-estimator:hover {\n",
              "  /* unfitted */\n",
              "  background-color: var(--sklearn-color-unfitted-level-2);\n",
              "}\n",
              "\n",
              "#sk-container-id-18 div.sk-estimator.fitted:hover {\n",
              "  /* fitted */\n",
              "  background-color: var(--sklearn-color-fitted-level-2);\n",
              "}\n",
              "\n",
              "/* Specification for estimator info (e.g. \"i\" and \"?\") */\n",
              "\n",
              "/* Common style for \"i\" and \"?\" */\n",
              "\n",
              ".sk-estimator-doc-link,\n",
              "a:link.sk-estimator-doc-link,\n",
              "a:visited.sk-estimator-doc-link {\n",
              "  float: right;\n",
              "  font-size: smaller;\n",
              "  line-height: 1em;\n",
              "  font-family: monospace;\n",
              "  background-color: var(--sklearn-color-background);\n",
              "  border-radius: 1em;\n",
              "  height: 1em;\n",
              "  width: 1em;\n",
              "  text-decoration: none !important;\n",
              "  margin-left: 0.5em;\n",
              "  text-align: center;\n",
              "  /* unfitted */\n",
              "  border: var(--sklearn-color-unfitted-level-1) 1pt solid;\n",
              "  color: var(--sklearn-color-unfitted-level-1);\n",
              "}\n",
              "\n",
              ".sk-estimator-doc-link.fitted,\n",
              "a:link.sk-estimator-doc-link.fitted,\n",
              "a:visited.sk-estimator-doc-link.fitted {\n",
              "  /* fitted */\n",
              "  border: var(--sklearn-color-fitted-level-1) 1pt solid;\n",
              "  color: var(--sklearn-color-fitted-level-1);\n",
              "}\n",
              "\n",
              "/* On hover */\n",
              "div.sk-estimator:hover .sk-estimator-doc-link:hover,\n",
              ".sk-estimator-doc-link:hover,\n",
              "div.sk-label-container:hover .sk-estimator-doc-link:hover,\n",
              ".sk-estimator-doc-link:hover {\n",
              "  /* unfitted */\n",
              "  background-color: var(--sklearn-color-unfitted-level-3);\n",
              "  color: var(--sklearn-color-background);\n",
              "  text-decoration: none;\n",
              "}\n",
              "\n",
              "div.sk-estimator.fitted:hover .sk-estimator-doc-link.fitted:hover,\n",
              ".sk-estimator-doc-link.fitted:hover,\n",
              "div.sk-label-container:hover .sk-estimator-doc-link.fitted:hover,\n",
              ".sk-estimator-doc-link.fitted:hover {\n",
              "  /* fitted */\n",
              "  background-color: var(--sklearn-color-fitted-level-3);\n",
              "  color: var(--sklearn-color-background);\n",
              "  text-decoration: none;\n",
              "}\n",
              "\n",
              "/* Span, style for the box shown on hovering the info icon */\n",
              ".sk-estimator-doc-link span {\n",
              "  display: none;\n",
              "  z-index: 9999;\n",
              "  position: relative;\n",
              "  font-weight: normal;\n",
              "  right: .2ex;\n",
              "  padding: .5ex;\n",
              "  margin: .5ex;\n",
              "  width: min-content;\n",
              "  min-width: 20ex;\n",
              "  max-width: 50ex;\n",
              "  color: var(--sklearn-color-text);\n",
              "  box-shadow: 2pt 2pt 4pt #999;\n",
              "  /* unfitted */\n",
              "  background: var(--sklearn-color-unfitted-level-0);\n",
              "  border: .5pt solid var(--sklearn-color-unfitted-level-3);\n",
              "}\n",
              "\n",
              ".sk-estimator-doc-link.fitted span {\n",
              "  /* fitted */\n",
              "  background: var(--sklearn-color-fitted-level-0);\n",
              "  border: var(--sklearn-color-fitted-level-3);\n",
              "}\n",
              "\n",
              ".sk-estimator-doc-link:hover span {\n",
              "  display: block;\n",
              "}\n",
              "\n",
              "/* \"?\"-specific style due to the `<a>` HTML tag */\n",
              "\n",
              "#sk-container-id-18 a.estimator_doc_link {\n",
              "  float: right;\n",
              "  font-size: 1rem;\n",
              "  line-height: 1em;\n",
              "  font-family: monospace;\n",
              "  background-color: var(--sklearn-color-background);\n",
              "  border-radius: 1rem;\n",
              "  height: 1rem;\n",
              "  width: 1rem;\n",
              "  text-decoration: none;\n",
              "  /* unfitted */\n",
              "  color: var(--sklearn-color-unfitted-level-1);\n",
              "  border: var(--sklearn-color-unfitted-level-1) 1pt solid;\n",
              "}\n",
              "\n",
              "#sk-container-id-18 a.estimator_doc_link.fitted {\n",
              "  /* fitted */\n",
              "  border: var(--sklearn-color-fitted-level-1) 1pt solid;\n",
              "  color: var(--sklearn-color-fitted-level-1);\n",
              "}\n",
              "\n",
              "/* On hover */\n",
              "#sk-container-id-18 a.estimator_doc_link:hover {\n",
              "  /* unfitted */\n",
              "  background-color: var(--sklearn-color-unfitted-level-3);\n",
              "  color: var(--sklearn-color-background);\n",
              "  text-decoration: none;\n",
              "}\n",
              "\n",
              "#sk-container-id-18 a.estimator_doc_link.fitted:hover {\n",
              "  /* fitted */\n",
              "  background-color: var(--sklearn-color-fitted-level-3);\n",
              "}\n",
              "</style><div id=\"sk-container-id-18\" class=\"sk-top-container\"><div class=\"sk-text-repr-fallback\"><pre>KNeighborsRegressor(n_neighbors=20)</pre><b>In a Jupyter environment, please rerun this cell to show the HTML representation or trust the notebook. <br />On GitHub, the HTML representation is unable to render, please try loading this page with nbviewer.org.</b></div><div class=\"sk-container\" hidden><div class=\"sk-item\"><div class=\"sk-estimator fitted sk-toggleable\"><input class=\"sk-toggleable__control sk-hidden--visually\" id=\"sk-estimator-id-18\" type=\"checkbox\" checked><label for=\"sk-estimator-id-18\" class=\"sk-toggleable__label fitted sk-toggleable__label-arrow\"><div><div>KNeighborsRegressor</div></div><div><a class=\"sk-estimator-doc-link fitted\" rel=\"noreferrer\" target=\"_blank\" href=\"https://scikit-learn.org/1.6/modules/generated/sklearn.neighbors.KNeighborsRegressor.html\">?<span>Documentation for KNeighborsRegressor</span></a><span class=\"sk-estimator-doc-link fitted\">i<span>Fitted</span></span></div></label><div class=\"sk-toggleable__content fitted\"><pre>KNeighborsRegressor(n_neighbors=20)</pre></div> </div></div></div></div>"
            ]
          },
          "metadata": {},
          "execution_count": 1303
        }
      ]
    },
    {
      "cell_type": "markdown",
      "source": [
        "TEST MSE"
      ],
      "metadata": {
        "id": "9s2BVz9vYREx"
      }
    },
    {
      "cell_type": "code",
      "source": [
        "y_pred = knn.predict(X_test)\n",
        "print(mean_squared_error(y_test, y_pred))"
      ],
      "metadata": {
        "id": "_cY81x5lYNpg",
        "outputId": "b18a5717-c212-4ec5-c49a-2baf7df23724",
        "colab": {
          "base_uri": "https://localhost:8080/"
        }
      },
      "execution_count": 1304,
      "outputs": [
        {
          "output_type": "stream",
          "name": "stdout",
          "text": [
            "0.0007311112332313329\n"
          ]
        }
      ]
    },
    {
      "cell_type": "markdown",
      "source": [
        "TRAIN MSE"
      ],
      "metadata": {
        "id": "Cfr3lK1mYS0X"
      }
    },
    {
      "cell_type": "code",
      "source": [
        "y_train_pred = knn.predict(X_train)\n",
        "print(mean_squared_error(y_train, y_train_pred))"
      ],
      "metadata": {
        "id": "368aIP29YO1p",
        "outputId": "4f3731dc-1e8c-4460-b1db-7d888f54a63b",
        "colab": {
          "base_uri": "https://localhost:8080/"
        }
      },
      "execution_count": 1305,
      "outputs": [
        {
          "output_type": "stream",
          "name": "stdout",
          "text": [
            "0.0006630795133287507\n"
          ]
        }
      ]
    },
    {
      "cell_type": "markdown",
      "source": [],
      "metadata": {
        "id": "9SI8fpB7wSsh"
      }
    },
    {
      "cell_type": "markdown",
      "source": [
        "## **Neural Networks**\n",
        "\n",
        "This section trains a **Neural Network** (**NN**) **for regression** to predict **Total Income** (**TOINC**). The model is designed to handle **non-linear relationship**s in the data and is evaluated to ensure it is **neither overfitting nor underfitting**."
      ],
      "metadata": {
        "id": "E9p3aaZHadP6"
      }
    },
    {
      "cell_type": "markdown",
      "source": [
        "To improve performance, the model consists of **three hidden layers** (128, 64, and 32 neurons) with **ReLU activation**. A **Dropout layer** (**0.2**) is added to prevent overfitting."
      ],
      "metadata": {
        "id": "clMUF0x0PqYw"
      }
    },
    {
      "cell_type": "code",
      "source": [
        "model = Sequential([\n",
        "    Dense(128, input_shape=(X_train.shape[1],)),\n",
        "    BatchNormalization(),\n",
        "    Activation(\"relu\"),\n",
        "    Dropout(0.2),\n",
        "\n",
        "    Dense(64),\n",
        "    BatchNormalization(),\n",
        "    Activation(\"relu\"),\n",
        "    Dropout(0.2),\n",
        "\n",
        "    Dense(32),\n",
        "    BatchNormalization(),\n",
        "    Activation(\"relu\"),\n",
        "    Dropout(0.2),\n",
        "\n",
        "    Dense(16),\n",
        "    BatchNormalization(),\n",
        "    Activation(\"relu\"),\n",
        "\n",
        "    Dense(1, activation=\"linear\")\n",
        "])"
      ],
      "metadata": {
        "collapsed": true,
        "id": "DqWWDn9IOdYL",
        "outputId": "fac93d22-b923-4f9f-a17d-fbc704d9239d",
        "colab": {
          "base_uri": "https://localhost:8080/"
        }
      },
      "execution_count": 1306,
      "outputs": [
        {
          "output_type": "stream",
          "name": "stderr",
          "text": [
            "/usr/local/lib/python3.11/dist-packages/keras/src/layers/core/dense.py:87: UserWarning: Do not pass an `input_shape`/`input_dim` argument to a layer. When using Sequential models, prefer using an `Input(shape)` object as the first layer in the model instead.\n",
            "  super().__init__(activity_regularizer=activity_regularizer, **kwargs)\n"
          ]
        }
      ]
    },
    {
      "cell_type": "markdown",
      "source": [
        "Then we use the **Adam optimizer** with a **lower learning rate** (**0.005**) to improve stability and generalization. The **loss function** is **Mean Squared Error** (**MSE**), and **Mean Absolute Error** (**MAE**) is used to track performance."
      ],
      "metadata": {
        "id": "xhJtYMyEQ3W9"
      }
    },
    {
      "cell_type": "code",
      "source": [
        "model.compile(\n",
        "    optimizer=Adam(learning_rate=0.001),\n",
        "    loss=\"mse\",\n",
        "    metrics=[\"mae\"]\n",
        ")"
      ],
      "metadata": {
        "id": "tONj9927Q4wz"
      },
      "execution_count": 1307,
      "outputs": []
    },
    {
      "cell_type": "markdown",
      "source": [
        "The model is configured to optimize learning with reduced sensitivity to fluctuations."
      ],
      "metadata": {
        "id": "8euFPpmmSiRS"
      }
    },
    {
      "cell_type": "markdown",
      "source": [
        "The model is trained for 50 epochs, avoiding unnecessary computations while maintaining performance. (This might take a while. Batch size = 8 leads to longer training time but more stable results. For faster training, we can try batch size = 16 and compare MAE. )"
      ],
      "metadata": {
        "id": "siOKNLjRRPkw"
      }
    },
    {
      "cell_type": "code",
      "source": [
        "history = model.fit(\n",
        "    X_train_scaled, y_train,\n",
        "    epochs=100,\n",
        "    batch_size=16,\n",
        "    validation_data=(X_test_scaled, y_test),\n",
        "    callbacks=[early_stopping, reduce_lr],\n",
        "    verbose=1\n",
        ")"
      ],
      "metadata": {
        "collapsed": true,
        "id": "PBw7Qp4lRUM6",
        "outputId": "07fa48a0-d25d-4b80-cb4f-31d109c45cc5",
        "colab": {
          "base_uri": "https://localhost:8080/"
        }
      },
      "execution_count": null,
      "outputs": [
        {
          "output_type": "stream",
          "name": "stdout",
          "text": [
            "Epoch 1/100\n",
            "\u001b[1m2009/2009\u001b[0m \u001b[32m━━━━━━━━━━━━━━━━━━━━\u001b[0m\u001b[37m\u001b[0m \u001b[1m13s\u001b[0m 4ms/step - loss: 0.7351 - mae: 0.5710 - val_loss: 0.0078 - val_mae: 0.0616 - learning_rate: 0.0010\n",
            "Epoch 2/100\n",
            "\u001b[1m2009/2009\u001b[0m \u001b[32m━━━━━━━━━━━━━━━━━━━━\u001b[0m\u001b[37m\u001b[0m \u001b[1m8s\u001b[0m 4ms/step - loss: 0.0256 - mae: 0.1241 - val_loss: 0.0028 - val_mae: 0.0356 - learning_rate: 0.0010\n",
            "Epoch 3/100\n",
            "\u001b[1m2009/2009\u001b[0m \u001b[32m━━━━━━━━━━━━━━━━━━━━\u001b[0m\u001b[37m\u001b[0m \u001b[1m10s\u001b[0m 4ms/step - loss: 0.0100 - mae: 0.0781 - val_loss: 0.0018 - val_mae: 0.0310 - learning_rate: 0.0010\n",
            "Epoch 4/100\n",
            "\u001b[1m2009/2009\u001b[0m \u001b[32m━━━━━━━━━━━━━━━━━━━━\u001b[0m\u001b[37m\u001b[0m \u001b[1m9s\u001b[0m 4ms/step - loss: 0.0052 - mae: 0.0561 - val_loss: 0.0012 - val_mae: 0.0266 - learning_rate: 0.0010\n",
            "Epoch 5/100\n",
            "\u001b[1m 536/2009\u001b[0m \u001b[32m━━━━━\u001b[0m\u001b[37m━━━━━━━━━━━━━━━\u001b[0m \u001b[1m4s\u001b[0m 3ms/step - loss: 0.0033 - mae: 0.0444"
          ]
        }
      ]
    },
    {
      "cell_type": "markdown",
      "source": [
        "After training, the model has learned patterns in the training data while monitoring performance on validation data."
      ],
      "metadata": {
        "id": "2caWJ8u8RaAA"
      }
    },
    {
      "cell_type": "markdown",
      "source": [
        "The trained model is then tested on unseen data to measure **Mean Absolute Error** (**MAE**) and overall **loss** (**MSE**)."
      ],
      "metadata": {
        "id": "JeVJgQ3KXF51"
      }
    },
    {
      "cell_type": "code",
      "source": [
        "test_loss, test_mae = model.evaluate(X_test_scaled, y_test, verbose=0)\n",
        "print(f\"Test MAE: {test_mae}\")"
      ],
      "metadata": {
        "id": "NBBjg_SRRZfc"
      },
      "execution_count": null,
      "outputs": []
    },
    {
      "cell_type": "markdown",
      "source": [
        "A low MAE indicates that the model’s predictions are close to actual values. If MAE is too high, further tuning may be needed."
      ],
      "metadata": {
        "id": "Zabv1G0hXYl3"
      }
    },
    {
      "cell_type": "markdown",
      "source": [
        "To ensure proper generalization, we **plot the loss curves** for both training and validation data."
      ],
      "metadata": {
        "id": "v-bYbDt4RoXK"
      }
    },
    {
      "cell_type": "code",
      "source": [
        "plt.figure(figsize=(8,6))\n",
        "plt.plot(history.history[\"loss\"], label=\"Training Loss\")\n",
        "plt.plot(history.history[\"val_loss\"], label=\"Validation Loss\")\n",
        "plt.xlabel(\"Epochs\")\n",
        "plt.ylabel(\"Loss (MSE)\")\n",
        "plt.title(\"Training vs. Validation Loss (MSE)\")\n",
        "plt.legend()\n",
        "plt.show()"
      ],
      "metadata": {
        "id": "ox1fBzV0XhqB"
      },
      "execution_count": null,
      "outputs": []
    },
    {
      "cell_type": "markdown",
      "source": [
        "We then compare the model’s predictions with actual values from the test dataset."
      ],
      "metadata": {
        "id": "JbSZKHCEXsWO"
      }
    },
    {
      "cell_type": "code",
      "source": [
        "y_pred = model.predict(X_test_scaled)\n",
        "\n",
        "results = pd.DataFrame({\"Actual\": y_test[:5].values, \"Predicted\": y_pred[:5].flatten()})\n",
        "print(results)"
      ],
      "metadata": {
        "id": "OxNDuHc7Xu68"
      },
      "execution_count": null,
      "outputs": []
    }
  ],
  "metadata": {
    "kernelspec": {
      "display_name": "Python 3",
      "language": "python",
      "name": "python3"
    },
    "language_info": {
      "codemirror_mode": {
        "name": "ipython",
        "version": 3
      },
      "file_extension": ".py",
      "mimetype": "text/x-python",
      "name": "python",
      "nbconvert_exporter": "python",
      "pygments_lexer": "ipython3",
      "version": "3.11.9"
    },
    "colab": {
      "provenance": [],
      "include_colab_link": true
    }
  },
  "nbformat": 4,
  "nbformat_minor": 0
}