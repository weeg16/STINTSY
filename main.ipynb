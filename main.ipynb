{
  "cells": [
    {
      "cell_type": "markdown",
      "metadata": {
        "id": "view-in-github",
        "colab_type": "text"
      },
      "source": [
        "<a href=\"https://colab.research.google.com/github/weeg16/STINTSY/blob/main/main.ipynb\" target=\"_parent\"><img src=\"https://colab.research.google.com/assets/colab-badge.svg\" alt=\"Open In Colab\"/></a>"
      ]
    },
    {
      "cell_type": "markdown",
      "metadata": {
        "id": "Rhd44EMwuDVO"
      },
      "source": [
        "# **STINTSY Machine Project**"
      ]
    },
    {
      "cell_type": "markdown",
      "source": [
        "<font face=\"Comic Sans MS\" size=7 color='#d39aed'>??????????????????<font>"
      ],
      "metadata": {
        "id": "wSWyx5iF_edA"
      }
    },
    {
      "cell_type": "markdown",
      "metadata": {
        "id": "ZzlG6D0NuDVP"
      },
      "source": [
        "## *Group # - S16*\n",
        "- **Ang, Danielle Faith**\n",
        "- **De Los Santos, Hanna Angela**\n",
        "- **Robles, Luis Miguel**\n",
        "- **Sarreal, Sophia Althea**"
      ]
    },
    {
      "cell_type": "markdown",
      "source": [
        "# **Section 1. Introduction to the problem / task and dataset**"
      ],
      "metadata": {
        "id": "Z_zv3hPVIj9U"
      }
    },
    {
      "cell_type": "markdown",
      "source": [
        "[ explanation here ]"
      ],
      "metadata": {
        "id": "X13oOuDPJ3O3"
      }
    },
    {
      "cell_type": "markdown",
      "source": [
        "# **Section 2. Description of the dataset**"
      ],
      "metadata": {
        "id": "9yJN8XTxIuAx"
      }
    },
    {
      "cell_type": "markdown",
      "source": [
        "### 📌 Dataset Overview\n",
        "\n",
        "This project uses the **Family Income and Expenditure Survey (FIES) 2012, Volume 1**, a public-use dataset published by the **Philippine Statistics Authority (PSA)**. It contains household-level socioeconomic data, including income from various sources, expenditures across categories, and demographic information.\n",
        "\n",
        "The dataset supports research on living conditions, income inequality, and poverty assessment in the Philippines.\n",
        "\n",
        "---\n",
        "\n",
        "### 🧾 Data Collection Process\n",
        "\n",
        "The FIES was conducted by the PSA using a **two-stage stratified sampling design**, covering both urban and rural households across the country. Respondents were interviewed using standardized questionnaires.\n",
        "\n",
        "While the survey aims for national and regional representation, insights drawn from the data may be limited by **self-reporting biases**, **recall errors**, or **non-response from certain demographic groups**. These limitations should be considered when interpreting results.\n",
        "\n",
        "---\n",
        "\n",
        "### 📊 Dataset Structure\n",
        "\n",
        "- **Filename:** `FIES PUF 2012 Vol.1.CSV`\n",
        "- **Number of rows (instances):** 40,171\n",
        "- **Number of columns (features):** 119\n",
        "- Each **row** represents one household.\n",
        "- Each **column** represents a household-level attribute, such as income, expenditure, or demographic information.\n",
        "\n",
        "---\n",
        "\n",
        "### 📋 Feature Descriptions (Selected)\n",
        "\n",
        "Below is a description of selected features used in our analysis:\n",
        "\n",
        "| Feature Name     | Description |\n",
        "|------------------|-------------|\n",
        "| `TOINC`          | Total household income from all sources |\n",
        "| `WAGES`          | Total wages and salaries from employment (agri and non-agri) |\n",
        "| `EAINC`          | Income from entrepreneurial activities |\n",
        "| `T_FOOD`         | Total food-related expenditures |\n",
        "| `T_TRANSPORT`    | Total transportation expenses |\n",
        "| `HGC`            | Highest grade completed by head of household |\n",
        "| `AGE`            | Age of the household head |\n",
        "| `URB`            | Urban or rural classification (0 = Rural, 1 = Urban) |\n",
        "| `PCINC`          | Per capita income of the household |\n",
        "| `FSIZE`          | Number of household members |\n",
        "\n",
        "We focus only on features relevant to our predictive task, but all features were reviewed and interpreted using the official FIES 2012 data dictionary.\n",
        "\n"
      ],
      "metadata": {
        "id": "9SiTawHbIzR4"
      }
    },
    {
      "cell_type": "markdown",
      "source": [
        "# **Section 3. List of requirements**"
      ],
      "metadata": {
        "id": "82CGO-DXJIXh"
      }
    },
    {
      "cell_type": "markdown",
      "metadata": {
        "id": "OMjIXNBVuDVP"
      },
      "source": [
        "## **Import Libraries**"
      ]
    },
    {
      "cell_type": "code",
      "execution_count": 1,
      "metadata": {
        "id": "WB_1zi_DuDVP"
      },
      "outputs": [],
      "source": [
        "import pandas as pd\n",
        "import numpy as np\n",
        "import matplotlib.pyplot as plt\n",
        "import seaborn as sns\n",
        "from sklearn.preprocessing import StandardScaler, PowerTransformer\n",
        "from sklearn.model_selection import train_test_split, learning_curve, KFold\n",
        "from sklearn.neighbors import KNeighborsRegressor\n",
        "from sklearn.metrics import mean_squared_error, mean_absolute_error\n",
        "from scipy.stats import skew\n",
        "from scipy.stats.mstats import winsorize\n",
        "from sklearn.feature_selection import SelectKBest, f_regression, mutual_info_regression # may remove\n",
        "from sklearn.impute import SimpleImputer\n",
        "from sklearn.linear_model import LinearRegression, Lasso, LassoCV, Ridge\n",
        "from statsmodels.stats.outliers_influence import variance_inflation_factor\n",
        "from sklearn.feature_selection import RFE # may use insead of selectKbest\n",
        "from sklearn.decomposition import PCA\n",
        "\n",
        "# for neural networks\n",
        "\n",
        "import tensorflow as tf\n",
        "from tensorflow import keras\n",
        "from keras.losses import Huber\n",
        "from sklearn.metrics import r2_score\n",
        "from tensorflow.keras.models import Sequential\n",
        "from tensorflow.keras.layers import Dense, Dropout, BatchNormalization, Activation\n",
        "from tensorflow.keras.optimizers import Adam\n",
        "from tensorflow.keras.callbacks import EarlyStopping, ReduceLROnPlateau"
      ]
    },
    {
      "cell_type": "markdown",
      "source": [
        "### Below is the list of Python libraries and modules used in this project:\n",
        "\n",
        "#### 📦 Data Manipulation\n",
        "- `pandas` – for loading, cleaning, and manipulating data\n",
        "- `numpy` – for numerical operations and array handling\n",
        "\n",
        "#### 📊 Data Visualization\n",
        "- `matplotlib.pyplot` – for creating static visualizations\n",
        "- `seaborn` – for statistical visualizations and enhanced plots\n",
        "\n",
        "#### ⚙️ Data Preprocessing and Feature Engineering\n",
        "- `sklearn.preprocessing.StandardScaler` – for standardizing feature values\n",
        "- `sklearn.preprocessing.PowerTransformer` – for normalizing skewed distributions\n",
        "- `sklearn.impute.SimpleImputer` – for handling missing data\n",
        "- `scipy.stats.skew` – for computing skewness\n",
        "- `scipy.stats.mstats.winsorize` – for limiting extreme values (winsorization)\n",
        "\n",
        "#### 🔍 Feature Selection and Dimensionality Reduction\n",
        "- `sklearn.feature_selection.SelectKBest` – for selecting top features (based on statistical scores)\n",
        "- `sklearn.feature_selection.f_regression`, `mutual_info_regression` – scoring functions for `SelectKBest`\n",
        "- `sklearn.feature_selection.RFE` – Recursive Feature Elimination for feature ranking\n",
        "- `sklearn.decomposition.PCA` – Principal Component Analysis for dimensionality reduction\n",
        "\n",
        "#### 🧠 Model Training and Evaluation\n",
        "- `sklearn.model_selection.train_test_split` – for splitting data into training and test sets\n",
        "- `sklearn.model_selection.learning_curve` – for generating learning curves\n",
        "- `sklearn.model_selection.KFold` – for k-fold cross-validation\n",
        "- `sklearn.neighbors.KNeighborsRegressor` – KNN model for regression tasks\n",
        "- `sklearn.linear_model.LinearRegression`, `Lasso`, `LassoCV`, `Ridge` – linear models with and without regularization\n",
        "- `sklearn.metrics.mean_squared_error`, `mean_absolute_error` – for evaluating model performance\n",
        "- `statsmodels.stats.outliers_influence.variance_inflation_factor` – for detecting multicollinearity\n",
        "\n",
        "#### 🤖 Neural Network Models (TensorFlow & Keras)\n",
        "- `tensorflow` – for building and training neural networks\n",
        "- `tensorflow.keras.models.Sequential` – for creating a sequential neural network model\n",
        "- `tensorflow.keras.layers.Dense`, `Dropout`, `BatchNormalization`, `Activation` – neural network layers and functions\n",
        "- `tensorflow.keras.optimizers.Adam` – optimizer used for training neural networks\n",
        "- `tensorflow.keras.callbacks.EarlyStopping`, `ReduceLROnPlateau` – callbacks for controlling overfitting and learning rate\n",
        "\n"
      ],
      "metadata": {
        "id": "X95JGvWtJWfH"
      }
    },
    {
      "cell_type": "markdown",
      "source": [
        "# **Section 4. Data preprocessing and cleaning**"
      ],
      "metadata": {
        "id": "X3wBS0fUJdoy"
      }
    },
    {
      "cell_type": "markdown",
      "source": [
        "### Reading the Dataset"
      ],
      "metadata": {
        "id": "-VAds94VI6Do"
      }
    },
    {
      "cell_type": "code",
      "source": [
        "fies_df = pd.read_csv('FIES PUF 2012 Vol.1.CSV')"
      ],
      "metadata": {
        "id": "saOsPIkQI-NJ"
      },
      "execution_count": 2,
      "outputs": []
    },
    {
      "cell_type": "markdown",
      "metadata": {
        "id": "Pi-eeDrzuDVQ"
      },
      "source": [
        "## **Cleaning the Dataset**\n",
        "\n",
        "### We begin by displaying the first few rows of the dataset using `.head()` to understand the structure and types of data available. We also use `.info()` to check the number of entries, data types, and identify potential non-numeric columns or columns with missing values."
      ]
    },
    {
      "cell_type": "code",
      "execution_count": 3,
      "metadata": {
        "id": "CWYBJBrKuDVR",
        "colab": {
          "base_uri": "https://localhost:8080/",
          "height": 0
        },
        "outputId": "056466b1-fc57-435d-c417-99d2a1108202"
      },
      "outputs": [
        {
          "output_type": "display_data",
          "data": {
            "text/plain": [
              "   W_REGN      W_OID  W_SHSN  W_HCN  URB   RSTR     PSU  BWEIGHT     RFACT  \\\n",
              "0      14  101001000       2     25    2  21100  415052   138.25  200.6576   \n",
              "1      14  101001000       3     43    2  21100  415052   138.25  200.6576   \n",
              "2      14  101001000       4     62    2  21100  415052   138.25  200.6576   \n",
              "3      14  101001000       5     79    2  21100  415052   138.25  200.6576   \n",
              "4      14  101001000      10    165    2  21100  415052   138.25  200.6576   \n",
              "\n",
              "   FSIZE  ...  PC_QTY  OVEN_QTY  MOTOR_BANCA_QTY  MOTORCYCLE_QTY   POP_ADJ  \\\n",
              "0    3.0  ...      01        01                                   0.946172   \n",
              "1   12.5  ...                01                               01  0.946172   \n",
              "2    2.0  ...                01                                   0.946172   \n",
              "3    4.0  ...                01                                   0.946172   \n",
              "4    5.0  ...                                                 01  0.946172   \n",
              "\n",
              "       PCINC  NATPC  NATDC  REGDC  REGPC  \n",
              "0  108417.00      9      8      8      9  \n",
              "1   30631.60      5      9      9      4  \n",
              "2   86992.50      9      6      6      8  \n",
              "3   43325.75      6      6      6      6  \n",
              "4   37481.80      6      6      6      5  \n",
              "\n",
              "[5 rows x 119 columns]"
            ],
            "text/html": [
              "\n",
              "  <div id=\"df-d7a3484c-e97e-4315-947f-917b854259ed\" class=\"colab-df-container\">\n",
              "    <div>\n",
              "<style scoped>\n",
              "    .dataframe tbody tr th:only-of-type {\n",
              "        vertical-align: middle;\n",
              "    }\n",
              "\n",
              "    .dataframe tbody tr th {\n",
              "        vertical-align: top;\n",
              "    }\n",
              "\n",
              "    .dataframe thead th {\n",
              "        text-align: right;\n",
              "    }\n",
              "</style>\n",
              "<table border=\"1\" class=\"dataframe\">\n",
              "  <thead>\n",
              "    <tr style=\"text-align: right;\">\n",
              "      <th></th>\n",
              "      <th>W_REGN</th>\n",
              "      <th>W_OID</th>\n",
              "      <th>W_SHSN</th>\n",
              "      <th>W_HCN</th>\n",
              "      <th>URB</th>\n",
              "      <th>RSTR</th>\n",
              "      <th>PSU</th>\n",
              "      <th>BWEIGHT</th>\n",
              "      <th>RFACT</th>\n",
              "      <th>FSIZE</th>\n",
              "      <th>...</th>\n",
              "      <th>PC_QTY</th>\n",
              "      <th>OVEN_QTY</th>\n",
              "      <th>MOTOR_BANCA_QTY</th>\n",
              "      <th>MOTORCYCLE_QTY</th>\n",
              "      <th>POP_ADJ</th>\n",
              "      <th>PCINC</th>\n",
              "      <th>NATPC</th>\n",
              "      <th>NATDC</th>\n",
              "      <th>REGDC</th>\n",
              "      <th>REGPC</th>\n",
              "    </tr>\n",
              "  </thead>\n",
              "  <tbody>\n",
              "    <tr>\n",
              "      <th>0</th>\n",
              "      <td>14</td>\n",
              "      <td>101001000</td>\n",
              "      <td>2</td>\n",
              "      <td>25</td>\n",
              "      <td>2</td>\n",
              "      <td>21100</td>\n",
              "      <td>415052</td>\n",
              "      <td>138.25</td>\n",
              "      <td>200.6576</td>\n",
              "      <td>3.0</td>\n",
              "      <td>...</td>\n",
              "      <td>01</td>\n",
              "      <td>01</td>\n",
              "      <td></td>\n",
              "      <td></td>\n",
              "      <td>0.946172</td>\n",
              "      <td>108417.00</td>\n",
              "      <td>9</td>\n",
              "      <td>8</td>\n",
              "      <td>8</td>\n",
              "      <td>9</td>\n",
              "    </tr>\n",
              "    <tr>\n",
              "      <th>1</th>\n",
              "      <td>14</td>\n",
              "      <td>101001000</td>\n",
              "      <td>3</td>\n",
              "      <td>43</td>\n",
              "      <td>2</td>\n",
              "      <td>21100</td>\n",
              "      <td>415052</td>\n",
              "      <td>138.25</td>\n",
              "      <td>200.6576</td>\n",
              "      <td>12.5</td>\n",
              "      <td>...</td>\n",
              "      <td></td>\n",
              "      <td>01</td>\n",
              "      <td></td>\n",
              "      <td>01</td>\n",
              "      <td>0.946172</td>\n",
              "      <td>30631.60</td>\n",
              "      <td>5</td>\n",
              "      <td>9</td>\n",
              "      <td>9</td>\n",
              "      <td>4</td>\n",
              "    </tr>\n",
              "    <tr>\n",
              "      <th>2</th>\n",
              "      <td>14</td>\n",
              "      <td>101001000</td>\n",
              "      <td>4</td>\n",
              "      <td>62</td>\n",
              "      <td>2</td>\n",
              "      <td>21100</td>\n",
              "      <td>415052</td>\n",
              "      <td>138.25</td>\n",
              "      <td>200.6576</td>\n",
              "      <td>2.0</td>\n",
              "      <td>...</td>\n",
              "      <td></td>\n",
              "      <td>01</td>\n",
              "      <td></td>\n",
              "      <td></td>\n",
              "      <td>0.946172</td>\n",
              "      <td>86992.50</td>\n",
              "      <td>9</td>\n",
              "      <td>6</td>\n",
              "      <td>6</td>\n",
              "      <td>8</td>\n",
              "    </tr>\n",
              "    <tr>\n",
              "      <th>3</th>\n",
              "      <td>14</td>\n",
              "      <td>101001000</td>\n",
              "      <td>5</td>\n",
              "      <td>79</td>\n",
              "      <td>2</td>\n",
              "      <td>21100</td>\n",
              "      <td>415052</td>\n",
              "      <td>138.25</td>\n",
              "      <td>200.6576</td>\n",
              "      <td>4.0</td>\n",
              "      <td>...</td>\n",
              "      <td></td>\n",
              "      <td>01</td>\n",
              "      <td></td>\n",
              "      <td></td>\n",
              "      <td>0.946172</td>\n",
              "      <td>43325.75</td>\n",
              "      <td>6</td>\n",
              "      <td>6</td>\n",
              "      <td>6</td>\n",
              "      <td>6</td>\n",
              "    </tr>\n",
              "    <tr>\n",
              "      <th>4</th>\n",
              "      <td>14</td>\n",
              "      <td>101001000</td>\n",
              "      <td>10</td>\n",
              "      <td>165</td>\n",
              "      <td>2</td>\n",
              "      <td>21100</td>\n",
              "      <td>415052</td>\n",
              "      <td>138.25</td>\n",
              "      <td>200.6576</td>\n",
              "      <td>5.0</td>\n",
              "      <td>...</td>\n",
              "      <td></td>\n",
              "      <td></td>\n",
              "      <td></td>\n",
              "      <td>01</td>\n",
              "      <td>0.946172</td>\n",
              "      <td>37481.80</td>\n",
              "      <td>6</td>\n",
              "      <td>6</td>\n",
              "      <td>6</td>\n",
              "      <td>5</td>\n",
              "    </tr>\n",
              "  </tbody>\n",
              "</table>\n",
              "<p>5 rows × 119 columns</p>\n",
              "</div>\n",
              "    <div class=\"colab-df-buttons\">\n",
              "\n",
              "  <div class=\"colab-df-container\">\n",
              "    <button class=\"colab-df-convert\" onclick=\"convertToInteractive('df-d7a3484c-e97e-4315-947f-917b854259ed')\"\n",
              "            title=\"Convert this dataframe to an interactive table.\"\n",
              "            style=\"display:none;\">\n",
              "\n",
              "  <svg xmlns=\"http://www.w3.org/2000/svg\" height=\"24px\" viewBox=\"0 -960 960 960\">\n",
              "    <path d=\"M120-120v-720h720v720H120Zm60-500h600v-160H180v160Zm220 220h160v-160H400v160Zm0 220h160v-160H400v160ZM180-400h160v-160H180v160Zm440 0h160v-160H620v160ZM180-180h160v-160H180v160Zm440 0h160v-160H620v160Z\"/>\n",
              "  </svg>\n",
              "    </button>\n",
              "\n",
              "  <style>\n",
              "    .colab-df-container {\n",
              "      display:flex;\n",
              "      gap: 12px;\n",
              "    }\n",
              "\n",
              "    .colab-df-convert {\n",
              "      background-color: #E8F0FE;\n",
              "      border: none;\n",
              "      border-radius: 50%;\n",
              "      cursor: pointer;\n",
              "      display: none;\n",
              "      fill: #1967D2;\n",
              "      height: 32px;\n",
              "      padding: 0 0 0 0;\n",
              "      width: 32px;\n",
              "    }\n",
              "\n",
              "    .colab-df-convert:hover {\n",
              "      background-color: #E2EBFA;\n",
              "      box-shadow: 0px 1px 2px rgba(60, 64, 67, 0.3), 0px 1px 3px 1px rgba(60, 64, 67, 0.15);\n",
              "      fill: #174EA6;\n",
              "    }\n",
              "\n",
              "    .colab-df-buttons div {\n",
              "      margin-bottom: 4px;\n",
              "    }\n",
              "\n",
              "    [theme=dark] .colab-df-convert {\n",
              "      background-color: #3B4455;\n",
              "      fill: #D2E3FC;\n",
              "    }\n",
              "\n",
              "    [theme=dark] .colab-df-convert:hover {\n",
              "      background-color: #434B5C;\n",
              "      box-shadow: 0px 1px 3px 1px rgba(0, 0, 0, 0.15);\n",
              "      filter: drop-shadow(0px 1px 2px rgba(0, 0, 0, 0.3));\n",
              "      fill: #FFFFFF;\n",
              "    }\n",
              "  </style>\n",
              "\n",
              "    <script>\n",
              "      const buttonEl =\n",
              "        document.querySelector('#df-d7a3484c-e97e-4315-947f-917b854259ed button.colab-df-convert');\n",
              "      buttonEl.style.display =\n",
              "        google.colab.kernel.accessAllowed ? 'block' : 'none';\n",
              "\n",
              "      async function convertToInteractive(key) {\n",
              "        const element = document.querySelector('#df-d7a3484c-e97e-4315-947f-917b854259ed');\n",
              "        const dataTable =\n",
              "          await google.colab.kernel.invokeFunction('convertToInteractive',\n",
              "                                                    [key], {});\n",
              "        if (!dataTable) return;\n",
              "\n",
              "        const docLinkHtml = 'Like what you see? Visit the ' +\n",
              "          '<a target=\"_blank\" href=https://colab.research.google.com/notebooks/data_table.ipynb>data table notebook</a>'\n",
              "          + ' to learn more about interactive tables.';\n",
              "        element.innerHTML = '';\n",
              "        dataTable['output_type'] = 'display_data';\n",
              "        await google.colab.output.renderOutput(dataTable, element);\n",
              "        const docLink = document.createElement('div');\n",
              "        docLink.innerHTML = docLinkHtml;\n",
              "        element.appendChild(docLink);\n",
              "      }\n",
              "    </script>\n",
              "  </div>\n",
              "\n",
              "\n",
              "<div id=\"df-df74f9e8-f499-477b-a35f-00f6f9486b34\">\n",
              "  <button class=\"colab-df-quickchart\" onclick=\"quickchart('df-df74f9e8-f499-477b-a35f-00f6f9486b34')\"\n",
              "            title=\"Suggest charts\"\n",
              "            style=\"display:none;\">\n",
              "\n",
              "<svg xmlns=\"http://www.w3.org/2000/svg\" height=\"24px\"viewBox=\"0 0 24 24\"\n",
              "     width=\"24px\">\n",
              "    <g>\n",
              "        <path d=\"M19 3H5c-1.1 0-2 .9-2 2v14c0 1.1.9 2 2 2h14c1.1 0 2-.9 2-2V5c0-1.1-.9-2-2-2zM9 17H7v-7h2v7zm4 0h-2V7h2v10zm4 0h-2v-4h2v4z\"/>\n",
              "    </g>\n",
              "</svg>\n",
              "  </button>\n",
              "\n",
              "<style>\n",
              "  .colab-df-quickchart {\n",
              "      --bg-color: #E8F0FE;\n",
              "      --fill-color: #1967D2;\n",
              "      --hover-bg-color: #E2EBFA;\n",
              "      --hover-fill-color: #174EA6;\n",
              "      --disabled-fill-color: #AAA;\n",
              "      --disabled-bg-color: #DDD;\n",
              "  }\n",
              "\n",
              "  [theme=dark] .colab-df-quickchart {\n",
              "      --bg-color: #3B4455;\n",
              "      --fill-color: #D2E3FC;\n",
              "      --hover-bg-color: #434B5C;\n",
              "      --hover-fill-color: #FFFFFF;\n",
              "      --disabled-bg-color: #3B4455;\n",
              "      --disabled-fill-color: #666;\n",
              "  }\n",
              "\n",
              "  .colab-df-quickchart {\n",
              "    background-color: var(--bg-color);\n",
              "    border: none;\n",
              "    border-radius: 50%;\n",
              "    cursor: pointer;\n",
              "    display: none;\n",
              "    fill: var(--fill-color);\n",
              "    height: 32px;\n",
              "    padding: 0;\n",
              "    width: 32px;\n",
              "  }\n",
              "\n",
              "  .colab-df-quickchart:hover {\n",
              "    background-color: var(--hover-bg-color);\n",
              "    box-shadow: 0 1px 2px rgba(60, 64, 67, 0.3), 0 1px 3px 1px rgba(60, 64, 67, 0.15);\n",
              "    fill: var(--button-hover-fill-color);\n",
              "  }\n",
              "\n",
              "  .colab-df-quickchart-complete:disabled,\n",
              "  .colab-df-quickchart-complete:disabled:hover {\n",
              "    background-color: var(--disabled-bg-color);\n",
              "    fill: var(--disabled-fill-color);\n",
              "    box-shadow: none;\n",
              "  }\n",
              "\n",
              "  .colab-df-spinner {\n",
              "    border: 2px solid var(--fill-color);\n",
              "    border-color: transparent;\n",
              "    border-bottom-color: var(--fill-color);\n",
              "    animation:\n",
              "      spin 1s steps(1) infinite;\n",
              "  }\n",
              "\n",
              "  @keyframes spin {\n",
              "    0% {\n",
              "      border-color: transparent;\n",
              "      border-bottom-color: var(--fill-color);\n",
              "      border-left-color: var(--fill-color);\n",
              "    }\n",
              "    20% {\n",
              "      border-color: transparent;\n",
              "      border-left-color: var(--fill-color);\n",
              "      border-top-color: var(--fill-color);\n",
              "    }\n",
              "    30% {\n",
              "      border-color: transparent;\n",
              "      border-left-color: var(--fill-color);\n",
              "      border-top-color: var(--fill-color);\n",
              "      border-right-color: var(--fill-color);\n",
              "    }\n",
              "    40% {\n",
              "      border-color: transparent;\n",
              "      border-right-color: var(--fill-color);\n",
              "      border-top-color: var(--fill-color);\n",
              "    }\n",
              "    60% {\n",
              "      border-color: transparent;\n",
              "      border-right-color: var(--fill-color);\n",
              "    }\n",
              "    80% {\n",
              "      border-color: transparent;\n",
              "      border-right-color: var(--fill-color);\n",
              "      border-bottom-color: var(--fill-color);\n",
              "    }\n",
              "    90% {\n",
              "      border-color: transparent;\n",
              "      border-bottom-color: var(--fill-color);\n",
              "    }\n",
              "  }\n",
              "</style>\n",
              "\n",
              "  <script>\n",
              "    async function quickchart(key) {\n",
              "      const quickchartButtonEl =\n",
              "        document.querySelector('#' + key + ' button');\n",
              "      quickchartButtonEl.disabled = true;  // To prevent multiple clicks.\n",
              "      quickchartButtonEl.classList.add('colab-df-spinner');\n",
              "      try {\n",
              "        const charts = await google.colab.kernel.invokeFunction(\n",
              "            'suggestCharts', [key], {});\n",
              "      } catch (error) {\n",
              "        console.error('Error during call to suggestCharts:', error);\n",
              "      }\n",
              "      quickchartButtonEl.classList.remove('colab-df-spinner');\n",
              "      quickchartButtonEl.classList.add('colab-df-quickchart-complete');\n",
              "    }\n",
              "    (() => {\n",
              "      let quickchartButtonEl =\n",
              "        document.querySelector('#df-df74f9e8-f499-477b-a35f-00f6f9486b34 button');\n",
              "      quickchartButtonEl.style.display =\n",
              "        google.colab.kernel.accessAllowed ? 'block' : 'none';\n",
              "    })();\n",
              "  </script>\n",
              "</div>\n",
              "\n",
              "    </div>\n",
              "  </div>\n"
            ],
            "application/vnd.google.colaboratory.intrinsic+json": {
              "type": "dataframe"
            }
          },
          "metadata": {}
        }
      ],
      "source": [
        "display(fies_df.head())"
      ]
    },
    {
      "cell_type": "code",
      "source": [
        "fies_df.info()"
      ],
      "metadata": {
        "id": "MOvTKR7kbVO6",
        "colab": {
          "base_uri": "https://localhost:8080/"
        },
        "outputId": "50ab3ecf-0c0d-4b82-f7dc-e7a1f94dadbb"
      },
      "execution_count": 4,
      "outputs": [
        {
          "output_type": "stream",
          "name": "stdout",
          "text": [
            "<class 'pandas.core.frame.DataFrame'>\n",
            "RangeIndex: 40171 entries, 0 to 40170\n",
            "Columns: 119 entries, W_REGN to REGPC\n",
            "dtypes: float64(5), int64(92), object(22)\n",
            "memory usage: 36.5+ MB\n"
          ]
        }
      ]
    },
    {
      "cell_type": "markdown",
      "source": [
        "### ***Drop ID Columns***"
      ],
      "metadata": {
        "id": "eTV8a_rUdyhX"
      }
    },
    {
      "cell_type": "code",
      "source": [
        "id_cols = [\"W_OID\", \"W_SHSN\", \"W_HCN\", \"W_REGN\"]\n",
        "fies_df.drop(columns=id_cols, inplace=True, errors='ignore')"
      ],
      "metadata": {
        "id": "AN78Pt72dx8C"
      },
      "execution_count": 5,
      "outputs": []
    },
    {
      "cell_type": "markdown",
      "source": [
        "We removed several ID columns (`W_OID`, `W_SHSN`, `W_HCN`, `W_REGN`) since they serve only as unique identifiers and do not contribute meaningful information to the modeling process."
      ],
      "metadata": {
        "id": "G42SFal3QYUM"
      }
    },
    {
      "cell_type": "markdown",
      "source": [
        "### ***Categorical Variables***"
      ],
      "metadata": {
        "id": "APtuKiHo5ivA"
      }
    },
    {
      "cell_type": "code",
      "source": [
        "object_columns = fies_df.select_dtypes(include=['object']).columns\n",
        "print(\"Categorical Variables (Object Dtypes):\")\n",
        "print(object_columns)"
      ],
      "metadata": {
        "id": "fnvgAxKRcNhe",
        "colab": {
          "base_uri": "https://localhost:8080/"
        },
        "outputId": "50a3b4ef-2615-41a6-80f4-851bfee233de"
      },
      "execution_count": 6,
      "outputs": [
        {
          "output_type": "stream",
          "name": "stdout",
          "text": [
            "Categorical Variables (Object Dtypes):\n",
            "Index(['OCCUP', 'KB', 'CW', 'AGELESS5', 'AGE5_17', 'EMPLOYED_PAY',\n",
            "       'EMPLOYED_PROF', 'DISTANCE', 'RADIO_QTY', 'TV_QTY', 'CD_QTY',\n",
            "       'STEREO_QTY', 'REF_QTY', 'WASH_QTY', 'AIRCON_QTY', 'CAR_QTY',\n",
            "       'LANDLINE_QTY', 'CELLPHONE_QTY', 'PC_QTY', 'OVEN_QTY',\n",
            "       'MOTOR_BANCA_QTY', 'MOTORCYCLE_QTY'],\n",
            "      dtype='object')\n"
          ]
        }
      ]
    },
    {
      "cell_type": "markdown",
      "source": [
        "Next, we identified all features with an `object` data type, which usually implies categorical or improperly encoded numerical data. Upon inspection, we noticed that many of these columns actually represent numerical quantities but are stored as strings."
      ],
      "metadata": {
        "id": "zxIiNz8TQeH3"
      }
    },
    {
      "cell_type": "code",
      "source": [
        "cols = ['AGELESS5', 'AGE5_17', 'EMPLOYED_PAY',\n",
        "       'EMPLOYED_PROF', 'DISTANCE', 'RADIO_QTY', 'TV_QTY', 'CD_QTY',\n",
        "       'STEREO_QTY', 'REF_QTY', 'WASH_QTY', 'AIRCON_QTY', 'CAR_QTY',\n",
        "       'LANDLINE_QTY', 'CELLPHONE_QTY', 'PC_QTY', 'OVEN_QTY',\n",
        "       'MOTOR_BANCA_QTY', 'MOTORCYCLE_QTY']\n",
        "\n",
        "fies_df[cols] = fies_df[cols].apply(pd.to_numeric, errors='coerce')\n"
      ],
      "metadata": {
        "id": "UUdpvd-beejG"
      },
      "execution_count": 7,
      "outputs": []
    },
    {
      "cell_type": "markdown",
      "source": [
        "We converted 22 object-type columns (e.g., `AGELESS5`, `CAR_QTY`, `PC_QTY`) to numeric types using `pd.to_numeric()`. These features represent counts of household items or family demographics and should be treated as numerical features in modeling. The conversion also helps eliminate type-related issues during preprocessing."
      ],
      "metadata": {
        "id": "HHxo5ESFQnB1"
      }
    },
    {
      "cell_type": "markdown",
      "source": [
        "### ***Mapping/One-Hot Encoding for Categorical Variables***"
      ],
      "metadata": {
        "id": "G0ZexYiP6tAg"
      }
    },
    {
      "cell_type": "markdown",
      "metadata": {
        "id": "f81XsyNYuDVR"
      },
      "source": [
        "### **`HGC`** - ***(Household Head) Highest Grade Completed***"
      ]
    },
    {
      "cell_type": "markdown",
      "metadata": {
        "id": "rdGmG1M5uDVR"
      },
      "source": [
        "The **HGC** variable represents the highest level of education completed by the household head.\n",
        "\n",
        "### **Education Levels and Codes:**\n",
        "\n",
        "- **No Grade Completed:** `0`  \n",
        "- **Preschool:** `10`  \n",
        "- **Elementary Undergraduate:** `210-260`  \n",
        "- **Elementary Graduate:** `280`  \n",
        "- **High School Undergraduate:** `310-330`  \n",
        "- **High School Graduate:** `350`  \n",
        "- **Post-Secondary Undergraduate:** `410-420`  \n",
        "- **Post-Secondary Graduate (Technical/Vocational):** `501-589`  \n",
        "- **College Undergraduate:** `810-840`  \n",
        "- **College Graduate:** `601-689`  \n",
        "- **Post-Baccalaureate:** `900`  "
      ]
    },
    {
      "cell_type": "code",
      "execution_count": 8,
      "metadata": {
        "id": "rxTyste8uDVR",
        "colab": {
          "base_uri": "https://localhost:8080/"
        },
        "outputId": "8ff5e151-8f28-4d5b-f7c5-cb1214d46e4e"
      },
      "outputs": [
        {
          "output_type": "execute_result",
          "data": {
            "text/plain": [
              "array([280, 250, 552, 830, 350, 634, 554, 320, 514, 240, 581, 810, 614,\n",
              "       900, 652, 330,   0, 840, 230, 584, 534, 562, 220, 310, 210, 622,\n",
              "       410, 686, 572, 662, 672, 820, 260, 681, 420, 631, 684, 642, 648,\n",
              "       601, 646, 676, 586, 589, 658, 689, 501, 621, 548, 632, 654, 638,\n",
              "       664,  10, 522, 685, 521, 644, 542, 531, 558, 532])"
            ]
          },
          "metadata": {},
          "execution_count": 8
        }
      ],
      "source": [
        "fies_df[\"HGC\"].unique()"
      ]
    },
    {
      "cell_type": "markdown",
      "metadata": {
        "id": "bblE9JmUuDVS"
      },
      "source": [
        "As seen by using **`.unique()`**, these codes are not continuous single values, but instead appear in ranges for certain education levels.\n",
        "\n",
        "With this, we mapped these numerical codes into standardized categories based on the dictionary.\n",
        "\n",
        "<small>***Note that the dictionary lists College Undergraduate as ranging from **810-840** and College Graduate as **601-689**, so their values in the mapping may seem reversed.* </small>"
      ]
    },
    {
      "cell_type": "code",
      "execution_count": 9,
      "metadata": {
        "id": "E-MeY1OHuDVS",
        "colab": {
          "base_uri": "https://localhost:8080/"
        },
        "outputId": "cc4e6904-76d0-4202-aa22-98f853005631"
      },
      "outputs": [
        {
          "output_type": "stream",
          "name": "stdout",
          "text": [
            "4210\n",
            "3237\n"
          ]
        }
      ],
      "source": [
        "print(fies_df[\"HGC\"].between(601, 689).sum())  # Expected graduates\n",
        "print(fies_df[\"HGC\"].between(810, 840).sum())  # Expected undergraduates\n"
      ]
    },
    {
      "cell_type": "markdown",
      "source": [
        "An ordinal mapping was used to represent educational attainment levels. This ensures that there is a meaningful order."
      ],
      "metadata": {
        "id": "YpdEJSxp7SPV"
      }
    },
    {
      "cell_type": "code",
      "execution_count": 10,
      "metadata": {
        "id": "eUIvZ29VuDVS",
        "colab": {
          "base_uri": "https://localhost:8080/",
          "height": 0
        },
        "outputId": "ca85b055-0bd2-4e47-c322-764b53cecd51"
      },
      "outputs": [
        {
          "output_type": "execute_result",
          "data": {
            "text/plain": [
              "0        3.0\n",
              "1        2.0\n",
              "2        7.0\n",
              "3        8.0\n",
              "4        5.0\n",
              "        ... \n",
              "40166    5.0\n",
              "40167    5.0\n",
              "40168    2.0\n",
              "40169    3.0\n",
              "40170    2.0\n",
              "Name: HGC, Length: 40171, dtype: float64"
            ],
            "text/html": [
              "<div>\n",
              "<style scoped>\n",
              "    .dataframe tbody tr th:only-of-type {\n",
              "        vertical-align: middle;\n",
              "    }\n",
              "\n",
              "    .dataframe tbody tr th {\n",
              "        vertical-align: top;\n",
              "    }\n",
              "\n",
              "    .dataframe thead th {\n",
              "        text-align: right;\n",
              "    }\n",
              "</style>\n",
              "<table border=\"1\" class=\"dataframe\">\n",
              "  <thead>\n",
              "    <tr style=\"text-align: right;\">\n",
              "      <th></th>\n",
              "      <th>HGC</th>\n",
              "    </tr>\n",
              "  </thead>\n",
              "  <tbody>\n",
              "    <tr>\n",
              "      <th>0</th>\n",
              "      <td>3.0</td>\n",
              "    </tr>\n",
              "    <tr>\n",
              "      <th>1</th>\n",
              "      <td>2.0</td>\n",
              "    </tr>\n",
              "    <tr>\n",
              "      <th>2</th>\n",
              "      <td>7.0</td>\n",
              "    </tr>\n",
              "    <tr>\n",
              "      <th>3</th>\n",
              "      <td>8.0</td>\n",
              "    </tr>\n",
              "    <tr>\n",
              "      <th>4</th>\n",
              "      <td>5.0</td>\n",
              "    </tr>\n",
              "    <tr>\n",
              "      <th>...</th>\n",
              "      <td>...</td>\n",
              "    </tr>\n",
              "    <tr>\n",
              "      <th>40166</th>\n",
              "      <td>5.0</td>\n",
              "    </tr>\n",
              "    <tr>\n",
              "      <th>40167</th>\n",
              "      <td>5.0</td>\n",
              "    </tr>\n",
              "    <tr>\n",
              "      <th>40168</th>\n",
              "      <td>2.0</td>\n",
              "    </tr>\n",
              "    <tr>\n",
              "      <th>40169</th>\n",
              "      <td>3.0</td>\n",
              "    </tr>\n",
              "    <tr>\n",
              "      <th>40170</th>\n",
              "      <td>2.0</td>\n",
              "    </tr>\n",
              "  </tbody>\n",
              "</table>\n",
              "<p>40171 rows × 1 columns</p>\n",
              "</div><br><label><b>dtype:</b> float64</label>"
            ]
          },
          "metadata": {},
          "execution_count": 10
        }
      ],
      "source": [
        "conditions = [\n",
        "    (fies_df[\"HGC\"] == 0),\n",
        "    (fies_df[\"HGC\"] == 10),\n",
        "    (fies_df[\"HGC\"].between(210, 260)),\n",
        "    (fies_df[\"HGC\"] == 280),\n",
        "    (fies_df[\"HGC\"].between(310, 330)),\n",
        "    (fies_df[\"HGC\"] == 350),\n",
        "    (fies_df[\"HGC\"].between(410, 420)),\n",
        "    (fies_df[\"HGC\"].between(501, 589)),\n",
        "    (fies_df[\"HGC\"].between(810, 840)),\n",
        "    (fies_df[\"HGC\"].between(601, 689)),\n",
        "    (fies_df[\"HGC\"] >= 900)\n",
        "]\n",
        "\n",
        "values = [0, 1, 2, 3, 4, 5, 6, 7, 8, 9, 10]\n",
        "\n",
        "fies_df[\"HGC\"] = np.select(conditions, values, default=np.nan)\n",
        "\n",
        "fies_df[\"HGC\"]"
      ]
    },
    {
      "cell_type": "markdown",
      "source": [
        "### **`OCCUP`** - ***Primary occupation of the head of the family during the past six months***"
      ],
      "metadata": {
        "id": "ro30PgxApIUK"
      }
    },
    {
      "cell_type": "markdown",
      "source": [
        "The **OCCUP** variable categorizes the primary occupation of the household head based on standardized occupation codes. These codes are grouped into broader occupational categories.\n",
        "\n",
        "### **Occupation Groups and Codes:**\n",
        "- **Officials, Executives, and Managers:** `1110-1490`  \n",
        "- **Professionals:** `2111-2460`  \n",
        "- **Technicians and Associate Professionals:** `3111-3480`  \n",
        "- **Clerks:** `4111-4223`  \n",
        "- **Service Workers and Sales Workers:** `5111-5230`  \n",
        "- **Farmers, Forestry Workers, and Fishermen:** `6111-6590`  \n",
        "- **Trades and Related Workers:** `7111-7442`  \n",
        "- **Plant and Machine Operators and Assemblers:** `8111-8340`  \n",
        "- **Laborers and Unskilled Workers:** `9111-9333`  \n",
        "- **Special Occupations:** `111-113, 121-129, 930`  "
      ],
      "metadata": {
        "id": "3lXMk95BEUSp"
      }
    },
    {
      "cell_type": "code",
      "source": [
        "fies_df['OCCUP'].unique()"
      ],
      "metadata": {
        "id": "tZSfq7OEpH1f",
        "colab": {
          "base_uri": "https://localhost:8080/"
        },
        "outputId": "6f6699a4-f912-4803-9d51-e0b36d789908"
      },
      "execution_count": 11,
      "outputs": [
        {
          "output_type": "execute_result",
          "data": {
            "text/plain": [
              "array(['    ', '1314', '6111', '5220', '6212', '6114', '5132', '7122',\n",
              "       '9211', '1316', '4121', '1130', '8322', '2331', '3118', '9132',\n",
              "       '7241', '1312', '7231', '1317', '7123', '4115', '4142', '1120',\n",
              "       '8324', '8263', '8321', '9131', '9112', '3152', '9133', '6420',\n",
              "       '1430', '2341', '4215', '6119', '7433', '9313', '1412', '5162',\n",
              "       '2449', '3450', '6219', '8141', '6112', '6122', '9151', '5169',\n",
              "       '6116', '6124', '6121', '7243', '7422', '5123', '2310', '1490',\n",
              "       '3434', '4190', '2412', '6310', '7414', '8275', '3415', '3151',\n",
              "       '9333', '7212', '9322', '9311', '4113', '2152', '3431', '1319',\n",
              "       '7141', '1224', '1231', '3131', '4211', '7242', '9120', '6330',\n",
              "       '5151', '1313', '6340', '7111', '9212', '8222', '5139', '9213',\n",
              "       '2154', '8231', '9312', '4131', '2224', '9152', '8113', '0129',\n",
              "       '6129', '5131', '6115', '7415', '0121', '8323', '3232', '5161',\n",
              "       '3416', '7432', '9161', '3132', '1315', '2221', '9111', '4133',\n",
              "       '3114', '6123', '7411', '6320', '3112', '3480', '3449', '2446',\n",
              "       '4141', '9141', '8240', '6413', '3460', '8274', '5122', '3439',\n",
              "       '7246', '2351', '8340', '3242', '3475', '4213', '6131', '5112',\n",
              "       '9113', '3472', '7142', '1318', '5230', '3212', '1222', '1110',\n",
              "       '1311', '2227', '2151', '7332', '9331', '9162', '7412', '3300',\n",
              "       '8331', '9321', '4214', '0113', '2222', '7244', '7424', '6211',\n",
              "       '2460', '6113', '6430', '4222', '7221', '7435', '7213', '1411',\n",
              "       '7136', '0112', '7322', '7442', '8273', '0930', '1227', '8266',\n",
              "       '6221', '3417', '1225', '7233', '7235', '6411', '0122', '7347',\n",
              "       '3133', '3141', '8267', '8334', '3413', '7331', '5133', '4223',\n",
              "       '5153', '3113', '3143', '1441', '8171', '5113', '3432', '7423',\n",
              "       '3222', '2131', '3121', '2399', '1236', '7133', '3231', '4132',\n",
              "       '1210', '3229', '4122', '2419', '2132', '2231', '2226', '2153',\n",
              "       '3122', '2139', '2411', '2232', '6117', '1239', '7234', '3117',\n",
              "       '8111', '6139', '2423', '2213', '2214', '1221', '2453', '1233',\n",
              "       '8261', '7425', '3219', '7341', '1237', '3414', '2332', '6222',\n",
              "       '8290', '7436', '3473', '7222', '8268', '3412', '7434', '8332',\n",
              "       '4212', '7129', '3116', '2157', '8124', '7214', '7313', '7224',\n",
              "       '8232', '2228', '1226', '0111', '1449', '5152', '3441', '3241',\n",
              "       '0119', '2333', '2421', '4112', '1429', '3421', '1442', '7421',\n",
              "       '8223', '8311', '3115', '1235', '8262', '3429', '1232', '8333',\n",
              "       '5121', '8131', '3471', '2158', '8264', '3423', '8254', '8211',\n",
              "       '3139', '8163', '7131', '6490', '7215', '9332', '7311', '2141',\n",
              "       '4111', '8253', '8276', '7321', '8265', '2113', '8122', '2451',\n",
              "       '1223', '5142', '3142', '7245', '7344', '6229', '3433', '6414',\n",
              "       '7346', '3442', '8112', '2454', '2320', '5159', '2225', '7416',\n",
              "       '7323', '3119', '8212', '8271', '7324', '8139', '3474', '1421',\n",
              "       '6290', '2353', '6419', '8161', '0123', '2142', '7223', '8159',\n",
              "       '2391', '3411', '3144', '4221', '3444', '2452', '2430', '5163',\n",
              "       '3422', '2352', '2122', '2422', '3221', '9142', '2155', '8221',\n",
              "       '2229', '7113', '4143', '1229', '2159', '7343', '7211', '8162',\n",
              "       '8272', '2459', '7413', '7312', '7132', '5210', '7345', '8229',\n",
              "       '8255', '2455', '8259', '2156', '8251', '8252', '7134', '8143',\n",
              "       '3224', '5111', '1144', '2443'], dtype=object)"
            ]
          },
          "metadata": {},
          "execution_count": 11
        }
      ]
    },
    {
      "cell_type": "code",
      "source": [
        "fies_df['OCCUP'] = fies_df['OCCUP'].apply(pd.to_numeric, errors='coerce')"
      ],
      "metadata": {
        "id": "jc0-yZityIf2"
      },
      "execution_count": 12,
      "outputs": []
    },
    {
      "cell_type": "markdown",
      "source": [
        "Like the previous variable, we will map the ranges to represent the categories covered by `OCCUP`. We will do this before applying one-hot encoding because applying one-hot encoding directly to the raw occupation codes would treat each unique value as a separate category, resulting in an unnecessarily large number of features. This would also fail to capture the intended grouping of occupations as defined in the dataset."
      ],
      "metadata": {
        "id": "Ax0dY-c-8niK"
      }
    },
    {
      "cell_type": "code",
      "source": [
        "conditions = [\n",
        "    fies_df[\"OCCUP\"].between(1110, 1490),\n",
        "    fies_df[\"OCCUP\"].between(2111, 2460),\n",
        "    fies_df[\"OCCUP\"].between(3111, 3480),\n",
        "    fies_df[\"OCCUP\"].between(4111, 4223),\n",
        "    fies_df[\"OCCUP\"].between(5111, 5230),\n",
        "    fies_df[\"OCCUP\"].between(6111, 6590),\n",
        "    fies_df[\"OCCUP\"].between(7111, 7442),\n",
        "    fies_df[\"OCCUP\"].between(8111, 8340),\n",
        "    fies_df[\"OCCUP\"].between(9111, 9333),\n",
        "    fies_df[\"OCCUP\"].isin([111, 112, 113, 121, 122, 123, 124, 125, 126, 127, 128, 129, 930])\n",
        "]\n",
        "\n",
        "values = [\n",
        "    \"Officials & Executives\",\n",
        "    \"Professionals\",\n",
        "    \"Technicians\",\n",
        "    \"Clerks\",\n",
        "    \"Service Workers\",\n",
        "    \"Farmers & Fishers\",\n",
        "    \"Trades Workers\",\n",
        "    \"Machine Operators\",\n",
        "    \"Laborers\",\n",
        "    \"Special Occupations\"\n",
        "]\n",
        "\n",
        "fies_df[\"OCCUP_GROUP\"] = np.select(conditions, values, default=\"Unknown\")\n",
        "\n",
        "fies_df[\"OCCUP_GROUP\"].unique()"
      ],
      "metadata": {
        "id": "KoYubFu8xQ-H",
        "colab": {
          "base_uri": "https://localhost:8080/"
        },
        "outputId": "26db2524-6416-4b52-873e-ea3512dc6c3f"
      },
      "execution_count": 13,
      "outputs": [
        {
          "output_type": "execute_result",
          "data": {
            "text/plain": [
              "array(['Unknown', 'Officials & Executives', 'Farmers & Fishers',\n",
              "       'Service Workers', 'Trades Workers', 'Laborers', 'Clerks',\n",
              "       'Machine Operators', 'Professionals', 'Technicians',\n",
              "       'Special Occupations'], dtype=object)"
            ]
          },
          "metadata": {},
          "execution_count": 13
        }
      ]
    },
    {
      "cell_type": "markdown",
      "source": [
        "After mapping occupation codes into 9 broader groups, we applied one-hot encoding to represent each group as a binary feature. We used `drop_first=True` to avoid multicollinearity when feeding these into linear models."
      ],
      "metadata": {
        "id": "STIsDFKVDZxk"
      }
    },
    {
      "cell_type": "code",
      "source": [
        "fies_df = pd.get_dummies(fies_df, columns=[\"OCCUP_GROUP\"], drop_first=True, dtype=int)\n"
      ],
      "metadata": {
        "id": "BTISB78xytzV"
      },
      "execution_count": 14,
      "outputs": []
    },
    {
      "cell_type": "code",
      "source": [
        "fies_df.drop(columns=[\"OCCUP\"], inplace=True, errors='ignore')"
      ],
      "metadata": {
        "id": "2f2OEv-RFQiv"
      },
      "execution_count": 15,
      "outputs": []
    },
    {
      "cell_type": "markdown",
      "source": [
        "### **`KB`** - ***Household Head Kind of Business/Industry***"
      ],
      "metadata": {
        "id": "JtCNZcjhz2i6"
      }
    },
    {
      "cell_type": "markdown",
      "source": [
        "The **KB** variable categorizes the primary business or industry in which the household head is engaged. These industries are grouped based on standardized industry codes.\n",
        "\n",
        "### **Business/Industry Categories and Codes:**\n",
        "- **Agriculture, Forestry, and Fishing:** `111-329`  \n",
        "- **Mining and Quarrying:** `510-990`  \n",
        "- **Manufacturing:** `1011-3320`  \n",
        "- **Electricity, Gas, Steam, and Airconditioning Supply:** `3510-3530`  \n",
        "- **Water Supply, Sewerage, Waste Management, and Remediation Activities:** `3600-3900`  \n",
        "- **Construction:** `4100-4390`  \n",
        "- **Wholesale and Retail Trade; Repair of Motor Vehicles and Motorcycles:** `4510-4799`  \n",
        "- **Transportation and Storage:** `4911-5320`  \n",
        "- **Accommodation and Food Service Activities:** `5510-5630`  \n",
        "- **Information and Communication:** `5811-6399`  \n",
        "- **Financial and Insurance Activities:** `6411-6630`  \n",
        "- **Real Estate Activities:** `6811-6820`  \n",
        "- **Professional, Scientific, and Technical Activities:** `6910-7500`  \n",
        "- **Administrative and Support Service Activities:** `7710-8299`  \n",
        "- **Public Administration and Defense; Compulsory Social Security:** `8411-8430`  \n",
        "- **Education:** `8511-8560`  \n",
        "- **Human Health and Social Work Services:** `8611-8890`  \n",
        "- **Arts, Entertainment, and Recreation:** `9000-9329`  \n",
        "- **Other Service Activities:** `9411-9690`  \n",
        "- **Activities of Households as Employers of Domestic Personnel:** `9700`  \n",
        "- **Activities of Extra-Territorial Organizations and Bodies:** `9901-9909`  "
      ],
      "metadata": {
        "id": "pEpSW9m2H2_j"
      }
    },
    {
      "cell_type": "code",
      "source": [
        "fies_df['KB'] = fies_df['KB'].apply(pd.to_numeric, errors='coerce')"
      ],
      "metadata": {
        "id": "UY0sxeDh06gY"
      },
      "execution_count": 16,
      "outputs": []
    },
    {
      "cell_type": "markdown",
      "source": [
        "Similar to `OCCUP`, we mapped industry codes in `KB` into higher-level categories based on the PSA-provided ranges. This categorization simplifies the interpretation and helps avoid overfitting due to sparse feature columns."
      ],
      "metadata": {
        "id": "4f6CjWCqIAXJ"
      }
    },
    {
      "cell_type": "code",
      "source": [
        "conditions = [\n",
        "    fies_df[\"KB\"].between(111, 329),\n",
        "    fies_df[\"KB\"].between(510, 990),\n",
        "    fies_df[\"KB\"].between(1011, 3320),\n",
        "    fies_df[\"KB\"].between(3510, 3530),\n",
        "    fies_df[\"KB\"].between(3600, 3900),\n",
        "    fies_df[\"KB\"].between(4100, 4390),\n",
        "    fies_df[\"KB\"].between(4510, 4799),\n",
        "    fies_df[\"KB\"].between(4911, 5320),\n",
        "    fies_df[\"KB\"].between(5510, 5630),\n",
        "    fies_df[\"KB\"].between(5811, 6399),\n",
        "    fies_df[\"KB\"].between(6411, 6630),\n",
        "    fies_df[\"KB\"].between(6811, 6820),\n",
        "    fies_df[\"KB\"].between(6910, 7500),\n",
        "    fies_df[\"KB\"].between(7710, 8299),\n",
        "    fies_df[\"KB\"].between(8411, 8430),\n",
        "    fies_df[\"KB\"].between(8511, 8560),\n",
        "    fies_df[\"KB\"].between(8611, 8890),\n",
        "    fies_df[\"KB\"].between(9000, 9329),\n",
        "    fies_df[\"KB\"].between(9411, 9690),\n",
        "    fies_df[\"KB\"] == 9700,\n",
        "    fies_df[\"KB\"].between(9901, 9909)\n",
        "]\n",
        "\n",
        "values = [\n",
        "    \"Agriculture\", \"Mining\", \"Manufacturing\", \"Electricity\", \"Water Supply\", \"Construction\",\n",
        "    \"Retail\", \"Transport\", \"Food Service\", \"IT\", \"Finance\", \"Real Estate\", \"Professional\",\n",
        "    \"Admin\", \"Public Admin\", \"Education\", \"Health\", \"Arts\", \"Other Services\",\n",
        "    \"Household Employers\", \"Extra-territorial\"\n",
        "]\n",
        "\n",
        "fies_df[\"KB_Group\"] = np.select(conditions, values, default=\"Unknown\")"
      ],
      "metadata": {
        "id": "bVLGy9GT0Z9g"
      },
      "execution_count": 17,
      "outputs": []
    },
    {
      "cell_type": "markdown",
      "source": [
        "After nominal mapping, we can apply one-hot encoding."
      ],
      "metadata": {
        "id": "NhYd3qlpIXKV"
      }
    },
    {
      "cell_type": "code",
      "source": [
        "fies_df = pd.get_dummies(fies_df, columns=[\"KB_Group\"], drop_first=True, dtype=int)"
      ],
      "metadata": {
        "id": "Lmq3tV_F1XmD"
      },
      "execution_count": 18,
      "outputs": []
    },
    {
      "cell_type": "code",
      "source": [
        "fies_df.drop(columns=[\"KB\"], inplace=True, errors='ignore')"
      ],
      "metadata": {
        "id": "WfH8NFwPFbz_"
      },
      "execution_count": 19,
      "outputs": []
    },
    {
      "cell_type": "markdown",
      "source": [
        "### **`CW`** - ***Household Head Class of Worker***"
      ],
      "metadata": {
        "id": "vKD3MIPX2X4F"
      }
    },
    {
      "cell_type": "markdown",
      "source": [
        "The **CW** variable identifies the **class of worker** for the household head during the second visit. It categorizes the employment type based on the nature of the employer or work arrangement.  \n",
        "\n",
        "### **Categories and Codes:**  \n",
        "- **Worked for private household**: `0`  \n",
        "- **Worked for private establishment**: `1`  \n",
        "- **Worked for government/government corporation**: `2`  \n",
        "- **Self-employed without any employee**: `3`  \n",
        "- **Employer in own family-operated farm or business**: `4`  \n",
        "- **Worked with pay in own family-operated farm or business**: `5`  \n",
        "- **Worked without pay in own family-operated farm or business**: `6`  "
      ],
      "metadata": {
        "id": "GQ9wQ06SKzu6"
      }
    },
    {
      "cell_type": "code",
      "source": [
        "fies_df['CW'] = fies_df['CW'].apply(pd.to_numeric, errors='coerce')"
      ],
      "metadata": {
        "id": "Ob5N-5Tr2mAd"
      },
      "execution_count": 20,
      "outputs": []
    },
    {
      "cell_type": "markdown",
      "source": [
        "This is mapped into categorical labels to make the data more interpretable before applying one-hot encoding."
      ],
      "metadata": {
        "id": "Kku7exLRLuhj"
      }
    },
    {
      "cell_type": "code",
      "source": [
        "cw_mapping = {\n",
        "    0: \"Private Household\",\n",
        "    1: \"Private Establishment\",\n",
        "    2: \"Government\",\n",
        "    3: \"Self-Employed\",\n",
        "    4: \"Employer in Family Business\",\n",
        "    5: \"Worked with Pay in Family Business\",\n",
        "    6: \"Worked without Pay in Family Business\"\n",
        "}\n",
        "\n",
        "fies_df[\"CW_Group\"] = fies_df[\"CW\"].map(cw_mapping)\n"
      ],
      "metadata": {
        "id": "UivfIq0v2pqC"
      },
      "execution_count": 21,
      "outputs": []
    },
    {
      "cell_type": "markdown",
      "source": [
        "We used a dictionary to map the numeric codes in `CW` into meaningful class-of-worker labels. This made it easier to interpret in both visualizations and model analysis.\n",
        "\n",
        "\n",
        "Then we applied one-hot encoding."
      ],
      "metadata": {
        "id": "KpiAXJ5EMVGG"
      }
    },
    {
      "cell_type": "code",
      "source": [
        "fies_df = pd.get_dummies(fies_df, columns=[\"CW_Group\"], drop_first=True, dtype=int)"
      ],
      "metadata": {
        "id": "6puZGm2lMWd4"
      },
      "execution_count": 22,
      "outputs": []
    },
    {
      "cell_type": "code",
      "source": [
        "fies_df.drop(columns=[\"CW\"], inplace=True, errors='ignore')"
      ],
      "metadata": {
        "id": "zrutlVFXJaU3"
      },
      "execution_count": 23,
      "outputs": []
    },
    {
      "cell_type": "markdown",
      "source": [
        "Check if there are any more `object` dtypes."
      ],
      "metadata": {
        "id": "5xZckXFS4_Pz"
      }
    },
    {
      "cell_type": "code",
      "source": [
        "fies_df.info()"
      ],
      "metadata": {
        "id": "VXXlslwaeqa_",
        "colab": {
          "base_uri": "https://localhost:8080/"
        },
        "outputId": "f07674c9-6151-4395-c420-1e598dd61072"
      },
      "execution_count": 24,
      "outputs": [
        {
          "output_type": "stream",
          "name": "stdout",
          "text": [
            "<class 'pandas.core.frame.DataFrame'>\n",
            "RangeIndex: 40171 entries, 0 to 40170\n",
            "Columns: 149 entries, URB to CW_Group_Worked without Pay in Family Business\n",
            "dtypes: float64(25), int64(124)\n",
            "memory usage: 45.7 MB\n"
          ]
        }
      ]
    },
    {
      "cell_type": "markdown",
      "source": [
        "### **`WALLS`** - ***Type of Walls***"
      ],
      "metadata": {
        "id": "UXHf0Ci6Hhrk"
      }
    },
    {
      "cell_type": "markdown",
      "source": [
        "The **WALLS** variable identifies the **type of wall** during the second visit.\n",
        "\n",
        "### **Categories and Codes:**  \n",
        "- **Strong materials**: `1`  \n",
        "- **Light materials**: `2`  \n",
        "- **Salvage/makeshift**: `3`  \n",
        "- **Mixed but predominantly strong**: `4`  \n",
        "- **Mixed but predominantly light**: `5`  \n",
        "- **Mixed but predominantly salvaged**: `6`  \n",
        "- **Not Applicable**: `7`  "
      ],
      "metadata": {
        "id": "GNHz9K03Ht6C"
      }
    },
    {
      "cell_type": "code",
      "source": [
        "fies_df['WALLS'] = fies_df['WALLS'].apply(pd.to_numeric, errors='coerce')"
      ],
      "metadata": {
        "id": "xNhRQg5nIpRu"
      },
      "execution_count": 25,
      "outputs": []
    },
    {
      "cell_type": "code",
      "source": [
        "fies_df[\"WALLS\"].value_counts()"
      ],
      "metadata": {
        "id": "Rurfu6V6HcIW",
        "colab": {
          "base_uri": "https://localhost:8080/",
          "height": 0
        },
        "outputId": "0a81de78-7186-4dd7-8adb-26cb3ec4e9cf"
      },
      "execution_count": 26,
      "outputs": [
        {
          "output_type": "execute_result",
          "data": {
            "text/plain": [
              "WALLS\n",
              "1    26582\n",
              "2     8198\n",
              "4     3432\n",
              "5     1518\n",
              "3      334\n",
              "6      102\n",
              "7        5\n",
              "Name: count, dtype: int64"
            ],
            "text/html": [
              "<div>\n",
              "<style scoped>\n",
              "    .dataframe tbody tr th:only-of-type {\n",
              "        vertical-align: middle;\n",
              "    }\n",
              "\n",
              "    .dataframe tbody tr th {\n",
              "        vertical-align: top;\n",
              "    }\n",
              "\n",
              "    .dataframe thead th {\n",
              "        text-align: right;\n",
              "    }\n",
              "</style>\n",
              "<table border=\"1\" class=\"dataframe\">\n",
              "  <thead>\n",
              "    <tr style=\"text-align: right;\">\n",
              "      <th></th>\n",
              "      <th>count</th>\n",
              "    </tr>\n",
              "    <tr>\n",
              "      <th>WALLS</th>\n",
              "      <th></th>\n",
              "    </tr>\n",
              "  </thead>\n",
              "  <tbody>\n",
              "    <tr>\n",
              "      <th>1</th>\n",
              "      <td>26582</td>\n",
              "    </tr>\n",
              "    <tr>\n",
              "      <th>2</th>\n",
              "      <td>8198</td>\n",
              "    </tr>\n",
              "    <tr>\n",
              "      <th>4</th>\n",
              "      <td>3432</td>\n",
              "    </tr>\n",
              "    <tr>\n",
              "      <th>5</th>\n",
              "      <td>1518</td>\n",
              "    </tr>\n",
              "    <tr>\n",
              "      <th>3</th>\n",
              "      <td>334</td>\n",
              "    </tr>\n",
              "    <tr>\n",
              "      <th>6</th>\n",
              "      <td>102</td>\n",
              "    </tr>\n",
              "    <tr>\n",
              "      <th>7</th>\n",
              "      <td>5</td>\n",
              "    </tr>\n",
              "  </tbody>\n",
              "</table>\n",
              "</div><br><label><b>dtype:</b> int64</label>"
            ]
          },
          "metadata": {},
          "execution_count": 26
        }
      ]
    },
    {
      "cell_type": "code",
      "source": [
        "fies_df = fies_df[fies_df[\"WALLS\"] != 7]"
      ],
      "metadata": {
        "id": "TDDnnBKaJIXO"
      },
      "execution_count": 27,
      "outputs": []
    },
    {
      "cell_type": "code",
      "source": [
        "walls_mapping = {\n",
        "    1: \"Strong materials\",\n",
        "    2: \"Light materials\",\n",
        "    3: \"Salvage/makeshift\",\n",
        "    4: \"Mixed but predominantly strong\",\n",
        "    5: \"Mixed but predominantly light\",\n",
        "    6: \"Mixed but predominantly salvaged\"\n",
        "}\n",
        "\n",
        "fies_df[\"WALLS_Group\"] = fies_df[\"WALLS\"].map(walls_mapping)\n"
      ],
      "metadata": {
        "id": "ZHcyvgHdIt1n",
        "colab": {
          "base_uri": "https://localhost:8080/"
        },
        "outputId": "4f5ed9de-0c9e-4904-e68f-a0182b363b37"
      },
      "execution_count": 28,
      "outputs": [
        {
          "output_type": "stream",
          "name": "stderr",
          "text": [
            "<ipython-input-28-5ccc8c0b8c17>:10: SettingWithCopyWarning: \n",
            "A value is trying to be set on a copy of a slice from a DataFrame.\n",
            "Try using .loc[row_indexer,col_indexer] = value instead\n",
            "\n",
            "See the caveats in the documentation: https://pandas.pydata.org/pandas-docs/stable/user_guide/indexing.html#returning-a-view-versus-a-copy\n",
            "  fies_df[\"WALLS_Group\"] = fies_df[\"WALLS\"].map(walls_mapping)\n"
          ]
        }
      ]
    },
    {
      "cell_type": "markdown",
      "source": [
        "The `WALLS` column was converted to numeric, and entries with the value `7` (Not Applicable) were removed. We then mapped remaining codes to descriptive categories like \"Strong materials\", \"Light materials\", etc., and one-hot encoded them to be used as model inputs."
      ],
      "metadata": {
        "id": "gDoO5o_HTI5P"
      }
    },
    {
      "cell_type": "code",
      "source": [
        "fies_df = pd.get_dummies(fies_df, columns=[\"WALLS_Group\"], drop_first=True, dtype=int)"
      ],
      "metadata": {
        "id": "gJlaN-1aJTyr"
      },
      "execution_count": 29,
      "outputs": []
    },
    {
      "cell_type": "code",
      "source": [
        "fies_df.drop(columns=[\"WALLS\"], inplace=True, errors='ignore')"
      ],
      "metadata": {
        "id": "zzrw9KQbJcL_"
      },
      "execution_count": 30,
      "outputs": []
    },
    {
      "cell_type": "markdown",
      "source": [
        "### **`WATER`** - ***Water Source***"
      ],
      "metadata": {
        "id": "u3X5BFHNIXKo"
      }
    },
    {
      "cell_type": "markdown",
      "source": [
        "The **WATER** variable identifies the **water source** during the second visit.\n",
        "\n",
        "### **Categories and Codes:**  \n",
        "- **Own use, faucet, community water system**: `1`  \n",
        "- **Shared, faucet, community water system**: `2`  \n",
        "- **Own use, tubed/piped deep well**: `3`  \n",
        "- **Shared, tubed/piped deep well**: `4`  \n",
        "- **Tubed/piped shallow well**: `5`  \n",
        "- **Dug well**: `6`  \n",
        "- **Protected spring**: `7`  \n",
        "- **Unprotected spring**: `8`\n",
        "- **Lake, river, rain, and others**: `9`\n",
        "- **Peddler**: `10 `\n",
        "- **Bottled water**: `11`\n",
        "- **Others**: `12`"
      ],
      "metadata": {
        "id": "yfvQDmuLQ-EH"
      }
    },
    {
      "cell_type": "code",
      "source": [
        "fies_df['WATER'] = fies_df['WATER'].apply(pd.to_numeric, errors='coerce')"
      ],
      "metadata": {
        "id": "Sz6U0YvLOl2z"
      },
      "execution_count": 31,
      "outputs": []
    },
    {
      "cell_type": "code",
      "source": [
        "water_mapping = {\n",
        "    1: \"Own use, faucet, community water system\",\n",
        "    2: \"Shared, faucet, community water system\",\n",
        "    3: \"Own use, tubed/piped deep well\",\n",
        "    4: \"Shared, tubed/piped deep well\",\n",
        "    5: \"Tubed/piped shallow well\",\n",
        "    6: \"Dug well\",\n",
        "    7: \"Protected spring\",\n",
        "    8: \"Unprotected spring\",\n",
        "    9: \"Lake, river, rain, and others\",\n",
        "    10: \"Peddler\",\n",
        "    11: \"Bottled water\",\n",
        "    12: \"Others\"\n",
        "}\n",
        "\n",
        "fies_df[\"WATER_Group\"] = fies_df[\"WATER\"].map(walls_mapping)\n"
      ],
      "metadata": {
        "id": "FlLtf9BnPNzS"
      },
      "execution_count": 32,
      "outputs": []
    },
    {
      "cell_type": "markdown",
      "source": [
        "The `WATER` column represents the household’s main water source. It was converted to numeric and mapped into descriptive categories based on PSA codes. The grouped categories were then one-hot encoded.\n"
      ],
      "metadata": {
        "id": "T-_od9_ETOsU"
      }
    },
    {
      "cell_type": "code",
      "source": [
        "fies_df = pd.get_dummies(fies_df, columns=[\"WATER_Group\"], drop_first=True, dtype=int)"
      ],
      "metadata": {
        "id": "HdF-xMLLPYpi"
      },
      "execution_count": 33,
      "outputs": []
    },
    {
      "cell_type": "code",
      "source": [
        "fies_df.drop(columns=[\"WATER\"], inplace=True, errors='ignore')"
      ],
      "metadata": {
        "id": "oCqAgRm3PZt7"
      },
      "execution_count": 34,
      "outputs": []
    },
    {
      "cell_type": "markdown",
      "source": [
        "### **`MS`** - ***Marital Status***"
      ],
      "metadata": {
        "id": "CN_AGig07hnE"
      }
    },
    {
      "cell_type": "code",
      "source": [
        "fies_df['MS'] = fies_df['MS'].apply(pd.to_numeric, errors='coerce')"
      ],
      "metadata": {
        "id": "9nOb31AC7nP7"
      },
      "execution_count": 35,
      "outputs": []
    },
    {
      "cell_type": "code",
      "source": [
        "marital_mapping = {\n",
        "    1: \"Single\",\n",
        "    2: \"Married\",\n",
        "    3: \"Widowed\",\n",
        "    4: \"Divorced\",\n",
        "    5: \"Separated\",\n",
        "}"
      ],
      "metadata": {
        "id": "cHTRKT_f7vC7"
      },
      "execution_count": 36,
      "outputs": []
    },
    {
      "cell_type": "code",
      "source": [
        "fies_df['MS_Group'] = fies_df['MS'].map(marital_mapping)"
      ],
      "metadata": {
        "id": "Yu5RufDe77lJ"
      },
      "execution_count": 37,
      "outputs": []
    },
    {
      "cell_type": "code",
      "source": [
        "fies_df = pd.get_dummies(fies_df, columns=['MS_Group'], drop_first=True, dtype=int)"
      ],
      "metadata": {
        "id": "5GAWV05m8MWh"
      },
      "execution_count": 38,
      "outputs": []
    },
    {
      "cell_type": "code",
      "source": [
        "fies_df.drop(columns=[\"MS\"], inplace=True, errors='ignore')"
      ],
      "metadata": {
        "id": "qGxAfAry8Oqi"
      },
      "execution_count": 39,
      "outputs": []
    },
    {
      "cell_type": "markdown",
      "source": [
        "The `MS` (marital status) variable was mapped into categories like \"Single\", \"Married\", etc., for better interpretability. One-hot encoding was then applied to prepare these for machine learning models."
      ],
      "metadata": {
        "id": "oxOc0MfKTRrV"
      }
    },
    {
      "cell_type": "markdown",
      "source": [
        "### **`SPOUSE_EMP`** - ***Spouse Employment***"
      ],
      "metadata": {
        "id": "_ChD2LayOFtj"
      }
    },
    {
      "cell_type": "code",
      "source": [
        "fies_df['SPOUSE_EMP'] = fies_df['SPOUSE_EMP'].apply(pd.to_numeric, errors='coerce')"
      ],
      "metadata": {
        "id": "Jv5322bMOKEU"
      },
      "execution_count": 40,
      "outputs": []
    },
    {
      "cell_type": "code",
      "source": [
        "spouse_mapping = {\n",
        "    1: \"Yes\",\n",
        "    2: \"No\",\n",
        "    3: \"Not Applicable\"\n",
        "}"
      ],
      "metadata": {
        "id": "XeKba67ROStb"
      },
      "execution_count": 41,
      "outputs": []
    },
    {
      "cell_type": "code",
      "source": [
        "fies_df['SPOUSE_EMP_Group'] = fies_df['SPOUSE_EMP'].map(spouse_mapping)"
      ],
      "metadata": {
        "id": "64S2BqchOZi9"
      },
      "execution_count": 42,
      "outputs": []
    },
    {
      "cell_type": "code",
      "source": [
        "fies_df = pd.get_dummies(fies_df, columns=['SPOUSE_EMP_Group'], drop_first=True, dtype=int)"
      ],
      "metadata": {
        "id": "d9VDwchtOc28"
      },
      "execution_count": 43,
      "outputs": []
    },
    {
      "cell_type": "code",
      "source": [
        "fies_df.drop(columns=[\"SPOUSE_EMP\"], inplace=True, errors='ignore')"
      ],
      "metadata": {
        "id": "6G3beBW0OfPn"
      },
      "execution_count": 44,
      "outputs": []
    },
    {
      "cell_type": "markdown",
      "source": [
        "The `SPOUSE_EMP` variable indicates whether the spouse was employed. We mapped it to labels like \"Yes\", \"No\", and \"Not Applicable\", then one-hot encoded the result."
      ],
      "metadata": {
        "id": "5v5_m4soTTKV"
      }
    },
    {
      "cell_type": "markdown",
      "source": [
        "### **`BLDG_TYPE`** - ***Building Type***"
      ],
      "metadata": {
        "id": "rpUDqWn2OxVC"
      }
    },
    {
      "cell_type": "code",
      "source": [
        "fies_df['BLDG_TYPE'] = fies_df['BLDG_TYPE'].apply(pd.to_numeric, errors='coerce')"
      ],
      "metadata": {
        "id": "VsY9XCVYO2YK"
      },
      "execution_count": 45,
      "outputs": []
    },
    {
      "cell_type": "code",
      "source": [
        "building_mapping = {\n",
        "    1: \"Single\",\n",
        "    2: \"Duplex\",\n",
        "    3: \"Multi-unit residential\",\n",
        "    4: \"Commercial/Industrial/agricultural\",\n",
        "    5: \"Institutional living quarters\",\n",
        "    6: \"Other housing unit (boat, cve, others)\"\n",
        "}"
      ],
      "metadata": {
        "id": "C68q-Qe6PCpD"
      },
      "execution_count": 46,
      "outputs": []
    },
    {
      "cell_type": "code",
      "source": [
        "fies_df['BLDG_TYPE_Group'] = fies_df['BLDG_TYPE'].map(building_mapping)"
      ],
      "metadata": {
        "id": "bM5_Ou8IO58m"
      },
      "execution_count": 47,
      "outputs": []
    },
    {
      "cell_type": "code",
      "source": [
        "fies_df = pd.get_dummies(fies_df, columns=['BLDG_TYPE_Group'], drop_first=True, dtype=int)"
      ],
      "metadata": {
        "id": "5Xucac1bPV5i"
      },
      "execution_count": 48,
      "outputs": []
    },
    {
      "cell_type": "code",
      "source": [
        "fies_df.drop(columns=[\"BLDG_TYPE\"], inplace=True, errors='ignore')"
      ],
      "metadata": {
        "id": "UrXbvirVPgXN"
      },
      "execution_count": 49,
      "outputs": []
    },
    {
      "cell_type": "markdown",
      "source": [
        "The `BLDG_TYPE` variable refers to the type of building the household resides in. Values were mapped to categories like \"Single\", \"Duplex\", etc., and one-hot encoded to convert them into binary features.\n",
        "\n",
        "\n"
      ],
      "metadata": {
        "id": "TAD9SescVBC7"
      }
    },
    {
      "cell_type": "markdown",
      "source": [
        "### At this point, all selected categorical variables have been transformed into either numerical or one-hot encoded formats. This ensures that all features are compatible with machine learning models and reduces noise from irrelevant or improperly formatted data."
      ],
      "metadata": {
        "id": "u5UA5LiQTlSx"
      }
    },
    {
      "cell_type": "markdown",
      "source": [
        "### ***Handling Missing Data***"
      ],
      "metadata": {
        "id": "168NXZLEHVOL"
      }
    },
    {
      "cell_type": "markdown",
      "source": [
        "Now, since we converted the dtypes of categorical variables into float/int, we check for missing values."
      ],
      "metadata": {
        "id": "MpD-qNRj5XBx"
      }
    },
    {
      "cell_type": "code",
      "source": [
        "missing_values = fies_df.isnull().sum()\n",
        "print(\"Missing values per col: \", missing_values[missing_values>0])"
      ],
      "metadata": {
        "id": "rZENCQMFS0cM",
        "colab": {
          "base_uri": "https://localhost:8080/"
        },
        "outputId": "0fc3662b-7ebc-4c77-fb6a-6aa21d98ef0e"
      },
      "execution_count": 50,
      "outputs": [
        {
          "output_type": "stream",
          "name": "stdout",
          "text": [
            "Missing values per col:  AGELESS5           15359\n",
            "AGE5_17             8236\n",
            "EMPLOYED_PAY        8295\n",
            "EMPLOYED_PROF      12696\n",
            "DISTANCE           16804\n",
            "RADIO_QTY          16051\n",
            "TV_QTY              7810\n",
            "CD_QTY             14263\n",
            "STEREO_QTY         23010\n",
            "REF_QTY            17777\n",
            "WASH_QTY           20103\n",
            "AIRCON_QTY         25627\n",
            "CAR_QTY            26154\n",
            "LANDLINE_QTY       26130\n",
            "CELLPHONE_QTY       6424\n",
            "PC_QTY             23426\n",
            "OVEN_QTY           24131\n",
            "MOTOR_BANCA_QTY    27532\n",
            "MOTORCYCLE_QTY     23125\n",
            "dtype: int64\n"
          ]
        }
      ]
    },
    {
      "cell_type": "markdown",
      "source": [
        "After converting categorical variables to numeric, we inspected missing values across the dataset. Some variables had up to 68% missing entries. Since these missing values can affect model performance, we applied thresholds to determine whether to drop or impute."
      ],
      "metadata": {
        "id": "0tJ5aP2lUIFr"
      }
    },
    {
      "cell_type": "markdown",
      "source": [
        "We then check the percentage of missing data per column."
      ],
      "metadata": {
        "id": "fGoUrWkGMi3j"
      }
    },
    {
      "cell_type": "code",
      "source": [
        "missing_percent = (fies_df.isnull().sum() / len(fies_df)) * 100\n",
        "missing_percent = missing_percent[missing_percent > 0]\n",
        "print(missing_percent)\n"
      ],
      "metadata": {
        "id": "jNrMPBDR3oKh",
        "colab": {
          "base_uri": "https://localhost:8080/"
        },
        "outputId": "d447da63-4023-454b-c85f-9a99ec8f4f3a"
      },
      "execution_count": 51,
      "outputs": [
        {
          "output_type": "stream",
          "name": "stdout",
          "text": [
            "AGELESS5           38.238809\n",
            "AGE5_17            20.504905\n",
            "EMPLOYED_PAY       20.651795\n",
            "EMPLOYED_PROF      31.608823\n",
            "DISTANCE           41.836379\n",
            "RADIO_QTY          39.961659\n",
            "TV_QTY             19.444306\n",
            "CD_QTY             35.510133\n",
            "STEREO_QTY         57.287258\n",
            "REF_QTY            44.258826\n",
            "WASH_QTY           50.049793\n",
            "AIRCON_QTY         63.802719\n",
            "CAR_QTY            65.114774\n",
            "LANDLINE_QTY       65.055022\n",
            "CELLPHONE_QTY      15.993626\n",
            "PC_QTY             58.322960\n",
            "OVEN_QTY           60.078176\n",
            "MOTOR_BANCA_QTY    68.545536\n",
            "MOTORCYCLE_QTY     57.573570\n",
            "dtype: float64\n"
          ]
        }
      ]
    },
    {
      "cell_type": "markdown",
      "source": [
        "Columns with `> 50%` missing values were dropped. These included features such as `STEREO_QTY`, `CAR_QTY`, and `MOTORCYCLE_QTY`, which are not essential for our predictive task and may introduce bias if imputed excessively.\n"
      ],
      "metadata": {
        "id": "T4Xa1H_ila6R"
      }
    },
    {
      "cell_type": "code",
      "source": [
        "missing_threshold = 0.50\n",
        "missing_percent = fies_df.isnull().mean()\n",
        "\n",
        "cols_to_drop = missing_percent[missing_percent > missing_threshold].index\n",
        "fies_df = fies_df.drop(columns=cols_to_drop)\n",
        "\n",
        "print(\"Dropped columns:\", cols_to_drop.tolist())"
      ],
      "metadata": {
        "id": "WHuxH4gk_Sme",
        "colab": {
          "base_uri": "https://localhost:8080/"
        },
        "outputId": "2e09d7e2-52bf-447d-e34a-452a7d2fdf24"
      },
      "execution_count": 52,
      "outputs": [
        {
          "output_type": "stream",
          "name": "stdout",
          "text": [
            "Dropped columns: ['STEREO_QTY', 'WASH_QTY', 'AIRCON_QTY', 'CAR_QTY', 'LANDLINE_QTY', 'PC_QTY', 'OVEN_QTY', 'MOTOR_BANCA_QTY', 'MOTORCYCLE_QTY']\n"
          ]
        }
      ]
    },
    {
      "cell_type": "code",
      "source": [
        "num_imputer = SimpleImputer(strategy=\"median\")\n",
        "numeric_cols = fies_df.select_dtypes(include=['number']).columns\n",
        "fies_df[numeric_cols] = num_imputer.fit_transform(fies_df[numeric_cols])"
      ],
      "metadata": {
        "id": "a3OrLVF5laqc"
      },
      "execution_count": 53,
      "outputs": []
    },
    {
      "cell_type": "markdown",
      "source": [
        "For the remaining numeric features with missing values, we used `SimpleImputer` with the **median** strategy. Median imputation is robust to outliers and is a good default choice when working with socioeconomic datasets that may be skewed."
      ],
      "metadata": {
        "id": "HpaIx2k2UbDI"
      }
    },
    {
      "cell_type": "markdown",
      "source": [
        "### By the end of the preprocessing stage, we ensured:\n",
        "\n",
        "- All features are numeric or one-hot encoded\n",
        "- High-missing columns were safely removed\n",
        "- Remaining missing values were imputed appropriately\n",
        "- All variables are now in a usable format for model training\n",
        "\n",
        "This thorough cleaning and preprocessing prepare the dataset for accurate and fair evaluation by different machine learning models in the next stages.\n"
      ],
      "metadata": {
        "id": "ZseiA0vEUfFN"
      }
    },
    {
      "cell_type": "markdown",
      "source": [
        "# **Section 5. Exploratory Data Analysis**"
      ],
      "metadata": {
        "id": "0QXo6UegU36x"
      }
    },
    {
      "cell_type": "markdown",
      "source": [
        "### ***Handle Outliers***"
      ],
      "metadata": {
        "id": "2UKwJ76oIKTP"
      }
    },
    {
      "cell_type": "code",
      "source": [
        "Q1_target = fies_df[\"TOINC\"].quantile(0.25)\n",
        "Q3_target = fies_df[\"TOINC\"].quantile(0.75)\n",
        "IQR_target = Q3_target - Q1_target\n",
        "lower_bound_target = Q1_target - 1.5 * IQR_target\n",
        "upper_bound_target = Q3_target + 1.5 * IQR_target\n",
        "\n",
        "fies_df = fies_df[(fies_df[\"TOINC\"] >= lower_bound_target) & (fies_df[\"TOINC\"] <= upper_bound_target)]"
      ],
      "metadata": {
        "id": "I3q8R72oIVfv"
      },
      "execution_count": 54,
      "outputs": []
    },
    {
      "cell_type": "code",
      "source": [
        "numeric_cols = fies_df.select_dtypes(include=['int64', 'float64']).columns"
      ],
      "metadata": {
        "id": "I8qZ2CIruFVD"
      },
      "execution_count": 55,
      "outputs": []
    },
    {
      "cell_type": "markdown",
      "source": [
        "### ***What are the skew values of each variable?***"
      ],
      "metadata": {
        "id": "i8KLuTfoSW57"
      }
    },
    {
      "cell_type": "markdown",
      "source": [
        "Since there are 100+ variables, visually representing and analyzing the distribution would be difficult. Instead, we will use the `.skew()` function. We will consider a value to be **highly skewed** if the skew value is `> 1`."
      ],
      "metadata": {
        "id": "bBUzoLnxTe2-"
      }
    },
    {
      "cell_type": "code",
      "source": [
        "skewness_values = fies_df[numeric_cols].skew()\n",
        "print(skewness_values)"
      ],
      "metadata": {
        "id": "RdPDWqSTuF_6",
        "colab": {
          "base_uri": "https://localhost:8080/"
        },
        "outputId": "b0598920-30ab-4d67-a42d-12ca85cd948d"
      },
      "execution_count": 56,
      "outputs": [
        {
          "output_type": "stream",
          "name": "stdout",
          "text": [
            "URB                                              -0.581926\n",
            "RSTR                                             -2.334945\n",
            "PSU                                               0.025939\n",
            "BWEIGHT                                           2.138654\n",
            "RFACT                                             1.806781\n",
            "                                                   ...    \n",
            "SPOUSE_EMP_Group_Yes                              0.378435\n",
            "BLDG_TYPE_Group_Duplex                            6.338559\n",
            "BLDG_TYPE_Group_Institutional living quarters    60.824338\n",
            "BLDG_TYPE_Group_Multi-unit residential            5.688501\n",
            "BLDG_TYPE_Group_Single                           -4.006590\n",
            "Length: 155, dtype: float64\n"
          ]
        }
      ]
    },
    {
      "cell_type": "markdown",
      "source": [
        "For values that are categorical and were mapped/one-hot encoded, we will exclude them from **Log Transformation**. We will also exclude variables that are discrete, for example, quantity variables such as number of children aged less than 5 in a household."
      ],
      "metadata": {
        "id": "YgYqncm5T43t"
      }
    },
    {
      "cell_type": "code",
      "source": [
        "exclude_cols = [\n",
        "    \"SEX\", \"JOB\", \"WATER\", \"ELECTRIC\",\n",
        "    \"HGC\", \"NATPC\", \"NATDC\", \"REGDC\", \"REGPC\"\n",
        "    \"OCCUP_GROUP\", \"KB_Group\", \"CW_Group\",\n",
        "]\n",
        "\n",
        "exclude_one_hot = [col for col in fies_df.columns if \"OCCUP_GROUP_\" in col or \"KB_Group_\" in col or \"CW_Group_\" in col\n",
        "                   or \"BLDG_TYPE_Group_\" in col or \"MS_Group_\" in col or \"SPOUSE_EMP_Group_\" in col or \"Region_\" in col\n",
        "                   or \"WALLS_Group_\" in col or \"WATER_Group_\" in col or \"ELECTRIC_Group_\"]\n",
        "\n",
        "exclude_cols += exclude_one_hot\n",
        "\n",
        "exclude_qty = [col for col in fies_df.columns if \"QTY\" in col or \"AGELESS5\" in col or \"AGE5_17\" in col]\n",
        "\n",
        "exclude_cols += exclude_qty\n",
        "\n",
        "print(\"Columns to Exclude from transformation:\", exclude_cols)\n"
      ],
      "metadata": {
        "id": "913p6E-32gKk",
        "colab": {
          "base_uri": "https://localhost:8080/"
        },
        "outputId": "f65aa6c8-bf77-45e4-e609-16e7d0adf460"
      },
      "execution_count": 57,
      "outputs": [
        {
          "output_type": "stream",
          "name": "stdout",
          "text": [
            "Columns to Exclude from transformation: ['SEX', 'JOB', 'WATER', 'ELECTRIC', 'HGC', 'NATPC', 'NATDC', 'REGDC', 'REGPCOCCUP_GROUP', 'KB_Group', 'CW_Group', 'URB', 'RSTR', 'PSU', 'BWEIGHT', 'RFACT', 'FSIZE', 'AGRI_SAL', 'NONAGRI_SAL', 'WAGES', 'NETSHARE', 'CASH_ABROAD', 'CASH_DOMESTIC', 'RENTALS_REC', 'INTEREST', 'PENSION', 'DIVIDENDS', 'OTHER_SOURCE', 'NET_RECEIPT', 'REGFT', 'NET_CFG', 'NET_LPR', 'NET_FISH', 'NET_FOR', 'NET_RET', 'NET_MFG', 'NET_COM', 'NET_TRANS', 'NET_MIN', 'NET_CONS', 'NET_NEC', 'EAINC', 'TOINC', 'LOSSES', 'T_BREAD', 'T_MEAT', 'T_FISH', 'T_MILK', 'T_OIL', 'T_FRUIT', 'T_VEG', 'T_SUGAR', 'T_FOOD_NEC', 'T_COFFEE', 'T_MINERAL', 'T_ALCOHOL', 'T_TOBACCO', 'T_OTHER_VEG', 'T_FOOD_HOME', 'T_FOOD_OUTSIDE', 'T_FOOD', 'T_CLOTH', 'T_FURNISHING', 'T_HEALTH', 'T_HOUSING_WATER', 'T_ACTRENT', 'T_RENTVAL', 'T_IMPUTED_RENT', 'T_BIMPUTED_RENT', 'T_TRANSPORT', 'T_COMMUNICATION', 'T_RECREATION', 'T_EDUCATION', 'T_MISCELLANEOUS', 'T_OTHER_EXPENDITURE', 'T_OTHER_DISBURSEMENT', 'T_NFOOD', 'T_TOTEX', 'T_TOTDIS', 'T_OTHREC', 'T_TOREC', 'FOOD_ACCOM_SRVC', 'SEX', 'AGE', 'HGC', 'JOB', 'HHTYPE', 'MEMBERS', 'AGELESS5', 'AGE5_17', 'EMPLOYED_PAY', 'EMPLOYED_PROF', 'ROOF', 'TENURE', 'HSE_ALTERTN', 'TOILET', 'ELECTRIC', 'DISTANCE', 'RADIO_QTY', 'TV_QTY', 'CD_QTY', 'REF_QTY', 'CELLPHONE_QTY', 'POP_ADJ', 'PCINC', 'NATPC', 'NATDC', 'REGDC', 'REGPC', 'OCCUP_GROUP_Farmers & Fishers', 'OCCUP_GROUP_Laborers', 'OCCUP_GROUP_Machine Operators', 'OCCUP_GROUP_Officials & Executives', 'OCCUP_GROUP_Professionals', 'OCCUP_GROUP_Service Workers', 'OCCUP_GROUP_Special Occupations', 'OCCUP_GROUP_Technicians', 'OCCUP_GROUP_Trades Workers', 'OCCUP_GROUP_Unknown', 'KB_Group_Agriculture', 'KB_Group_Arts', 'KB_Group_Construction', 'KB_Group_Education', 'KB_Group_Electricity', 'KB_Group_Extra-territorial', 'KB_Group_Finance', 'KB_Group_Food Service', 'KB_Group_Health', 'KB_Group_Household Employers', 'KB_Group_IT', 'KB_Group_Manufacturing', 'KB_Group_Mining', 'KB_Group_Other Services', 'KB_Group_Professional', 'KB_Group_Public Admin', 'KB_Group_Real Estate', 'KB_Group_Retail', 'KB_Group_Transport', 'KB_Group_Unknown', 'KB_Group_Water Supply', 'CW_Group_Government', 'CW_Group_Private Establishment', 'CW_Group_Private Household', 'CW_Group_Self-Employed', 'CW_Group_Worked with Pay in Family Business', 'CW_Group_Worked without Pay in Family Business', 'WALLS_Group_Mixed but predominantly light', 'WALLS_Group_Mixed but predominantly salvaged', 'WALLS_Group_Mixed but predominantly strong', 'WALLS_Group_Salvage/makeshift', 'WALLS_Group_Strong materials', 'WATER_Group_Mixed but predominantly light', 'WATER_Group_Mixed but predominantly salvaged', 'WATER_Group_Mixed but predominantly strong', 'WATER_Group_Salvage/makeshift', 'WATER_Group_Strong materials', 'MS_Group_Married', 'MS_Group_Separated', 'MS_Group_Single', 'MS_Group_Widowed', 'SPOUSE_EMP_Group_Not Applicable', 'SPOUSE_EMP_Group_Yes', 'BLDG_TYPE_Group_Duplex', 'BLDG_TYPE_Group_Institutional living quarters', 'BLDG_TYPE_Group_Multi-unit residential', 'BLDG_TYPE_Group_Single', 'AGELESS5', 'AGE5_17', 'RADIO_QTY', 'TV_QTY', 'CD_QTY', 'REF_QTY', 'CELLPHONE_QTY']\n"
          ]
        }
      ]
    },
    {
      "cell_type": "code",
      "source": [
        "skewed_cols = skewness_values[skewness_values > 1].index\n",
        "print(\"Highly skewed variables:\", skewed_cols)"
      ],
      "metadata": {
        "id": "8KCk2LfquMOD",
        "colab": {
          "base_uri": "https://localhost:8080/"
        },
        "outputId": "dd16a3b7-91c2-4d79-8522-f7a9873e2aa4"
      },
      "execution_count": 58,
      "outputs": [
        {
          "output_type": "stream",
          "name": "stdout",
          "text": [
            "Highly skewed variables: Index(['BWEIGHT', 'RFACT', 'AGRI_SAL', 'NONAGRI_SAL', 'WAGES', 'NETSHARE',\n",
            "       'CASH_ABROAD', 'CASH_DOMESTIC', 'RENTALS_REC', 'INTEREST',\n",
            "       ...\n",
            "       'WATER_Group_Mixed but predominantly salvaged',\n",
            "       'WATER_Group_Mixed but predominantly strong',\n",
            "       'WATER_Group_Salvage/makeshift', 'MS_Group_Separated',\n",
            "       'MS_Group_Single', 'MS_Group_Widowed',\n",
            "       'SPOUSE_EMP_Group_Not Applicable', 'BLDG_TYPE_Group_Duplex',\n",
            "       'BLDG_TYPE_Group_Institutional living quarters',\n",
            "       'BLDG_TYPE_Group_Multi-unit residential'],\n",
            "      dtype='object', length=128)\n"
          ]
        }
      ]
    },
    {
      "cell_type": "code",
      "source": [
        "negatively_skewed_cols = skewness_values[skewness_values < -1].index\n",
        "print(\"Negatively skewed variables: \", negatively_skewed_cols)"
      ],
      "metadata": {
        "id": "Ky7bvRn6VKRN",
        "colab": {
          "base_uri": "https://localhost:8080/"
        },
        "outputId": "0d1aad19-920c-427e-d071-720c289bfe46"
      },
      "execution_count": 59,
      "outputs": [
        {
          "output_type": "stream",
          "name": "stdout",
          "text": [
            "Negatively skewed variables:  Index(['RSTR', 'HSE_ALTERTN', 'RADIO_QTY', 'MS_Group_Married',\n",
            "       'BLDG_TYPE_Group_Single'],\n",
            "      dtype='object')\n"
          ]
        }
      ]
    },
    {
      "cell_type": "markdown",
      "source": [
        "For skewed variables `> 1`, we will use **Log Transformation**."
      ],
      "metadata": {
        "id": "1LqCrpLZVr3c"
      }
    },
    {
      "cell_type": "code",
      "source": [
        "skewed_cols = [col for col in skewed_cols if col not in exclude_cols]\n",
        "\n",
        "for col in skewed_cols:\n",
        "    min_val = fies_df[col].min()\n",
        "    if min_val < 0:\n",
        "        fies_df[col] = np.log1p(fies_df[col] - min_val + 1)\n",
        "    else:\n",
        "        fies_df[col] = np.log1p(fies_df[col])\n",
        "\n",
        "numeric_cols = [col for col in fies_df.select_dtypes(include=[\"int64\", \"float64\"]).columns if col not in exclude_cols and col not in skewed_cols]\n",
        "\n",
        "for col in numeric_cols:\n",
        "    min_val = fies_df[col].min()\n",
        "    if min_val < 0:\n",
        "        fies_df[col] = np.log1p(fies_df[col] - min_val + 1)\n",
        "    else:\n",
        "        fies_df[col] = np.log1p(fies_df[col])\n"
      ],
      "metadata": {
        "id": "lSSh4NyQuYDC"
      },
      "execution_count": 60,
      "outputs": []
    },
    {
      "cell_type": "markdown",
      "source": [
        "For skewed variables `< -1`, we will use **Square Transformation**."
      ],
      "metadata": {
        "id": "D5b-sH1yVyjk"
      }
    },
    {
      "cell_type": "code",
      "source": [
        "fies_df[negatively_skewed_cols] = fies_df[negatively_skewed_cols] ** 2"
      ],
      "metadata": {
        "id": "r1eExiSvV9JE"
      },
      "execution_count": 61,
      "outputs": []
    },
    {
      "cell_type": "code",
      "source": [
        "#fies_df.hist(figsize=(30, 10), bins=30)\n",
        "#plt.suptitle(\"Feature Distributions\", fontsize=20)\n",
        "#plt.show()"
      ],
      "metadata": {
        "id": "gJ2evR1QKomM"
      },
      "execution_count": 62,
      "outputs": []
    },
    {
      "cell_type": "markdown",
      "source": [
        "To address skewness in numeric variables, we applied transformations to make distributions more normal-like:\n",
        "\n",
        "- **Log transformation** was used for variables with strong positive skew (skew > 1)\n",
        "- **Square transformation** was used for variables with strong negative skew (skew < -1)\n",
        "\n",
        "This helps improve the performance and convergence of many machine learning models, especially linear models and neural networks.\n"
      ],
      "metadata": {
        "id": "v3VjIHg5XGsb"
      }
    },
    {
      "cell_type": "markdown",
      "metadata": {
        "id": "ZZI1QyRcuDVV"
      },
      "source": [
        "# **Section 6. Initial Model Training**"
      ]
    },
    {
      "cell_type": "markdown",
      "source": [
        "In this section we train and evaluate three distinct regression models using the cleaned and transformed dataset:\n",
        "\n",
        "1. **Linear Regression**\n",
        "2. **K-Nearest Neighbors (KNN)**\n",
        "3. **Neural Network**\n",
        "\n",
        "We begin by splitting the dataset into training and test sets using 5-fold cross-validation. Feature selection was applied beforehand using correlation filtering, Recursive Feature Elimination (RFE), and Variance Inflation Factor (VIF). This ensures that only the most informative and independent features are retained for modeling."
      ],
      "metadata": {
        "id": "5X93Dnk8MK72"
      }
    },
    {
      "cell_type": "markdown",
      "source": [
        "## **Splitting the Dataset (Setting up KFold) and Feature Selection**"
      ],
      "metadata": {
        "id": "jDxIfnuK2ksI"
      }
    },
    {
      "cell_type": "code",
      "execution_count": 63,
      "metadata": {
        "id": "yA7b69XquDVV"
      },
      "outputs": [],
      "source": [
        "X = fies_df.drop(columns=[\"TOINC\"])\n",
        "y = fies_df[\"TOINC\"]"
      ]
    },
    {
      "cell_type": "code",
      "source": [
        "y_mean = np.mean(y)"
      ],
      "metadata": {
        "id": "sQXWtSkUqRwD"
      },
      "execution_count": 64,
      "outputs": []
    },
    {
      "cell_type": "code",
      "source": [
        "threshold = 0.85\n",
        "corr_matrix = X.corr().abs()\n",
        "features_to_drop = set()\n",
        "\n",
        "for i in range(len(corr_matrix.columns)):\n",
        "    for j in range(i + 1, len(corr_matrix.columns)):\n",
        "        if corr_matrix.iloc[i, j] > threshold:\n",
        "            feature1 = corr_matrix.columns[i]\n",
        "            feature2 = corr_matrix.columns[j]\n",
        "            avg_corr1 = corr_matrix[feature1].mean()\n",
        "            avg_corr2 = corr_matrix[feature2].mean()\n",
        "            feature_to_remove = feature1 if avg_corr1 > avg_corr2 else feature2\n",
        "            features_to_drop.add(feature_to_remove)\n",
        "\n",
        "X_filtered = X.drop(columns=features_to_drop)\n",
        "print(\"Dropped Features (High Correlation):\", features_to_drop)"
      ],
      "metadata": {
        "id": "bKI_6MoFbYoY",
        "outputId": "8203f729-4346-4ce3-ecdd-413ce9cc572e",
        "colab": {
          "base_uri": "https://localhost:8080/"
        }
      },
      "execution_count": 65,
      "outputs": [
        {
          "output_type": "stream",
          "name": "stdout",
          "text": [
            "Dropped Features (High Correlation): {'T_HOUSING_WATER', 'T_TOTEX', 'JOB', 'KB_Group_Unknown', 'MS_Group_Married', 'NATPC', 'CW_Group_Government', 'T_TOTDIS', 'T_FOOD', 'BWEIGHT', 'T_TOREC', 'T_RENTVAL', 'NONAGRI_SAL', 'NATDC', 'FSIZE'}\n"
          ]
        }
      ]
    },
    {
      "cell_type": "code",
      "source": [
        "model_for_rfe = LinearRegression()\n",
        "rfe = RFE(estimator=model_for_rfe, n_features_to_select=10)\n",
        "rfe.fit(X_filtered, y)\n",
        "\n",
        "X_final = X_filtered.loc[:, rfe.support_]\n",
        "selected_features = X_filtered.loc[:, rfe.support_].columns.tolist()\n",
        "print(\"Final Selected Features:\", selected_features)"
      ],
      "metadata": {
        "id": "T6ZHZD7CcJ-A",
        "outputId": "03165bc5-c0f1-4337-8a13-196fe4948a6c",
        "colab": {
          "base_uri": "https://localhost:8080/"
        }
      },
      "execution_count": 66,
      "outputs": [
        {
          "output_type": "stream",
          "name": "stdout",
          "text": [
            "Final Selected Features: ['WAGES', 'NETSHARE', 'CASH_ABROAD', 'RENTALS_REC', 'INTEREST', 'PENSION', 'OTHER_SOURCE', 'REGFT', 'EAINC', 'T_IMPUTED_RENT']\n"
          ]
        }
      ]
    },
    {
      "cell_type": "code",
      "source": [
        "X_vif = pd.DataFrame(X_final, columns=X_final.columns)  # Convert to DataFrame if not already\n",
        "\n",
        "# Compute VIF for each feature\n",
        "vif_data = pd.DataFrame()\n",
        "vif_data[\"Feature\"] = X_vif.columns\n",
        "vif_data[\"VIF\"] = [variance_inflation_factor(X_vif.values, i) for i in range(X_vif.shape[1])]\n",
        "\n",
        "print(vif_data.sort_values(by=\"VIF\", ascending=False))"
      ],
      "metadata": {
        "id": "34b6GEE0nRTy",
        "outputId": "d316cff2-c989-4ed6-d650-bdba24775c4d",
        "colab": {
          "base_uri": "https://localhost:8080/"
        }
      },
      "execution_count": 67,
      "outputs": [
        {
          "output_type": "stream",
          "name": "stdout",
          "text": [
            "          Feature       VIF\n",
            "9  T_IMPUTED_RENT  2.092056\n",
            "0           WAGES  1.400755\n",
            "8           EAINC  1.245198\n",
            "2     CASH_ABROAD  1.207967\n",
            "7           REGFT  1.148439\n",
            "5         PENSION  1.103841\n",
            "3     RENTALS_REC  1.050302\n",
            "1        NETSHARE  1.032043\n",
            "4        INTEREST  1.004940\n",
            "6    OTHER_SOURCE  1.001405\n"
          ]
        }
      ]
    },
    {
      "cell_type": "code",
      "source": [
        "plt.figure(figsize=(10, 8))\n",
        "sns.heatmap(X_final.corr(), annot=True, cmap=\"coolwarm\", fmt=\".2f\")\n",
        "plt.title(\"Pairwise Correlation of Selected Features\")\n",
        "plt.show()"
      ],
      "metadata": {
        "id": "tl6dQrbQtg35",
        "outputId": "fc128d6c-3322-4734-f367-45133c2e9447",
        "colab": {
          "base_uri": "https://localhost:8080/",
          "height": 0
        }
      },
      "execution_count": 68,
      "outputs": [
        {
          "output_type": "display_data",
          "data": {
            "text/plain": [
              "<Figure size 1000x800 with 2 Axes>"
            ],
            "image/png": "[encoded data removed]"
          },
          "metadata": {}
        }
      ]
    },
    {
      "cell_type": "markdown",
      "source": [
        "## **Linear Regression**"
      ],
      "metadata": {
        "id": "dBmZTpST4pG0"
      }
    },
    {
      "cell_type": "code",
      "source": [
        "kf = KFold(n_splits=5, shuffle=True, random_state=42)"
      ],
      "metadata": {
        "id": "k9zEstixcYfN"
      },
      "execution_count": 69,
      "outputs": []
    },
    {
      "cell_type": "code",
      "source": [
        "mae_scores = []"
      ],
      "metadata": {
        "id": "s6lbEvaidDLB"
      },
      "execution_count": 70,
      "outputs": []
    },
    {
      "cell_type": "code",
      "source": [
        "for train_index, val_index in kf.split(X_final):\n",
        "    X_train, X_val = X_final.iloc[train_index], X_final.iloc[val_index]\n",
        "    y_train, y_val = y.iloc[train_index], y.iloc[val_index]\n",
        "\n",
        "    scaler = StandardScaler()\n",
        "    X_train_scaled = scaler.fit_transform(X_train)\n",
        "    X_val_scaled = scaler.transform(X_val)\n",
        "\n",
        "    model = LinearRegression()\n",
        "    model.fit(X_train_scaled, y_train)\n",
        "\n",
        "    y_pred = model.predict(X_val_scaled)\n",
        "    mae_scores.append(mean_absolute_error(y_val, y_pred))\n",
        "\n",
        "print(\"Linear Regression Mean MAE:\", np.mean(mae_scores))"
      ],
      "metadata": {
        "id": "TdKa9woOCgPK",
        "colab": {
          "base_uri": "https://localhost:8080/"
        },
        "outputId": "c8546b73-4c8d-4b83-ba8c-023be1a4ec30"
      },
      "execution_count": 71,
      "outputs": [
        {
          "output_type": "stream",
          "name": "stdout",
          "text": [
            "Linear Regression Mean MAE: 10492.027775935898\n"
          ]
        }
      ]
    },
    {
      "cell_type": "markdown",
      "source": [
        "### ***Check for Overfitting and Multicollinearity***"
      ],
      "metadata": {
        "id": "dl05Jk6w6xfy"
      }
    },
    {
      "cell_type": "code",
      "source": [
        "train_sizes, train_scores, val_scores = learning_curve(\n",
        "    model, X_final, y, cv=5, scoring=\"r2\", n_jobs=-1\n",
        ")\n",
        "\n",
        "train_mean = np.mean(train_scores, axis=1)\n",
        "train_std = np.std(train_scores, axis=1)\n",
        "val_mean = np.mean(val_scores, axis=1)\n",
        "val_std = np.std(val_scores, axis=1)\n",
        "\n",
        "plt.figure(figsize=(8, 6))\n",
        "plt.plot(train_sizes, train_mean, 'o-', label=\"Training Score\", color=\"blue\")\n",
        "plt.fill_between(train_sizes, train_mean - train_std, train_mean + train_std, alpha=0.1, color=\"blue\")\n",
        "\n",
        "plt.plot(train_sizes, val_mean, 'o-', label=\"Validation Score\", color=\"red\")\n",
        "plt.fill_between(train_sizes, val_mean - val_std, val_mean + val_std, alpha=0.1, color=\"red\")\n",
        "\n",
        "plt.xlabel(\"Training Set Size\")\n",
        "plt.ylabel(\"Score (R^2)\")\n",
        "plt.title(\"Learning Curve\")\n",
        "plt.legend()\n",
        "plt.show()"
      ],
      "metadata": {
        "id": "R-sjR2zf8xbY",
        "colab": {
          "base_uri": "https://localhost:8080/",
          "height": 0
        },
        "outputId": "f1bfd679-31ea-4e01-c674-11d2e5a9900f"
      },
      "execution_count": 72,
      "outputs": [
        {
          "output_type": "display_data",
          "data": {
            "text/plain": [
              "<Figure size 800x600 with 1 Axes>"
            ],
            "image/png": "[encoded data removed]"
          },
          "metadata": {}
        }
      ]
    },
    {
      "cell_type": "markdown",
      "source": [
        "## **K Nearest Neighbors Regression**"
      ],
      "metadata": {
        "id": "P6vp25bmYJrb"
      }
    },
    {
      "cell_type": "markdown",
      "source": [
        "We first initialized an instance of the imported KNeighborsRegressor class from sklearn.neighbors. The KNN regressor will be used to predict target values based on the k-nearest neighbors in the feature space."
      ],
      "metadata": {
        "id": "3OGuGIzejfym"
      }
    },
    {
      "cell_type": "code",
      "source": [
        "#knn = KNeighborsRegressor()"
      ],
      "metadata": {
        "id": "hMi1NptRYLNT"
      },
      "execution_count": 73,
      "outputs": []
    },
    {
      "cell_type": "markdown",
      "source": [
        "Here, the KNN regressor is fitted to the training data (X_train and y_train). This step allows the model to learn the relationship between the features and the target values."
      ],
      "metadata": {
        "id": "D8bn2oHcjhhj"
      }
    },
    {
      "cell_type": "code",
      "source": [
        "#knn.fit(X_train, y_train)"
      ],
      "metadata": {
        "id": "U09KKOnDYMvU"
      },
      "execution_count": 74,
      "outputs": []
    },
    {
      "cell_type": "markdown",
      "source": [
        "Next, the fitted KNN regressor is used to predict the target values for the test data (X_test). The predictions are stored in y_pred. The model's performance is then evaluated using Mean Squared Error (MSE). The mean_squared_error function compares the true target values (y_test) with the predicted values (y_pred) and calculates the MSE, which is then printed."
      ],
      "metadata": {
        "id": "9s2BVz9vYREx"
      }
    },
    {
      "cell_type": "code",
      "source": [
        "#y_pred = knn.predict(X_final)\n",
        "#print(mean_squared_error(y_val, y_pred))"
      ],
      "metadata": {
        "id": "_cY81x5lYNpg"
      },
      "execution_count": 75,
      "outputs": []
    },
    {
      "cell_type": "markdown",
      "source": [
        "The same is done for the train data."
      ],
      "metadata": {
        "id": "Cfr3lK1mYS0X"
      }
    },
    {
      "cell_type": "code",
      "source": [
        "#y_train_pred = knn.predict(X_train)\n",
        "#print(mean_squared_error(y_train, y_train_pred))"
      ],
      "metadata": {
        "id": "368aIP29YO1p"
      },
      "execution_count": 76,
      "outputs": []
    },
    {
      "cell_type": "code",
      "source": [
        "kf = KFold(n_splits=5, shuffle=True, random_state=42)"
      ],
      "metadata": {
        "id": "IpdQXOTMjRVF"
      },
      "execution_count": 77,
      "outputs": []
    },
    {
      "cell_type": "code",
      "source": [
        "mae_scores = []"
      ],
      "metadata": {
        "id": "ZpVIpktNjZX6"
      },
      "execution_count": 78,
      "outputs": []
    },
    {
      "cell_type": "code",
      "source": [
        "for train_index, val_index in kf.split(X_final):\n",
        "    X_train, X_val = X_final.iloc[train_index], X_final.iloc[val_index]\n",
        "    y_train, y_val = y.iloc[train_index], y.iloc[val_index]\n",
        "\n",
        "\n",
        "    # Scale Data\n",
        "    scaler = StandardScaler()\n",
        "    X_train_scaled = scaler.fit_transform(X_train)\n",
        "    X_val_scaled = scaler.transform(X_val)\n",
        "\n",
        "\n",
        "    # Train KNN Model\n",
        "    knn = KNeighborsRegressor(n_neighbors=10)  # You can tune n_neighbors\n",
        "    knn.fit(X_train_scaled, y_train)\n",
        "\n",
        "\n",
        "    # Predict & Compute MAE\n",
        "    y_pred = knn.predict(X_val_scaled)\n",
        "    mae = mean_absolute_error(y_val, y_pred)\n",
        "    mae_scores.append(mae)\n",
        "\n",
        "\n",
        "print(\"MAE Scores per Fold:\", mae_scores)\n",
        "print(\"Mean MAE:\", np.mean(mae_scores))"
      ],
      "metadata": {
        "id": "n1Zzo1mLjYiY",
        "outputId": "2e6b1a02-e162-4c1c-f6ea-0988965fb925",
        "colab": {
          "base_uri": "https://localhost:8080/"
        }
      },
      "execution_count": 79,
      "outputs": [
        {
          "output_type": "stream",
          "name": "stdout",
          "text": [
            "MAE Scores per Fold: [14978.466468602293, 14642.39384199865, 14257.477555705604, 14761.656361426256, 14348.192639113991]\n",
            "Mean MAE: 14597.637373369358\n"
          ]
        }
      ]
    },
    {
      "cell_type": "code",
      "source": [
        "train_sizes, train_scores, val_scores = learning_curve(\n",
        "    knn, X_final, y, cv=5, scoring=\"r2\", n_jobs=-1\n",
        ")\n",
        "\n",
        "\n",
        "# Compute mean and std for training and validation scores\n",
        "train_mean = np.mean(train_scores, axis=1)\n",
        "train_std = np.std(train_scores, axis=1)\n",
        "val_mean = np.mean(val_scores, axis=1)\n",
        "val_std = np.std(val_scores, axis=1)\n",
        "\n",
        "\n",
        "# Plot learning curve\n",
        "plt.figure(figsize=(8, 6))\n",
        "plt.plot(train_sizes, train_mean, 'o-', label=\"Training Score\", color=\"blue\")\n",
        "plt.fill_between(train_sizes, train_mean - train_std, train_mean + train_std, alpha=0.1, color=\"blue\")\n",
        "\n",
        "\n",
        "plt.plot(train_sizes, val_mean, 'o-', label=\"Validation Score\", color=\"red\")\n",
        "plt.fill_between(train_sizes, val_mean - val_std, val_mean + val_std, alpha=0.1, color=\"red\")\n",
        "\n",
        "\n",
        "plt.xlabel(\"Training Set Size\")\n",
        "plt.ylabel(\"Score (R^2)\")\n",
        "plt.title(\"Learning Curve for KNN Regression\")\n",
        "plt.legend()\n",
        "plt.show()\n"
      ],
      "metadata": {
        "id": "YbJRIbAojdQ9",
        "outputId": "829ec653-cc4d-441f-bbc3-b28f24f024c9",
        "colab": {
          "base_uri": "https://localhost:8080/",
          "height": 0
        }
      },
      "execution_count": 80,
      "outputs": [
        {
          "output_type": "display_data",
          "data": {
            "text/plain": [
              "<Figure size 800x600 with 1 Axes>"
            ],
            "image/png": "[encoded data removed]"
          },
          "metadata": {}
        }
      ]
    },
    {
      "cell_type": "markdown",
      "source": [],
      "metadata": {
        "id": "9SI8fpB7wSsh"
      }
    },
    {
      "cell_type": "markdown",
      "source": [
        "## **Neural Networks**\n",
        "\n",
        "This section trains a **Neural Network** (**NN**) **for regression** to predict **Total Income** (**TOINC**). The model is designed to handle **non-linear relationship**s in the data and is evaluated to ensure it is **neither overfitting nor underfitting**."
      ],
      "metadata": {
        "id": "E9p3aaZHadP6"
      }
    },
    {
      "cell_type": "markdown",
      "source": [
        "We use the selected features (X_final) and target (y) from the feature selection section."
      ],
      "metadata": {
        "id": "3RFdOIY186ZU"
      }
    },
    {
      "cell_type": "code",
      "source": [
        "X_train, X_test, y_train, y_test = train_test_split(X_final, y, test_size=0.2, random_state=42)"
      ],
      "metadata": {
        "id": "vpd60nQg109q"
      },
      "execution_count": 81,
      "outputs": []
    },
    {
      "cell_type": "markdown",
      "source": [
        "We scale both features and the target variable."
      ],
      "metadata": {
        "id": "qsf9bsfo88ZE"
      }
    },
    {
      "cell_type": "code",
      "source": [
        "# Scale X\n",
        "scaler_X = StandardScaler()\n",
        "X_train_scaled = scaler_X.fit_transform(X_train)\n",
        "X_test_scaled = scaler_X.transform(X_test)\n",
        "\n",
        "# Scale y (target)\n",
        "scaler_y = StandardScaler()\n",
        "y_train_scaled = scaler_y.fit_transform(y_train.values.reshape(-1, 1))\n",
        "y_test_scaled = scaler_y.transform(y_test.values.reshape(-1, 1))"
      ],
      "metadata": {
        "id": "t1Mz9Uoy3B4N"
      },
      "execution_count": 82,
      "outputs": []
    },
    {
      "cell_type": "markdown",
      "source": [
        "We build a Sequential model with 4 hidden layers using ReLU, BatchNorm, and Dropout."
      ],
      "metadata": {
        "id": "oRFGwlqt8-yl"
      }
    },
    {
      "cell_type": "code",
      "source": [
        "model = Sequential([\n",
        "    Dense(128, input_shape=(X_train_scaled.shape[1],)),\n",
        "    BatchNormalization(),\n",
        "    Activation(\"relu\"),\n",
        "    Dropout(0.2),\n",
        "\n",
        "    Dense(64),\n",
        "    BatchNormalization(),\n",
        "    Activation(\"relu\"),\n",
        "    Dropout(0.2),\n",
        "\n",
        "    Dense(32),\n",
        "    BatchNormalization(),\n",
        "    Activation(\"relu\"),\n",
        "    Dropout(0.2),\n",
        "\n",
        "    Dense(16),\n",
        "    BatchNormalization(),\n",
        "    Activation(\"relu\"),\n",
        "\n",
        "    Dense(1, activation=\"linear\")  # For regression\n",
        "])"
      ],
      "metadata": {
        "collapsed": true,
        "id": "DqWWDn9IOdYL",
        "outputId": "03400cf6-f2a9-4059-991b-4f65ff70c7bc",
        "colab": {
          "base_uri": "https://localhost:8080/"
        }
      },
      "execution_count": 83,
      "outputs": [
        {
          "output_type": "stream",
          "name": "stderr",
          "text": [
            "/usr/local/lib/python3.11/dist-packages/keras/src/layers/core/dense.py:87: UserWarning: Do not pass an `input_shape`/`input_dim` argument to a layer. When using Sequential models, prefer using an `Input(shape)` object as the first layer in the model instead.\n",
            "  super().__init__(activity_regularizer=activity_regularizer, **kwargs)\n"
          ]
        }
      ]
    },
    {
      "cell_type": "markdown",
      "source": [
        "Using Adam optimizer, MSE as loss, and MAE as the evaluation metric."
      ],
      "metadata": {
        "id": "f27ly6O69Bly"
      }
    },
    {
      "cell_type": "code",
      "source": [
        "model.compile(\n",
        "    optimizer=Adam(learning_rate=0.001),\n",
        "    loss=Huber(),\n",
        "    metrics=[\"mae\"]\n",
        ")"
      ],
      "metadata": {
        "id": "tONj9927Q4wz"
      },
      "execution_count": 84,
      "outputs": []
    },
    {
      "cell_type": "markdown",
      "source": [
        "We use `EarlyStopping` and `ReduceLROnPlateau` to improve training."
      ],
      "metadata": {
        "id": "tTbF3dRt9Iii"
      }
    },
    {
      "cell_type": "code",
      "source": [
        "reduce_lr = ReduceLROnPlateau(\n",
        "    monitor=\"val_loss\", factor=0.5, patience=5, min_lr=1e-5, verbose=1\n",
        ")\n",
        "\n",
        "early_stopping = EarlyStopping(\n",
        "    monitor=\"val_loss\", patience=10, restore_best_weights=True\n",
        ")"
      ],
      "metadata": {
        "id": "18OYtXVa9F5Q"
      },
      "execution_count": 85,
      "outputs": []
    },
    {
      "cell_type": "markdown",
      "source": [
        "We then train the model"
      ],
      "metadata": {
        "id": "ZXARqUA59fJf"
      }
    },
    {
      "cell_type": "code",
      "source": [
        "history = model.fit(\n",
        "    X_train_scaled, y_train_scaled,\n",
        "    epochs=100,\n",
        "    batch_size=16,\n",
        "    validation_data=(X_test_scaled, y_test_scaled),\n",
        "    callbacks=[early_stopping, reduce_lr],\n",
        "    verbose=1\n",
        ")"
      ],
      "metadata": {
        "collapsed": true,
        "id": "PBw7Qp4lRUM6",
        "outputId": "dfaaafb6-6158-46ba-b8ec-21303381343c",
        "colab": {
          "base_uri": "https://localhost:8080/"
        }
      },
      "execution_count": 86,
      "outputs": [
        {
          "output_type": "stream",
          "name": "stdout",
          "text": [
            "Epoch 1/100\n",
            "\u001b[1m1852/1852\u001b[0m \u001b[32m━━━━━━━━━━━━━━━━━━━━\u001b[0m\u001b[37m\u001b[0m \u001b[1m11s\u001b[0m 4ms/step - loss: 0.1753 - mae: 0.4423 - val_loss: 0.0297 - val_mae: 0.1688 - learning_rate: 0.0010\n",
            "Epoch 2/100\n",
            "\u001b[1m1852/1852\u001b[0m \u001b[32m━━━━━━━━━━━━━━━━━━━━\u001b[0m\u001b[37m\u001b[0m \u001b[1m7s\u001b[0m 4ms/step - loss: 0.0806 - mae: 0.2967 - val_loss: 0.0287 - val_mae: 0.1554 - learning_rate: 0.0010\n",
            "Epoch 3/100\n",
            "\u001b[1m1852/1852\u001b[0m \u001b[32m━━━━━━━━━━━━━━━━━━━━\u001b[0m\u001b[37m\u001b[0m \u001b[1m8s\u001b[0m 4ms/step - loss: 0.0711 - mae: 0.2741 - val_loss: 0.0169 - val_mae: 0.1102 - learning_rate: 0.0010\n",
            "Epoch 4/100\n",
            "\u001b[1m1852/1852\u001b[0m \u001b[32m━━━━━━━━━━━━━━━━━━━━\u001b[0m\u001b[37m\u001b[0m \u001b[1m7s\u001b[0m 4ms/step - loss: 0.0693 - mae: 0.2704 - val_loss: 0.0161 - val_mae: 0.1124 - learning_rate: 0.0010\n",
            "Epoch 5/100\n",
            "\u001b[1m1852/1852\u001b[0m \u001b[32m━━━━━━━━━━━━━━━━━━━━\u001b[0m\u001b[37m\u001b[0m \u001b[1m10s\u001b[0m 3ms/step - loss: 0.0627 - mae: 0.2558 - val_loss: 0.0167 - val_mae: 0.1148 - learning_rate: 0.0010\n",
            "Epoch 6/100\n",
            "\u001b[1m1852/1852\u001b[0m \u001b[32m━━━━━━━━━━━━━━━━━━━━\u001b[0m\u001b[37m\u001b[0m \u001b[1m10s\u001b[0m 3ms/step - loss: 0.0622 - mae: 0.2538 - val_loss: 0.0177 - val_mae: 0.1213 - learning_rate: 0.0010\n",
            "Epoch 7/100\n",
            "\u001b[1m1852/1852\u001b[0m \u001b[32m━━━━━━━━━━━━━━━━━━━━\u001b[0m\u001b[37m\u001b[0m \u001b[1m11s\u001b[0m 4ms/step - loss: 0.0618 - mae: 0.2532 - val_loss: 0.0208 - val_mae: 0.1285 - learning_rate: 0.0010\n",
            "Epoch 8/100\n",
            "\u001b[1m1852/1852\u001b[0m \u001b[32m━━━━━━━━━━━━━━━━━━━━\u001b[0m\u001b[37m\u001b[0m \u001b[1m7s\u001b[0m 4ms/step - loss: 0.0618 - mae: 0.2527 - val_loss: 0.0185 - val_mae: 0.1211 - learning_rate: 0.0010\n",
            "Epoch 9/100\n",
            "\u001b[1m1845/1852\u001b[0m \u001b[32m━━━━━━━━━━━━━━━━━━━\u001b[0m\u001b[37m━\u001b[0m \u001b[1m0s\u001b[0m 3ms/step - loss: 0.0589 - mae: 0.2462\n",
            "Epoch 9: ReduceLROnPlateau reducing learning rate to 0.0005000000237487257.\n",
            "\u001b[1m1852/1852\u001b[0m \u001b[32m━━━━━━━━━━━━━━━━━━━━\u001b[0m\u001b[37m\u001b[0m \u001b[1m7s\u001b[0m 4ms/step - loss: 0.0589 - mae: 0.2462 - val_loss: 0.0181 - val_mae: 0.1228 - learning_rate: 0.0010\n",
            "Epoch 10/100\n",
            "\u001b[1m1852/1852\u001b[0m \u001b[32m━━━━━━━━━━━━━━━━━━━━\u001b[0m\u001b[37m\u001b[0m \u001b[1m7s\u001b[0m 4ms/step - loss: 0.0579 - mae: 0.2440 - val_loss: 0.0202 - val_mae: 0.1303 - learning_rate: 5.0000e-04\n",
            "Epoch 11/100\n",
            "\u001b[1m1852/1852\u001b[0m \u001b[32m━━━━━━━━━━━━━━━━━━━━\u001b[0m\u001b[37m\u001b[0m \u001b[1m6s\u001b[0m 3ms/step - loss: 0.0556 - mae: 0.2397 - val_loss: 0.0214 - val_mae: 0.1417 - learning_rate: 5.0000e-04\n",
            "Epoch 12/100\n",
            "\u001b[1m1852/1852\u001b[0m \u001b[32m━━━━━━━━━━━━━━━━━━━━\u001b[0m\u001b[37m\u001b[0m \u001b[1m8s\u001b[0m 4ms/step - loss: 0.0583 - mae: 0.2446 - val_loss: 0.0164 - val_mae: 0.1131 - learning_rate: 5.0000e-04\n",
            "Epoch 13/100\n",
            "\u001b[1m1852/1852\u001b[0m \u001b[32m━━━━━━━━━━━━━━━━━━━━\u001b[0m\u001b[37m\u001b[0m \u001b[1m7s\u001b[0m 4ms/step - loss: 0.0559 - mae: 0.2403 - val_loss: 0.0194 - val_mae: 0.1299 - learning_rate: 5.0000e-04\n",
            "Epoch 14/100\n",
            "\u001b[1m1848/1852\u001b[0m \u001b[32m━━━━━━━━━━━━━━━━━━━\u001b[0m\u001b[37m━\u001b[0m \u001b[1m0s\u001b[0m 3ms/step - loss: 0.0565 - mae: 0.2416\n",
            "Epoch 14: ReduceLROnPlateau reducing learning rate to 0.0002500000118743628.\n",
            "\u001b[1m1852/1852\u001b[0m \u001b[32m━━━━━━━━━━━━━━━━━━━━\u001b[0m\u001b[37m\u001b[0m \u001b[1m10s\u001b[0m 3ms/step - loss: 0.0565 - mae: 0.2416 - val_loss: 0.0199 - val_mae: 0.1309 - learning_rate: 5.0000e-04\n"
          ]
        }
      ]
    },
    {
      "cell_type": "markdown",
      "source": [
        "We evaluate using the scaled test set and then inverse-transform to get predictions in the original scale."
      ],
      "metadata": {
        "id": "2caWJ8u8RaAA"
      }
    },
    {
      "cell_type": "code",
      "source": [
        "# Predict\n",
        "y_pred_scaled = model.predict(X_test_scaled)\n",
        "y_pred = scaler_y.inverse_transform(y_pred_scaled)\n",
        "\n",
        "# Inverse scale y_test for comparison\n",
        "y_actual = scaler_y.inverse_transform(y_test_scaled)\n",
        "\n",
        "# Evaluate MAE\n",
        "test_loss, test_mae = model.evaluate(X_test_scaled, y_test_scaled, verbose=0)\n",
        "print(f\"Test MAE: {test_mae}\")\n",
        "\n",
        "true_mae = mean_absolute_error(y_test, y_pred)\n",
        "print(f\"True Test MAE: {true_mae}\")\n"
      ],
      "metadata": {
        "id": "bQVDS1Ds9uPj",
        "outputId": "135ce055-7a2e-44f2-9702-6cd4f4d3c2a0",
        "colab": {
          "base_uri": "https://localhost:8080/"
        }
      },
      "execution_count": 87,
      "outputs": [
        {
          "output_type": "stream",
          "name": "stdout",
          "text": [
            "\u001b[1m232/232\u001b[0m \u001b[32m━━━━━━━━━━━━━━━━━━━━\u001b[0m\u001b[37m\u001b[0m \u001b[1m1s\u001b[0m 3ms/step\n",
            "Test MAE: 0.1123591735959053\n",
            "True Test MAE: 12206.070580477717\n"
          ]
        }
      ]
    },
    {
      "cell_type": "markdown",
      "source": [
        "***Note***:\n",
        "\n",
        "> The MAE was originally computed on scaled data (~0.112), but after inverse transforming, the true MAE is ₱12,206, which reflects real income units\n",
        "\n"
      ],
      "metadata": {
        "id": "6aJ4qMU8KxlG"
      }
    },
    {
      "cell_type": "markdown",
      "source": [
        "We then compare the model’s predictions with actual values from the test dataset."
      ],
      "metadata": {
        "id": "JbSZKHCEXsWO"
      }
    },
    {
      "cell_type": "code",
      "source": [
        "results = pd.DataFrame({\n",
        "    \"Actual\": y_actual.flatten(),\n",
        "    \"Predicted\": y_pred.flatten()\n",
        "})\n",
        "print(results.head())"
      ],
      "metadata": {
        "id": "OxNDuHc7Xu68",
        "outputId": "f6cc5e23-cff9-4b54-8f21-0cf5cc2fbff9",
        "colab": {
          "base_uri": "https://localhost:8080/"
        }
      },
      "execution_count": 88,
      "outputs": [
        {
          "output_type": "stream",
          "name": "stdout",
          "text": [
            "     Actual      Predicted\n",
            "0  208684.0  204160.343750\n",
            "1  132912.0  148944.171875\n",
            "2   22895.0   53162.359375\n",
            "3  147050.0  156930.062500\n",
            "4  226009.0  264515.343750\n"
          ]
        }
      ]
    },
    {
      "cell_type": "markdown",
      "source": [
        "To ensure proper generalization, we **plot the loss curves** for both training and validation data."
      ],
      "metadata": {
        "id": "v-bYbDt4RoXK"
      }
    },
    {
      "cell_type": "code",
      "source": [
        "plt.figure(figsize=(8,6))\n",
        "plt.plot(history.history[\"loss\"], label=\"Training Loss\")\n",
        "plt.plot(history.history[\"val_loss\"], label=\"Validation Loss\")\n",
        "plt.xlabel(\"Epochs\")\n",
        "plt.ylabel(\"Loss (MSE)\")\n",
        "plt.title(\"Training vs. Validation Loss (MSE)\")\n",
        "plt.legend()\n",
        "plt.show()"
      ],
      "metadata": {
        "id": "ox1fBzV0XhqB",
        "outputId": "bd3ca957-2d7f-46ae-e491-c25939c65df6",
        "colab": {
          "base_uri": "https://localhost:8080/",
          "height": 564
        }
      },
      "execution_count": 89,
      "outputs": [
        {
          "output_type": "display_data",
          "data": {
            "text/plain": [
              "<Figure size 800x600 with 1 Axes>"
            ],
            "image/png": "[encoded data removed]"
          },
          "metadata": {}
        }
      ]
    },
    {
      "cell_type": "markdown",
      "source": [
        "Here is a visual representation of our prediction quality"
      ],
      "metadata": {
        "id": "BByz7ddq9-ia"
      }
    },
    {
      "cell_type": "code",
      "source": [
        "plt.figure(figsize=(6,6))\n",
        "plt.scatter(y_actual, y_pred, alpha=0.3)\n",
        "plt.plot([y_actual.min(), y_actual.max()], [y_actual.min(), y_actual.max()], color='red')\n",
        "plt.xlabel(\"Actual TOINC\")\n",
        "plt.ylabel(\"Predicted TOINC\")\n",
        "plt.title(\"NN: Actual vs. Predicted TOINC\")\n",
        "plt.show()\n",
        "\n",
        "r2 = r2_score(y_test, y_pred)\n",
        "print(f\"R² Score: {r2:.3f}\")"
      ],
      "metadata": {
        "id": "1F1P-klF98UF",
        "outputId": "8bc66d63-055c-4608-98ad-9512307e3427",
        "colab": {
          "base_uri": "https://localhost:8080/",
          "height": 581
        }
      },
      "execution_count": 90,
      "outputs": [
        {
          "output_type": "display_data",
          "data": {
            "text/plain": [
              "<Figure size 600x600 with 1 Axes>"
            ],
            "image/png": "[encoded data removed]"
          },
          "metadata": {}
        },
        {
          "output_type": "stream",
          "name": "stdout",
          "text": [
            "R² Score: 0.967\n"
          ]
        }
      ]
    },
    {
      "cell_type": "markdown",
      "source": [
        "# **Section 7. Error Analysis**"
      ],
      "metadata": {
        "id": "tKruGYKTMCOT"
      }
    },
    {
      "cell_type": "markdown",
      "source": [
        "### For this section:\n",
        "\n",
        "✅\tShow MAE, MSE, R² for all models <br>\n",
        "✅\tIdentify and sort high-error predictions <br>\n",
        "✅\tInterpret why those errors might be occurring <br>\n",
        "✅\tSuggest what could improve the model (e.g., feature engineering, handling outliers)"
      ],
      "metadata": {
        "id": "3gM3fOhZMfSG"
      }
    }
  ],
  "metadata": {
    "kernelspec": {
      "display_name": "Python 3",
      "name": "python3"
    },
    "language_info": {
      "codemirror_mode": {
        "name": "ipython",
        "version": 3
      },
      "file_extension": ".py",
      "mimetype": "text/x-python",
      "name": "python",
      "nbconvert_exporter": "python",
      "pygments_lexer": "ipython3",
      "version": "3.11.9"
    },
    "colab": {
      "provenance": [],
      "include_colab_link": true
    }
  },
  "nbformat": 4,
  "nbformat_minor": 0
}