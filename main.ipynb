{
 "cells": [
  {
   "cell_type": "markdown",
   "metadata": {},
   "source": [
    "# **STINTSY Machine Project**"
   ]
  },
  {
   "cell_type": "markdown",
   "metadata": {},
   "source": [
    "## *Group # - S16*\n",
    "- **Ang, Danielle Faith** \n",
    "- **De Los Santos, Hanna Angela**\n",
    "- **Robles, Luis Miguel**\n",
    "- **Sarreal, Sophia Althea**"
   ]
  },
  {
   "cell_type": "markdown",
   "metadata": {},
   "source": [
    "# **Import Libraries**"
   ]
  },
  {
   "cell_type": "code",
   "execution_count": 765,
   "metadata": {},
   "outputs": [],
   "source": [
    "import pandas as pd\n",
    "import numpy as np\n",
    "import matplotlib.pyplot as plt\n",
    "import seaborn as sns\n",
    "from sklearn.preprocessing import StandardScaler\n",
    "from sklearn.model_selection import train_test_split\n",
    "from scipy.stats import skew"
   ]
  },
  {
   "cell_type": "markdown",
   "metadata": {},
   "source": [
    "# **Dataset Description**"
   ]
  },
  {
   "cell_type": "markdown",
   "metadata": {},
   "source": [
    "The file contains data about expenditures and other disbursements, housing characteristics, social protection, Income and other receipts and Entrepreneural Activities."
   ]
  },
  {
   "cell_type": "markdown",
   "metadata": {},
   "source": [
    "# **Structure of the Dataset**"
   ]
  },
  {
   "cell_type": "markdown",
   "metadata": {},
   "source": []
  },
  {
   "cell_type": "markdown",
   "metadata": {},
   "source": [
    "# **Reading the Dataset**"
   ]
  },
  {
   "cell_type": "code",
   "execution_count": 766,
   "metadata": {},
   "outputs": [],
   "source": [
    "fies_df = pd.read_csv('FIES PUF 2012 Vol.1.CSV')"
   ]
  },
  {
   "cell_type": "markdown",
   "metadata": {},
   "source": [
    "# **Cleaning the Dataset**"
   ]
  },
  {
   "cell_type": "code",
   "execution_count": 767,
   "metadata": {},
   "outputs": [
    {
     "data": {
      "application/vnd.microsoft.datawrangler.viewer.v0+json": {
       "columns": [
        {
         "name": "index",
         "rawType": "int64",
         "type": "integer"
        },
        {
         "name": "W_REGN",
         "rawType": "int64",
         "type": "integer"
        },
        {
         "name": "W_OID",
         "rawType": "int64",
         "type": "integer"
        },
        {
         "name": "W_SHSN",
         "rawType": "int64",
         "type": "integer"
        },
        {
         "name": "W_HCN",
         "rawType": "int64",
         "type": "integer"
        },
        {
         "name": "URB",
         "rawType": "int64",
         "type": "integer"
        },
        {
         "name": "RSTR",
         "rawType": "int64",
         "type": "integer"
        },
        {
         "name": "PSU",
         "rawType": "int64",
         "type": "integer"
        },
        {
         "name": "BWEIGHT",
         "rawType": "float64",
         "type": "float"
        },
        {
         "name": "RFACT",
         "rawType": "float64",
         "type": "float"
        },
        {
         "name": "FSIZE",
         "rawType": "float64",
         "type": "float"
        },
        {
         "name": "AGRI_SAL",
         "rawType": "int64",
         "type": "integer"
        },
        {
         "name": "NONAGRI_SAL",
         "rawType": "int64",
         "type": "integer"
        },
        {
         "name": "WAGES",
         "rawType": "int64",
         "type": "integer"
        },
        {
         "name": "NETSHARE",
         "rawType": "int64",
         "type": "integer"
        },
        {
         "name": "CASH_ABROAD",
         "rawType": "int64",
         "type": "integer"
        },
        {
         "name": "CASH_DOMESTIC",
         "rawType": "int64",
         "type": "integer"
        },
        {
         "name": "RENTALS_REC",
         "rawType": "int64",
         "type": "integer"
        },
        {
         "name": "INTEREST",
         "rawType": "int64",
         "type": "integer"
        },
        {
         "name": "PENSION",
         "rawType": "int64",
         "type": "integer"
        },
        {
         "name": "DIVIDENDS",
         "rawType": "int64",
         "type": "integer"
        },
        {
         "name": "OTHER_SOURCE",
         "rawType": "int64",
         "type": "integer"
        },
        {
         "name": "NET_RECEIPT",
         "rawType": "int64",
         "type": "integer"
        },
        {
         "name": "REGFT",
         "rawType": "int64",
         "type": "integer"
        },
        {
         "name": "NET_CFG",
         "rawType": "int64",
         "type": "integer"
        },
        {
         "name": "NET_LPR",
         "rawType": "int64",
         "type": "integer"
        },
        {
         "name": "NET_FISH",
         "rawType": "int64",
         "type": "integer"
        },
        {
         "name": "NET_FOR",
         "rawType": "int64",
         "type": "integer"
        },
        {
         "name": "NET_RET",
         "rawType": "int64",
         "type": "integer"
        },
        {
         "name": "NET_MFG",
         "rawType": "int64",
         "type": "integer"
        },
        {
         "name": "NET_COM",
         "rawType": "int64",
         "type": "integer"
        },
        {
         "name": "NET_TRANS",
         "rawType": "int64",
         "type": "integer"
        },
        {
         "name": "NET_MIN",
         "rawType": "int64",
         "type": "integer"
        },
        {
         "name": "NET_CONS",
         "rawType": "int64",
         "type": "integer"
        },
        {
         "name": "NET_NEC",
         "rawType": "int64",
         "type": "integer"
        },
        {
         "name": "EAINC",
         "rawType": "int64",
         "type": "integer"
        },
        {
         "name": "TOINC",
         "rawType": "int64",
         "type": "integer"
        },
        {
         "name": "LOSSES",
         "rawType": "int64",
         "type": "integer"
        },
        {
         "name": "T_BREAD",
         "rawType": "int64",
         "type": "integer"
        },
        {
         "name": "T_MEAT",
         "rawType": "int64",
         "type": "integer"
        },
        {
         "name": "T_FISH",
         "rawType": "int64",
         "type": "integer"
        },
        {
         "name": "T_MILK",
         "rawType": "int64",
         "type": "integer"
        },
        {
         "name": "T_OIL",
         "rawType": "int64",
         "type": "integer"
        },
        {
         "name": "T_FRUIT",
         "rawType": "int64",
         "type": "integer"
        },
        {
         "name": "T_VEG",
         "rawType": "int64",
         "type": "integer"
        },
        {
         "name": "T_SUGAR",
         "rawType": "int64",
         "type": "integer"
        },
        {
         "name": "T_FOOD_NEC",
         "rawType": "int64",
         "type": "integer"
        },
        {
         "name": "T_COFFEE",
         "rawType": "int64",
         "type": "integer"
        },
        {
         "name": "T_MINERAL",
         "rawType": "int64",
         "type": "integer"
        },
        {
         "name": "T_ALCOHOL",
         "rawType": "int64",
         "type": "integer"
        },
        {
         "name": "T_TOBACCO",
         "rawType": "int64",
         "type": "integer"
        },
        {
         "name": "T_OTHER_VEG",
         "rawType": "int64",
         "type": "integer"
        },
        {
         "name": "T_FOOD_HOME",
         "rawType": "int64",
         "type": "integer"
        },
        {
         "name": "T_FOOD_OUTSIDE",
         "rawType": "int64",
         "type": "integer"
        },
        {
         "name": "T_FOOD",
         "rawType": "int64",
         "type": "integer"
        },
        {
         "name": "T_CLOTH",
         "rawType": "int64",
         "type": "integer"
        },
        {
         "name": "T_FURNISHING",
         "rawType": "int64",
         "type": "integer"
        },
        {
         "name": "T_HEALTH",
         "rawType": "int64",
         "type": "integer"
        },
        {
         "name": "T_HOUSING_WATER",
         "rawType": "int64",
         "type": "integer"
        },
        {
         "name": "T_ACTRENT",
         "rawType": "int64",
         "type": "integer"
        },
        {
         "name": "T_RENTVAL",
         "rawType": "int64",
         "type": "integer"
        },
        {
         "name": "T_IMPUTED_RENT",
         "rawType": "int64",
         "type": "integer"
        },
        {
         "name": "T_BIMPUTED_RENT",
         "rawType": "int64",
         "type": "integer"
        },
        {
         "name": "T_TRANSPORT",
         "rawType": "int64",
         "type": "integer"
        },
        {
         "name": "T_COMMUNICATION",
         "rawType": "int64",
         "type": "integer"
        },
        {
         "name": "T_RECREATION",
         "rawType": "int64",
         "type": "integer"
        },
        {
         "name": "T_EDUCATION",
         "rawType": "int64",
         "type": "integer"
        },
        {
         "name": "T_MISCELLANEOUS",
         "rawType": "int64",
         "type": "integer"
        },
        {
         "name": "T_OTHER_EXPENDITURE",
         "rawType": "int64",
         "type": "integer"
        },
        {
         "name": "T_OTHER_DISBURSEMENT",
         "rawType": "int64",
         "type": "integer"
        },
        {
         "name": "T_NFOOD",
         "rawType": "int64",
         "type": "integer"
        },
        {
         "name": "T_TOTEX",
         "rawType": "int64",
         "type": "integer"
        },
        {
         "name": "T_TOTDIS",
         "rawType": "int64",
         "type": "integer"
        },
        {
         "name": "T_OTHREC",
         "rawType": "int64",
         "type": "integer"
        },
        {
         "name": "T_TOREC",
         "rawType": "int64",
         "type": "integer"
        },
        {
         "name": "FOOD_ACCOM_SRVC",
         "rawType": "int64",
         "type": "integer"
        },
        {
         "name": "SEX",
         "rawType": "int64",
         "type": "integer"
        },
        {
         "name": "AGE",
         "rawType": "int64",
         "type": "integer"
        },
        {
         "name": "MS",
         "rawType": "int64",
         "type": "integer"
        },
        {
         "name": "HGC",
         "rawType": "int64",
         "type": "integer"
        },
        {
         "name": "JOB",
         "rawType": "int64",
         "type": "integer"
        },
        {
         "name": "OCCUP",
         "rawType": "object",
         "type": "string"
        },
        {
         "name": "KB",
         "rawType": "object",
         "type": "string"
        },
        {
         "name": "CW",
         "rawType": "object",
         "type": "string"
        },
        {
         "name": "HHTYPE",
         "rawType": "int64",
         "type": "integer"
        },
        {
         "name": "MEMBERS",
         "rawType": "int64",
         "type": "integer"
        },
        {
         "name": "AGELESS5",
         "rawType": "object",
         "type": "string"
        },
        {
         "name": "AGE5_17",
         "rawType": "object",
         "type": "string"
        },
        {
         "name": "EMPLOYED_PAY",
         "rawType": "object",
         "type": "string"
        },
        {
         "name": "EMPLOYED_PROF",
         "rawType": "object",
         "type": "string"
        },
        {
         "name": "SPOUSE_EMP",
         "rawType": "int64",
         "type": "integer"
        },
        {
         "name": "BLDG_TYPE",
         "rawType": "int64",
         "type": "integer"
        },
        {
         "name": "ROOF",
         "rawType": "int64",
         "type": "integer"
        },
        {
         "name": "WALLS",
         "rawType": "int64",
         "type": "integer"
        },
        {
         "name": "TENURE",
         "rawType": "int64",
         "type": "integer"
        },
        {
         "name": "HSE_ALTERTN",
         "rawType": "int64",
         "type": "integer"
        },
        {
         "name": "TOILET",
         "rawType": "int64",
         "type": "integer"
        },
        {
         "name": "ELECTRIC",
         "rawType": "int64",
         "type": "integer"
        },
        {
         "name": "WATER",
         "rawType": "int64",
         "type": "integer"
        },
        {
         "name": "DISTANCE",
         "rawType": "object",
         "type": "string"
        },
        {
         "name": "RADIO_QTY",
         "rawType": "object",
         "type": "string"
        },
        {
         "name": "TV_QTY",
         "rawType": "object",
         "type": "string"
        },
        {
         "name": "CD_QTY",
         "rawType": "object",
         "type": "string"
        },
        {
         "name": "STEREO_QTY",
         "rawType": "object",
         "type": "string"
        },
        {
         "name": "REF_QTY",
         "rawType": "object",
         "type": "string"
        },
        {
         "name": "WASH_QTY",
         "rawType": "object",
         "type": "string"
        },
        {
         "name": "AIRCON_QTY",
         "rawType": "object",
         "type": "string"
        },
        {
         "name": "CAR_QTY",
         "rawType": "object",
         "type": "string"
        },
        {
         "name": "LANDLINE_QTY",
         "rawType": "object",
         "type": "string"
        },
        {
         "name": "CELLPHONE_QTY",
         "rawType": "object",
         "type": "string"
        },
        {
         "name": "PC_QTY",
         "rawType": "object",
         "type": "string"
        },
        {
         "name": "OVEN_QTY",
         "rawType": "object",
         "type": "string"
        },
        {
         "name": "MOTOR_BANCA_QTY",
         "rawType": "object",
         "type": "string"
        },
        {
         "name": "MOTORCYCLE_QTY",
         "rawType": "object",
         "type": "string"
        },
        {
         "name": "POP_ADJ",
         "rawType": "float64",
         "type": "float"
        },
        {
         "name": "PCINC",
         "rawType": "float64",
         "type": "float"
        },
        {
         "name": "NATPC",
         "rawType": "int64",
         "type": "integer"
        },
        {
         "name": "NATDC",
         "rawType": "int64",
         "type": "integer"
        },
        {
         "name": "REGDC",
         "rawType": "int64",
         "type": "integer"
        },
        {
         "name": "REGPC",
         "rawType": "int64",
         "type": "integer"
        }
       ],
       "conversionMethod": "pd.DataFrame",
       "ref": "5bf69e45-e983-417c-b569-c9414530840e",
       "rows": [
        [
         "0",
         "14",
         "101001000",
         "2",
         "25",
         "2",
         "21100",
         "415052",
         "138.25",
         "200.6576",
         "3.0",
         "0",
         "0",
         "0",
         "0",
         "176000",
         "16000",
         "0",
         "0",
         "33000",
         "0",
         "0",
         "4385",
         "76666",
         "0",
         "0",
         "0",
         "0",
         "0",
         "0",
         "0",
         "0",
         "0",
         "0",
         "0",
         "0",
         "325251",
         "0",
         "30263",
         "29374",
         "5204",
         "3533",
         "2136",
         "2129",
         "6517",
         "1149",
         "2472",
         "1890",
         "6356",
         "0",
         "0",
         "0",
         "91023",
         "23330",
         "114353",
         "11191",
         "3598",
         "586",
         "55128",
         "0",
         "19200",
         "19200",
         "0",
         "17280",
         "1470",
         "49567",
         "41200",
         "18636",
         "260",
         "0",
         "198916",
         "313269",
         "313269",
         "0",
         "325251",
         "0",
         "2",
         "75",
         "3",
         "280",
         "2",
         "    ",
         "    ",
         " ",
         "2",
         "3",
         "  ",
         "01",
         "  ",
         "  ",
         "3",
         "1",
         "1",
         "1",
         "1",
         "2",
         "1",
         "1",
         "1",
         "     ",
         "01",
         "01",
         "01",
         "01",
         "01",
         "01",
         "  ",
         "  ",
         "  ",
         "02",
         "01",
         "01",
         "  ",
         "  ",
         "0.94617231",
         "108417.0",
         "9",
         "8",
         "8",
         "9"
        ],
        [
         "1",
         "14",
         "101001000",
         "3",
         "43",
         "2",
         "21100",
         "415052",
         "138.25",
         "200.6576",
         "12.5",
         "0",
         "0",
         "0",
         "0",
         "0",
         "14700",
         "0",
         "0",
         "0",
         "0",
         "0",
         "1350",
         "369",
         "0",
         "0",
         "0",
         "0",
         "355776",
         "0",
         "0",
         "8000",
         "0",
         "0",
         "0",
         "363776",
         "382895",
         "0",
         "97693",
         "5820",
         "28836",
         "14484",
         "3016",
         "1230",
         "7885",
         "4145",
         "1875",
         "2532",
         "9076",
         "0",
         "2450",
         "0",
         "176592",
         "8925",
         "185517",
         "3335",
         "4304",
         "1645",
         "24492",
         "0",
         "2700",
         "2700",
         "0",
         "8826",
         "3480",
         "1136",
         "1180",
         "10260",
         "0",
         "0",
         "61108",
         "246625",
         "246625",
         "0",
         "382895",
         "0",
         "1",
         "48",
         "2",
         "250",
         "1",
         "1314",
         "4741",
         "3",
         "2",
         "13",
         "02",
         "04",
         "  ",
         "01",
         "2",
         "1",
         "5",
         "5",
         "1",
         "2",
         "3",
         "1",
         "1",
         "     ",
         "01",
         "01",
         "01",
         "02",
         "  ",
         "  ",
         "  ",
         "  ",
         "  ",
         "03",
         "  ",
         "01",
         "  ",
         "01",
         "0.94617231",
         "30631.6",
         "5",
         "9",
         "9",
         "4"
        ],
        [
         "2",
         "14",
         "101001000",
         "4",
         "62",
         "2",
         "21100",
         "415052",
         "138.25",
         "200.6576",
         "2.0",
         "0",
         "0",
         "0",
         "31500",
         "95000",
         "0",
         "0",
         "1500",
         "10500",
         "0",
         "0",
         "1625",
         "14830",
         "4030",
         "0",
         "0",
         "0",
         "0",
         "0",
         "0",
         "0",
         "0",
         "0",
         "0",
         "4030",
         "173985",
         "0",
         "14699",
         "13457",
         "7811",
         "1222",
         "1788",
         "2610",
         "5560",
         "1212",
         "1500",
         "582",
         "2704",
         "2070",
         "0",
         "0",
         "53145",
         "1500",
         "54645",
         "5455",
         "3161",
         "7258",
         "40560",
         "0",
         "15000",
         "15000",
         "0",
         "10380",
         "5598",
         "0",
         "0",
         "10224",
         "1615",
         "5000",
         "86321",
         "140966",
         "145966",
         "3684",
         "177669",
         "0",
         "1",
         "55",
         "2",
         "552",
         "2",
         "    ",
         "    ",
         " ",
         "2",
         "2",
         "  ",
         "  ",
         "  ",
         "  ",
         "2",
         "2",
         "1",
         "1",
         "1",
         "2",
         "1",
         "1",
         "1",
         "     ",
         "01",
         "01",
         "01",
         "  ",
         "01",
         "  ",
         "01",
         "01",
         "  ",
         "01",
         "  ",
         "01",
         "  ",
         "  ",
         "0.94617231",
         "86992.5",
         "9",
         "6",
         "6",
         "8"
        ],
        [
         "3",
         "14",
         "101001000",
         "5",
         "79",
         "2",
         "21100",
         "415052",
         "138.25",
         "200.6576",
         "4.0",
         "0",
         "0",
         "0",
         "0",
         "66000",
         "0",
         "0",
         "0",
         "14000",
         "0",
         "0",
         "7649",
         "29394",
         "48010",
         "2250",
         "0",
         "0",
         "0",
         "0",
         "0",
         "0",
         "0",
         "0",
         "0",
         "50260",
         "173303",
         "0",
         "27846",
         "7787",
         "5106",
         "4112",
         "1713",
         "1530",
         "5435",
         "2262",
         "2539",
         "1386",
         "1214",
         "0",
         "0",
         "0",
         "60930",
         "11130",
         "72060",
         "6750",
         "21548",
         "5400",
         "33714",
         "0",
         "6000",
         "6000",
         "0",
         "3210",
         "2502",
         "1012",
         "430",
         "10020",
         "15",
         "0",
         "84601",
         "156661",
         "156661",
         "23580",
         "196883",
         "0",
         "1",
         "44",
         "2",
         "830",
         "1",
         "6111",
         "0112",
         "4",
         "1",
         "4",
         "  ",
         "02",
         "  ",
         "01",
         "2",
         "1",
         "1",
         "1",
         "1",
         "2",
         "1",
         "1",
         "6",
         "00003",
         "01",
         "01",
         "01",
         "01",
         "01",
         "02",
         "  ",
         "  ",
         "  ",
         "02",
         "  ",
         "01",
         "  ",
         "  ",
         "0.94617231",
         "43325.75",
         "6",
         "6",
         "6",
         "6"
        ],
        [
         "4",
         "14",
         "101001000",
         "10",
         "165",
         "2",
         "21100",
         "415052",
         "138.25",
         "200.6576",
         "5.0",
         "0",
         "32000",
         "32000",
         "12600",
         "0",
         "18000",
         "0",
         "0",
         "0",
         "0",
         "0",
         "7359",
         "130",
         "0",
         "0",
         "0",
         "0",
         "0",
         "0",
         "0",
         "63320",
         "0",
         "0",
         "0",
         "63320",
         "187409",
         "0",
         "29573",
         "11704",
         "8765",
         "4056",
         "1138",
         "1385",
         "4250",
         "1956",
         "1272",
         "1144",
         "1430",
         "1950",
         "1638",
         "0",
         "66673",
         "5180",
         "71853",
         "2390",
         "2871",
         "90",
         "70812",
         "0",
         "54000",
         "54000",
         "0",
         "10050",
         "1902",
         "425",
         "10600",
         "5274",
         "0",
         "0",
         "108002",
         "179855",
         "179855",
         "2300",
         "189709",
         "0",
         "1",
         "42",
         "2",
         "350",
         "1",
         "5220",
         "4775",
         "1",
         "2",
         "5",
         "  ",
         "02",
         "01",
         "01",
         "2",
         "1",
         "1",
         "1",
         "1",
         "2",
         "1",
         "1",
         "1",
         "     ",
         "01",
         "01",
         "01",
         "  ",
         "01",
         "01",
         "  ",
         "  ",
         "  ",
         "01",
         "  ",
         "  ",
         "  ",
         "01",
         "0.94617231",
         "37481.8",
         "6",
         "6",
         "6",
         "5"
        ]
       ],
       "shape": {
        "columns": 119,
        "rows": 5
       }
      },
      "text/html": [
       "<div>\n",
       "<style scoped>\n",
       "    .dataframe tbody tr th:only-of-type {\n",
       "        vertical-align: middle;\n",
       "    }\n",
       "\n",
       "    .dataframe tbody tr th {\n",
       "        vertical-align: top;\n",
       "    }\n",
       "\n",
       "    .dataframe thead th {\n",
       "        text-align: right;\n",
       "    }\n",
       "</style>\n",
       "<table border=\"1\" class=\"dataframe\">\n",
       "  <thead>\n",
       "    <tr style=\"text-align: right;\">\n",
       "      <th></th>\n",
       "      <th>W_REGN</th>\n",
       "      <th>W_OID</th>\n",
       "      <th>W_SHSN</th>\n",
       "      <th>W_HCN</th>\n",
       "      <th>URB</th>\n",
       "      <th>RSTR</th>\n",
       "      <th>PSU</th>\n",
       "      <th>BWEIGHT</th>\n",
       "      <th>RFACT</th>\n",
       "      <th>FSIZE</th>\n",
       "      <th>...</th>\n",
       "      <th>PC_QTY</th>\n",
       "      <th>OVEN_QTY</th>\n",
       "      <th>MOTOR_BANCA_QTY</th>\n",
       "      <th>MOTORCYCLE_QTY</th>\n",
       "      <th>POP_ADJ</th>\n",
       "      <th>PCINC</th>\n",
       "      <th>NATPC</th>\n",
       "      <th>NATDC</th>\n",
       "      <th>REGDC</th>\n",
       "      <th>REGPC</th>\n",
       "    </tr>\n",
       "  </thead>\n",
       "  <tbody>\n",
       "    <tr>\n",
       "      <th>0</th>\n",
       "      <td>14</td>\n",
       "      <td>101001000</td>\n",
       "      <td>2</td>\n",
       "      <td>25</td>\n",
       "      <td>2</td>\n",
       "      <td>21100</td>\n",
       "      <td>415052</td>\n",
       "      <td>138.25</td>\n",
       "      <td>200.6576</td>\n",
       "      <td>3.0</td>\n",
       "      <td>...</td>\n",
       "      <td>01</td>\n",
       "      <td>01</td>\n",
       "      <td></td>\n",
       "      <td></td>\n",
       "      <td>0.946172</td>\n",
       "      <td>108417.00</td>\n",
       "      <td>9</td>\n",
       "      <td>8</td>\n",
       "      <td>8</td>\n",
       "      <td>9</td>\n",
       "    </tr>\n",
       "    <tr>\n",
       "      <th>1</th>\n",
       "      <td>14</td>\n",
       "      <td>101001000</td>\n",
       "      <td>3</td>\n",
       "      <td>43</td>\n",
       "      <td>2</td>\n",
       "      <td>21100</td>\n",
       "      <td>415052</td>\n",
       "      <td>138.25</td>\n",
       "      <td>200.6576</td>\n",
       "      <td>12.5</td>\n",
       "      <td>...</td>\n",
       "      <td></td>\n",
       "      <td>01</td>\n",
       "      <td></td>\n",
       "      <td>01</td>\n",
       "      <td>0.946172</td>\n",
       "      <td>30631.60</td>\n",
       "      <td>5</td>\n",
       "      <td>9</td>\n",
       "      <td>9</td>\n",
       "      <td>4</td>\n",
       "    </tr>\n",
       "    <tr>\n",
       "      <th>2</th>\n",
       "      <td>14</td>\n",
       "      <td>101001000</td>\n",
       "      <td>4</td>\n",
       "      <td>62</td>\n",
       "      <td>2</td>\n",
       "      <td>21100</td>\n",
       "      <td>415052</td>\n",
       "      <td>138.25</td>\n",
       "      <td>200.6576</td>\n",
       "      <td>2.0</td>\n",
       "      <td>...</td>\n",
       "      <td></td>\n",
       "      <td>01</td>\n",
       "      <td></td>\n",
       "      <td></td>\n",
       "      <td>0.946172</td>\n",
       "      <td>86992.50</td>\n",
       "      <td>9</td>\n",
       "      <td>6</td>\n",
       "      <td>6</td>\n",
       "      <td>8</td>\n",
       "    </tr>\n",
       "    <tr>\n",
       "      <th>3</th>\n",
       "      <td>14</td>\n",
       "      <td>101001000</td>\n",
       "      <td>5</td>\n",
       "      <td>79</td>\n",
       "      <td>2</td>\n",
       "      <td>21100</td>\n",
       "      <td>415052</td>\n",
       "      <td>138.25</td>\n",
       "      <td>200.6576</td>\n",
       "      <td>4.0</td>\n",
       "      <td>...</td>\n",
       "      <td></td>\n",
       "      <td>01</td>\n",
       "      <td></td>\n",
       "      <td></td>\n",
       "      <td>0.946172</td>\n",
       "      <td>43325.75</td>\n",
       "      <td>6</td>\n",
       "      <td>6</td>\n",
       "      <td>6</td>\n",
       "      <td>6</td>\n",
       "    </tr>\n",
       "    <tr>\n",
       "      <th>4</th>\n",
       "      <td>14</td>\n",
       "      <td>101001000</td>\n",
       "      <td>10</td>\n",
       "      <td>165</td>\n",
       "      <td>2</td>\n",
       "      <td>21100</td>\n",
       "      <td>415052</td>\n",
       "      <td>138.25</td>\n",
       "      <td>200.6576</td>\n",
       "      <td>5.0</td>\n",
       "      <td>...</td>\n",
       "      <td></td>\n",
       "      <td></td>\n",
       "      <td></td>\n",
       "      <td>01</td>\n",
       "      <td>0.946172</td>\n",
       "      <td>37481.80</td>\n",
       "      <td>6</td>\n",
       "      <td>6</td>\n",
       "      <td>6</td>\n",
       "      <td>5</td>\n",
       "    </tr>\n",
       "  </tbody>\n",
       "</table>\n",
       "<p>5 rows × 119 columns</p>\n",
       "</div>"
      ],
      "text/plain": [
       "   W_REGN      W_OID  W_SHSN  W_HCN  URB   RSTR     PSU  BWEIGHT     RFACT  \\\n",
       "0      14  101001000       2     25    2  21100  415052   138.25  200.6576   \n",
       "1      14  101001000       3     43    2  21100  415052   138.25  200.6576   \n",
       "2      14  101001000       4     62    2  21100  415052   138.25  200.6576   \n",
       "3      14  101001000       5     79    2  21100  415052   138.25  200.6576   \n",
       "4      14  101001000      10    165    2  21100  415052   138.25  200.6576   \n",
       "\n",
       "   FSIZE  ...  PC_QTY  OVEN_QTY  MOTOR_BANCA_QTY  MOTORCYCLE_QTY   POP_ADJ  \\\n",
       "0    3.0  ...      01        01                                   0.946172   \n",
       "1   12.5  ...                01                               01  0.946172   \n",
       "2    2.0  ...                01                                   0.946172   \n",
       "3    4.0  ...                01                                   0.946172   \n",
       "4    5.0  ...                                                 01  0.946172   \n",
       "\n",
       "       PCINC  NATPC  NATDC  REGDC  REGPC  \n",
       "0  108417.00      9      8      8      9  \n",
       "1   30631.60      5      9      9      4  \n",
       "2   86992.50      9      6      6      8  \n",
       "3   43325.75      6      6      6      6  \n",
       "4   37481.80      6      6      6      5  \n",
       "\n",
       "[5 rows x 119 columns]"
      ]
     },
     "metadata": {},
     "output_type": "display_data"
    }
   ],
   "source": [
    "display(fies_df.head())"
   ]
  },
  {
   "cell_type": "code",
   "execution_count": 768,
   "metadata": {},
   "outputs": [],
   "source": [
    "selected_df = fies_df[[\"TOINC\", \"AGE\", \"SEX\", \"HGC\", \"JOB\", \"FSIZE\"]].copy()"
   ]
  },
  {
   "cell_type": "code",
   "execution_count": 769,
   "metadata": {},
   "outputs": [
    {
     "data": {
      "application/vnd.microsoft.datawrangler.viewer.v0+json": {
       "columns": [
        {
         "name": "index",
         "rawType": "int64",
         "type": "integer"
        },
        {
         "name": "TOINC",
         "rawType": "int64",
         "type": "integer"
        },
        {
         "name": "AGE",
         "rawType": "int64",
         "type": "integer"
        },
        {
         "name": "SEX",
         "rawType": "int64",
         "type": "integer"
        },
        {
         "name": "HGC",
         "rawType": "int64",
         "type": "integer"
        },
        {
         "name": "JOB",
         "rawType": "int64",
         "type": "integer"
        },
        {
         "name": "FSIZE",
         "rawType": "float64",
         "type": "float"
        }
       ],
       "conversionMethod": "pd.DataFrame",
       "ref": "8c77002f-5fbc-4a67-9edd-b46a1f690721",
       "rows": [
        [
         "0",
         "325251",
         "75",
         "2",
         "280",
         "2",
         "3.0"
        ],
        [
         "1",
         "382895",
         "48",
         "1",
         "250",
         "1",
         "12.5"
        ],
        [
         "2",
         "173985",
         "55",
         "1",
         "552",
         "2",
         "2.0"
        ],
        [
         "3",
         "173303",
         "44",
         "1",
         "830",
         "1",
         "4.0"
        ],
        [
         "4",
         "187409",
         "42",
         "1",
         "350",
         "1",
         "5.0"
        ],
        [
         "5",
         "1185549",
         "54",
         "1",
         "634",
         "1",
         "10.0"
        ],
        [
         "6",
         "141000",
         "62",
         "2",
         "554",
         "2",
         "1.0"
        ],
        [
         "7",
         "87955",
         "33",
         "1",
         "350",
         "1",
         "6.0"
        ],
        [
         "8",
         "274676",
         "70",
         "2",
         "280",
         "1",
         "3.5"
        ],
        [
         "9",
         "148394",
         "55",
         "1",
         "320",
         "1",
         "6.0"
        ],
        [
         "10",
         "200947",
         "67",
         "1",
         "514",
         "1",
         "3.0"
        ],
        [
         "11",
         "300947",
         "59",
         "1",
         "350",
         "1",
         "4.5"
        ],
        [
         "12",
         "45440",
         "46",
         "1",
         "240",
         "1",
         "1.0"
        ],
        [
         "13",
         "183670",
         "47",
         "2",
         "581",
         "1",
         "9.5"
        ],
        [
         "14",
         "104786",
         "54",
         "2",
         "280",
         "1",
         "2.0"
        ],
        [
         "15",
         "244735",
         "35",
         "1",
         "552",
         "2",
         "4.0"
        ],
        [
         "16",
         "121020",
         "53",
         "1",
         "350",
         "1",
         "6.0"
        ],
        [
         "17",
         "199155",
         "74",
         "1",
         "240",
         "1",
         "3.0"
        ],
        [
         "18",
         "151119",
         "38",
         "1",
         "240",
         "1",
         "8.0"
        ],
        [
         "19",
         "90174",
         "44",
         "1",
         "280",
         "1",
         "7.5"
        ],
        [
         "20",
         "95965",
         "74",
         "2",
         "810",
         "2",
         "1.0"
        ],
        [
         "21",
         "136205",
         "36",
         "2",
         "350",
         "1",
         "7.5"
        ],
        [
         "22",
         "67357",
         "54",
         "2",
         "350",
         "1",
         "4.5"
        ],
        [
         "23",
         "180946",
         "39",
         "1",
         "350",
         "1",
         "6.5"
        ],
        [
         "24",
         "250934",
         "44",
         "2",
         "634",
         "1",
         "4.0"
        ],
        [
         "25",
         "365825",
         "66",
         "1",
         "280",
         "2",
         "5.5"
        ],
        [
         "26",
         "90237",
         "85",
         "1",
         "280",
         "1",
         "5.5"
        ],
        [
         "27",
         "228300",
         "34",
         "1",
         "830",
         "1",
         "4.0"
        ],
        [
         "28",
         "142248",
         "37",
         "1",
         "350",
         "1",
         "7.0"
        ],
        [
         "29",
         "276490",
         "63",
         "1",
         "280",
         "1",
         "7.0"
        ],
        [
         "30",
         "256155",
         "70",
         "1",
         "614",
         "2",
         "4.5"
        ],
        [
         "31",
         "491550",
         "50",
         "1",
         "350",
         "1",
         "4.0"
        ],
        [
         "32",
         "431889",
         "28",
         "2",
         "830",
         "2",
         "5.0"
        ],
        [
         "33",
         "354861",
         "39",
         "2",
         "900",
         "1",
         "2.0"
        ],
        [
         "34",
         "111093",
         "36",
         "1",
         "350",
         "1",
         "3.0"
        ],
        [
         "35",
         "430121",
         "27",
         "1",
         "652",
         "1",
         "6.0"
        ],
        [
         "36",
         "618162",
         "46",
         "1",
         "634",
         "1",
         "4.0"
        ],
        [
         "37",
         "665175",
         "57",
         "1",
         "552",
         "1",
         "8.5"
        ],
        [
         "38",
         "113475",
         "42",
         "1",
         "280",
         "1",
         "5.0"
        ],
        [
         "39",
         "572727",
         "63",
         "1",
         "830",
         "2",
         "4.0"
        ],
        [
         "40",
         "417685",
         "47",
         "1",
         "552",
         "1",
         "8.0"
        ],
        [
         "41",
         "186260",
         "29",
         "1",
         "330",
         "1",
         "4.0"
        ],
        [
         "42",
         "119916",
         "28",
         "1",
         "350",
         "1",
         "5.0"
        ],
        [
         "43",
         "214883",
         "64",
         "1",
         "250",
         "1",
         "4.5"
        ],
        [
         "44",
         "250080",
         "56",
         "1",
         "810",
         "1",
         "4.0"
        ],
        [
         "45",
         "160767",
         "86",
         "1",
         "280",
         "2",
         "6.0"
        ],
        [
         "46",
         "123094",
         "52",
         "1",
         "320",
         "1",
         "3.5"
        ],
        [
         "47",
         "113407",
         "34",
         "1",
         "350",
         "1",
         "6.0"
        ],
        [
         "48",
         "214714",
         "71",
         "1",
         "330",
         "2",
         "5.5"
        ],
        [
         "49",
         "119382",
         "74",
         "2",
         "0",
         "2",
         "2.0"
        ]
       ],
       "shape": {
        "columns": 6,
        "rows": 40171
       }
      },
      "text/html": [
       "<div>\n",
       "<style scoped>\n",
       "    .dataframe tbody tr th:only-of-type {\n",
       "        vertical-align: middle;\n",
       "    }\n",
       "\n",
       "    .dataframe tbody tr th {\n",
       "        vertical-align: top;\n",
       "    }\n",
       "\n",
       "    .dataframe thead th {\n",
       "        text-align: right;\n",
       "    }\n",
       "</style>\n",
       "<table border=\"1\" class=\"dataframe\">\n",
       "  <thead>\n",
       "    <tr style=\"text-align: right;\">\n",
       "      <th></th>\n",
       "      <th>TOINC</th>\n",
       "      <th>AGE</th>\n",
       "      <th>SEX</th>\n",
       "      <th>HGC</th>\n",
       "      <th>JOB</th>\n",
       "      <th>FSIZE</th>\n",
       "    </tr>\n",
       "  </thead>\n",
       "  <tbody>\n",
       "    <tr>\n",
       "      <th>0</th>\n",
       "      <td>325251</td>\n",
       "      <td>75</td>\n",
       "      <td>2</td>\n",
       "      <td>280</td>\n",
       "      <td>2</td>\n",
       "      <td>3.0</td>\n",
       "    </tr>\n",
       "    <tr>\n",
       "      <th>1</th>\n",
       "      <td>382895</td>\n",
       "      <td>48</td>\n",
       "      <td>1</td>\n",
       "      <td>250</td>\n",
       "      <td>1</td>\n",
       "      <td>12.5</td>\n",
       "    </tr>\n",
       "    <tr>\n",
       "      <th>2</th>\n",
       "      <td>173985</td>\n",
       "      <td>55</td>\n",
       "      <td>1</td>\n",
       "      <td>552</td>\n",
       "      <td>2</td>\n",
       "      <td>2.0</td>\n",
       "    </tr>\n",
       "    <tr>\n",
       "      <th>3</th>\n",
       "      <td>173303</td>\n",
       "      <td>44</td>\n",
       "      <td>1</td>\n",
       "      <td>830</td>\n",
       "      <td>1</td>\n",
       "      <td>4.0</td>\n",
       "    </tr>\n",
       "    <tr>\n",
       "      <th>4</th>\n",
       "      <td>187409</td>\n",
       "      <td>42</td>\n",
       "      <td>1</td>\n",
       "      <td>350</td>\n",
       "      <td>1</td>\n",
       "      <td>5.0</td>\n",
       "    </tr>\n",
       "    <tr>\n",
       "      <th>...</th>\n",
       "      <td>...</td>\n",
       "      <td>...</td>\n",
       "      <td>...</td>\n",
       "      <td>...</td>\n",
       "      <td>...</td>\n",
       "      <td>...</td>\n",
       "    </tr>\n",
       "    <tr>\n",
       "      <th>40166</th>\n",
       "      <td>150508</td>\n",
       "      <td>28</td>\n",
       "      <td>2</td>\n",
       "      <td>350</td>\n",
       "      <td>1</td>\n",
       "      <td>5.0</td>\n",
       "    </tr>\n",
       "    <tr>\n",
       "      <th>40167</th>\n",
       "      <td>129320</td>\n",
       "      <td>48</td>\n",
       "      <td>1</td>\n",
       "      <td>350</td>\n",
       "      <td>1</td>\n",
       "      <td>9.0</td>\n",
       "    </tr>\n",
       "    <tr>\n",
       "      <th>40168</th>\n",
       "      <td>114824</td>\n",
       "      <td>66</td>\n",
       "      <td>1</td>\n",
       "      <td>230</td>\n",
       "      <td>1</td>\n",
       "      <td>6.0</td>\n",
       "    </tr>\n",
       "    <tr>\n",
       "      <th>40169</th>\n",
       "      <td>154925</td>\n",
       "      <td>42</td>\n",
       "      <td>1</td>\n",
       "      <td>280</td>\n",
       "      <td>1</td>\n",
       "      <td>5.0</td>\n",
       "    </tr>\n",
       "    <tr>\n",
       "      <th>40170</th>\n",
       "      <td>110166</td>\n",
       "      <td>46</td>\n",
       "      <td>1</td>\n",
       "      <td>250</td>\n",
       "      <td>1</td>\n",
       "      <td>7.0</td>\n",
       "    </tr>\n",
       "  </tbody>\n",
       "</table>\n",
       "<p>40171 rows × 6 columns</p>\n",
       "</div>"
      ],
      "text/plain": [
       "        TOINC  AGE  SEX  HGC  JOB  FSIZE\n",
       "0      325251   75    2  280    2    3.0\n",
       "1      382895   48    1  250    1   12.5\n",
       "2      173985   55    1  552    2    2.0\n",
       "3      173303   44    1  830    1    4.0\n",
       "4      187409   42    1  350    1    5.0\n",
       "...       ...  ...  ...  ...  ...    ...\n",
       "40166  150508   28    2  350    1    5.0\n",
       "40167  129320   48    1  350    1    9.0\n",
       "40168  114824   66    1  230    1    6.0\n",
       "40169  154925   42    1  280    1    5.0\n",
       "40170  110166   46    1  250    1    7.0\n",
       "\n",
       "[40171 rows x 6 columns]"
      ]
     },
     "execution_count": 769,
     "metadata": {},
     "output_type": "execute_result"
    }
   ],
   "source": [
    "selected_df"
   ]
  },
  {
   "cell_type": "code",
   "execution_count": 770,
   "metadata": {},
   "outputs": [
    {
     "data": {
      "text/plain": [
       "TOINC    0\n",
       "AGE      0\n",
       "SEX      0\n",
       "HGC      0\n",
       "JOB      0\n",
       "FSIZE    0\n",
       "dtype: int64"
      ]
     },
     "execution_count": 770,
     "metadata": {},
     "output_type": "execute_result"
    }
   ],
   "source": [
    "selected_df[[\"TOINC\", \"AGE\", \"SEX\", \"HGC\", \"JOB\", \"FSIZE\"]].isnull().sum()"
   ]
  },
  {
   "cell_type": "markdown",
   "metadata": {},
   "source": [
    "### **`HGC`** - ***(Household Head) Highest Grade Completed***"
   ]
  },
  {
   "cell_type": "markdown",
   "metadata": {},
   "source": [
    "The **HGC** variable represents the highest level of education completed by the household head.\n",
    "\n",
    "### **Education Levels and Codes:**\n",
    "\n",
    "- **No Grade Completed:** `0`  \n",
    "- **Preschool:** `10`  \n",
    "- **Elementary Undergraduate:** `210-260`  \n",
    "- **Elementary Graduate:** `280`  \n",
    "- **High School Undergraduate:** `310-330`  \n",
    "- **High School Graduate:** `350`  \n",
    "- **Post-Secondary Undergraduate:** `410-420`  \n",
    "- **Post-Secondary Graduate (Technical/Vocational):** `501-589`  \n",
    "- **College Undergraduate:** `810-840`  \n",
    "- **College Graduate:** `601-689`  \n",
    "- **Post-Baccalaureate:** `900`  "
   ]
  },
  {
   "cell_type": "code",
   "execution_count": 771,
   "metadata": {},
   "outputs": [
    {
     "data": {
      "text/plain": [
       "array([280, 250, 552, 830, 350, 634, 554, 320, 514, 240, 581, 810, 614,\n",
       "       900, 652, 330,   0, 840, 230, 584, 534, 562, 220, 310, 210, 622,\n",
       "       410, 686, 572, 662, 672, 820, 260, 681, 420, 631, 684, 642, 648,\n",
       "       601, 646, 676, 586, 589, 658, 689, 501, 621, 548, 632, 654, 638,\n",
       "       664,  10, 522, 685, 521, 644, 542, 531, 558, 532])"
      ]
     },
     "execution_count": 771,
     "metadata": {},
     "output_type": "execute_result"
    }
   ],
   "source": [
    "selected_df[\"HGC\"].unique()"
   ]
  },
  {
   "cell_type": "markdown",
   "metadata": {},
   "source": [
    "As seen by using **`.unique()`**, these codes are not continuous single values, but instead appear in ranges for certain education levels.\n",
    "\n",
    "With this, we mapped these numerical codes into standardized categories based on the dictionary.\n",
    "\n",
    "<small>***Note that the dictionary lists College Undergraduate as ranging from **810-840** and College Graduate as **601-689**, so their values in the mapping may seem reversed.* </small>"
   ]
  },
  {
   "cell_type": "code",
   "execution_count": 772,
   "metadata": {},
   "outputs": [
    {
     "name": "stdout",
     "output_type": "stream",
     "text": [
      "4210\n",
      "3237\n"
     ]
    }
   ],
   "source": [
    "print(selected_df[\"HGC\"].between(601, 689).sum())  # Expected graduates\n",
    "print(selected_df[\"HGC\"].between(810, 840).sum())  # Expected undergraduates\n"
   ]
  },
  {
   "cell_type": "code",
   "execution_count": 773,
   "metadata": {},
   "outputs": [
    {
     "data": {
      "application/vnd.microsoft.datawrangler.viewer.v0+json": {
       "columns": [
        {
         "name": "index",
         "rawType": "int64",
         "type": "integer"
        },
        {
         "name": "TOINC",
         "rawType": "int64",
         "type": "integer"
        },
        {
         "name": "AGE",
         "rawType": "int64",
         "type": "integer"
        },
        {
         "name": "SEX",
         "rawType": "int64",
         "type": "integer"
        },
        {
         "name": "HGC",
         "rawType": "float64",
         "type": "float"
        },
        {
         "name": "JOB",
         "rawType": "int64",
         "type": "integer"
        },
        {
         "name": "FSIZE",
         "rawType": "float64",
         "type": "float"
        }
       ],
       "conversionMethod": "pd.DataFrame",
       "ref": "c9e699ea-8693-4a71-81d6-9765c31a0da9",
       "rows": [
        [
         "0",
         "325251",
         "75",
         "2",
         "3.0",
         "2",
         "3.0"
        ],
        [
         "1",
         "382895",
         "48",
         "1",
         "2.0",
         "1",
         "12.5"
        ],
        [
         "2",
         "173985",
         "55",
         "1",
         "7.0",
         "2",
         "2.0"
        ],
        [
         "3",
         "173303",
         "44",
         "1",
         "8.0",
         "1",
         "4.0"
        ],
        [
         "4",
         "187409",
         "42",
         "1",
         "5.0",
         "1",
         "5.0"
        ],
        [
         "5",
         "1185549",
         "54",
         "1",
         "9.0",
         "1",
         "10.0"
        ],
        [
         "6",
         "141000",
         "62",
         "2",
         "7.0",
         "2",
         "1.0"
        ],
        [
         "7",
         "87955",
         "33",
         "1",
         "5.0",
         "1",
         "6.0"
        ],
        [
         "8",
         "274676",
         "70",
         "2",
         "3.0",
         "1",
         "3.5"
        ],
        [
         "9",
         "148394",
         "55",
         "1",
         "4.0",
         "1",
         "6.0"
        ],
        [
         "10",
         "200947",
         "67",
         "1",
         "7.0",
         "1",
         "3.0"
        ],
        [
         "11",
         "300947",
         "59",
         "1",
         "5.0",
         "1",
         "4.5"
        ],
        [
         "12",
         "45440",
         "46",
         "1",
         "2.0",
         "1",
         "1.0"
        ],
        [
         "13",
         "183670",
         "47",
         "2",
         "7.0",
         "1",
         "9.5"
        ],
        [
         "14",
         "104786",
         "54",
         "2",
         "3.0",
         "1",
         "2.0"
        ],
        [
         "15",
         "244735",
         "35",
         "1",
         "7.0",
         "2",
         "4.0"
        ],
        [
         "16",
         "121020",
         "53",
         "1",
         "5.0",
         "1",
         "6.0"
        ],
        [
         "17",
         "199155",
         "74",
         "1",
         "2.0",
         "1",
         "3.0"
        ],
        [
         "18",
         "151119",
         "38",
         "1",
         "2.0",
         "1",
         "8.0"
        ],
        [
         "19",
         "90174",
         "44",
         "1",
         "3.0",
         "1",
         "7.5"
        ],
        [
         "20",
         "95965",
         "74",
         "2",
         "8.0",
         "2",
         "1.0"
        ],
        [
         "21",
         "136205",
         "36",
         "2",
         "5.0",
         "1",
         "7.5"
        ],
        [
         "22",
         "67357",
         "54",
         "2",
         "5.0",
         "1",
         "4.5"
        ],
        [
         "23",
         "180946",
         "39",
         "1",
         "5.0",
         "1",
         "6.5"
        ],
        [
         "24",
         "250934",
         "44",
         "2",
         "9.0",
         "1",
         "4.0"
        ],
        [
         "25",
         "365825",
         "66",
         "1",
         "3.0",
         "2",
         "5.5"
        ],
        [
         "26",
         "90237",
         "85",
         "1",
         "3.0",
         "1",
         "5.5"
        ],
        [
         "27",
         "228300",
         "34",
         "1",
         "8.0",
         "1",
         "4.0"
        ],
        [
         "28",
         "142248",
         "37",
         "1",
         "5.0",
         "1",
         "7.0"
        ],
        [
         "29",
         "276490",
         "63",
         "1",
         "3.0",
         "1",
         "7.0"
        ],
        [
         "30",
         "256155",
         "70",
         "1",
         "9.0",
         "2",
         "4.5"
        ],
        [
         "31",
         "491550",
         "50",
         "1",
         "5.0",
         "1",
         "4.0"
        ],
        [
         "32",
         "431889",
         "28",
         "2",
         "8.0",
         "2",
         "5.0"
        ],
        [
         "33",
         "354861",
         "39",
         "2",
         "10.0",
         "1",
         "2.0"
        ],
        [
         "34",
         "111093",
         "36",
         "1",
         "5.0",
         "1",
         "3.0"
        ],
        [
         "35",
         "430121",
         "27",
         "1",
         "9.0",
         "1",
         "6.0"
        ],
        [
         "36",
         "618162",
         "46",
         "1",
         "9.0",
         "1",
         "4.0"
        ],
        [
         "37",
         "665175",
         "57",
         "1",
         "7.0",
         "1",
         "8.5"
        ],
        [
         "38",
         "113475",
         "42",
         "1",
         "3.0",
         "1",
         "5.0"
        ],
        [
         "39",
         "572727",
         "63",
         "1",
         "8.0",
         "2",
         "4.0"
        ],
        [
         "40",
         "417685",
         "47",
         "1",
         "7.0",
         "1",
         "8.0"
        ],
        [
         "41",
         "186260",
         "29",
         "1",
         "4.0",
         "1",
         "4.0"
        ],
        [
         "42",
         "119916",
         "28",
         "1",
         "5.0",
         "1",
         "5.0"
        ],
        [
         "43",
         "214883",
         "64",
         "1",
         "2.0",
         "1",
         "4.5"
        ],
        [
         "44",
         "250080",
         "56",
         "1",
         "8.0",
         "1",
         "4.0"
        ],
        [
         "45",
         "160767",
         "86",
         "1",
         "3.0",
         "2",
         "6.0"
        ],
        [
         "46",
         "123094",
         "52",
         "1",
         "4.0",
         "1",
         "3.5"
        ],
        [
         "47",
         "113407",
         "34",
         "1",
         "5.0",
         "1",
         "6.0"
        ],
        [
         "48",
         "214714",
         "71",
         "1",
         "4.0",
         "2",
         "5.5"
        ],
        [
         "49",
         "119382",
         "74",
         "2",
         "0.0",
         "2",
         "2.0"
        ]
       ],
       "shape": {
        "columns": 6,
        "rows": 40171
       }
      },
      "text/html": [
       "<div>\n",
       "<style scoped>\n",
       "    .dataframe tbody tr th:only-of-type {\n",
       "        vertical-align: middle;\n",
       "    }\n",
       "\n",
       "    .dataframe tbody tr th {\n",
       "        vertical-align: top;\n",
       "    }\n",
       "\n",
       "    .dataframe thead th {\n",
       "        text-align: right;\n",
       "    }\n",
       "</style>\n",
       "<table border=\"1\" class=\"dataframe\">\n",
       "  <thead>\n",
       "    <tr style=\"text-align: right;\">\n",
       "      <th></th>\n",
       "      <th>TOINC</th>\n",
       "      <th>AGE</th>\n",
       "      <th>SEX</th>\n",
       "      <th>HGC</th>\n",
       "      <th>JOB</th>\n",
       "      <th>FSIZE</th>\n",
       "    </tr>\n",
       "  </thead>\n",
       "  <tbody>\n",
       "    <tr>\n",
       "      <th>0</th>\n",
       "      <td>325251</td>\n",
       "      <td>75</td>\n",
       "      <td>2</td>\n",
       "      <td>3.0</td>\n",
       "      <td>2</td>\n",
       "      <td>3.0</td>\n",
       "    </tr>\n",
       "    <tr>\n",
       "      <th>1</th>\n",
       "      <td>382895</td>\n",
       "      <td>48</td>\n",
       "      <td>1</td>\n",
       "      <td>2.0</td>\n",
       "      <td>1</td>\n",
       "      <td>12.5</td>\n",
       "    </tr>\n",
       "    <tr>\n",
       "      <th>2</th>\n",
       "      <td>173985</td>\n",
       "      <td>55</td>\n",
       "      <td>1</td>\n",
       "      <td>7.0</td>\n",
       "      <td>2</td>\n",
       "      <td>2.0</td>\n",
       "    </tr>\n",
       "    <tr>\n",
       "      <th>3</th>\n",
       "      <td>173303</td>\n",
       "      <td>44</td>\n",
       "      <td>1</td>\n",
       "      <td>8.0</td>\n",
       "      <td>1</td>\n",
       "      <td>4.0</td>\n",
       "    </tr>\n",
       "    <tr>\n",
       "      <th>4</th>\n",
       "      <td>187409</td>\n",
       "      <td>42</td>\n",
       "      <td>1</td>\n",
       "      <td>5.0</td>\n",
       "      <td>1</td>\n",
       "      <td>5.0</td>\n",
       "    </tr>\n",
       "    <tr>\n",
       "      <th>...</th>\n",
       "      <td>...</td>\n",
       "      <td>...</td>\n",
       "      <td>...</td>\n",
       "      <td>...</td>\n",
       "      <td>...</td>\n",
       "      <td>...</td>\n",
       "    </tr>\n",
       "    <tr>\n",
       "      <th>40166</th>\n",
       "      <td>150508</td>\n",
       "      <td>28</td>\n",
       "      <td>2</td>\n",
       "      <td>5.0</td>\n",
       "      <td>1</td>\n",
       "      <td>5.0</td>\n",
       "    </tr>\n",
       "    <tr>\n",
       "      <th>40167</th>\n",
       "      <td>129320</td>\n",
       "      <td>48</td>\n",
       "      <td>1</td>\n",
       "      <td>5.0</td>\n",
       "      <td>1</td>\n",
       "      <td>9.0</td>\n",
       "    </tr>\n",
       "    <tr>\n",
       "      <th>40168</th>\n",
       "      <td>114824</td>\n",
       "      <td>66</td>\n",
       "      <td>1</td>\n",
       "      <td>2.0</td>\n",
       "      <td>1</td>\n",
       "      <td>6.0</td>\n",
       "    </tr>\n",
       "    <tr>\n",
       "      <th>40169</th>\n",
       "      <td>154925</td>\n",
       "      <td>42</td>\n",
       "      <td>1</td>\n",
       "      <td>3.0</td>\n",
       "      <td>1</td>\n",
       "      <td>5.0</td>\n",
       "    </tr>\n",
       "    <tr>\n",
       "      <th>40170</th>\n",
       "      <td>110166</td>\n",
       "      <td>46</td>\n",
       "      <td>1</td>\n",
       "      <td>2.0</td>\n",
       "      <td>1</td>\n",
       "      <td>7.0</td>\n",
       "    </tr>\n",
       "  </tbody>\n",
       "</table>\n",
       "<p>40171 rows × 6 columns</p>\n",
       "</div>"
      ],
      "text/plain": [
       "        TOINC  AGE  SEX  HGC  JOB  FSIZE\n",
       "0      325251   75    2  3.0    2    3.0\n",
       "1      382895   48    1  2.0    1   12.5\n",
       "2      173985   55    1  7.0    2    2.0\n",
       "3      173303   44    1  8.0    1    4.0\n",
       "4      187409   42    1  5.0    1    5.0\n",
       "...       ...  ...  ...  ...  ...    ...\n",
       "40166  150508   28    2  5.0    1    5.0\n",
       "40167  129320   48    1  5.0    1    9.0\n",
       "40168  114824   66    1  2.0    1    6.0\n",
       "40169  154925   42    1  3.0    1    5.0\n",
       "40170  110166   46    1  2.0    1    7.0\n",
       "\n",
       "[40171 rows x 6 columns]"
      ]
     },
     "execution_count": 773,
     "metadata": {},
     "output_type": "execute_result"
    }
   ],
   "source": [
    "conditions = [\n",
    "    (selected_df[\"HGC\"] == 0), \n",
    "    (selected_df[\"HGC\"] == 10),\n",
    "    (selected_df[\"HGC\"].between(210, 260)), \n",
    "    (selected_df[\"HGC\"] == 280), \n",
    "    (selected_df[\"HGC\"].between(310, 330)),  \n",
    "    (selected_df[\"HGC\"] == 350), \n",
    "    (selected_df[\"HGC\"].between(410, 420)), \n",
    "    (selected_df[\"HGC\"].between(501, 589)),  \n",
    "    (selected_df[\"HGC\"].between(810, 840)), \n",
    "    (selected_df[\"HGC\"].between(601, 689)), \n",
    "    (selected_df[\"HGC\"] >= 900)  \n",
    "]\n",
    "\n",
    "values = [0, 1, 2, 3, 4, 5, 6, 7, 8, 9, 10]  \n",
    "\n",
    "selected_df[\"HGC\"] = np.select(conditions, values, default=np.nan) \n",
    "\n",
    "selected_df"
   ]
  },
  {
   "cell_type": "markdown",
   "metadata": {},
   "source": [
    "After mapping, we check if there are values not accounted for and if there are null values."
   ]
  },
  {
   "cell_type": "code",
   "execution_count": 774,
   "metadata": {},
   "outputs": [
    {
     "data": {
      "text/plain": [
       "HGC    0\n",
       "dtype: int64"
      ]
     },
     "execution_count": 774,
     "metadata": {},
     "output_type": "execute_result"
    }
   ],
   "source": [
    "selected_df[[\"HGC\"]].isnull().sum()"
   ]
  },
  {
   "cell_type": "markdown",
   "metadata": {},
   "source": [
    "Now, we deal with the outliers. We will use a boxplot to visualize the distribution."
   ]
  },
  {
   "cell_type": "code",
   "execution_count": 775,
   "metadata": {},
   "outputs": [
    {
     "data": {
      "image/png": "[encoded data removed]",
      "text/plain": [
       "<Figure size 800x400 with 1 Axes>"
      ]
     },
     "metadata": {},
     "output_type": "display_data"
    }
   ],
   "source": [
    "plt.figure(figsize=(8, 4))\n",
    "sns.boxplot(x=selected_df[\"HGC\"])\n",
    "plt.title(\"Boxplot of HGC\")\n",
    "plt.show()"
   ]
  },
  {
   "cell_type": "markdown",
   "metadata": {},
   "source": [
    "The boxplot shows that values **9** and **10** are outliers but college graduates and post-baccalaureate graduates are valid, so we will keep these."
   ]
  },
  {
   "cell_type": "markdown",
   "metadata": {},
   "source": [
    "### **`AGE`** - ***Age***"
   ]
  },
  {
   "cell_type": "code",
   "execution_count": 776,
   "metadata": {},
   "outputs": [
    {
     "data": {
      "image/png": "[encoded data removed]",
      "text/plain": [
       "<Figure size 800x400 with 1 Axes>"
      ]
     },
     "metadata": {},
     "output_type": "display_data"
    }
   ],
   "source": [
    "plt.figure(figsize=(8, 4))\n",
    "sns.boxplot(x=selected_df[\"AGE\"])\n",
    "plt.title(\"Boxplot of AGE\")\n",
    "plt.show()"
   ]
  },
  {
   "cell_type": "code",
   "execution_count": 777,
   "metadata": {},
   "outputs": [],
   "source": [
    "selected_df = selected_df[(selected_df[\"AGE\"] >= 18) & (selected_df[\"AGE\"] <= 90)]"
   ]
  },
  {
   "cell_type": "code",
   "execution_count": 778,
   "metadata": {},
   "outputs": [
    {
     "data": {
      "image/png": "[encoded data removed]",
      "text/plain": [
       "<Figure size 800x400 with 1 Axes>"
      ]
     },
     "metadata": {},
     "output_type": "display_data"
    }
   ],
   "source": [
    "plt.figure(figsize=(8, 4))\n",
    "sns.boxplot(x=selected_df[\"AGE\"])\n",
    "plt.title(\"Boxplot of AGE\")\n",
    "plt.show()"
   ]
  },
  {
   "cell_type": "markdown",
   "metadata": {},
   "source": [
    "### **`SEX`** - ***Sex***"
   ]
  },
  {
   "cell_type": "markdown",
   "metadata": {},
   "source": [
    "Male -> 0\n",
    "Female -> 1 will fix desc later"
   ]
  },
  {
   "cell_type": "code",
   "execution_count": 779,
   "metadata": {},
   "outputs": [
    {
     "data": {
      "text/plain": [
       "SEX\n",
       "1    31522\n",
       "2     8541\n",
       "Name: count, dtype: int64"
      ]
     },
     "execution_count": 779,
     "metadata": {},
     "output_type": "execute_result"
    }
   ],
   "source": [
    "selected_df[\"SEX\"].value_counts()"
   ]
  },
  {
   "cell_type": "code",
   "execution_count": 780,
   "metadata": {},
   "outputs": [],
   "source": [
    "selected_df = selected_df.copy()\n",
    "selected_df['SEX'] = selected_df['SEX'].replace({1: 0, 2: 1})  \n"
   ]
  },
  {
   "cell_type": "markdown",
   "metadata": {},
   "source": [
    "### **`TOINC`** - ***Total Income***"
   ]
  },
  {
   "cell_type": "code",
   "execution_count": 781,
   "metadata": {},
   "outputs": [
    {
     "data": {
      "application/vnd.microsoft.datawrangler.viewer.v0+json": {
       "columns": [
        {
         "name": "index",
         "rawType": "int64",
         "type": "integer"
        },
        {
         "name": "TOINC",
         "rawType": "int64",
         "type": "integer"
        },
        {
         "name": "AGE",
         "rawType": "int64",
         "type": "integer"
        },
        {
         "name": "SEX",
         "rawType": "int64",
         "type": "integer"
        },
        {
         "name": "HGC",
         "rawType": "float64",
         "type": "float"
        },
        {
         "name": "JOB",
         "rawType": "int64",
         "type": "integer"
        },
        {
         "name": "FSIZE",
         "rawType": "float64",
         "type": "float"
        }
       ],
       "conversionMethod": "pd.DataFrame",
       "ref": "c2f8b7e2-0216-4df7-ba39-28043c095355",
       "rows": [],
       "shape": {
        "columns": 6,
        "rows": 0
       }
      },
      "text/html": [
       "<div>\n",
       "<style scoped>\n",
       "    .dataframe tbody tr th:only-of-type {\n",
       "        vertical-align: middle;\n",
       "    }\n",
       "\n",
       "    .dataframe tbody tr th {\n",
       "        vertical-align: top;\n",
       "    }\n",
       "\n",
       "    .dataframe thead th {\n",
       "        text-align: right;\n",
       "    }\n",
       "</style>\n",
       "<table border=\"1\" class=\"dataframe\">\n",
       "  <thead>\n",
       "    <tr style=\"text-align: right;\">\n",
       "      <th></th>\n",
       "      <th>TOINC</th>\n",
       "      <th>AGE</th>\n",
       "      <th>SEX</th>\n",
       "      <th>HGC</th>\n",
       "      <th>JOB</th>\n",
       "      <th>FSIZE</th>\n",
       "    </tr>\n",
       "  </thead>\n",
       "  <tbody>\n",
       "  </tbody>\n",
       "</table>\n",
       "</div>"
      ],
      "text/plain": [
       "Empty DataFrame\n",
       "Columns: [TOINC, AGE, SEX, HGC, JOB, FSIZE]\n",
       "Index: []"
      ]
     },
     "execution_count": 781,
     "metadata": {},
     "output_type": "execute_result"
    }
   ],
   "source": [
    "selected_df[selected_df[\"TOINC\"] < 0]"
   ]
  },
  {
   "cell_type": "code",
   "execution_count": 782,
   "metadata": {},
   "outputs": [
    {
     "data": {
      "image/png": "[encoded data removed]",
      "text/plain": [
       "<Figure size 800x400 with 1 Axes>"
      ]
     },
     "metadata": {},
     "output_type": "display_data"
    }
   ],
   "source": [
    "plt.figure(figsize=(8, 4))\n",
    "sns.boxplot(x=selected_df[\"TOINC\"])\n",
    "plt.title(\"Boxplot of TOINC\")\n",
    "plt.show()"
   ]
  },
  {
   "cell_type": "code",
   "execution_count": 783,
   "metadata": {},
   "outputs": [],
   "source": [
    "selected_df = selected_df.copy()\n",
    "selected_df[\"TOINC\"] = np.log1p(selected_df[\"TOINC\"])\n"
   ]
  },
  {
   "cell_type": "code",
   "execution_count": 784,
   "metadata": {},
   "outputs": [
    {
     "data": {
      "image/png": "[encoded data removed]",
      "text/plain": [
       "<Figure size 800x400 with 1 Axes>"
      ]
     },
     "metadata": {},
     "output_type": "display_data"
    }
   ],
   "source": [
    "plt.figure(figsize=(8, 4))\n",
    "sns.boxplot(x=selected_df[\"TOINC\"])\n",
    "plt.title(\"Boxplot of TOINC\")\n",
    "plt.show()"
   ]
  },
  {
   "cell_type": "markdown",
   "metadata": {},
   "source": [
    "### **`FSIZE`** - ***Family Size***"
   ]
  },
  {
   "cell_type": "code",
   "execution_count": 785,
   "metadata": {},
   "outputs": [
    {
     "data": {
      "image/png": "[encoded data removed]",
      "text/plain": [
       "<Figure size 800x400 with 1 Axes>"
      ]
     },
     "metadata": {},
     "output_type": "display_data"
    }
   ],
   "source": [
    "plt.figure(figsize=(8, 4))\n",
    "sns.boxplot(x=selected_df[\"FSIZE\"])\n",
    "plt.title(\"Boxplot of FSIZE\")\n",
    "plt.show()"
   ]
  },
  {
   "cell_type": "code",
   "execution_count": 786,
   "metadata": {},
   "outputs": [
    {
     "name": "stdout",
     "output_type": "stream",
     "text": [
      "Skewness of FSIZE: 0.7440855721696026\n"
     ]
    }
   ],
   "source": [
    "print(\"Skewness of FSIZE:\", selected_df['FSIZE'].skew())"
   ]
  },
  {
   "cell_type": "code",
   "execution_count": 787,
   "metadata": {},
   "outputs": [],
   "source": [
    "selected_df = selected_df.copy()\n",
    "selected_df['FSIZE'] = np.log1p(selected_df['FSIZE'])"
   ]
  },
  {
   "cell_type": "code",
   "execution_count": 788,
   "metadata": {},
   "outputs": [
    {
     "data": {
      "image/png": "[encoded data removed]",
      "text/plain": [
       "<Figure size 800x400 with 1 Axes>"
      ]
     },
     "metadata": {},
     "output_type": "display_data"
    }
   ],
   "source": [
    "plt.figure(figsize=(8, 4))\n",
    "sns.boxplot(x=selected_df[\"FSIZE\"])\n",
    "plt.title(\"Boxplot of FSIZE\")\n",
    "plt.show()"
   ]
  },
  {
   "cell_type": "code",
   "execution_count": 789,
   "metadata": {},
   "outputs": [
    {
     "name": "stdout",
     "output_type": "stream",
     "text": [
      "Skewness of FSIZE: -0.41714273903963184\n"
     ]
    }
   ],
   "source": [
    "print(\"Skewness of FSIZE:\", selected_df['FSIZE'].skew())"
   ]
  },
  {
   "cell_type": "markdown",
   "metadata": {},
   "source": [
    "### **`JOB`** - ***Job/Business Indicator***"
   ]
  },
  {
   "cell_type": "markdown",
   "metadata": {},
   "source": [
    "0 -> no business/job 1 -> has business/job will fix desc later"
   ]
  },
  {
   "cell_type": "code",
   "execution_count": 790,
   "metadata": {},
   "outputs": [],
   "source": [
    "selected_df['JOB'] = selected_df['JOB'].map({1: 1, 2: 0}) "
   ]
  },
  {
   "cell_type": "markdown",
   "metadata": {},
   "source": [
    "# **Exploratory Data Analysis**"
   ]
  },
  {
   "cell_type": "code",
   "execution_count": 791,
   "metadata": {},
   "outputs": [],
   "source": [
    "selected_df = selected_df.copy()\n",
    "scaler = StandardScaler()\n",
    "selected_df[['AGE', 'FSIZE', 'TOINC']] = scaler.fit_transform(selected_df[['AGE', 'FSIZE', 'TOINC']])"
   ]
  },
  {
   "cell_type": "code",
   "execution_count": 792,
   "metadata": {},
   "outputs": [
    {
     "data": {
      "text/plain": [
       "array([[<Axes: title={'center': 'TOINC'}>,\n",
       "        <Axes: title={'center': 'AGE'}>],\n",
       "       [<Axes: title={'center': 'SEX'}>, <Axes: title={'center': 'HGC'}>],\n",
       "       [<Axes: title={'center': 'JOB'}>,\n",
       "        <Axes: title={'center': 'FSIZE'}>]], dtype=object)"
      ]
     },
     "execution_count": 792,
     "metadata": {},
     "output_type": "execute_result"
    },
    {
     "data": {
      "image/png": "[encoded data removed]",
      "text/plain": [
       "<Figure size 2000x1000 with 6 Axes>"
      ]
     },
     "metadata": {},
     "output_type": "display_data"
    }
   ],
   "source": [
    "selected_df.hist(bins=60, figsize=(20,10))"
   ]
  },
  {
   "cell_type": "code",
   "execution_count": 793,
   "metadata": {},
   "outputs": [
    {
     "data": {
      "image/png": "[encoded data removed]",
      "text/plain": [
       "<Figure size 1000x800 with 2 Axes>"
      ]
     },
     "metadata": {},
     "output_type": "display_data"
    }
   ],
   "source": [
    "plt.figure(figsize=(10, 8))\n",
    "sns.heatmap(selected_df.corr(), annot=True, cmap=\"coolwarm\", fmt=\".2f\", linewidths=0.5)\n",
    "plt.title(\"Correlation Heatmap\")\n",
    "plt.show()"
   ]
  },
  {
   "cell_type": "markdown",
   "metadata": {},
   "source": [
    "# **Splitting the Dataset**"
   ]
  },
  {
   "cell_type": "code",
   "execution_count": 794,
   "metadata": {},
   "outputs": [],
   "source": [
    "X = selected_df.drop(columns=[\"TOINC\"])\n",
    "y = selected_df[\"TOINC\"]"
   ]
  },
  {
   "cell_type": "code",
   "execution_count": 795,
   "metadata": {},
   "outputs": [],
   "source": [
    "X_train, X_test, y_train, y_test = train_test_split(X, y, random_state=11, test_size=0.2)"
   ]
  }
 ],
 "metadata": {
  "kernelspec": {
   "display_name": "Python 3",
   "language": "python",
   "name": "python3"
  },
  "language_info": {
   "codemirror_mode": {
    "name": "ipython",
    "version": 3
   },
   "file_extension": ".py",
   "mimetype": "text/x-python",
   "name": "python",
   "nbconvert_exporter": "python",
   "pygments_lexer": "ipython3",
   "version": "3.11.9"
  }
 },
 "nbformat": 4,
 "nbformat_minor": 2
}
