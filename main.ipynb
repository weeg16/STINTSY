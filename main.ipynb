{
  "cells": [
    {
      "cell_type": "markdown",
      "metadata": {
        "id": "view-in-github",
        "colab_type": "text"
      },
      "source": [
        "<a href=\"https://colab.research.google.com/github/weeg16/STINTSY/blob/main/main.ipynb\" target=\"_parent\"><img src=\"https://colab.research.google.com/assets/colab-badge.svg\" alt=\"Open In Colab\"/></a>"
      ]
    },
    {
      "cell_type": "markdown",
      "metadata": {
        "id": "Rhd44EMwuDVO"
      },
      "source": [
        "# **STINTSY Machine Project**"
      ]
    },
    {
      "cell_type": "markdown",
      "source": [
        "<font face=\"Comic Sans MS\" size=7 color='#d39aed'>??????????????????<font>"
      ],
      "metadata": {
        "id": "wSWyx5iF_edA"
      }
    },
    {
      "cell_type": "markdown",
      "metadata": {
        "id": "ZzlG6D0NuDVP"
      },
      "source": [
        "## *Group # - S16*\n",
        "- **Ang, Danielle Faith**\n",
        "- **De Los Santos, Hanna Angela**\n",
        "- **Robles, Luis Miguel**\n",
        "- **Sarreal, Sophia Althea**"
      ]
    },
    {
      "cell_type": "markdown",
      "metadata": {
        "id": "OMjIXNBVuDVP"
      },
      "source": [
        "# **Import Libraries**"
      ]
    },
    {
      "cell_type": "code",
      "execution_count": null,
      "metadata": {
        "id": "WB_1zi_DuDVP"
      },
      "outputs": [],
      "source": [
        "import pandas as pd\n",
        "import numpy as np\n",
        "import matplotlib.pyplot as plt\n",
        "import seaborn as sns\n",
        "from sklearn.preprocessing import StandardScaler, PowerTransformer\n",
        "from sklearn.model_selection import train_test_split, learning_curve, KFold\n",
        "from sklearn.neighbors import KNeighborsRegressor\n",
        "from sklearn.metrics import mean_squared_error, mean_absolute_error\n",
        "from scipy.stats import skew\n",
        "from sklearn.feature_selection import SelectKBest, f_regression, mutual_info_regression # may remove\n",
        "from sklearn.impute import SimpleImputer\n",
        "from sklearn.linear_model import LinearRegression, Lasso, LassoCV\n",
        "from statsmodels.stats.outliers_influence import variance_inflation_factor\n",
        "from sklearn.feature_selection import RFE # may use insead of selectKbest\n",
        "from sklearn.decomposition import PCA\n",
        "\n",
        "# for neural networks\n",
        "\n",
        "import tensorflow as tf\n",
        "from tensorflow import keras\n",
        "from tensorflow.keras.models import Sequential\n",
        "from tensorflow.keras.layers import Dense, Dropout, BatchNormalization, Activation\n",
        "from tensorflow.keras.optimizers import Adam\n",
        "from tensorflow.keras.callbacks import EarlyStopping, ReduceLROnPlateau"
      ]
    },
    {
      "cell_type": "markdown",
      "metadata": {
        "id": "CHSZDr7zuDVQ"
      },
      "source": [
        "# **Dataset Description**"
      ]
    },
    {
      "cell_type": "markdown",
      "metadata": {
        "id": "mbPT9SbNuDVQ"
      },
      "source": [
        "The file contains data about expenditures and other disbursements, housing characteristics, social protection, Income and other receipts and Entrepreneural Activities."
      ]
    },
    {
      "cell_type": "markdown",
      "metadata": {
        "id": "1WymCJuruDVQ"
      },
      "source": [
        "# **Structure of the Dataset**"
      ]
    },
    {
      "cell_type": "markdown",
      "metadata": {
        "id": "ySQnXnrCuDVQ"
      },
      "source": []
    },
    {
      "cell_type": "markdown",
      "metadata": {
        "id": "Nvz-uyMiuDVQ"
      },
      "source": [
        "# **Reading the Dataset**"
      ]
    },
    {
      "cell_type": "code",
      "execution_count": null,
      "metadata": {
        "id": "_Nafd1NLuDVQ"
      },
      "outputs": [],
      "source": [
        "fies_df = pd.read_csv('FIES PUF 2012 Vol.1.CSV')"
      ]
    },
    {
      "cell_type": "markdown",
      "metadata": {
        "id": "Pi-eeDrzuDVQ"
      },
      "source": [
        "# **Cleaning the Dataset**"
      ]
    },
    {
      "cell_type": "code",
      "execution_count": null,
      "metadata": {
        "id": "CWYBJBrKuDVR"
      },
      "outputs": [],
      "source": [
        "display(fies_df.head())"
      ]
    },
    {
      "cell_type": "code",
      "source": [
        "fies_df.info()"
      ],
      "metadata": {
        "id": "MOvTKR7kbVO6"
      },
      "execution_count": null,
      "outputs": []
    },
    {
      "cell_type": "markdown",
      "source": [
        "### ***Drop ID Columns***"
      ],
      "metadata": {
        "id": "eTV8a_rUdyhX"
      }
    },
    {
      "cell_type": "code",
      "source": [
        "id_cols = [\"W_OID\", \"W_SHSN\", \"W_HCN\", \"W_REGN\"]\n",
        "fies_df.drop(columns=id_cols, inplace=True, errors='ignore')"
      ],
      "metadata": {
        "id": "AN78Pt72dx8C"
      },
      "execution_count": null,
      "outputs": []
    },
    {
      "cell_type": "markdown",
      "source": [
        "### ***Categorical Variables***"
      ],
      "metadata": {
        "id": "APtuKiHo5ivA"
      }
    },
    {
      "cell_type": "code",
      "source": [
        "object_columns = fies_df.select_dtypes(include=['object']).columns\n",
        "print(\"Categorical Variables (Object Dtypes):\")\n",
        "print(object_columns)"
      ],
      "metadata": {
        "id": "fnvgAxKRcNhe"
      },
      "execution_count": null,
      "outputs": []
    },
    {
      "cell_type": "markdown",
      "source": [
        "By studying the dataset, we see that `AGELESS5`, `AGE5_17`, `EMPLOYED_PAY`,\n",
        "       `EMPLOYED_PROF`, `DISTANCE`, `RADIO_QTY`, `TV_QTY`, `CD_QTY`,\n",
        "       `STEREO_QTY`, `REF_QTY`, `WASH_QTY`, `AIRCON_QTY`, `CAR_QTY`,\n",
        "       `LANDLINE_QTY`, `CELLPHONE_QTY`, `PC_QTY`, `OVEN_QTY`,\n",
        "       `MOTOR_BANCA_QTY`, `MOTORCYCLE_QTY` all represent numeric quantities."
      ],
      "metadata": {
        "id": "Azt7kH825zeS"
      }
    },
    {
      "cell_type": "code",
      "source": [
        "cols = ['AGELESS5', 'AGE5_17', 'EMPLOYED_PAY',\n",
        "       'EMPLOYED_PROF', 'DISTANCE', 'RADIO_QTY', 'TV_QTY', 'CD_QTY',\n",
        "       'STEREO_QTY', 'REF_QTY', 'WASH_QTY', 'AIRCON_QTY', 'CAR_QTY',\n",
        "       'LANDLINE_QTY', 'CELLPHONE_QTY', 'PC_QTY', 'OVEN_QTY',\n",
        "       'MOTOR_BANCA_QTY', 'MOTORCYCLE_QTY']\n",
        "\n",
        "fies_df[cols] = fies_df[cols].apply(pd.to_numeric, errors='coerce')\n"
      ],
      "metadata": {
        "id": "UUdpvd-beejG"
      },
      "execution_count": null,
      "outputs": []
    },
    {
      "cell_type": "markdown",
      "source": [
        "### ***Mapping/One-Hot Encoding for Categorical Variables***"
      ],
      "metadata": {
        "id": "G0ZexYiP6tAg"
      }
    },
    {
      "cell_type": "markdown",
      "metadata": {
        "id": "f81XsyNYuDVR"
      },
      "source": [
        "### **`HGC`** - ***(Household Head) Highest Grade Completed***"
      ]
    },
    {
      "cell_type": "markdown",
      "metadata": {
        "id": "rdGmG1M5uDVR"
      },
      "source": [
        "The **HGC** variable represents the highest level of education completed by the household head.\n",
        "\n",
        "### **Education Levels and Codes:**\n",
        "\n",
        "- **No Grade Completed:** `0`  \n",
        "- **Preschool:** `10`  \n",
        "- **Elementary Undergraduate:** `210-260`  \n",
        "- **Elementary Graduate:** `280`  \n",
        "- **High School Undergraduate:** `310-330`  \n",
        "- **High School Graduate:** `350`  \n",
        "- **Post-Secondary Undergraduate:** `410-420`  \n",
        "- **Post-Secondary Graduate (Technical/Vocational):** `501-589`  \n",
        "- **College Undergraduate:** `810-840`  \n",
        "- **College Graduate:** `601-689`  \n",
        "- **Post-Baccalaureate:** `900`  "
      ]
    },
    {
      "cell_type": "code",
      "execution_count": null,
      "metadata": {
        "id": "rxTyste8uDVR"
      },
      "outputs": [],
      "source": [
        "fies_df[\"HGC\"].unique()"
      ]
    },
    {
      "cell_type": "markdown",
      "metadata": {
        "id": "bblE9JmUuDVS"
      },
      "source": [
        "As seen by using **`.unique()`**, these codes are not continuous single values, but instead appear in ranges for certain education levels.\n",
        "\n",
        "With this, we mapped these numerical codes into standardized categories based on the dictionary.\n",
        "\n",
        "<small>***Note that the dictionary lists College Undergraduate as ranging from **810-840** and College Graduate as **601-689**, so their values in the mapping may seem reversed.* </small>"
      ]
    },
    {
      "cell_type": "code",
      "execution_count": null,
      "metadata": {
        "id": "E-MeY1OHuDVS"
      },
      "outputs": [],
      "source": [
        "print(fies_df[\"HGC\"].between(601, 689).sum())  # Expected graduates\n",
        "print(fies_df[\"HGC\"].between(810, 840).sum())  # Expected undergraduates\n"
      ]
    },
    {
      "cell_type": "markdown",
      "source": [
        "An ordinal mapping was used to represent educational attainment levels. This ensures that there is a meaningful order."
      ],
      "metadata": {
        "id": "YpdEJSxp7SPV"
      }
    },
    {
      "cell_type": "code",
      "execution_count": null,
      "metadata": {
        "id": "eUIvZ29VuDVS"
      },
      "outputs": [],
      "source": [
        "conditions = [\n",
        "    (fies_df[\"HGC\"] == 0),\n",
        "    (fies_df[\"HGC\"] == 10),\n",
        "    (fies_df[\"HGC\"].between(210, 260)),\n",
        "    (fies_df[\"HGC\"] == 280),\n",
        "    (fies_df[\"HGC\"].between(310, 330)),\n",
        "    (fies_df[\"HGC\"] == 350),\n",
        "    (fies_df[\"HGC\"].between(410, 420)),\n",
        "    (fies_df[\"HGC\"].between(501, 589)),\n",
        "    (fies_df[\"HGC\"].between(810, 840)),\n",
        "    (fies_df[\"HGC\"].between(601, 689)),\n",
        "    (fies_df[\"HGC\"] >= 900)\n",
        "]\n",
        "\n",
        "values = [0, 1, 2, 3, 4, 5, 6, 7, 8, 9, 10]\n",
        "\n",
        "fies_df[\"HGC\"] = np.select(conditions, values, default=np.nan)\n",
        "\n",
        "fies_df[\"HGC\"]"
      ]
    },
    {
      "cell_type": "markdown",
      "source": [
        "### **`OCCUP`** - ***Primary occupation of the head of the family during the past six months***"
      ],
      "metadata": {
        "id": "ro30PgxApIUK"
      }
    },
    {
      "cell_type": "markdown",
      "source": [
        "The **OCCUP** variable categorizes the primary occupation of the household head based on standardized occupation codes. These codes are grouped into broader occupational categories.\n",
        "\n",
        "### **Occupation Groups and Codes:**\n",
        "- **Officials, Executives, and Managers:** `1110-1490`  \n",
        "- **Professionals:** `2111-2460`  \n",
        "- **Technicians and Associate Professionals:** `3111-3480`  \n",
        "- **Clerks:** `4111-4223`  \n",
        "- **Service Workers and Sales Workers:** `5111-5230`  \n",
        "- **Farmers, Forestry Workers, and Fishermen:** `6111-6590`  \n",
        "- **Trades and Related Workers:** `7111-7442`  \n",
        "- **Plant and Machine Operators and Assemblers:** `8111-8340`  \n",
        "- **Laborers and Unskilled Workers:** `9111-9333`  \n",
        "- **Special Occupations:** `111-113, 121-129, 930`  "
      ],
      "metadata": {
        "id": "3lXMk95BEUSp"
      }
    },
    {
      "cell_type": "code",
      "source": [
        "fies_df['OCCUP'].unique()"
      ],
      "metadata": {
        "id": "tZSfq7OEpH1f"
      },
      "execution_count": null,
      "outputs": []
    },
    {
      "cell_type": "code",
      "source": [
        "fies_df['OCCUP'] = fies_df['OCCUP'].apply(pd.to_numeric, errors='coerce')"
      ],
      "metadata": {
        "id": "jc0-yZityIf2"
      },
      "execution_count": null,
      "outputs": []
    },
    {
      "cell_type": "markdown",
      "source": [
        "Like the previous variable, we will map the ranges to represent the categories covered by `OCCUP`. We will do this before applying one-hot encoding because applying one-hot encoding directly to the raw occupation codes would treat each unique value as a separate category, resulting in an unnecessarily large number of features. This would also fail to capture the intended grouping of occupations as defined in the dataset."
      ],
      "metadata": {
        "id": "Ax0dY-c-8niK"
      }
    },
    {
      "cell_type": "code",
      "source": [
        "conditions = [\n",
        "    fies_df[\"OCCUP\"].between(1110, 1490),\n",
        "    fies_df[\"OCCUP\"].between(2111, 2460),\n",
        "    fies_df[\"OCCUP\"].between(3111, 3480),\n",
        "    fies_df[\"OCCUP\"].between(4111, 4223),\n",
        "    fies_df[\"OCCUP\"].between(5111, 5230),\n",
        "    fies_df[\"OCCUP\"].between(6111, 6590),\n",
        "    fies_df[\"OCCUP\"].between(7111, 7442),\n",
        "    fies_df[\"OCCUP\"].between(8111, 8340),\n",
        "    fies_df[\"OCCUP\"].between(9111, 9333),\n",
        "    fies_df[\"OCCUP\"].isin([111, 112, 113, 121, 122, 123, 124, 125, 126, 127, 128, 129, 930])\n",
        "]\n",
        "\n",
        "values = [\n",
        "    \"Officials & Executives\",\n",
        "    \"Professionals\",\n",
        "    \"Technicians\",\n",
        "    \"Clerks\",\n",
        "    \"Service Workers\",\n",
        "    \"Farmers & Fishers\",\n",
        "    \"Trades Workers\",\n",
        "    \"Machine Operators\",\n",
        "    \"Laborers\",\n",
        "    \"Special Occupations\"\n",
        "]\n",
        "\n",
        "fies_df[\"OCCUP_GROUP\"] = np.select(conditions, values, default=\"Unknown\")\n",
        "\n",
        "fies_df[\"OCCUP_GROUP\"].unique()"
      ],
      "metadata": {
        "id": "KoYubFu8xQ-H"
      },
      "execution_count": null,
      "outputs": []
    },
    {
      "cell_type": "markdown",
      "source": [
        "After, one-hot encoding is applied."
      ],
      "metadata": {
        "id": "STIsDFKVDZxk"
      }
    },
    {
      "cell_type": "code",
      "source": [
        "fies_df = pd.get_dummies(fies_df, columns=[\"OCCUP_GROUP\"], drop_first=True, dtype=int)\n"
      ],
      "metadata": {
        "id": "BTISB78xytzV"
      },
      "execution_count": null,
      "outputs": []
    },
    {
      "cell_type": "code",
      "source": [
        "fies_df.drop(columns=[\"OCCUP\"], inplace=True, errors='ignore')"
      ],
      "metadata": {
        "id": "2f2OEv-RFQiv"
      },
      "execution_count": null,
      "outputs": []
    },
    {
      "cell_type": "markdown",
      "source": [
        "### **`KB`** - ***Household Head Kind of Business/Industry***"
      ],
      "metadata": {
        "id": "JtCNZcjhz2i6"
      }
    },
    {
      "cell_type": "markdown",
      "source": [
        "The **KB** variable categorizes the primary business or industry in which the household head is engaged. These industries are grouped based on standardized industry codes.\n",
        "\n",
        "### **Business/Industry Categories and Codes:**\n",
        "- **Agriculture, Forestry, and Fishing:** `111-329`  \n",
        "- **Mining and Quarrying:** `510-990`  \n",
        "- **Manufacturing:** `1011-3320`  \n",
        "- **Electricity, Gas, Steam, and Airconditioning Supply:** `3510-3530`  \n",
        "- **Water Supply, Sewerage, Waste Management, and Remediation Activities:** `3600-3900`  \n",
        "- **Construction:** `4100-4390`  \n",
        "- **Wholesale and Retail Trade; Repair of Motor Vehicles and Motorcycles:** `4510-4799`  \n",
        "- **Transportation and Storage:** `4911-5320`  \n",
        "- **Accommodation and Food Service Activities:** `5510-5630`  \n",
        "- **Information and Communication:** `5811-6399`  \n",
        "- **Financial and Insurance Activities:** `6411-6630`  \n",
        "- **Real Estate Activities:** `6811-6820`  \n",
        "- **Professional, Scientific, and Technical Activities:** `6910-7500`  \n",
        "- **Administrative and Support Service Activities:** `7710-8299`  \n",
        "- **Public Administration and Defense; Compulsory Social Security:** `8411-8430`  \n",
        "- **Education:** `8511-8560`  \n",
        "- **Human Health and Social Work Services:** `8611-8890`  \n",
        "- **Arts, Entertainment, and Recreation:** `9000-9329`  \n",
        "- **Other Service Activities:** `9411-9690`  \n",
        "- **Activities of Households as Employers of Domestic Personnel:** `9700`  \n",
        "- **Activities of Extra-Territorial Organizations and Bodies:** `9901-9909`  "
      ],
      "metadata": {
        "id": "pEpSW9m2H2_j"
      }
    },
    {
      "cell_type": "code",
      "source": [
        "fies_df['KB'] = fies_df['KB'].apply(pd.to_numeric, errors='coerce')"
      ],
      "metadata": {
        "id": "UY0sxeDh06gY"
      },
      "execution_count": null,
      "outputs": []
    },
    {
      "cell_type": "markdown",
      "source": [
        "Using the same rationale as the previous variable, mapping the ranges first before one-hot encoding ensures that the business categories are grouped appropriately."
      ],
      "metadata": {
        "id": "4f6CjWCqIAXJ"
      }
    },
    {
      "cell_type": "code",
      "source": [
        "conditions = [\n",
        "    fies_df[\"KB\"].between(111, 329),\n",
        "    fies_df[\"KB\"].between(510, 990),\n",
        "    fies_df[\"KB\"].between(1011, 3320),\n",
        "    fies_df[\"KB\"].between(3510, 3530),\n",
        "    fies_df[\"KB\"].between(3600, 3900),\n",
        "    fies_df[\"KB\"].between(4100, 4390),\n",
        "    fies_df[\"KB\"].between(4510, 4799),\n",
        "    fies_df[\"KB\"].between(4911, 5320),\n",
        "    fies_df[\"KB\"].between(5510, 5630),\n",
        "    fies_df[\"KB\"].between(5811, 6399),\n",
        "    fies_df[\"KB\"].between(6411, 6630),\n",
        "    fies_df[\"KB\"].between(6811, 6820),\n",
        "    fies_df[\"KB\"].between(6910, 7500),\n",
        "    fies_df[\"KB\"].between(7710, 8299),\n",
        "    fies_df[\"KB\"].between(8411, 8430),\n",
        "    fies_df[\"KB\"].between(8511, 8560),\n",
        "    fies_df[\"KB\"].between(8611, 8890),\n",
        "    fies_df[\"KB\"].between(9000, 9329),\n",
        "    fies_df[\"KB\"].between(9411, 9690),\n",
        "    fies_df[\"KB\"] == 9700,\n",
        "    fies_df[\"KB\"].between(9901, 9909)\n",
        "]\n",
        "\n",
        "values = [\n",
        "    \"Agriculture\", \"Mining\", \"Manufacturing\", \"Electricity\", \"Water Supply\", \"Construction\",\n",
        "    \"Retail\", \"Transport\", \"Food Service\", \"IT\", \"Finance\", \"Real Estate\", \"Professional\",\n",
        "    \"Admin\", \"Public Admin\", \"Education\", \"Health\", \"Arts\", \"Other Services\",\n",
        "    \"Household Employers\", \"Extra-territorial\"\n",
        "]\n",
        "\n",
        "fies_df[\"KB_Group\"] = np.select(conditions, values, default=\"Unknown\")"
      ],
      "metadata": {
        "id": "bVLGy9GT0Z9g"
      },
      "execution_count": null,
      "outputs": []
    },
    {
      "cell_type": "markdown",
      "source": [
        "After nominal mapping, we can apply one-hot encoding."
      ],
      "metadata": {
        "id": "NhYd3qlpIXKV"
      }
    },
    {
      "cell_type": "code",
      "source": [
        "fies_df = pd.get_dummies(fies_df, columns=[\"KB_Group\"], drop_first=True, dtype=int)"
      ],
      "metadata": {
        "id": "Lmq3tV_F1XmD"
      },
      "execution_count": null,
      "outputs": []
    },
    {
      "cell_type": "code",
      "source": [
        "fies_df.drop(columns=[\"KB\"], inplace=True, errors='ignore')"
      ],
      "metadata": {
        "id": "WfH8NFwPFbz_"
      },
      "execution_count": null,
      "outputs": []
    },
    {
      "cell_type": "markdown",
      "source": [
        "### **`CW`** - ***Household Head Class of Worker***"
      ],
      "metadata": {
        "id": "vKD3MIPX2X4F"
      }
    },
    {
      "cell_type": "markdown",
      "source": [
        "The **CW** variable identifies the **class of worker** for the household head during the second visit. It categorizes the employment type based on the nature of the employer or work arrangement.  \n",
        "\n",
        "### **Categories and Codes:**  \n",
        "- **Worked for private household**: `0`  \n",
        "- **Worked for private establishment**: `1`  \n",
        "- **Worked for government/government corporation**: `2`  \n",
        "- **Self-employed without any employee**: `3`  \n",
        "- **Employer in own family-operated farm or business**: `4`  \n",
        "- **Worked with pay in own family-operated farm or business**: `5`  \n",
        "- **Worked without pay in own family-operated farm or business**: `6`  "
      ],
      "metadata": {
        "id": "GQ9wQ06SKzu6"
      }
    },
    {
      "cell_type": "code",
      "source": [
        "fies_df['CW'] = fies_df['CW'].apply(pd.to_numeric, errors='coerce')"
      ],
      "metadata": {
        "id": "Ob5N-5Tr2mAd"
      },
      "execution_count": null,
      "outputs": []
    },
    {
      "cell_type": "markdown",
      "source": [
        "This is mapped into categorical labels to make the data more interpretable before applying one-hot encoding."
      ],
      "metadata": {
        "id": "Kku7exLRLuhj"
      }
    },
    {
      "cell_type": "code",
      "source": [
        "cw_mapping = {\n",
        "    0: \"Private Household\",\n",
        "    1: \"Private Establishment\",\n",
        "    2: \"Government\",\n",
        "    3: \"Self-Employed\",\n",
        "    4: \"Employer in Family Business\",\n",
        "    5: \"Worked with Pay in Family Business\",\n",
        "    6: \"Worked without Pay in Family Business\"\n",
        "}\n",
        "\n",
        "fies_df[\"CW_Group\"] = fies_df[\"CW\"].map(cw_mapping)\n"
      ],
      "metadata": {
        "id": "UivfIq0v2pqC"
      },
      "execution_count": null,
      "outputs": []
    },
    {
      "cell_type": "markdown",
      "source": [
        "Apply one-hot encoding."
      ],
      "metadata": {
        "id": "KpiAXJ5EMVGG"
      }
    },
    {
      "cell_type": "code",
      "source": [
        "fies_df = pd.get_dummies(fies_df, columns=[\"CW_Group\"], drop_first=True, dtype=int)"
      ],
      "metadata": {
        "id": "6puZGm2lMWd4"
      },
      "execution_count": null,
      "outputs": []
    },
    {
      "cell_type": "code",
      "source": [
        "fies_df.drop(columns=[\"CW\"], inplace=True, errors='ignore')"
      ],
      "metadata": {
        "id": "zrutlVFXJaU3"
      },
      "execution_count": null,
      "outputs": []
    },
    {
      "cell_type": "markdown",
      "source": [
        "Check if there are any more `object` dtypes."
      ],
      "metadata": {
        "id": "5xZckXFS4_Pz"
      }
    },
    {
      "cell_type": "code",
      "source": [
        "fies_df.info()"
      ],
      "metadata": {
        "id": "VXXlslwaeqa_"
      },
      "execution_count": null,
      "outputs": []
    },
    {
      "cell_type": "markdown",
      "source": [
        "### **`WALLS`** - ***Type of Walls***"
      ],
      "metadata": {
        "id": "UXHf0Ci6Hhrk"
      }
    },
    {
      "cell_type": "markdown",
      "source": [
        "The **WALLS** variable identifies the **type of wall** during the second visit.\n",
        "\n",
        "### **Categories and Codes:**  \n",
        "- **Strong materials**: `1`  \n",
        "- **Light materials**: `2`  \n",
        "- **Salvage/makeshift**: `3`  \n",
        "- **Mixed but predominantly strong**: `4`  \n",
        "- **Mixed but predominantly light**: `5`  \n",
        "- **Mixed but predominantly salvaged**: `6`  \n",
        "- **Not Applicable**: `7`  "
      ],
      "metadata": {
        "id": "GNHz9K03Ht6C"
      }
    },
    {
      "cell_type": "code",
      "source": [
        "fies_df['WALLS'] = fies_df['WALLS'].apply(pd.to_numeric, errors='coerce')"
      ],
      "metadata": {
        "id": "xNhRQg5nIpRu"
      },
      "execution_count": null,
      "outputs": []
    },
    {
      "cell_type": "code",
      "source": [
        "fies_df[\"WALLS\"].value_counts()"
      ],
      "metadata": {
        "id": "Rurfu6V6HcIW"
      },
      "execution_count": null,
      "outputs": []
    },
    {
      "cell_type": "code",
      "source": [
        "fies_df = fies_df[fies_df[\"WALLS\"] != 7]"
      ],
      "metadata": {
        "id": "TDDnnBKaJIXO"
      },
      "execution_count": null,
      "outputs": []
    },
    {
      "cell_type": "code",
      "source": [
        "walls_mapping = {\n",
        "    1: \"Strong materials\",\n",
        "    2: \"Light materials\",\n",
        "    3: \"Salvage/makeshift\",\n",
        "    4: \"Mixed but predominantly strong\",\n",
        "    5: \"Mixed but predominantly light\",\n",
        "    6: \"Mixed but predominantly salvaged\"\n",
        "}\n",
        "\n",
        "fies_df[\"WALLS_Group\"] = fies_df[\"WALLS\"].map(walls_mapping)\n"
      ],
      "metadata": {
        "id": "ZHcyvgHdIt1n"
      },
      "execution_count": null,
      "outputs": []
    },
    {
      "cell_type": "code",
      "source": [
        "fies_df = pd.get_dummies(fies_df, columns=[\"WALLS_Group\"], drop_first=True, dtype=int)"
      ],
      "metadata": {
        "id": "gJlaN-1aJTyr"
      },
      "execution_count": null,
      "outputs": []
    },
    {
      "cell_type": "code",
      "source": [
        "fies_df.drop(columns=[\"WALLS\"], inplace=True, errors='ignore')"
      ],
      "metadata": {
        "id": "zzrw9KQbJcL_"
      },
      "execution_count": null,
      "outputs": []
    },
    {
      "cell_type": "markdown",
      "source": [
        "### **`WATER`** - ***Water Source***\n",
        "\n",
        "The **WATER** variable identifies the **water source** during the second visit.\n",
        "\n",
        "### **Categories and Codes:**  \n",
        "- **Own use, faucet, community water system**: `1`  \n",
        "- **Shared, faucet, community water system**: `2`  \n",
        "- **Own use, tubed/piped deep well**: `3`  \n",
        "- **Shared, tubed/piped deep well**: `4`  \n",
        "- **Tubed/piped shallow well**: `5`  \n",
        "- **Dug well**: `6`  \n",
        "- **Protected spring**: `7`  \n",
        "- **Unprotected spring**: `8`\n",
        "- **Lake, river, rain, and others**: `9`\n",
        "- **Peddler**: `10 `\n",
        "- **Bottled water**: `11`\n",
        "- **Others**: `12`"
      ],
      "metadata": {
        "id": "u3X5BFHNIXKo"
      }
    },
    {
      "cell_type": "code",
      "source": [
        "fies_df['WATER'] = fies_df['WATER'].apply(pd.to_numeric, errors='coerce')"
      ],
      "metadata": {
        "id": "Sz6U0YvLOl2z"
      },
      "execution_count": null,
      "outputs": []
    },
    {
      "cell_type": "code",
      "source": [
        "water_mapping = {\n",
        "    1: \"Own use, faucet, community water system\",\n",
        "    2: \"Shared, faucet, community water system\",\n",
        "    3: \"Own use, tubed/piped deep well\",\n",
        "    4: \"Shared, tubed/piped deep well\",\n",
        "    5: \"Tubed/piped shallow well\",\n",
        "    6: \"Dug well\",\n",
        "    7: \"Protected spring\",\n",
        "    8: \"Unprotected spring\",\n",
        "    9: \"Lake, river, rain, and others\",\n",
        "    10: \"Peddler\",\n",
        "    11: \"Bottled water\",\n",
        "    12: \"Others\"\n",
        "}\n",
        "\n",
        "fies_df[\"WATER_Group\"] = fies_df[\"WATER\"].map(walls_mapping)\n"
      ],
      "metadata": {
        "id": "FlLtf9BnPNzS"
      },
      "execution_count": null,
      "outputs": []
    },
    {
      "cell_type": "code",
      "source": [
        "fies_df = pd.get_dummies(fies_df, columns=[\"WATER_Group\"], drop_first=True, dtype=int)"
      ],
      "metadata": {
        "id": "HdF-xMLLPYpi"
      },
      "execution_count": null,
      "outputs": []
    },
    {
      "cell_type": "code",
      "source": [
        "fies_df.drop(columns=[\"WATER\"], inplace=True, errors='ignore')"
      ],
      "metadata": {
        "id": "oCqAgRm3PZt7"
      },
      "execution_count": null,
      "outputs": []
    },
    {
      "cell_type": "markdown",
      "source": [
        "### **`MS`** - ***Marital Status***"
      ],
      "metadata": {
        "id": "CN_AGig07hnE"
      }
    },
    {
      "cell_type": "code",
      "source": [
        "fies_df['MS'] = fies_df['MS'].apply(pd.to_numeric, errors='coerce')"
      ],
      "metadata": {
        "id": "9nOb31AC7nP7"
      },
      "execution_count": null,
      "outputs": []
    },
    {
      "cell_type": "code",
      "source": [
        "marital_mapping = {\n",
        "    1: \"Single\",\n",
        "    2: \"Married\",\n",
        "    3: \"Widowed\",\n",
        "    4: \"Divorced\",\n",
        "    5: \"Separated\",\n",
        "}"
      ],
      "metadata": {
        "id": "cHTRKT_f7vC7"
      },
      "execution_count": null,
      "outputs": []
    },
    {
      "cell_type": "code",
      "source": [
        "fies_df['MS_Group'] = fies_df['MS'].map(marital_mapping)"
      ],
      "metadata": {
        "id": "Yu5RufDe77lJ"
      },
      "execution_count": null,
      "outputs": []
    },
    {
      "cell_type": "code",
      "source": [
        "fies_df = pd.get_dummies(fies_df, columns=['MS_Group'], drop_first=True, dtype=int)"
      ],
      "metadata": {
        "id": "5GAWV05m8MWh"
      },
      "execution_count": null,
      "outputs": []
    },
    {
      "cell_type": "code",
      "source": [
        "fies_df.drop(columns=[\"MS\"], inplace=True, errors='ignore')"
      ],
      "metadata": {
        "id": "qGxAfAry8Oqi"
      },
      "execution_count": null,
      "outputs": []
    },
    {
      "cell_type": "markdown",
      "source": [
        "### **`SPOUSE_EMP`** - ***Spouse Employment***"
      ],
      "metadata": {
        "id": "_ChD2LayOFtj"
      }
    },
    {
      "cell_type": "code",
      "source": [
        "fies_df['SPOUSE_EMP'] = fies_df['SPOUSE_EMP'].apply(pd.to_numeric, errors='coerce')"
      ],
      "metadata": {
        "id": "Jv5322bMOKEU"
      },
      "execution_count": null,
      "outputs": []
    },
    {
      "cell_type": "code",
      "source": [
        "spouse_mapping = {\n",
        "    1: \"Yes\",\n",
        "    2: \"No\",\n",
        "    3: \"Not Applicable\"\n",
        "}"
      ],
      "metadata": {
        "id": "XeKba67ROStb"
      },
      "execution_count": null,
      "outputs": []
    },
    {
      "cell_type": "code",
      "source": [
        "fies_df['SPOUSE_EMP_Group'] = fies_df['SPOUSE_EMP'].map(spouse_mapping)"
      ],
      "metadata": {
        "id": "64S2BqchOZi9"
      },
      "execution_count": null,
      "outputs": []
    },
    {
      "cell_type": "code",
      "source": [
        "fies_df = pd.get_dummies(fies_df, columns=['SPOUSE_EMP_Group'], drop_first=True, dtype=int)"
      ],
      "metadata": {
        "id": "d9VDwchtOc28"
      },
      "execution_count": null,
      "outputs": []
    },
    {
      "cell_type": "code",
      "source": [
        "fies_df.drop(columns=[\"SPOUSE_EMP\"], inplace=True, errors='ignore')"
      ],
      "metadata": {
        "id": "6G3beBW0OfPn"
      },
      "execution_count": null,
      "outputs": []
    },
    {
      "cell_type": "markdown",
      "source": [
        "### **`BLDG_TYPE`** - ***Building Type***"
      ],
      "metadata": {
        "id": "rpUDqWn2OxVC"
      }
    },
    {
      "cell_type": "code",
      "source": [
        "fies_df['BLDG_TYPE'] = fies_df['BLDG_TYPE'].apply(pd.to_numeric, errors='coerce')"
      ],
      "metadata": {
        "id": "VsY9XCVYO2YK"
      },
      "execution_count": null,
      "outputs": []
    },
    {
      "cell_type": "code",
      "source": [
        "building_mapping = {\n",
        "    1: \"Single\",\n",
        "    2: \"Duplex\",\n",
        "    3: \"Multi-unit residential\",\n",
        "    4: \"Commercial/Industrial/agricultural\",\n",
        "    5: \"Institutional living quarters\",\n",
        "    6: \"Other housing unit (boat, cve, others)\"\n",
        "}"
      ],
      "metadata": {
        "id": "C68q-Qe6PCpD"
      },
      "execution_count": null,
      "outputs": []
    },
    {
      "cell_type": "code",
      "source": [
        "fies_df['BLDG_TYPE_Group'] = fies_df['BLDG_TYPE'].map(building_mapping)"
      ],
      "metadata": {
        "id": "bM5_Ou8IO58m"
      },
      "execution_count": null,
      "outputs": []
    },
    {
      "cell_type": "code",
      "source": [
        "fies_df = pd.get_dummies(fies_df, columns=['BLDG_TYPE_Group'], drop_first=True, dtype=int)"
      ],
      "metadata": {
        "id": "5Xucac1bPV5i"
      },
      "execution_count": null,
      "outputs": []
    },
    {
      "cell_type": "code",
      "source": [
        "fies_df.drop(columns=[\"BLDG_TYPE\"], inplace=True, errors='ignore')"
      ],
      "metadata": {
        "id": "UrXbvirVPgXN"
      },
      "execution_count": null,
      "outputs": []
    },
    {
      "cell_type": "markdown",
      "source": [
        "### **``**"
      ],
      "metadata": {
        "id": "TAD9SescVBC7"
      }
    },
    {
      "cell_type": "markdown",
      "source": [
        "### ***Handling Missing Data***"
      ],
      "metadata": {
        "id": "168NXZLEHVOL"
      }
    },
    {
      "cell_type": "markdown",
      "source": [
        "Now, since we converted the dtypes of categorical variables into float/int, we check for missing values."
      ],
      "metadata": {
        "id": "MpD-qNRj5XBx"
      }
    },
    {
      "cell_type": "code",
      "source": [
        "missing_values = fies_df.isnull().sum()\n",
        "print(\"Missing values per col: \", missing_values[missing_values>0])"
      ],
      "metadata": {
        "id": "rZENCQMFS0cM"
      },
      "execution_count": null,
      "outputs": []
    },
    {
      "cell_type": "markdown",
      "source": [
        "We check the percentage of missing data per column."
      ],
      "metadata": {
        "id": "fGoUrWkGMi3j"
      }
    },
    {
      "cell_type": "code",
      "source": [
        "missing_percent = (fies_df.isnull().sum() / len(fies_df)) * 100\n",
        "missing_percent = missing_percent[missing_percent > 0]\n",
        "print(missing_percent)\n"
      ],
      "metadata": {
        "id": "jNrMPBDR3oKh"
      },
      "execution_count": null,
      "outputs": []
    },
    {
      "cell_type": "markdown",
      "source": [
        "For those with missing values `> 50%` , we drop the column."
      ],
      "metadata": {
        "id": "T4Xa1H_ila6R"
      }
    },
    {
      "cell_type": "code",
      "source": [
        "missing_threshold = 0.50\n",
        "missing_percent = fies_df.isnull().mean()\n",
        "\n",
        "cols_to_drop = missing_percent[missing_percent > missing_threshold].index\n",
        "fies_df = fies_df.drop(columns=cols_to_drop)\n",
        "\n",
        "print(\"Dropped columns:\", cols_to_drop.tolist())"
      ],
      "metadata": {
        "id": "WHuxH4gk_Sme"
      },
      "execution_count": null,
      "outputs": []
    },
    {
      "cell_type": "code",
      "source": [
        "num_imputer = SimpleImputer(strategy=\"median\")\n",
        "numeric_cols = fies_df.select_dtypes(include=['number']).columns\n",
        "fies_df[numeric_cols] = num_imputer.fit_transform(fies_df[numeric_cols])"
      ],
      "metadata": {
        "id": "a3OrLVF5laqc"
      },
      "execution_count": null,
      "outputs": []
    },
    {
      "cell_type": "markdown",
      "source": [
        "# **Exploratory Data Analysis**"
      ],
      "metadata": {
        "id": "Vdk-i3nmuCRV"
      }
    },
    {
      "cell_type": "markdown",
      "source": [
        "### ***Handle Outliers***"
      ],
      "metadata": {
        "id": "2UKwJ76oIKTP"
      }
    },
    {
      "cell_type": "code",
      "source": [
        "Q1_target = fies_df[\"TOINC\"].quantile(0.25)\n",
        "Q3_target = fies_df[\"TOINC\"].quantile(0.75)\n",
        "IQR_target = Q3_target - Q1_target\n",
        "lower_bound_target = Q1_target - 1.5 * IQR_target\n",
        "upper_bound_target = Q3_target + 1.5 * IQR_target\n",
        "\n",
        "fies_df = fies_df[(fies_df[\"TOINC\"] >= lower_bound_target) & (fies_df[\"TOINC\"] <= upper_bound_target)]"
      ],
      "metadata": {
        "id": "I3q8R72oIVfv"
      },
      "execution_count": null,
      "outputs": []
    },
    {
      "cell_type": "code",
      "source": [
        "numeric_cols = fies_df.select_dtypes(include=['int64', 'float64']).columns"
      ],
      "metadata": {
        "id": "I8qZ2CIruFVD"
      },
      "execution_count": null,
      "outputs": []
    },
    {
      "cell_type": "markdown",
      "source": [
        "### ***What are the skew values of each variable?***"
      ],
      "metadata": {
        "id": "i8KLuTfoSW57"
      }
    },
    {
      "cell_type": "markdown",
      "source": [
        "Since there are 100+ variables, visually representing and analyzing the distribution would be difficult. Instead, we will use the `.skew()` function. We will consider a value to be **highly skewed** if the skew value is `> 1`."
      ],
      "metadata": {
        "id": "bBUzoLnxTe2-"
      }
    },
    {
      "cell_type": "code",
      "source": [
        "skewness_values = fies_df[numeric_cols].skew()\n",
        "print(skewness_values)"
      ],
      "metadata": {
        "id": "RdPDWqSTuF_6"
      },
      "execution_count": null,
      "outputs": []
    },
    {
      "cell_type": "markdown",
      "source": [
        "For values that are categorical and were mapped/one-hot encoded, we will exclude them from **Log Transformation**. We will also exclude variables that are discrete, for example, quantity variables such as number of children aged less than 5 in a household."
      ],
      "metadata": {
        "id": "YgYqncm5T43t"
      }
    },
    {
      "cell_type": "code",
      "source": [
        "exclude_cols = [\n",
        "    \"SEX\", \"JOB\", \"WATER\", \"ELECTRIC\", \"\"\n",
        "    \"HGC\", \"NATPC\", \"NATDC\", \"REGDC\", \"REGPC\"\n",
        "    \"OCCUP_GROUP\", \"KB_Group\", \"CW_Group\",\n",
        "]\n",
        "\n",
        "exclude_one_hot = [col for col in fies_df.columns if \"OCCUP_GROUP_\" in col or \"KB_Group_\" in col or \"CW_Group_\" in col\n",
        "                   or \"BLDG_TYPE_Group_\" in col or \"MS_Group_\" in col or \"SPOUSE_EMP_Group_\" in col or \"Region_\" in col\n",
        "                   or \"WALLS_Group_\" in col or \"WATER_Group_\" in col or \"ELECTRIC_Group_\"]\n",
        "\n",
        "exclude_cols += exclude_one_hot\n",
        "\n",
        "#exclude_qty = [col for col in fies_df.columns if \"QTY\" in col or \"AGELESS5\" in col or \"AGE5_17\" in col]\n",
        "\n",
        "#exclude_cols += exclude_qty\n",
        "\n",
        "print(\"Columns to Exclude from transformation:\", exclude_cols)\n"
      ],
      "metadata": {
        "id": "913p6E-32gKk"
      },
      "execution_count": null,
      "outputs": []
    },
    {
      "cell_type": "code",
      "source": [
        "skewed_cols = skewness_values[skewness_values > 1].index\n",
        "print(\"Highly skewed variables:\", skewed_cols)"
      ],
      "metadata": {
        "id": "8KCk2LfquMOD"
      },
      "execution_count": null,
      "outputs": []
    },
    {
      "cell_type": "code",
      "source": [
        "negatively_skewed_cols = skewness_values[skewness_values < -1].index\n",
        "print(\"Negatively skewed variables: \", negatively_skewed_cols)"
      ],
      "metadata": {
        "id": "Ky7bvRn6VKRN"
      },
      "execution_count": null,
      "outputs": []
    },
    {
      "cell_type": "markdown",
      "source": [
        "For skewed variables `> 1`, we will use **Log Transformation**."
      ],
      "metadata": {
        "id": "1LqCrpLZVr3c"
      }
    },
    {
      "cell_type": "code",
      "source": [
        "skewed_cols = [col for col in skewed_cols if col not in exclude_cols]\n",
        "\n",
        "for col in skewed_cols:\n",
        "    min_val = fies_df[col].min()\n",
        "    if min_val < 0:\n",
        "        fies_df[col] = np.log1p(fies_df[col] - min_val + 1)\n",
        "    else:\n",
        "        fies_df[col] = np.log1p(fies_df[col])\n",
        "\n",
        "numeric_cols = [col for col in fies_df.select_dtypes(include=[\"int64\", \"float64\"]).columns if col not in exclude_cols and col not in skewed_cols]\n",
        "\n",
        "for col in numeric_cols:\n",
        "    min_val = fies_df[col].min()\n",
        "    if min_val < 0:\n",
        "        fies_df[col] = np.log1p(fies_df[col] - min_val + 1)\n",
        "    else:\n",
        "        fies_df[col] = np.log1p(fies_df[col])\n"
      ],
      "metadata": {
        "id": "lSSh4NyQuYDC"
      },
      "execution_count": null,
      "outputs": []
    },
    {
      "cell_type": "markdown",
      "source": [
        "For skewed variables `< -1`, we will use **Square Transformation**."
      ],
      "metadata": {
        "id": "D5b-sH1yVyjk"
      }
    },
    {
      "cell_type": "code",
      "source": [
        "fies_df[negatively_skewed_cols] = fies_df[negatively_skewed_cols] ** 2"
      ],
      "metadata": {
        "id": "r1eExiSvV9JE"
      },
      "execution_count": null,
      "outputs": []
    },
    {
      "cell_type": "code",
      "source": [
        "fies_df.hist(figsize=(30, 20), bins=30)\n",
        "plt.suptitle(\"Feature Distributions\", fontsize=20)\n",
        "plt.tight_layout(rect=[0, 0, 1, 0.96])\n",
        "plt.show()"
      ],
      "metadata": {
        "id": "gJ2evR1QKomM"
      },
      "execution_count": null,
      "outputs": []
    },
    {
      "cell_type": "markdown",
      "metadata": {
        "id": "ZZI1QyRcuDVV"
      },
      "source": [
        "# **Splitting the Dataset**"
      ]
    },
    {
      "cell_type": "code",
      "execution_count": null,
      "metadata": {
        "id": "yA7b69XquDVV"
      },
      "outputs": [],
      "source": [
        "X = fies_df.drop(columns=[\"TOINC\"])\n",
        "y = fies_df[\"TOINC\"]"
      ]
    },
    {
      "cell_type": "code",
      "execution_count": null,
      "metadata": {
        "id": "STwDgdIUuDVW"
      },
      "outputs": [],
      "source": [
        "#X_train, X_test, y_train, y_test = train_test_split(X, y, random_state=42, test_size=0.2)"
      ]
    },
    {
      "cell_type": "code",
      "source": [
        "reduce_lr = ReduceLROnPlateau(monitor=\"val_loss\", factor=0.5, patience=5, verbose=1, min_lr=1e-5)\n",
        "\n",
        "early_stopping = EarlyStopping(monitor=\"val_loss\", patience=10, restore_best_weights=True)"
      ],
      "metadata": {
        "id": "wQjJ_4kKd4o3"
      },
      "execution_count": null,
      "outputs": []
    },
    {
      "cell_type": "markdown",
      "source": [
        "Lowering **patience** to ~10 may stop training earlier without hurting performance.\n",
        "\n",
        "standardize after splitting dataset"
      ],
      "metadata": {
        "id": "_9MrdfPAtBHn"
      }
    },
    {
      "cell_type": "code",
      "source": [
        "#scaler = StandardScaler()\n",
        "#X_scaled = scaler.fit_transform(X)"
      ],
      "metadata": {
        "id": "ArQwzsN8tHXu"
      },
      "execution_count": null,
      "outputs": []
    },
    {
      "cell_type": "markdown",
      "source": [
        "# **Initial Model Training**"
      ],
      "metadata": {
        "id": "euNBih-ZwMcm"
      }
    },
    {
      "cell_type": "code",
      "source": [
        "#print(X_train.isna().sum())  # Check missing values in features\n",
        "#print(y_train.isna().sum())  # Check missing values in target"
      ],
      "metadata": {
        "id": "wy5RVMcbKKNQ"
      },
      "execution_count": null,
      "outputs": []
    },
    {
      "cell_type": "markdown",
      "source": [
        "## **Linear Regression**"
      ],
      "metadata": {
        "id": "dBmZTpST4pG0"
      }
    },
    {
      "cell_type": "code",
      "source": [
        "#lasso = Lasso(alpha=0.01)\n",
        "#lasso.fit(X_train_scaled, y_train)"
      ],
      "metadata": {
        "id": "gqidGaSxnxhG"
      },
      "execution_count": null,
      "outputs": []
    },
    {
      "cell_type": "code",
      "source": [
        "#feature_importance = pd.DataFrame({\n",
        "#    \"Feature\": X.columns,\n",
        "#    \"Coefficient\": lasso.coef_\n",
        "#})\n",
        "\n",
        "# Keep only non-zero coefficients (selected features)\n",
        "#selected_features = feature_importance.loc[feature_importance[\"Coefficient\"] != 0, \"Feature\"].tolist()\n",
        "#print(sorted(selected_features, reverse=True))\n",
        "\n",
        "#X_train_selected = X_train_scaled[:, lasso.coef_ != 0]\n",
        "#X_test_selected = X_test_scaled[:, lasso.coef_ != 0]"
      ],
      "metadata": {
        "id": "eCQjTgP4oa3V"
      },
      "execution_count": null,
      "outputs": []
    },
    {
      "cell_type": "code",
      "source": [
        "model = LinearRegression()"
      ],
      "metadata": {
        "id": "T-fR-TRHJbzj"
      },
      "execution_count": null,
      "outputs": []
    },
    {
      "cell_type": "code",
      "source": [
        "rfe = RFE(estimator=model, n_features_to_select=5)\n",
        "\n",
        "#X_train_selected = rfe.fit_transform(X_train_scaled, y_train)\n",
        "#X_test_selected = X_test_scaled[:, rfe.support_]"
      ],
      "metadata": {
        "id": "wP-8UxRkXdBn"
      },
      "execution_count": null,
      "outputs": []
    },
    {
      "cell_type": "code",
      "source": [
        "mae_scores = []\n",
        "r2_scores = []"
      ],
      "metadata": {
        "id": "HZeHh8hOCLWQ"
      },
      "execution_count": null,
      "outputs": []
    },
    {
      "cell_type": "code",
      "source": [
        "kf = KFold(n_splits=5, shuffle=True, random_state=42)"
      ],
      "metadata": {
        "id": "YJti49SDCNfv"
      },
      "execution_count": null,
      "outputs": []
    },
    {
      "cell_type": "code",
      "source": [
        "for train_index, val_index in kf.split(X):\n",
        "    X_train, X_val = X.iloc[train_index], X.iloc[val_index]\n",
        "    y_train, y_val = y.iloc[train_index], y.iloc[val_index]\n",
        "\n",
        "    scaler = StandardScaler()\n",
        "    X_train_scaled = scaler.fit_transform(X_train)\n",
        "    X_val_scaled = scaler.transform(X_val)\n",
        "\n",
        "    rfe.fit(X_train_scaled, y_train)\n",
        "\n",
        "    X_train_selected = X_train_scaled[:, rfe.support_]\n",
        "    X_val_selected = X_val_scaled[:, rfe.support_]\n",
        "\n",
        "    model.fit(X_train_selected, y_train)\n",
        "\n",
        "    y_pred = model.predict(X_val_selected)\n",
        "\n",
        "    mae = mean_absolute_error(y_val, y_pred)\n",
        "    mae_scores.append(mae)"
      ],
      "metadata": {
        "id": "TdKa9woOCgPK"
      },
      "execution_count": null,
      "outputs": []
    },
    {
      "cell_type": "code",
      "source": [
        "print(f'Average MAE across all folds: {np.mean(mae_scores)}')"
      ],
      "metadata": {
        "id": "LcTzJq0TvSzS"
      },
      "execution_count": null,
      "outputs": []
    },
    {
      "cell_type": "code",
      "source": [
        "selected_features = X.columns[rfe.support_]\n",
        "print(\"Selected Features:\\n\", selected_features)"
      ],
      "metadata": {
        "id": "jyj5r7wLDC1U"
      },
      "execution_count": null,
      "outputs": []
    },
    {
      "cell_type": "code",
      "source": [
        "#model.fit(X_train_selected, y_train)"
      ],
      "metadata": {
        "id": "9rV0V-8B6hK_"
      },
      "execution_count": null,
      "outputs": []
    },
    {
      "cell_type": "code",
      "source": [
        "#y_pred = model.predict(X_test_selected)"
      ],
      "metadata": {
        "id": "zvlxFia46r2S"
      },
      "execution_count": null,
      "outputs": []
    },
    {
      "cell_type": "code",
      "source": [
        "#mae = mean_absolute_error(y_test, y_pred)"
      ],
      "metadata": {
        "id": "MDHuSNRO6tzn"
      },
      "execution_count": null,
      "outputs": []
    },
    {
      "cell_type": "code",
      "source": [
        "#print(\"Linear Regression MAE:\", mae)"
      ],
      "metadata": {
        "id": "CnPbit--6vPc"
      },
      "execution_count": null,
      "outputs": []
    },
    {
      "cell_type": "markdown",
      "source": [
        "### ***Check for Overfitting and Multicollinearity***"
      ],
      "metadata": {
        "id": "dl05Jk6w6xfy"
      }
    },
    {
      "cell_type": "code",
      "source": [
        "train_sizes, train_scores, val_scores = learning_curve(\n",
        "    model, X_train_selected, y_train, cv=5, scoring=\"r2\", n_jobs=-1\n",
        ")\n",
        "\n",
        "train_mean = np.mean(train_scores, axis=1)\n",
        "train_std = np.std(train_scores, axis=1)\n",
        "val_mean = np.mean(val_scores, axis=1)\n",
        "val_std = np.std(val_scores, axis=1)\n",
        "\n",
        "plt.figure(figsize=(8, 6))\n",
        "plt.plot(train_sizes, train_mean, 'o-', label=\"Training Score\", color=\"blue\")\n",
        "plt.fill_between(train_sizes, train_mean - train_std, train_mean + train_std, alpha=0.1, color=\"blue\")\n",
        "\n",
        "plt.plot(train_sizes, val_mean, 'o-', label=\"Validation Score\", color=\"red\")\n",
        "plt.fill_between(train_sizes, val_mean - val_std, val_mean + val_std, alpha=0.1, color=\"red\")\n",
        "\n",
        "plt.xlabel(\"Training Set Size\")\n",
        "plt.ylabel(\"Score (R^2)\")\n",
        "plt.title(\"Learning Curve\")\n",
        "plt.legend()\n",
        "plt.show()"
      ],
      "metadata": {
        "id": "R-sjR2zf8xbY"
      },
      "execution_count": null,
      "outputs": []
    },
    {
      "cell_type": "code",
      "source": [
        "train_r2 = model.score(X_train_selected, y_train)\n",
        "val_r2 = model.score(X_val_selected, y_val)\n",
        "r2_scores.append(val_r2)\n",
        "\n",
        "print(f\"Train R^2: {train_r2}, Validation R^2: {val_r2}\")"
      ],
      "metadata": {
        "id": "nX5xrnNnPkRc"
      },
      "execution_count": null,
      "outputs": []
    },
    {
      "cell_type": "code",
      "source": [
        "X_train_selected_df = pd.DataFrame(X_train_selected, columns=selected_features)\n",
        "\n",
        "# Calculate VIF\n",
        "vif_df = pd.DataFrame()\n",
        "vif_df[\"Feature\"] = selected_features\n",
        "vif_df[\"VIF\"] = [variance_inflation_factor(X_train_selected_df.values, i) for i in range(X_train_selected_df.shape[1])]\n",
        "\n",
        "# Sort and display\n",
        "print(\"VIF Scores:\\n\", vif_df.sort_values(by=\"VIF\", ascending=False))"
      ],
      "metadata": {
        "id": "2wBTss1x6xD4"
      },
      "execution_count": null,
      "outputs": []
    },
    {
      "cell_type": "markdown",
      "source": [
        "## **K Nearest Neighbors Regression**"
      ],
      "metadata": {
        "id": "P6vp25bmYJrb"
      }
    },
    {
      "cell_type": "markdown",
      "source": [
        "We first initialized an instance of the imported KNeighborsRegressor class from sklearn.neighbors. The KNN regressor will be used to predict target values based on the k-nearest neighbors in the feature space."
      ],
      "metadata": {
        "id": "3OGuGIzejfym"
      }
    },
    {
      "cell_type": "code",
      "source": [
        "knn = KNeighborsRegressor()"
      ],
      "metadata": {
        "id": "hMi1NptRYLNT"
      },
      "execution_count": null,
      "outputs": []
    },
    {
      "cell_type": "markdown",
      "source": [
        "Here, the KNN regressor is fitted to the training data (X_train and y_train). This step allows the model to learn the relationship between the features and the target values."
      ],
      "metadata": {
        "id": "D8bn2oHcjhhj"
      }
    },
    {
      "cell_type": "code",
      "source": [
        "knn.fit(X_train, y_train)"
      ],
      "metadata": {
        "id": "U09KKOnDYMvU"
      },
      "execution_count": null,
      "outputs": []
    },
    {
      "cell_type": "markdown",
      "source": [
        "Next, the fitted KNN regressor is used to predict the target values for the test data (X_test). The predictions are stored in y_pred. The model's performance is then evaluated using Mean Squared Error (MSE). The mean_squared_error function compares the true target values (y_test) with the predicted values (y_pred) and calculates the MSE, which is then printed."
      ],
      "metadata": {
        "id": "9s2BVz9vYREx"
      }
    },
    {
      "cell_type": "code",
      "source": [
        "y_pred = knn.predict(X_test)\n",
        "print(mean_squared_error(y_test, y_pred))"
      ],
      "metadata": {
        "id": "_cY81x5lYNpg"
      },
      "execution_count": null,
      "outputs": []
    },
    {
      "cell_type": "markdown",
      "source": [
        "The same is done for the train data."
      ],
      "metadata": {
        "id": "Cfr3lK1mYS0X"
      }
    },
    {
      "cell_type": "code",
      "source": [
        "y_train_pred = knn.predict(X_train)\n",
        "print(mean_squared_error(y_train, y_train_pred))"
      ],
      "metadata": {
        "id": "368aIP29YO1p"
      },
      "execution_count": null,
      "outputs": []
    },
    {
      "cell_type": "markdown",
      "source": [],
      "metadata": {
        "id": "9SI8fpB7wSsh"
      }
    },
    {
      "cell_type": "markdown",
      "source": [
        "## **Neural Networks**\n",
        "\n",
        "This section trains a **Neural Network** (**NN**) **for regression** to predict **Total Income** (**TOINC**). The model is designed to handle **non-linear relationship**s in the data and is evaluated to ensure it is **neither overfitting nor underfitting**."
      ],
      "metadata": {
        "id": "E9p3aaZHadP6"
      }
    },
    {
      "cell_type": "markdown",
      "source": [
        "To improve performance, the model consists of **three hidden layers** (128, 64, and 32 neurons) with **ReLU activation**. A **Dropout layer** (**0.2**) is added to prevent overfitting."
      ],
      "metadata": {
        "id": "clMUF0x0PqYw"
      }
    },
    {
      "cell_type": "code",
      "source": [
        "model = Sequential([\n",
        "    Dense(128, input_shape=(X_train.shape[1],)),\n",
        "    BatchNormalization(),\n",
        "    Activation(\"relu\"),\n",
        "    Dropout(0.2),\n",
        "\n",
        "    Dense(64),\n",
        "    BatchNormalization(),\n",
        "    Activation(\"relu\"),\n",
        "    Dropout(0.2),\n",
        "\n",
        "    Dense(32),\n",
        "    BatchNormalization(),\n",
        "    Activation(\"relu\"),\n",
        "    Dropout(0.2),\n",
        "\n",
        "    Dense(16),\n",
        "    BatchNormalization(),\n",
        "    Activation(\"relu\"),\n",
        "\n",
        "    Dense(1, activation=\"linear\")\n",
        "])"
      ],
      "metadata": {
        "collapsed": true,
        "id": "DqWWDn9IOdYL"
      },
      "execution_count": null,
      "outputs": []
    },
    {
      "cell_type": "markdown",
      "source": [
        "Then we use the **Adam optimizer** with a **lower learning rate** (**0.005**) to improve stability and generalization. The **loss function** is **Mean Squared Error** (**MSE**), and **Mean Absolute Error** (**MAE**) is used to track performance."
      ],
      "metadata": {
        "id": "xhJtYMyEQ3W9"
      }
    },
    {
      "cell_type": "code",
      "source": [
        "model.compile(\n",
        "    optimizer=Adam(learning_rate=0.001),\n",
        "    loss=\"mse\",\n",
        "    metrics=[\"mae\"]\n",
        ")"
      ],
      "metadata": {
        "id": "tONj9927Q4wz"
      },
      "execution_count": null,
      "outputs": []
    },
    {
      "cell_type": "markdown",
      "source": [
        "The model is configured to optimize learning with reduced sensitivity to fluctuations."
      ],
      "metadata": {
        "id": "8euFPpmmSiRS"
      }
    },
    {
      "cell_type": "markdown",
      "source": [
        "The model is trained for 50 epochs, avoiding unnecessary computations while maintaining performance. (This might take a while. Batch size = 8 leads to longer training time but more stable results. For faster training, we can try batch size = 16 and compare MAE. )"
      ],
      "metadata": {
        "id": "siOKNLjRRPkw"
      }
    },
    {
      "cell_type": "code",
      "source": [
        "history = model.fit(\n",
        "    X_train_scaled, y_train,\n",
        "    epochs=100,\n",
        "    batch_size=16,\n",
        "    validation_data=(X_test_scaled, y_test),\n",
        "    callbacks=[early_stopping, reduce_lr],\n",
        "    verbose=1\n",
        ")"
      ],
      "metadata": {
        "collapsed": true,
        "id": "PBw7Qp4lRUM6",
        "outputId": "6215a024-de96-4e52-8679-a617e669ad05",
        "colab": {
          "base_uri": "https://localhost:8080/"
        }
      },
      "execution_count": null,
      "outputs": [
        {
          "output_type": "stream",
          "name": "stdout",
          "text": [
            "Epoch 1/100\n",
            "\u001b[1m1852/1852\u001b[0m \u001b[32m━━━━━━━━━━━━━━━━━━━━\u001b[0m\u001b[37m\u001b[0m \u001b[1m14s\u001b[0m 5ms/step - loss: 38832189440.0000 - mae: 164087.5938 - val_loss: 121264046080.0000 - val_mae: 218189.0000 - learning_rate: 0.0010\n",
            "Epoch 2/100\n",
            "\u001b[1m1852/1852\u001b[0m \u001b[32m━━━━━━━━━━━━━━━━━━━━\u001b[0m\u001b[37m\u001b[0m \u001b[1m9s\u001b[0m 5ms/step - loss: 39177371648.0000 - mae: 164929.5781 - val_loss: 120978964480.0000 - val_mae: 217910.3906 - learning_rate: 0.0010\n",
            "Epoch 3/100\n",
            "\u001b[1m1852/1852\u001b[0m \u001b[32m━━━━━━━━━━━━━━━━━━━━\u001b[0m\u001b[37m\u001b[0m \u001b[1m7s\u001b[0m 4ms/step - loss: 38617722880.0000 - mae: 163732.5625 - val_loss: 120533909504.0000 - val_mae: 217509.1250 - learning_rate: 0.0010\n",
            "Epoch 4/100\n",
            "\u001b[1m1852/1852\u001b[0m \u001b[32m━━━━━━━━━━━━━━━━━━━━\u001b[0m\u001b[37m\u001b[0m \u001b[1m9s\u001b[0m 5ms/step - loss: 38439444480.0000 - mae: 163354.7812 - val_loss: 120032067584.0000 - val_mae: 217011.4844 - learning_rate: 0.0010\n",
            "Epoch 5/100\n",
            "\u001b[1m1852/1852\u001b[0m \u001b[32m━━━━━━━━━━━━━━━━━━━━\u001b[0m\u001b[37m\u001b[0m \u001b[1m8s\u001b[0m 4ms/step - loss: 37868179456.0000 - mae: 162359.8125 - val_loss: 119417585664.0000 - val_mae: 216400.5312 - learning_rate: 0.0010\n",
            "Epoch 6/100\n",
            "\u001b[1m1852/1852\u001b[0m \u001b[32m━━━━━━━━━━━━━━━━━━━━\u001b[0m\u001b[37m\u001b[0m \u001b[1m10s\u001b[0m 4ms/step - loss: 37807689728.0000 - mae: 161906.2344 - val_loss: 118626705408.0000 - val_mae: 215654.9531 - learning_rate: 0.0010\n",
            "Epoch 7/100\n",
            "\u001b[1m1852/1852\u001b[0m \u001b[32m━━━━━━━━━━━━━━━━━━━━\u001b[0m\u001b[37m\u001b[0m \u001b[1m9s\u001b[0m 5ms/step - loss: 37164957696.0000 - mae: 160732.2500 - val_loss: 117859901440.0000 - val_mae: 214882.7500 - learning_rate: 0.0010\n",
            "Epoch 8/100\n",
            "\u001b[1m1852/1852\u001b[0m \u001b[32m━━━━━━━━━━━━━━━━━━━━\u001b[0m\u001b[37m\u001b[0m \u001b[1m11s\u001b[0m 5ms/step - loss: 37110177792.0000 - mae: 160795.4844 - val_loss: 116855709696.0000 - val_mae: 213856.9844 - learning_rate: 0.0010\n",
            "Epoch 9/100\n",
            "\u001b[1m1852/1852\u001b[0m \u001b[32m━━━━━━━━━━━━━━━━━━━━\u001b[0m\u001b[37m\u001b[0m \u001b[1m9s\u001b[0m 4ms/step - loss: 36202336256.0000 - mae: 158834.0312 - val_loss: 115918962688.0000 - val_mae: 212983.6250 - learning_rate: 0.0010\n",
            "Epoch 10/100\n",
            "\u001b[1m1852/1852\u001b[0m \u001b[32m━━━━━━━━━━━━━━━━━━━━\u001b[0m\u001b[37m\u001b[0m \u001b[1m10s\u001b[0m 4ms/step - loss: 35926503424.0000 - mae: 158440.6406 - val_loss: 114542632960.0000 - val_mae: 211579.2969 - learning_rate: 0.0010\n",
            "Epoch 11/100\n",
            "\u001b[1m1852/1852\u001b[0m \u001b[32m━━━━━━━━━━━━━━━━━━━━\u001b[0m\u001b[37m\u001b[0m \u001b[1m9s\u001b[0m 5ms/step - loss: 35169464320.0000 - mae: 156662.2031 - val_loss: 113237475328.0000 - val_mae: 210275.8281 - learning_rate: 0.0010\n",
            "Epoch 12/100\n",
            "\u001b[1m1852/1852\u001b[0m \u001b[32m━━━━━━━━━━━━━━━━━━━━\u001b[0m\u001b[37m\u001b[0m \u001b[1m10s\u001b[0m 5ms/step - loss: 34488020992.0000 - mae: 155380.8125 - val_loss: 112000819200.0000 - val_mae: 209116.8750 - learning_rate: 0.0010\n",
            "Epoch 13/100\n",
            "\u001b[1m1852/1852\u001b[0m \u001b[32m━━━━━━━━━━━━━━━━━━━━\u001b[0m\u001b[37m\u001b[0m \u001b[1m8s\u001b[0m 4ms/step - loss: 33937727488.0000 - mae: 154557.1406 - val_loss: 110525882368.0000 - val_mae: 207361.9531 - learning_rate: 0.0010\n",
            "Epoch 14/100\n",
            "\u001b[1m1852/1852\u001b[0m \u001b[32m━━━━━━━━━━━━━━━━━━━━\u001b[0m\u001b[37m\u001b[0m \u001b[1m11s\u001b[0m 4ms/step - loss: 32782041088.0000 - mae: 151831.0781 - val_loss: 109541810176.0000 - val_mae: 206567.9531 - learning_rate: 0.0010\n",
            "Epoch 15/100\n",
            "\u001b[1m1852/1852\u001b[0m \u001b[32m━━━━━━━━━━━━━━━━━━━━\u001b[0m\u001b[37m\u001b[0m \u001b[1m9s\u001b[0m 5ms/step - loss: 32627488768.0000 - mae: 151336.8750 - val_loss: 107117035520.0000 - val_mae: 203768.6250 - learning_rate: 0.0010\n",
            "Epoch 16/100\n",
            "\u001b[1m1852/1852\u001b[0m \u001b[32m━━━━━━━━━━━━━━━━━━━━\u001b[0m\u001b[37m\u001b[0m \u001b[1m11s\u001b[0m 5ms/step - loss: 31852097536.0000 - mae: 149475.7344 - val_loss: 106114859008.0000 - val_mae: 202636.8594 - learning_rate: 0.0010\n",
            "Epoch 17/100\n",
            "\u001b[1m1852/1852\u001b[0m \u001b[32m━━━━━━━━━━━━━━━━━━━━\u001b[0m\u001b[37m\u001b[0m \u001b[1m8s\u001b[0m 4ms/step - loss: 30531504128.0000 - mae: 146550.5625 - val_loss: 103517061120.0000 - val_mae: 200076.7031 - learning_rate: 0.0010\n",
            "Epoch 18/100\n",
            "\u001b[1m1852/1852\u001b[0m \u001b[32m━━━━━━━━━━━━━━━━━━━━\u001b[0m\u001b[37m\u001b[0m \u001b[1m10s\u001b[0m 4ms/step - loss: 29960327168.0000 - mae: 145593.3438 - val_loss: 102795911168.0000 - val_mae: 198738.1719 - learning_rate: 0.0010\n",
            "Epoch 19/100\n",
            "\u001b[1m1852/1852\u001b[0m \u001b[32m━━━━━━━━━━━━━━━━━━━━\u001b[0m\u001b[37m\u001b[0m \u001b[1m11s\u001b[0m 4ms/step - loss: 28878178304.0000 - mae: 143099.0469 - val_loss: 99763003392.0000 - val_mae: 195809.1562 - learning_rate: 0.0010\n",
            "Epoch 20/100\n",
            "\u001b[1m1852/1852\u001b[0m \u001b[32m━━━━━━━━━━━━━━━━━━━━\u001b[0m\u001b[37m\u001b[0m \u001b[1m11s\u001b[0m 5ms/step - loss: 27598405632.0000 - mae: 140004.8750 - val_loss: 98836725760.0000 - val_mae: 194700.6719 - learning_rate: 0.0010\n",
            "Epoch 21/100\n",
            "\u001b[1m1852/1852\u001b[0m \u001b[32m━━━━━━━━━━━━━━━━━━━━\u001b[0m\u001b[37m\u001b[0m \u001b[1m9s\u001b[0m 5ms/step - loss: 26888591360.0000 - mae: 137971.7656 - val_loss: 96492036096.0000 - val_mae: 192110.0469 - learning_rate: 0.0010\n",
            "Epoch 22/100\n",
            "\u001b[1m1852/1852\u001b[0m \u001b[32m━━━━━━━━━━━━━━━━━━━━\u001b[0m\u001b[37m\u001b[0m \u001b[1m7s\u001b[0m 4ms/step - loss: 26210013184.0000 - mae: 136684.4688 - val_loss: 94305247232.0000 - val_mae: 189058.6094 - learning_rate: 0.0010\n",
            "Epoch 23/100\n",
            "\u001b[1m1852/1852\u001b[0m \u001b[32m━━━━━━━━━━━━━━━━━━━━\u001b[0m\u001b[37m\u001b[0m \u001b[1m9s\u001b[0m 5ms/step - loss: 24772861952.0000 - mae: 132865.1562 - val_loss: 92622462976.0000 - val_mae: 187415.2344 - learning_rate: 0.0010\n",
            "Epoch 24/100\n",
            "\u001b[1m1852/1852\u001b[0m \u001b[32m━━━━━━━━━━━━━━━━━━━━\u001b[0m\u001b[37m\u001b[0m \u001b[1m9s\u001b[0m 5ms/step - loss: 24002207744.0000 - mae: 130914.7656 - val_loss: 89591848960.0000 - val_mae: 184252.2344 - learning_rate: 0.0010\n",
            "Epoch 25/100\n",
            "\u001b[1m1852/1852\u001b[0m \u001b[32m━━━━━━━━━━━━━━━━━━━━\u001b[0m\u001b[37m\u001b[0m \u001b[1m9s\u001b[0m 4ms/step - loss: 23020374016.0000 - mae: 128384.5312 - val_loss: 88170954752.0000 - val_mae: 182493.2031 - learning_rate: 0.0010\n",
            "Epoch 26/100\n",
            "\u001b[1m1852/1852\u001b[0m \u001b[32m━━━━━━━━━━━━━━━━━━━━\u001b[0m\u001b[37m\u001b[0m \u001b[1m10s\u001b[0m 4ms/step - loss: 21907988480.0000 - mae: 125284.2578 - val_loss: 85578137600.0000 - val_mae: 178588.1562 - learning_rate: 0.0010\n",
            "Epoch 27/100\n",
            "\u001b[1m1852/1852\u001b[0m \u001b[32m━━━━━━━━━━━━━━━━━━━━\u001b[0m\u001b[37m\u001b[0m \u001b[1m9s\u001b[0m 5ms/step - loss: 21033000960.0000 - mae: 122899.4297 - val_loss: 83224633344.0000 - val_mae: 175623.3906 - learning_rate: 0.0010\n",
            "Epoch 28/100\n",
            "\u001b[1m1852/1852\u001b[0m \u001b[32m━━━━━━━━━━━━━━━━━━━━\u001b[0m\u001b[37m\u001b[0m \u001b[1m11s\u001b[0m 5ms/step - loss: 19959314432.0000 - mae: 119660.1172 - val_loss: 78851047424.0000 - val_mae: 171055.6406 - learning_rate: 0.0010\n",
            "Epoch 29/100\n",
            "\u001b[1m1852/1852\u001b[0m \u001b[32m━━━━━━━━━━━━━━━━━━━━\u001b[0m\u001b[37m\u001b[0m \u001b[1m8s\u001b[0m 4ms/step - loss: 18433091584.0000 - mae: 115463.2734 - val_loss: 77876264960.0000 - val_mae: 168895.0625 - learning_rate: 0.0010\n",
            "Epoch 30/100\n",
            "\u001b[1m1852/1852\u001b[0m \u001b[32m━━━━━━━━━━━━━━━━━━━━\u001b[0m\u001b[37m\u001b[0m \u001b[1m11s\u001b[0m 4ms/step - loss: 17857030144.0000 - mae: 113626.9766 - val_loss: 75399045120.0000 - val_mae: 164741.7500 - learning_rate: 0.0010\n",
            "Epoch 31/100\n",
            "\u001b[1m1852/1852\u001b[0m \u001b[32m━━━━━━━━━━━━━━━━━━━━\u001b[0m\u001b[37m\u001b[0m \u001b[1m11s\u001b[0m 5ms/step - loss: 16597978112.0000 - mae: 109452.0000 - val_loss: 73081569280.0000 - val_mae: 161862.7188 - learning_rate: 0.0010\n",
            "Epoch 32/100\n",
            "\u001b[1m1852/1852\u001b[0m \u001b[32m━━━━━━━━━━━━━━━━━━━━\u001b[0m\u001b[37m\u001b[0m \u001b[1m8s\u001b[0m 4ms/step - loss: 15293532160.0000 - mae: 105022.8594 - val_loss: 71717658624.0000 - val_mae: 160886.5625 - learning_rate: 0.0010\n",
            "Epoch 33/100\n",
            "\u001b[1m1852/1852\u001b[0m \u001b[32m━━━━━━━━━━━━━━━━━━━━\u001b[0m\u001b[37m\u001b[0m \u001b[1m8s\u001b[0m 4ms/step - loss: 14448004096.0000 - mae: 102322.3984 - val_loss: 70481657856.0000 - val_mae: 157588.5000 - learning_rate: 0.0010\n",
            "Epoch 34/100\n",
            "\u001b[1m1852/1852\u001b[0m \u001b[32m━━━━━━━━━━━━━━━━━━━━\u001b[0m\u001b[37m\u001b[0m \u001b[1m11s\u001b[0m 4ms/step - loss: 13566862336.0000 - mae: 99307.7500 - val_loss: 68154142720.0000 - val_mae: 154004.3281 - learning_rate: 0.0010\n",
            "Epoch 35/100\n",
            "\u001b[1m1852/1852\u001b[0m \u001b[32m━━━━━━━━━━━━━━━━━━━━\u001b[0m\u001b[37m\u001b[0m \u001b[1m9s\u001b[0m 5ms/step - loss: 12325954560.0000 - mae: 94334.4922 - val_loss: 64633778176.0000 - val_mae: 150342.1562 - learning_rate: 0.0010\n",
            "Epoch 36/100\n",
            "\u001b[1m1852/1852\u001b[0m \u001b[32m━━━━━━━━━━━━━━━━━━━━\u001b[0m\u001b[37m\u001b[0m \u001b[1m10s\u001b[0m 5ms/step - loss: 11336979456.0000 - mae: 90656.5312 - val_loss: 62978355200.0000 - val_mae: 146461.3438 - learning_rate: 0.0010\n",
            "Epoch 37/100\n",
            "\u001b[1m1852/1852\u001b[0m \u001b[32m━━━━━━━━━━━━━━━━━━━━\u001b[0m\u001b[37m\u001b[0m \u001b[1m8s\u001b[0m 4ms/step - loss: 10475621376.0000 - mae: 87011.0469 - val_loss: 60848971776.0000 - val_mae: 142215.3125 - learning_rate: 0.0010\n",
            "Epoch 38/100\n",
            "\u001b[1m1852/1852\u001b[0m \u001b[32m━━━━━━━━━━━━━━━━━━━━\u001b[0m\u001b[37m\u001b[0m \u001b[1m9s\u001b[0m 5ms/step - loss: 9506020352.0000 - mae: 82623.5469 - val_loss: 57351782400.0000 - val_mae: 138020.9375 - learning_rate: 0.0010\n",
            "Epoch 39/100\n",
            "\u001b[1m1852/1852\u001b[0m \u001b[32m━━━━━━━━━━━━━━━━━━━━\u001b[0m\u001b[37m\u001b[0m \u001b[1m8s\u001b[0m 4ms/step - loss: 8720004096.0000 - mae: 78637.5469 - val_loss: 55579787264.0000 - val_mae: 132810.7656 - learning_rate: 0.0010\n",
            "Epoch 40/100\n",
            "\u001b[1m1852/1852\u001b[0m \u001b[32m━━━━━━━━━━━━━━━━━━━━\u001b[0m\u001b[37m\u001b[0m \u001b[1m9s\u001b[0m 5ms/step - loss: 7866027520.0000 - mae: 74473.3828 - val_loss: 53250076672.0000 - val_mae: 129895.6172 - learning_rate: 0.0010\n",
            "Epoch 41/100\n",
            "\u001b[1m1852/1852\u001b[0m \u001b[32m━━━━━━━━━━━━━━━━━━━━\u001b[0m\u001b[37m\u001b[0m \u001b[1m11s\u001b[0m 5ms/step - loss: 7070244352.0000 - mae: 71053.3672 - val_loss: 49239306240.0000 - val_mae: 124067.1797 - learning_rate: 0.0010\n",
            "Epoch 42/100\n",
            "\u001b[1m1852/1852\u001b[0m \u001b[32m━━━━━━━━━━━━━━━━━━━━\u001b[0m\u001b[37m\u001b[0m \u001b[1m13s\u001b[0m 6ms/step - loss: 6625176576.0000 - mae: 67225.4062 - val_loss: 47643389952.0000 - val_mae: 118154.4531 - learning_rate: 0.0010\n",
            "Epoch 43/100\n",
            "\u001b[1m1852/1852\u001b[0m \u001b[32m━━━━━━━━━━━━━━━━━━━━\u001b[0m\u001b[37m\u001b[0m \u001b[1m20s\u001b[0m 6ms/step - loss: 5745715200.0000 - mae: 62345.4766 - val_loss: 45284491264.0000 - val_mae: 115107.7734 - learning_rate: 0.0010\n",
            "Epoch 44/100\n",
            "\u001b[1m1852/1852\u001b[0m \u001b[32m━━━━━━━━━━━━━━━━━━━━\u001b[0m\u001b[37m\u001b[0m \u001b[1m11s\u001b[0m 6ms/step - loss: 5175745536.0000 - mae: 59042.0312 - val_loss: 45268758528.0000 - val_mae: 112208.1250 - learning_rate: 0.0010\n",
            "Epoch 45/100\n",
            "\u001b[1m1852/1852\u001b[0m \u001b[32m━━━━━━━━━━━━━━━━━━━━\u001b[0m\u001b[37m\u001b[0m \u001b[1m19s\u001b[0m 5ms/step - loss: 4489145344.0000 - mae: 54471.0469 - val_loss: 42004594688.0000 - val_mae: 107672.2891 - learning_rate: 0.0010\n",
            "Epoch 46/100\n",
            "\u001b[1m1852/1852\u001b[0m \u001b[32m━━━━━━━━━━━━━━━━━━━━\u001b[0m\u001b[37m\u001b[0m \u001b[1m10s\u001b[0m 5ms/step - loss: 4189483008.0000 - mae: 52328.3750 - val_loss: 40965074944.0000 - val_mae: 104146.1797 - learning_rate: 0.0010\n",
            "Epoch 47/100\n",
            "\u001b[1m1852/1852\u001b[0m \u001b[32m━━━━━━━━━━━━━━━━━━━━\u001b[0m\u001b[37m\u001b[0m \u001b[1m9s\u001b[0m 4ms/step - loss: 3482275072.0000 - mae: 46641.8906 - val_loss: 39509344256.0000 - val_mae: 102335.1406 - learning_rate: 0.0010\n",
            "Epoch 48/100\n",
            "\u001b[1m1852/1852\u001b[0m \u001b[32m━━━━━━━━━━━━━━━━━━━━\u001b[0m\u001b[37m\u001b[0m \u001b[1m9s\u001b[0m 4ms/step - loss: 3146457600.0000 - mae: 44354.4922 - val_loss: 38522687488.0000 - val_mae: 98737.2266 - learning_rate: 0.0010\n",
            "Epoch 49/100\n",
            "\u001b[1m 145/1852\u001b[0m \u001b[32m━\u001b[0m\u001b[37m━━━━━━━━━━━━━━━━━━━\u001b[0m \u001b[1m8s\u001b[0m 5ms/step - loss: 3129498368.0000 - mae: 42858.2852"
          ]
        }
      ]
    },
    {
      "cell_type": "markdown",
      "source": [
        "After training, the model has learned patterns in the training data while monitoring performance on validation data."
      ],
      "metadata": {
        "id": "2caWJ8u8RaAA"
      }
    },
    {
      "cell_type": "markdown",
      "source": [
        "The trained model is then tested on unseen data to measure **Mean Absolute Error** (**MAE**) and overall **loss** (**MSE**)."
      ],
      "metadata": {
        "id": "JeVJgQ3KXF51"
      }
    },
    {
      "cell_type": "code",
      "source": [
        "test_loss, test_mae = model.evaluate(X_test_scaled, y_test, verbose=0)\n",
        "print(f\"Test MAE: {test_mae}\")"
      ],
      "metadata": {
        "id": "NBBjg_SRRZfc"
      },
      "execution_count": null,
      "outputs": []
    },
    {
      "cell_type": "markdown",
      "source": [
        "A low MAE indicates that the model’s predictions are close to actual values. If MAE is too high, further tuning may be needed."
      ],
      "metadata": {
        "id": "Zabv1G0hXYl3"
      }
    },
    {
      "cell_type": "markdown",
      "source": [
        "To ensure proper generalization, we **plot the loss curves** for both training and validation data."
      ],
      "metadata": {
        "id": "v-bYbDt4RoXK"
      }
    },
    {
      "cell_type": "code",
      "source": [
        "plt.figure(figsize=(8,6))\n",
        "plt.plot(history.history[\"loss\"], label=\"Training Loss\")\n",
        "plt.plot(history.history[\"val_loss\"], label=\"Validation Loss\")\n",
        "plt.xlabel(\"Epochs\")\n",
        "plt.ylabel(\"Loss (MSE)\")\n",
        "plt.title(\"Training vs. Validation Loss (MSE)\")\n",
        "plt.legend()\n",
        "plt.show()"
      ],
      "metadata": {
        "id": "ox1fBzV0XhqB"
      },
      "execution_count": null,
      "outputs": []
    },
    {
      "cell_type": "markdown",
      "source": [
        "We then compare the model’s predictions with actual values from the test dataset."
      ],
      "metadata": {
        "id": "JbSZKHCEXsWO"
      }
    },
    {
      "cell_type": "code",
      "source": [
        "y_pred = model.predict(X_test_scaled)\n",
        "\n",
        "results = pd.DataFrame({\"Actual\": y_test[:5].values, \"Predicted\": y_pred[:5].flatten()})\n",
        "print(results)"
      ],
      "metadata": {
        "id": "OxNDuHc7Xu68"
      },
      "execution_count": null,
      "outputs": []
    }
  ],
  "metadata": {
    "kernelspec": {
      "display_name": "Python 3",
      "name": "python3"
    },
    "language_info": {
      "codemirror_mode": {
        "name": "ipython",
        "version": 3
      },
      "file_extension": ".py",
      "mimetype": "text/x-python",
      "name": "python",
      "nbconvert_exporter": "python",
      "pygments_lexer": "ipython3",
      "version": "3.11.9"
    },
    "colab": {
      "provenance": [],
      "gpuType": "T4",
      "include_colab_link": true
    }
  },
  "nbformat": 4,
  "nbformat_minor": 0
}