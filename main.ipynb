{
  "cells": [
    {
      "cell_type": "markdown",
      "metadata": {
        "id": "Rhd44EMwuDVO"
      },
      "source": [
        "# **STINTSY Machine Project**"
      ]
    },
    {
      "cell_type": "markdown",
      "metadata": {
        "id": "ZzlG6D0NuDVP"
      },
      "source": [
        "## *Group # - S16*\n",
        "- **Ang, Danielle Faith**\n",
        "- **De Los Santos, Hanna Angela**\n",
        "- **Robles, Luis Miguel**\n",
        "- **Sarreal, Sophia Althea**"
      ]
    },
    {
      "cell_type": "markdown",
      "metadata": {
        "id": "OMjIXNBVuDVP"
      },
      "source": [
        "# **Import Libraries**"
      ]
    },
    {
      "cell_type": "code",
      "execution_count": null,
      "metadata": {
        "id": "WB_1zi_DuDVP"
      },
      "outputs": [],
      "source": [
        "import pandas as pd\n",
        "import numpy as np\n",
        "import matplotlib.pyplot as plt\n",
        "import seaborn as sns\n",
        "from sklearn.preprocessing import StandardScaler\n",
        "from sklearn.model_selection import train_test_split\n",
        "from sklearn.neighbors import KNeighborsRegressor\n",
        "from sklearn.metrics import mean_squared_error\n",
        "from scipy.stats import skew"
      ]
    },
    {
      "cell_type": "markdown",
      "metadata": {
        "id": "CHSZDr7zuDVQ"
      },
      "source": [
        "# **Dataset Description**"
      ]
    },
    {
      "cell_type": "markdown",
      "metadata": {
        "id": "mbPT9SbNuDVQ"
      },
      "source": [
        "The file contains data about expenditures and other disbursements, housing characteristics, social protection, Income and other receipts and Entrepreneural Activities."
      ]
    },
    {
      "cell_type": "markdown",
      "metadata": {
        "id": "1WymCJuruDVQ"
      },
      "source": [
        "# **Structure of the Dataset**"
      ]
    },
    {
      "cell_type": "markdown",
      "metadata": {
        "id": "ySQnXnrCuDVQ"
      },
      "source": []
    },
    {
      "cell_type": "markdown",
      "metadata": {
        "id": "Nvz-uyMiuDVQ"
      },
      "source": [
        "# **Reading the Dataset**"
      ]
    },
    {
      "cell_type": "code",
      "execution_count": null,
      "metadata": {
        "id": "_Nafd1NLuDVQ"
      },
      "outputs": [],
      "source": [
        "fies_df = pd.read_csv('FIES PUF 2012 Vol.1.CSV')"
      ]
    },
    {
      "cell_type": "markdown",
      "metadata": {
        "id": "Pi-eeDrzuDVQ"
      },
      "source": [
        "# **Cleaning the Dataset**"
      ]
    },
    {
      "cell_type": "code",
      "execution_count": null,
      "metadata": {
        "id": "CWYBJBrKuDVR",
        "outputId": "831ac099-8b27-40f8-b175-241896e369e5",
        "colab": {
          "base_uri": "https://localhost:8080/",
          "height": 255
        }
      },
      "outputs": [
        {
          "output_type": "display_data",
          "data": {
            "text/plain": [
              "   W_REGN      W_OID  W_SHSN  W_HCN  URB   RSTR     PSU  BWEIGHT     RFACT  \\\n",
              "0      14  101001000       2     25    2  21100  415052   138.25  200.6576   \n",
              "1      14  101001000       3     43    2  21100  415052   138.25  200.6576   \n",
              "2      14  101001000       4     62    2  21100  415052   138.25  200.6576   \n",
              "3      14  101001000       5     79    2  21100  415052   138.25  200.6576   \n",
              "4      14  101001000      10    165    2  21100  415052   138.25  200.6576   \n",
              "\n",
              "   FSIZE  ...  PC_QTY  OVEN_QTY  MOTOR_BANCA_QTY  MOTORCYCLE_QTY   POP_ADJ  \\\n",
              "0    3.0  ...      01        01                                   0.946172   \n",
              "1   12.5  ...                01                               01  0.946172   \n",
              "2    2.0  ...                01                                   0.946172   \n",
              "3    4.0  ...                01                                   0.946172   \n",
              "4    5.0  ...                                                 01  0.946172   \n",
              "\n",
              "       PCINC  NATPC  NATDC  REGDC  REGPC  \n",
              "0  108417.00      9      8      8      9  \n",
              "1   30631.60      5      9      9      4  \n",
              "2   86992.50      9      6      6      8  \n",
              "3   43325.75      6      6      6      6  \n",
              "4   37481.80      6      6      6      5  \n",
              "\n",
              "[5 rows x 119 columns]"
            ],
            "text/html": [
              "\n",
              "  <div id=\"df-3ff44974-9184-4307-9d6f-cd21ec276751\" class=\"colab-df-container\">\n",
              "    <div>\n",
              "<style scoped>\n",
              "    .dataframe tbody tr th:only-of-type {\n",
              "        vertical-align: middle;\n",
              "    }\n",
              "\n",
              "    .dataframe tbody tr th {\n",
              "        vertical-align: top;\n",
              "    }\n",
              "\n",
              "    .dataframe thead th {\n",
              "        text-align: right;\n",
              "    }\n",
              "</style>\n",
              "<table border=\"1\" class=\"dataframe\">\n",
              "  <thead>\n",
              "    <tr style=\"text-align: right;\">\n",
              "      <th></th>\n",
              "      <th>W_REGN</th>\n",
              "      <th>W_OID</th>\n",
              "      <th>W_SHSN</th>\n",
              "      <th>W_HCN</th>\n",
              "      <th>URB</th>\n",
              "      <th>RSTR</th>\n",
              "      <th>PSU</th>\n",
              "      <th>BWEIGHT</th>\n",
              "      <th>RFACT</th>\n",
              "      <th>FSIZE</th>\n",
              "      <th>...</th>\n",
              "      <th>PC_QTY</th>\n",
              "      <th>OVEN_QTY</th>\n",
              "      <th>MOTOR_BANCA_QTY</th>\n",
              "      <th>MOTORCYCLE_QTY</th>\n",
              "      <th>POP_ADJ</th>\n",
              "      <th>PCINC</th>\n",
              "      <th>NATPC</th>\n",
              "      <th>NATDC</th>\n",
              "      <th>REGDC</th>\n",
              "      <th>REGPC</th>\n",
              "    </tr>\n",
              "  </thead>\n",
              "  <tbody>\n",
              "    <tr>\n",
              "      <th>0</th>\n",
              "      <td>14</td>\n",
              "      <td>101001000</td>\n",
              "      <td>2</td>\n",
              "      <td>25</td>\n",
              "      <td>2</td>\n",
              "      <td>21100</td>\n",
              "      <td>415052</td>\n",
              "      <td>138.25</td>\n",
              "      <td>200.6576</td>\n",
              "      <td>3.0</td>\n",
              "      <td>...</td>\n",
              "      <td>01</td>\n",
              "      <td>01</td>\n",
              "      <td></td>\n",
              "      <td></td>\n",
              "      <td>0.946172</td>\n",
              "      <td>108417.00</td>\n",
              "      <td>9</td>\n",
              "      <td>8</td>\n",
              "      <td>8</td>\n",
              "      <td>9</td>\n",
              "    </tr>\n",
              "    <tr>\n",
              "      <th>1</th>\n",
              "      <td>14</td>\n",
              "      <td>101001000</td>\n",
              "      <td>3</td>\n",
              "      <td>43</td>\n",
              "      <td>2</td>\n",
              "      <td>21100</td>\n",
              "      <td>415052</td>\n",
              "      <td>138.25</td>\n",
              "      <td>200.6576</td>\n",
              "      <td>12.5</td>\n",
              "      <td>...</td>\n",
              "      <td></td>\n",
              "      <td>01</td>\n",
              "      <td></td>\n",
              "      <td>01</td>\n",
              "      <td>0.946172</td>\n",
              "      <td>30631.60</td>\n",
              "      <td>5</td>\n",
              "      <td>9</td>\n",
              "      <td>9</td>\n",
              "      <td>4</td>\n",
              "    </tr>\n",
              "    <tr>\n",
              "      <th>2</th>\n",
              "      <td>14</td>\n",
              "      <td>101001000</td>\n",
              "      <td>4</td>\n",
              "      <td>62</td>\n",
              "      <td>2</td>\n",
              "      <td>21100</td>\n",
              "      <td>415052</td>\n",
              "      <td>138.25</td>\n",
              "      <td>200.6576</td>\n",
              "      <td>2.0</td>\n",
              "      <td>...</td>\n",
              "      <td></td>\n",
              "      <td>01</td>\n",
              "      <td></td>\n",
              "      <td></td>\n",
              "      <td>0.946172</td>\n",
              "      <td>86992.50</td>\n",
              "      <td>9</td>\n",
              "      <td>6</td>\n",
              "      <td>6</td>\n",
              "      <td>8</td>\n",
              "    </tr>\n",
              "    <tr>\n",
              "      <th>3</th>\n",
              "      <td>14</td>\n",
              "      <td>101001000</td>\n",
              "      <td>5</td>\n",
              "      <td>79</td>\n",
              "      <td>2</td>\n",
              "      <td>21100</td>\n",
              "      <td>415052</td>\n",
              "      <td>138.25</td>\n",
              "      <td>200.6576</td>\n",
              "      <td>4.0</td>\n",
              "      <td>...</td>\n",
              "      <td></td>\n",
              "      <td>01</td>\n",
              "      <td></td>\n",
              "      <td></td>\n",
              "      <td>0.946172</td>\n",
              "      <td>43325.75</td>\n",
              "      <td>6</td>\n",
              "      <td>6</td>\n",
              "      <td>6</td>\n",
              "      <td>6</td>\n",
              "    </tr>\n",
              "    <tr>\n",
              "      <th>4</th>\n",
              "      <td>14</td>\n",
              "      <td>101001000</td>\n",
              "      <td>10</td>\n",
              "      <td>165</td>\n",
              "      <td>2</td>\n",
              "      <td>21100</td>\n",
              "      <td>415052</td>\n",
              "      <td>138.25</td>\n",
              "      <td>200.6576</td>\n",
              "      <td>5.0</td>\n",
              "      <td>...</td>\n",
              "      <td></td>\n",
              "      <td></td>\n",
              "      <td></td>\n",
              "      <td>01</td>\n",
              "      <td>0.946172</td>\n",
              "      <td>37481.80</td>\n",
              "      <td>6</td>\n",
              "      <td>6</td>\n",
              "      <td>6</td>\n",
              "      <td>5</td>\n",
              "    </tr>\n",
              "  </tbody>\n",
              "</table>\n",
              "<p>5 rows × 119 columns</p>\n",
              "</div>\n",
              "    <div class=\"colab-df-buttons\">\n",
              "\n",
              "  <div class=\"colab-df-container\">\n",
              "    <button class=\"colab-df-convert\" onclick=\"convertToInteractive('df-3ff44974-9184-4307-9d6f-cd21ec276751')\"\n",
              "            title=\"Convert this dataframe to an interactive table.\"\n",
              "            style=\"display:none;\">\n",
              "\n",
              "  <svg xmlns=\"http://www.w3.org/2000/svg\" height=\"24px\" viewBox=\"0 -960 960 960\">\n",
              "    <path d=\"M120-120v-720h720v720H120Zm60-500h600v-160H180v160Zm220 220h160v-160H400v160Zm0 220h160v-160H400v160ZM180-400h160v-160H180v160Zm440 0h160v-160H620v160ZM180-180h160v-160H180v160Zm440 0h160v-160H620v160Z\"/>\n",
              "  </svg>\n",
              "    </button>\n",
              "\n",
              "  <style>\n",
              "    .colab-df-container {\n",
              "      display:flex;\n",
              "      gap: 12px;\n",
              "    }\n",
              "\n",
              "    .colab-df-convert {\n",
              "      background-color: #E8F0FE;\n",
              "      border: none;\n",
              "      border-radius: 50%;\n",
              "      cursor: pointer;\n",
              "      display: none;\n",
              "      fill: #1967D2;\n",
              "      height: 32px;\n",
              "      padding: 0 0 0 0;\n",
              "      width: 32px;\n",
              "    }\n",
              "\n",
              "    .colab-df-convert:hover {\n",
              "      background-color: #E2EBFA;\n",
              "      box-shadow: 0px 1px 2px rgba(60, 64, 67, 0.3), 0px 1px 3px 1px rgba(60, 64, 67, 0.15);\n",
              "      fill: #174EA6;\n",
              "    }\n",
              "\n",
              "    .colab-df-buttons div {\n",
              "      margin-bottom: 4px;\n",
              "    }\n",
              "\n",
              "    [theme=dark] .colab-df-convert {\n",
              "      background-color: #3B4455;\n",
              "      fill: #D2E3FC;\n",
              "    }\n",
              "\n",
              "    [theme=dark] .colab-df-convert:hover {\n",
              "      background-color: #434B5C;\n",
              "      box-shadow: 0px 1px 3px 1px rgba(0, 0, 0, 0.15);\n",
              "      filter: drop-shadow(0px 1px 2px rgba(0, 0, 0, 0.3));\n",
              "      fill: #FFFFFF;\n",
              "    }\n",
              "  </style>\n",
              "\n",
              "    <script>\n",
              "      const buttonEl =\n",
              "        document.querySelector('#df-3ff44974-9184-4307-9d6f-cd21ec276751 button.colab-df-convert');\n",
              "      buttonEl.style.display =\n",
              "        google.colab.kernel.accessAllowed ? 'block' : 'none';\n",
              "\n",
              "      async function convertToInteractive(key) {\n",
              "        const element = document.querySelector('#df-3ff44974-9184-4307-9d6f-cd21ec276751');\n",
              "        const dataTable =\n",
              "          await google.colab.kernel.invokeFunction('convertToInteractive',\n",
              "                                                    [key], {});\n",
              "        if (!dataTable) return;\n",
              "\n",
              "        const docLinkHtml = 'Like what you see? Visit the ' +\n",
              "          '<a target=\"_blank\" href=https://colab.research.google.com/notebooks/data_table.ipynb>data table notebook</a>'\n",
              "          + ' to learn more about interactive tables.';\n",
              "        element.innerHTML = '';\n",
              "        dataTable['output_type'] = 'display_data';\n",
              "        await google.colab.output.renderOutput(dataTable, element);\n",
              "        const docLink = document.createElement('div');\n",
              "        docLink.innerHTML = docLinkHtml;\n",
              "        element.appendChild(docLink);\n",
              "      }\n",
              "    </script>\n",
              "  </div>\n",
              "\n",
              "\n",
              "<div id=\"df-5bf2c644-3496-4c34-ac56-d00b097c09dd\">\n",
              "  <button class=\"colab-df-quickchart\" onclick=\"quickchart('df-5bf2c644-3496-4c34-ac56-d00b097c09dd')\"\n",
              "            title=\"Suggest charts\"\n",
              "            style=\"display:none;\">\n",
              "\n",
              "<svg xmlns=\"http://www.w3.org/2000/svg\" height=\"24px\"viewBox=\"0 0 24 24\"\n",
              "     width=\"24px\">\n",
              "    <g>\n",
              "        <path d=\"M19 3H5c-1.1 0-2 .9-2 2v14c0 1.1.9 2 2 2h14c1.1 0 2-.9 2-2V5c0-1.1-.9-2-2-2zM9 17H7v-7h2v7zm4 0h-2V7h2v10zm4 0h-2v-4h2v4z\"/>\n",
              "    </g>\n",
              "</svg>\n",
              "  </button>\n",
              "\n",
              "<style>\n",
              "  .colab-df-quickchart {\n",
              "      --bg-color: #E8F0FE;\n",
              "      --fill-color: #1967D2;\n",
              "      --hover-bg-color: #E2EBFA;\n",
              "      --hover-fill-color: #174EA6;\n",
              "      --disabled-fill-color: #AAA;\n",
              "      --disabled-bg-color: #DDD;\n",
              "  }\n",
              "\n",
              "  [theme=dark] .colab-df-quickchart {\n",
              "      --bg-color: #3B4455;\n",
              "      --fill-color: #D2E3FC;\n",
              "      --hover-bg-color: #434B5C;\n",
              "      --hover-fill-color: #FFFFFF;\n",
              "      --disabled-bg-color: #3B4455;\n",
              "      --disabled-fill-color: #666;\n",
              "  }\n",
              "\n",
              "  .colab-df-quickchart {\n",
              "    background-color: var(--bg-color);\n",
              "    border: none;\n",
              "    border-radius: 50%;\n",
              "    cursor: pointer;\n",
              "    display: none;\n",
              "    fill: var(--fill-color);\n",
              "    height: 32px;\n",
              "    padding: 0;\n",
              "    width: 32px;\n",
              "  }\n",
              "\n",
              "  .colab-df-quickchart:hover {\n",
              "    background-color: var(--hover-bg-color);\n",
              "    box-shadow: 0 1px 2px rgba(60, 64, 67, 0.3), 0 1px 3px 1px rgba(60, 64, 67, 0.15);\n",
              "    fill: var(--button-hover-fill-color);\n",
              "  }\n",
              "\n",
              "  .colab-df-quickchart-complete:disabled,\n",
              "  .colab-df-quickchart-complete:disabled:hover {\n",
              "    background-color: var(--disabled-bg-color);\n",
              "    fill: var(--disabled-fill-color);\n",
              "    box-shadow: none;\n",
              "  }\n",
              "\n",
              "  .colab-df-spinner {\n",
              "    border: 2px solid var(--fill-color);\n",
              "    border-color: transparent;\n",
              "    border-bottom-color: var(--fill-color);\n",
              "    animation:\n",
              "      spin 1s steps(1) infinite;\n",
              "  }\n",
              "\n",
              "  @keyframes spin {\n",
              "    0% {\n",
              "      border-color: transparent;\n",
              "      border-bottom-color: var(--fill-color);\n",
              "      border-left-color: var(--fill-color);\n",
              "    }\n",
              "    20% {\n",
              "      border-color: transparent;\n",
              "      border-left-color: var(--fill-color);\n",
              "      border-top-color: var(--fill-color);\n",
              "    }\n",
              "    30% {\n",
              "      border-color: transparent;\n",
              "      border-left-color: var(--fill-color);\n",
              "      border-top-color: var(--fill-color);\n",
              "      border-right-color: var(--fill-color);\n",
              "    }\n",
              "    40% {\n",
              "      border-color: transparent;\n",
              "      border-right-color: var(--fill-color);\n",
              "      border-top-color: var(--fill-color);\n",
              "    }\n",
              "    60% {\n",
              "      border-color: transparent;\n",
              "      border-right-color: var(--fill-color);\n",
              "    }\n",
              "    80% {\n",
              "      border-color: transparent;\n",
              "      border-right-color: var(--fill-color);\n",
              "      border-bottom-color: var(--fill-color);\n",
              "    }\n",
              "    90% {\n",
              "      border-color: transparent;\n",
              "      border-bottom-color: var(--fill-color);\n",
              "    }\n",
              "  }\n",
              "</style>\n",
              "\n",
              "  <script>\n",
              "    async function quickchart(key) {\n",
              "      const quickchartButtonEl =\n",
              "        document.querySelector('#' + key + ' button');\n",
              "      quickchartButtonEl.disabled = true;  // To prevent multiple clicks.\n",
              "      quickchartButtonEl.classList.add('colab-df-spinner');\n",
              "      try {\n",
              "        const charts = await google.colab.kernel.invokeFunction(\n",
              "            'suggestCharts', [key], {});\n",
              "      } catch (error) {\n",
              "        console.error('Error during call to suggestCharts:', error);\n",
              "      }\n",
              "      quickchartButtonEl.classList.remove('colab-df-spinner');\n",
              "      quickchartButtonEl.classList.add('colab-df-quickchart-complete');\n",
              "    }\n",
              "    (() => {\n",
              "      let quickchartButtonEl =\n",
              "        document.querySelector('#df-5bf2c644-3496-4c34-ac56-d00b097c09dd button');\n",
              "      quickchartButtonEl.style.display =\n",
              "        google.colab.kernel.accessAllowed ? 'block' : 'none';\n",
              "    })();\n",
              "  </script>\n",
              "</div>\n",
              "\n",
              "    </div>\n",
              "  </div>\n"
            ],
            "application/vnd.google.colaboratory.intrinsic+json": {
              "type": "dataframe"
            }
          },
          "metadata": {}
        }
      ],
      "source": [
        "display(fies_df.head())"
      ]
    },
    {
      "cell_type": "code",
      "source": [
        "fies_df.info()"
      ],
      "metadata": {
        "colab": {
          "base_uri": "https://localhost:8080/"
        },
        "id": "MOvTKR7kbVO6",
        "outputId": "575ca7d9-5134-47a5-b045-825b3c103ff8"
      },
      "execution_count": null,
      "outputs": [
        {
          "output_type": "stream",
          "name": "stdout",
          "text": [
            "<class 'pandas.core.frame.DataFrame'>\n",
            "RangeIndex: 40171 entries, 0 to 40170\n",
            "Columns: 119 entries, W_REGN to REGPC\n",
            "dtypes: float64(5), int64(92), object(22)\n",
            "memory usage: 36.5+ MB\n"
          ]
        }
      ]
    },
    {
      "cell_type": "code",
      "source": [
        "object_columns = fies_df.select_dtypes(include=['object']).columns\n",
        "print(\"Categorical Variables (Object Dtypes):\")\n",
        "print(object_columns)"
      ],
      "metadata": {
        "colab": {
          "base_uri": "https://localhost:8080/"
        },
        "id": "fnvgAxKRcNhe",
        "outputId": "9c02e59e-0b6a-4c6d-d37d-67cc90ebe482"
      },
      "execution_count": null,
      "outputs": [
        {
          "output_type": "stream",
          "name": "stdout",
          "text": [
            "Categorical Variables (Object Dtypes):\n",
            "Index(['OCCUP', 'KB', 'CW', 'AGELESS5', 'AGE5_17', 'EMPLOYED_PAY',\n",
            "       'EMPLOYED_PROF', 'DISTANCE', 'RADIO_QTY', 'TV_QTY', 'CD_QTY',\n",
            "       'STEREO_QTY', 'REF_QTY', 'WASH_QTY', 'AIRCON_QTY', 'CAR_QTY',\n",
            "       'LANDLINE_QTY', 'CELLPHONE_QTY', 'PC_QTY', 'OVEN_QTY',\n",
            "       'MOTOR_BANCA_QTY', 'MOTORCYCLE_QTY'],\n",
            "      dtype='object')\n"
          ]
        }
      ]
    },
    {
      "cell_type": "code",
      "source": [
        "cols = ['AGELESS5', 'AGE5_17', 'EMPLOYED_PAY',\n",
        "       'EMPLOYED_PROF', 'DISTANCE', 'RADIO_QTY', 'TV_QTY', 'CD_QTY',\n",
        "       'STEREO_QTY', 'REF_QTY', 'WASH_QTY', 'AIRCON_QTY', 'CAR_QTY',\n",
        "       'LANDLINE_QTY', 'CELLPHONE_QTY', 'PC_QTY', 'OVEN_QTY',\n",
        "       'MOTOR_BANCA_QTY', 'MOTORCYCLE_QTY']\n",
        "\n",
        "fies_df[cols] = fies_df[cols].apply(pd.to_numeric, errors='coerce')\n"
      ],
      "metadata": {
        "id": "UUdpvd-beejG"
      },
      "execution_count": null,
      "outputs": []
    },
    {
      "cell_type": "markdown",
      "metadata": {
        "id": "f81XsyNYuDVR"
      },
      "source": [
        "### **`HGC`** - ***(Household Head) Highest Grade Completed***"
      ]
    },
    {
      "cell_type": "markdown",
      "metadata": {
        "id": "rdGmG1M5uDVR"
      },
      "source": [
        "The **HGC** variable represents the highest level of education completed by the household head.\n",
        "\n",
        "### **Education Levels and Codes:**\n",
        "\n",
        "- **No Grade Completed:** `0`  \n",
        "- **Preschool:** `10`  \n",
        "- **Elementary Undergraduate:** `210-260`  \n",
        "- **Elementary Graduate:** `280`  \n",
        "- **High School Undergraduate:** `310-330`  \n",
        "- **High School Graduate:** `350`  \n",
        "- **Post-Secondary Undergraduate:** `410-420`  \n",
        "- **Post-Secondary Graduate (Technical/Vocational):** `501-589`  \n",
        "- **College Undergraduate:** `810-840`  \n",
        "- **College Graduate:** `601-689`  \n",
        "- **Post-Baccalaureate:** `900`  "
      ]
    },
    {
      "cell_type": "code",
      "execution_count": null,
      "metadata": {
        "id": "rxTyste8uDVR",
        "outputId": "d33ca3f6-1c57-4860-95f9-8dd488540cf3",
        "colab": {
          "base_uri": "https://localhost:8080/"
        }
      },
      "outputs": [
        {
          "output_type": "execute_result",
          "data": {
            "text/plain": [
              "array([280, 250, 552, 830, 350, 634, 554, 320, 514, 240, 581, 810, 614,\n",
              "       900, 652, 330,   0, 840, 230, 584, 534, 562, 220, 310, 210, 622,\n",
              "       410, 686, 572, 662, 672, 820, 260, 681, 420, 631, 684, 642, 648,\n",
              "       601, 646, 676, 586, 589, 658, 689, 501, 621, 548, 632, 654, 638,\n",
              "       664,  10, 522, 685, 521, 644, 542, 531, 558, 532])"
            ]
          },
          "metadata": {},
          "execution_count": 1499
        }
      ],
      "source": [
        "fies_df[\"HGC\"].unique()"
      ]
    },
    {
      "cell_type": "markdown",
      "metadata": {
        "id": "bblE9JmUuDVS"
      },
      "source": [
        "As seen by using **`.unique()`**, these codes are not continuous single values, but instead appear in ranges for certain education levels.\n",
        "\n",
        "With this, we mapped these numerical codes into standardized categories based on the dictionary.\n",
        "\n",
        "<small>***Note that the dictionary lists College Undergraduate as ranging from **810-840** and College Graduate as **601-689**, so their values in the mapping may seem reversed.* </small>"
      ]
    },
    {
      "cell_type": "code",
      "execution_count": null,
      "metadata": {
        "id": "E-MeY1OHuDVS",
        "outputId": "d1ab63a4-26b9-481f-8b1b-cc411eaf258e",
        "colab": {
          "base_uri": "https://localhost:8080/"
        }
      },
      "outputs": [
        {
          "output_type": "stream",
          "name": "stdout",
          "text": [
            "4210\n",
            "3237\n"
          ]
        }
      ],
      "source": [
        "print(fies_df[\"HGC\"].between(601, 689).sum())  # Expected graduates\n",
        "print(fies_df[\"HGC\"].between(810, 840).sum())  # Expected undergraduates\n"
      ]
    },
    {
      "cell_type": "code",
      "execution_count": null,
      "metadata": {
        "id": "eUIvZ29VuDVS",
        "outputId": "98a0cffc-ee4a-42ed-8f3d-a8c55b633762",
        "colab": {
          "base_uri": "https://localhost:8080/",
          "height": 458
        }
      },
      "outputs": [
        {
          "output_type": "execute_result",
          "data": {
            "text/plain": [
              "0        3.0\n",
              "1        2.0\n",
              "2        7.0\n",
              "3        8.0\n",
              "4        5.0\n",
              "        ... \n",
              "40166    5.0\n",
              "40167    5.0\n",
              "40168    2.0\n",
              "40169    3.0\n",
              "40170    2.0\n",
              "Name: HGC, Length: 40171, dtype: float64"
            ],
            "text/html": [
              "<div>\n",
              "<style scoped>\n",
              "    .dataframe tbody tr th:only-of-type {\n",
              "        vertical-align: middle;\n",
              "    }\n",
              "\n",
              "    .dataframe tbody tr th {\n",
              "        vertical-align: top;\n",
              "    }\n",
              "\n",
              "    .dataframe thead th {\n",
              "        text-align: right;\n",
              "    }\n",
              "</style>\n",
              "<table border=\"1\" class=\"dataframe\">\n",
              "  <thead>\n",
              "    <tr style=\"text-align: right;\">\n",
              "      <th></th>\n",
              "      <th>HGC</th>\n",
              "    </tr>\n",
              "  </thead>\n",
              "  <tbody>\n",
              "    <tr>\n",
              "      <th>0</th>\n",
              "      <td>3.0</td>\n",
              "    </tr>\n",
              "    <tr>\n",
              "      <th>1</th>\n",
              "      <td>2.0</td>\n",
              "    </tr>\n",
              "    <tr>\n",
              "      <th>2</th>\n",
              "      <td>7.0</td>\n",
              "    </tr>\n",
              "    <tr>\n",
              "      <th>3</th>\n",
              "      <td>8.0</td>\n",
              "    </tr>\n",
              "    <tr>\n",
              "      <th>4</th>\n",
              "      <td>5.0</td>\n",
              "    </tr>\n",
              "    <tr>\n",
              "      <th>...</th>\n",
              "      <td>...</td>\n",
              "    </tr>\n",
              "    <tr>\n",
              "      <th>40166</th>\n",
              "      <td>5.0</td>\n",
              "    </tr>\n",
              "    <tr>\n",
              "      <th>40167</th>\n",
              "      <td>5.0</td>\n",
              "    </tr>\n",
              "    <tr>\n",
              "      <th>40168</th>\n",
              "      <td>2.0</td>\n",
              "    </tr>\n",
              "    <tr>\n",
              "      <th>40169</th>\n",
              "      <td>3.0</td>\n",
              "    </tr>\n",
              "    <tr>\n",
              "      <th>40170</th>\n",
              "      <td>2.0</td>\n",
              "    </tr>\n",
              "  </tbody>\n",
              "</table>\n",
              "<p>40171 rows × 1 columns</p>\n",
              "</div><br><label><b>dtype:</b> float64</label>"
            ]
          },
          "metadata": {},
          "execution_count": 1501
        }
      ],
      "source": [
        "conditions = [\n",
        "    (fies_df[\"HGC\"] == 0),\n",
        "    (fies_df[\"HGC\"] == 10),\n",
        "    (fies_df[\"HGC\"].between(210, 260)),\n",
        "    (fies_df[\"HGC\"] == 280),\n",
        "    (fies_df[\"HGC\"].between(310, 330)),\n",
        "    (fies_df[\"HGC\"] == 350),\n",
        "    (fies_df[\"HGC\"].between(410, 420)),\n",
        "    (fies_df[\"HGC\"].between(501, 589)),\n",
        "    (fies_df[\"HGC\"].between(810, 840)),\n",
        "    (fies_df[\"HGC\"].between(601, 689)),\n",
        "    (fies_df[\"HGC\"] >= 900)\n",
        "]\n",
        "\n",
        "values = [0, 1, 2, 3, 4, 5, 6, 7, 8, 9, 10]\n",
        "\n",
        "fies_df[\"HGC\"] = np.select(conditions, values, default=np.nan)\n",
        "\n",
        "fies_df[\"HGC\"]"
      ]
    },
    {
      "cell_type": "markdown",
      "source": [
        "### **`OCCUP`** - ***Primary occupation of the head of the family during the past six months***"
      ],
      "metadata": {
        "id": "ro30PgxApIUK"
      }
    },
    {
      "cell_type": "code",
      "source": [
        "fies_df['OCCUP'].unique()"
      ],
      "metadata": {
        "colab": {
          "base_uri": "https://localhost:8080/"
        },
        "id": "tZSfq7OEpH1f",
        "outputId": "38f1ef5d-3854-423c-b31b-b58c3400f10d"
      },
      "execution_count": null,
      "outputs": [
        {
          "output_type": "execute_result",
          "data": {
            "text/plain": [
              "array(['    ', '1314', '6111', '5220', '6212', '6114', '5132', '7122',\n",
              "       '9211', '1316', '4121', '1130', '8322', '2331', '3118', '9132',\n",
              "       '7241', '1312', '7231', '1317', '7123', '4115', '4142', '1120',\n",
              "       '8324', '8263', '8321', '9131', '9112', '3152', '9133', '6420',\n",
              "       '1430', '2341', '4215', '6119', '7433', '9313', '1412', '5162',\n",
              "       '2449', '3450', '6219', '8141', '6112', '6122', '9151', '5169',\n",
              "       '6116', '6124', '6121', '7243', '7422', '5123', '2310', '1490',\n",
              "       '3434', '4190', '2412', '6310', '7414', '8275', '3415', '3151',\n",
              "       '9333', '7212', '9322', '9311', '4113', '2152', '3431', '1319',\n",
              "       '7141', '1224', '1231', '3131', '4211', '7242', '9120', '6330',\n",
              "       '5151', '1313', '6340', '7111', '9212', '8222', '5139', '9213',\n",
              "       '2154', '8231', '9312', '4131', '2224', '9152', '8113', '0129',\n",
              "       '6129', '5131', '6115', '7415', '0121', '8323', '3232', '5161',\n",
              "       '3416', '7432', '9161', '3132', '1315', '2221', '9111', '4133',\n",
              "       '3114', '6123', '7411', '6320', '3112', '3480', '3449', '2446',\n",
              "       '4141', '9141', '8240', '6413', '3460', '8274', '5122', '3439',\n",
              "       '7246', '2351', '8340', '3242', '3475', '4213', '6131', '5112',\n",
              "       '9113', '3472', '7142', '1318', '5230', '3212', '1222', '1110',\n",
              "       '1311', '2227', '2151', '7332', '9331', '9162', '7412', '3300',\n",
              "       '8331', '9321', '4214', '0113', '2222', '7244', '7424', '6211',\n",
              "       '2460', '6113', '6430', '4222', '7221', '7435', '7213', '1411',\n",
              "       '7136', '0112', '7322', '7442', '8273', '0930', '1227', '8266',\n",
              "       '6221', '3417', '1225', '7233', '7235', '6411', '0122', '7347',\n",
              "       '3133', '3141', '8267', '8334', '3413', '7331', '5133', '4223',\n",
              "       '5153', '3113', '3143', '1441', '8171', '5113', '3432', '7423',\n",
              "       '3222', '2131', '3121', '2399', '1236', '7133', '3231', '4132',\n",
              "       '1210', '3229', '4122', '2419', '2132', '2231', '2226', '2153',\n",
              "       '3122', '2139', '2411', '2232', '6117', '1239', '7234', '3117',\n",
              "       '8111', '6139', '2423', '2213', '2214', '1221', '2453', '1233',\n",
              "       '8261', '7425', '3219', '7341', '1237', '3414', '2332', '6222',\n",
              "       '8290', '7436', '3473', '7222', '8268', '3412', '7434', '8332',\n",
              "       '4212', '7129', '3116', '2157', '8124', '7214', '7313', '7224',\n",
              "       '8232', '2228', '1226', '0111', '1449', '5152', '3441', '3241',\n",
              "       '0119', '2333', '2421', '4112', '1429', '3421', '1442', '7421',\n",
              "       '8223', '8311', '3115', '1235', '8262', '3429', '1232', '8333',\n",
              "       '5121', '8131', '3471', '2158', '8264', '3423', '8254', '8211',\n",
              "       '3139', '8163', '7131', '6490', '7215', '9332', '7311', '2141',\n",
              "       '4111', '8253', '8276', '7321', '8265', '2113', '8122', '2451',\n",
              "       '1223', '5142', '3142', '7245', '7344', '6229', '3433', '6414',\n",
              "       '7346', '3442', '8112', '2454', '2320', '5159', '2225', '7416',\n",
              "       '7323', '3119', '8212', '8271', '7324', '8139', '3474', '1421',\n",
              "       '6290', '2353', '6419', '8161', '0123', '2142', '7223', '8159',\n",
              "       '2391', '3411', '3144', '4221', '3444', '2452', '2430', '5163',\n",
              "       '3422', '2352', '2122', '2422', '3221', '9142', '2155', '8221',\n",
              "       '2229', '7113', '4143', '1229', '2159', '7343', '7211', '8162',\n",
              "       '8272', '2459', '7413', '7312', '7132', '5210', '7345', '8229',\n",
              "       '8255', '2455', '8259', '2156', '8251', '8252', '7134', '8143',\n",
              "       '3224', '5111', '1144', '2443'], dtype=object)"
            ]
          },
          "metadata": {},
          "execution_count": 1502
        }
      ]
    },
    {
      "cell_type": "code",
      "source": [
        "fies_df['OCCUP'] = fies_df['OCCUP'].apply(pd.to_numeric, errors='coerce')"
      ],
      "metadata": {
        "id": "jc0-yZityIf2"
      },
      "execution_count": null,
      "outputs": []
    },
    {
      "cell_type": "code",
      "source": [
        "conditions = [\n",
        "    fies_df[\"OCCUP\"].between(1110, 1490),\n",
        "    fies_df[\"OCCUP\"].between(2111, 2460),\n",
        "    fies_df[\"OCCUP\"].between(3111, 3480),\n",
        "    fies_df[\"OCCUP\"].between(4111, 4223),\n",
        "    fies_df[\"OCCUP\"].between(5111, 5230),\n",
        "    fies_df[\"OCCUP\"].between(6111, 6590),\n",
        "    fies_df[\"OCCUP\"].between(7111, 7442),\n",
        "    fies_df[\"OCCUP\"].between(8111, 8340),\n",
        "    fies_df[\"OCCUP\"].between(9111, 9333),\n",
        "    fies_df[\"OCCUP\"].isin([111, 112, 113, 121, 122, 123, 124, 125, 126, 127, 128, 129, 930])\n",
        "]\n",
        "\n",
        "values = [\n",
        "    \"Officials & Executives\",\n",
        "    \"Professionals\",\n",
        "    \"Technicians\",\n",
        "    \"Clerks\",\n",
        "    \"Service Workers\",\n",
        "    \"Farmers & Fishers\",\n",
        "    \"Trades Workers\",\n",
        "    \"Machine Operators\",\n",
        "    \"Laborers\",\n",
        "    \"Special Occupations\"\n",
        "]\n",
        "\n",
        "fies_df[\"OCCUP_GROUP\"] = np.select(conditions, values, default=\"Unknown\")\n",
        "\n",
        "fies_df[\"OCCUP_GROUP\"]"
      ],
      "metadata": {
        "colab": {
          "base_uri": "https://localhost:8080/",
          "height": 458
        },
        "id": "KoYubFu8xQ-H",
        "outputId": "da174e4d-497d-4e98-aa92-a09b9d0e4139"
      },
      "execution_count": null,
      "outputs": [
        {
          "output_type": "execute_result",
          "data": {
            "text/plain": [
              "0                       Unknown\n",
              "1        Officials & Executives\n",
              "2                       Unknown\n",
              "3             Farmers & Fishers\n",
              "4               Service Workers\n",
              "                  ...          \n",
              "40166    Officials & Executives\n",
              "40167         Machine Operators\n",
              "40168    Officials & Executives\n",
              "40169    Officials & Executives\n",
              "40170         Farmers & Fishers\n",
              "Name: OCCUP_GROUP, Length: 40171, dtype: object"
            ],
            "text/html": [
              "<div>\n",
              "<style scoped>\n",
              "    .dataframe tbody tr th:only-of-type {\n",
              "        vertical-align: middle;\n",
              "    }\n",
              "\n",
              "    .dataframe tbody tr th {\n",
              "        vertical-align: top;\n",
              "    }\n",
              "\n",
              "    .dataframe thead th {\n",
              "        text-align: right;\n",
              "    }\n",
              "</style>\n",
              "<table border=\"1\" class=\"dataframe\">\n",
              "  <thead>\n",
              "    <tr style=\"text-align: right;\">\n",
              "      <th></th>\n",
              "      <th>OCCUP_GROUP</th>\n",
              "    </tr>\n",
              "  </thead>\n",
              "  <tbody>\n",
              "    <tr>\n",
              "      <th>0</th>\n",
              "      <td>Unknown</td>\n",
              "    </tr>\n",
              "    <tr>\n",
              "      <th>1</th>\n",
              "      <td>Officials &amp; Executives</td>\n",
              "    </tr>\n",
              "    <tr>\n",
              "      <th>2</th>\n",
              "      <td>Unknown</td>\n",
              "    </tr>\n",
              "    <tr>\n",
              "      <th>3</th>\n",
              "      <td>Farmers &amp; Fishers</td>\n",
              "    </tr>\n",
              "    <tr>\n",
              "      <th>4</th>\n",
              "      <td>Service Workers</td>\n",
              "    </tr>\n",
              "    <tr>\n",
              "      <th>...</th>\n",
              "      <td>...</td>\n",
              "    </tr>\n",
              "    <tr>\n",
              "      <th>40166</th>\n",
              "      <td>Officials &amp; Executives</td>\n",
              "    </tr>\n",
              "    <tr>\n",
              "      <th>40167</th>\n",
              "      <td>Machine Operators</td>\n",
              "    </tr>\n",
              "    <tr>\n",
              "      <th>40168</th>\n",
              "      <td>Officials &amp; Executives</td>\n",
              "    </tr>\n",
              "    <tr>\n",
              "      <th>40169</th>\n",
              "      <td>Officials &amp; Executives</td>\n",
              "    </tr>\n",
              "    <tr>\n",
              "      <th>40170</th>\n",
              "      <td>Farmers &amp; Fishers</td>\n",
              "    </tr>\n",
              "  </tbody>\n",
              "</table>\n",
              "<p>40171 rows × 1 columns</p>\n",
              "</div><br><label><b>dtype:</b> object</label>"
            ]
          },
          "metadata": {},
          "execution_count": 1504
        }
      ]
    },
    {
      "cell_type": "code",
      "source": [
        "fies_df = pd.get_dummies(fies_df, columns=[\"OCCUP_GROUP\"], drop_first=True, dtype=int)\n"
      ],
      "metadata": {
        "id": "BTISB78xytzV"
      },
      "execution_count": null,
      "outputs": []
    },
    {
      "cell_type": "markdown",
      "source": [
        "### **`KB`** - ***Household Head Kind of Business/Industry***"
      ],
      "metadata": {
        "id": "JtCNZcjhz2i6"
      }
    },
    {
      "cell_type": "code",
      "source": [
        "fies_df['KB'] = fies_df['KB'].apply(pd.to_numeric, errors='coerce')"
      ],
      "metadata": {
        "id": "UY0sxeDh06gY"
      },
      "execution_count": null,
      "outputs": []
    },
    {
      "cell_type": "code",
      "source": [
        "conditions = [\n",
        "    fies_df[\"KB\"].between(111, 329),\n",
        "    fies_df[\"KB\"].between(510, 990),\n",
        "    fies_df[\"KB\"].between(1011, 3320),\n",
        "    fies_df[\"KB\"].between(3510, 3530),\n",
        "    fies_df[\"KB\"].between(3600, 3900),\n",
        "    fies_df[\"KB\"].between(4100, 4390),\n",
        "    fies_df[\"KB\"].between(4510, 4799),\n",
        "    fies_df[\"KB\"].between(4911, 5320),\n",
        "    fies_df[\"KB\"].between(5510, 5630),\n",
        "    fies_df[\"KB\"].between(5811, 6399),\n",
        "    fies_df[\"KB\"].between(6411, 6630),\n",
        "    fies_df[\"KB\"].between(6811, 6820),\n",
        "    fies_df[\"KB\"].between(6910, 7500),\n",
        "    fies_df[\"KB\"].between(7710, 8299),\n",
        "    fies_df[\"KB\"].between(8411, 8430),\n",
        "    fies_df[\"KB\"].between(8511, 8560),\n",
        "    fies_df[\"KB\"].between(8611, 8890),\n",
        "    fies_df[\"KB\"].between(9000, 9329),\n",
        "    fies_df[\"KB\"].between(9411, 9690),\n",
        "    fies_df[\"KB\"] == 9700,\n",
        "    fies_df[\"KB\"].between(9901, 9909)\n",
        "]\n",
        "\n",
        "values = [\n",
        "    \"Agriculture\", \"Mining\", \"Manufacturing\", \"Electricity\", \"Water Supply\", \"Construction\",\n",
        "    \"Retail\", \"Transport\", \"Food Service\", \"IT\", \"Finance\", \"Real Estate\", \"Professional\",\n",
        "    \"Admin\", \"Public Admin\", \"Education\", \"Health\", \"Arts\", \"Other Services\",\n",
        "    \"Household Employers\", \"Extra-territorial\"\n",
        "]\n",
        "\n",
        "fies_df[\"KB_Group\"] = np.select(conditions, values, default=np.nan)"
      ],
      "metadata": {
        "id": "bVLGy9GT0Z9g"
      },
      "execution_count": null,
      "outputs": []
    },
    {
      "cell_type": "code",
      "source": [
        "fies_df = pd.get_dummies(fies_df, columns=[\"KB_Group\"], drop_first=True, dtype=int)"
      ],
      "metadata": {
        "id": "Lmq3tV_F1XmD"
      },
      "execution_count": null,
      "outputs": []
    },
    {
      "cell_type": "markdown",
      "source": [
        "### **`CW`** - ***Household Head Class of Worker***"
      ],
      "metadata": {
        "id": "vKD3MIPX2X4F"
      }
    },
    {
      "cell_type": "code",
      "source": [
        "fies_df['CW'] = fies_df['CW'].apply(pd.to_numeric, errors='coerce')"
      ],
      "metadata": {
        "id": "Ob5N-5Tr2mAd"
      },
      "execution_count": null,
      "outputs": []
    },
    {
      "cell_type": "code",
      "source": [
        "cw_mapping = {\n",
        "    0: \"Private Household\",\n",
        "    1: \"Private Establishment\",\n",
        "    2: \"Government\",\n",
        "    3: \"Self-Employed\",\n",
        "    4: \"Employer in Family Business\",\n",
        "    5: \"Worked with Pay in Family Business\",\n",
        "    6: \"Worked without Pay in Family Business\"\n",
        "}\n",
        "\n",
        "fies_df[\"CW_Group\"] = fies_df[\"CW\"].map(cw_mapping)\n",
        "\n",
        "fies_df = pd.get_dummies(fies_df, columns=[\"CW_Group\"], drop_first=True, dtype=int)\n"
      ],
      "metadata": {
        "id": "UivfIq0v2pqC"
      },
      "execution_count": null,
      "outputs": []
    },
    {
      "cell_type": "code",
      "source": [
        "fies_df.info()"
      ],
      "metadata": {
        "colab": {
          "base_uri": "https://localhost:8080/"
        },
        "id": "VXXlslwaeqa_",
        "outputId": "17665eaf-e380-46c6-fe6e-fc8c46e57422"
      },
      "execution_count": null,
      "outputs": [
        {
          "output_type": "stream",
          "name": "stdout",
          "text": [
            "<class 'pandas.core.frame.DataFrame'>\n",
            "RangeIndex: 40171 entries, 0 to 40170\n",
            "Columns: 156 entries, W_REGN to CW_Group_Worked without Pay in Family Business\n",
            "dtypes: float64(28), int64(128)\n",
            "memory usage: 47.8 MB\n"
          ]
        }
      ]
    },
    {
      "cell_type": "code",
      "source": [
        "missing_values = fies_df.isnull().sum()\n",
        "print(\"Missing values per col: \", missing_values[missing_values>0])"
      ],
      "metadata": {
        "colab": {
          "base_uri": "https://localhost:8080/"
        },
        "id": "rZENCQMFS0cM",
        "outputId": "06b6f367-3fd5-4ecb-ef49-b6037a643763"
      },
      "execution_count": null,
      "outputs": [
        {
          "output_type": "stream",
          "name": "stdout",
          "text": [
            "Missing values per col:  OCCUP               7374\n",
            "KB                  7374\n",
            "CW                  7374\n",
            "AGELESS5           15361\n",
            "AGE5_17             8237\n",
            "EMPLOYED_PAY        8296\n",
            "EMPLOYED_PROF      12698\n",
            "DISTANCE           16806\n",
            "RADIO_QTY          16053\n",
            "TV_QTY              7812\n",
            "CD_QTY             14266\n",
            "STEREO_QTY         23013\n",
            "REF_QTY            17781\n",
            "WASH_QTY           20106\n",
            "AIRCON_QTY         25630\n",
            "CAR_QTY            26157\n",
            "LANDLINE_QTY       26133\n",
            "CELLPHONE_QTY       6425\n",
            "PC_QTY             23430\n",
            "OVEN_QTY           24133\n",
            "MOTOR_BANCA_QTY    27536\n",
            "MOTORCYCLE_QTY     23128\n",
            "dtype: int64\n"
          ]
        }
      ]
    },
    {
      "cell_type": "code",
      "source": [
        "missing_percent = (fies_df.isnull().sum() / len(fies_df)) * 100\n",
        "missing_percent = missing_percent[missing_percent > 0]\n",
        "print(missing_percent)\n"
      ],
      "metadata": {
        "colab": {
          "base_uri": "https://localhost:8080/"
        },
        "id": "jNrMPBDR3oKh",
        "outputId": "0a5a9170-8fd8-4cf0-c98f-9d52d6cdfce3"
      },
      "execution_count": null,
      "outputs": [
        {
          "output_type": "stream",
          "name": "stdout",
          "text": [
            "OCCUP              18.356526\n",
            "KB                 18.356526\n",
            "CW                 18.356526\n",
            "AGELESS5           38.239028\n",
            "AGE5_17            20.504842\n",
            "EMPLOYED_PAY       20.651714\n",
            "EMPLOYED_PROF      31.609868\n",
            "DISTANCE           41.836150\n",
            "RADIO_QTY          39.961664\n",
            "TV_QTY             19.446865\n",
            "CD_QTY             35.513181\n",
            "STEREO_QTY         57.287596\n",
            "REF_QTY            44.263275\n",
            "WASH_QTY           50.051032\n",
            "AIRCON_QTY         63.802245\n",
            "CAR_QTY            65.114137\n",
            "LANDLINE_QTY       65.054392\n",
            "CELLPHONE_QTY      15.994125\n",
            "PC_QTY             58.325658\n",
            "OVEN_QTY           60.075676\n",
            "MOTOR_BANCA_QTY    68.546962\n",
            "MOTORCYCLE_QTY     57.573872\n",
            "dtype: float64\n"
          ]
        }
      ]
    },
    {
      "cell_type": "markdown",
      "source": [
        "# **Initial Feature Selection**"
      ],
      "metadata": {
        "id": "Ng27BDcs9-AV"
      }
    },
    {
      "cell_type": "code",
      "source": [
        "missing_threshold = 0.50\n",
        "missing_percent = fies_df.isnull().mean()\n",
        "\n",
        "cols_to_drop = missing_percent[missing_percent > missing_threshold].index\n",
        "fies_df_cleaned = fies_df.drop(columns=cols_to_drop)\n",
        "\n",
        "print(\"Dropped columns:\", cols_to_drop.tolist())"
      ],
      "metadata": {
        "colab": {
          "base_uri": "https://localhost:8080/"
        },
        "id": "WHuxH4gk_Sme",
        "outputId": "1abda2c1-845f-44d8-929e-4c23b08a88ac"
      },
      "execution_count": null,
      "outputs": [
        {
          "output_type": "stream",
          "name": "stdout",
          "text": [
            "Dropped columns: ['STEREO_QTY', 'WASH_QTY', 'AIRCON_QTY', 'CAR_QTY', 'LANDLINE_QTY', 'PC_QTY', 'OVEN_QTY', 'MOTOR_BANCA_QTY', 'MOTORCYCLE_QTY']\n"
          ]
        }
      ]
    },
    {
      "cell_type": "code",
      "source": [
        "target_var = 'TOINC'\n",
        "strong_corr = corr_matrix[target_var][abs(corr_matrix[target_var]) > 0.5].sort_values(ascending=False)\n",
        "print(strong_corr)"
      ],
      "metadata": {
        "colab": {
          "base_uri": "https://localhost:8080/"
        },
        "id": "egS0tVcYBLae",
        "outputId": "26978141-0422-4824-f117-caa8b84e01ba"
      },
      "execution_count": null,
      "outputs": [
        {
          "output_type": "stream",
          "name": "stdout",
          "text": [
            "TOINC                   1.000000\n",
            "T_TOREC                 0.974000\n",
            "T_TOTDIS                0.925117\n",
            "T_TOTEX                 0.865693\n",
            "T_NFOOD                 0.851130\n",
            "PCINC                   0.780897\n",
            "T_FOOD                  0.710224\n",
            "T_HOUSING_WATER         0.699120\n",
            "NATDC                   0.689615\n",
            "NONAGRI_SAL             0.676099\n",
            "WAGES                   0.669248\n",
            "T_MISCELLANEOUS         0.651420\n",
            "T_COMMUNICATION         0.649544\n",
            "T_FOOD_HOME             0.645594\n",
            "T_OTHER_DISBURSEMENT    0.635291\n",
            "T_CLOTH                 0.635106\n",
            "REGDC                   0.630112\n",
            "T_RENTVAL               0.621864\n",
            "T_MEAT                  0.616576\n",
            "T_FURNISHING            0.599600\n",
            "T_IMPUTED_RENT          0.591184\n",
            "NATPC                   0.589915\n",
            "T_MINERAL               0.559504\n",
            "T_FRUIT                 0.550402\n",
            "T_OTHER_EXPENDITURE     0.548956\n",
            "T_FOOD_OUTSIDE          0.547163\n",
            "EAINC                   0.534758\n",
            "REGPC                   0.520030\n",
            "T_TRANSPORT             0.518224\n",
            "Name: TOINC, dtype: float64\n"
          ]
        }
      ]
    },
    {
      "cell_type": "code",
      "execution_count": null,
      "metadata": {
        "id": "P7Sk4MEfuDVR"
      },
      "outputs": [],
      "source": [
        "selected_df = fies_df[[\"TOINC\", \"HGC\", \"T_FOOD_HOME\", \"T_HOUSING_WATER\",\"T_TRANSPORT\",\"T_MISCELLANEOUS\", \"T_COMMUNICATION\", \"T_MEAT\"]].copy()"
      ]
    },
    {
      "cell_type": "code",
      "execution_count": null,
      "metadata": {
        "id": "MyhL-apEuDVR",
        "outputId": "5bc1bb77-e1ed-4ed1-ba6b-1cfd57767688",
        "colab": {
          "base_uri": "https://localhost:8080/",
          "height": 423
        }
      },
      "outputs": [
        {
          "output_type": "execute_result",
          "data": {
            "text/plain": [
              "        TOINC  HGC  T_FOOD_HOME  T_HOUSING_WATER  T_TRANSPORT  \\\n",
              "0      325251  3.0        91023            55128        17280   \n",
              "1      382895  2.0       176592            24492         8826   \n",
              "2      173985  7.0        53145            40560        10380   \n",
              "3      173303  8.0        60930            33714         3210   \n",
              "4      187409  5.0        66673            70812        10050   \n",
              "...       ...  ...          ...              ...          ...   \n",
              "40166  150508  5.0        74008            13380         1632   \n",
              "40167  129320  5.0       117376            20754        19020   \n",
              "40168  114824  2.0       102513            17514         4200   \n",
              "40169  154925  3.0       107599            18618        11556   \n",
              "40170  110166  2.0        93012            18708         5100   \n",
              "\n",
              "       T_MISCELLANEOUS  T_COMMUNICATION  T_MEAT  \n",
              "0                18636             1470   29374  \n",
              "1                10260             3480    5820  \n",
              "2                10224             5598   13457  \n",
              "3                10020             2502    7787  \n",
              "4                 5274             1902   11704  \n",
              "...                ...              ...     ...  \n",
              "40166             3990             3960    1148  \n",
              "40167             5814             2340    8684  \n",
              "40168             4554             1680    2600  \n",
              "40169             6930             7200    8400  \n",
              "40170             2748             1140    7938  \n",
              "\n",
              "[40171 rows x 8 columns]"
            ],
            "text/html": [
              "\n",
              "  <div id=\"df-4a007cfe-ec20-4a61-a736-91fe3221576c\" class=\"colab-df-container\">\n",
              "    <div>\n",
              "<style scoped>\n",
              "    .dataframe tbody tr th:only-of-type {\n",
              "        vertical-align: middle;\n",
              "    }\n",
              "\n",
              "    .dataframe tbody tr th {\n",
              "        vertical-align: top;\n",
              "    }\n",
              "\n",
              "    .dataframe thead th {\n",
              "        text-align: right;\n",
              "    }\n",
              "</style>\n",
              "<table border=\"1\" class=\"dataframe\">\n",
              "  <thead>\n",
              "    <tr style=\"text-align: right;\">\n",
              "      <th></th>\n",
              "      <th>TOINC</th>\n",
              "      <th>HGC</th>\n",
              "      <th>T_FOOD_HOME</th>\n",
              "      <th>T_HOUSING_WATER</th>\n",
              "      <th>T_TRANSPORT</th>\n",
              "      <th>T_MISCELLANEOUS</th>\n",
              "      <th>T_COMMUNICATION</th>\n",
              "      <th>T_MEAT</th>\n",
              "    </tr>\n",
              "  </thead>\n",
              "  <tbody>\n",
              "    <tr>\n",
              "      <th>0</th>\n",
              "      <td>325251</td>\n",
              "      <td>3.0</td>\n",
              "      <td>91023</td>\n",
              "      <td>55128</td>\n",
              "      <td>17280</td>\n",
              "      <td>18636</td>\n",
              "      <td>1470</td>\n",
              "      <td>29374</td>\n",
              "    </tr>\n",
              "    <tr>\n",
              "      <th>1</th>\n",
              "      <td>382895</td>\n",
              "      <td>2.0</td>\n",
              "      <td>176592</td>\n",
              "      <td>24492</td>\n",
              "      <td>8826</td>\n",
              "      <td>10260</td>\n",
              "      <td>3480</td>\n",
              "      <td>5820</td>\n",
              "    </tr>\n",
              "    <tr>\n",
              "      <th>2</th>\n",
              "      <td>173985</td>\n",
              "      <td>7.0</td>\n",
              "      <td>53145</td>\n",
              "      <td>40560</td>\n",
              "      <td>10380</td>\n",
              "      <td>10224</td>\n",
              "      <td>5598</td>\n",
              "      <td>13457</td>\n",
              "    </tr>\n",
              "    <tr>\n",
              "      <th>3</th>\n",
              "      <td>173303</td>\n",
              "      <td>8.0</td>\n",
              "      <td>60930</td>\n",
              "      <td>33714</td>\n",
              "      <td>3210</td>\n",
              "      <td>10020</td>\n",
              "      <td>2502</td>\n",
              "      <td>7787</td>\n",
              "    </tr>\n",
              "    <tr>\n",
              "      <th>4</th>\n",
              "      <td>187409</td>\n",
              "      <td>5.0</td>\n",
              "      <td>66673</td>\n",
              "      <td>70812</td>\n",
              "      <td>10050</td>\n",
              "      <td>5274</td>\n",
              "      <td>1902</td>\n",
              "      <td>11704</td>\n",
              "    </tr>\n",
              "    <tr>\n",
              "      <th>...</th>\n",
              "      <td>...</td>\n",
              "      <td>...</td>\n",
              "      <td>...</td>\n",
              "      <td>...</td>\n",
              "      <td>...</td>\n",
              "      <td>...</td>\n",
              "      <td>...</td>\n",
              "      <td>...</td>\n",
              "    </tr>\n",
              "    <tr>\n",
              "      <th>40166</th>\n",
              "      <td>150508</td>\n",
              "      <td>5.0</td>\n",
              "      <td>74008</td>\n",
              "      <td>13380</td>\n",
              "      <td>1632</td>\n",
              "      <td>3990</td>\n",
              "      <td>3960</td>\n",
              "      <td>1148</td>\n",
              "    </tr>\n",
              "    <tr>\n",
              "      <th>40167</th>\n",
              "      <td>129320</td>\n",
              "      <td>5.0</td>\n",
              "      <td>117376</td>\n",
              "      <td>20754</td>\n",
              "      <td>19020</td>\n",
              "      <td>5814</td>\n",
              "      <td>2340</td>\n",
              "      <td>8684</td>\n",
              "    </tr>\n",
              "    <tr>\n",
              "      <th>40168</th>\n",
              "      <td>114824</td>\n",
              "      <td>2.0</td>\n",
              "      <td>102513</td>\n",
              "      <td>17514</td>\n",
              "      <td>4200</td>\n",
              "      <td>4554</td>\n",
              "      <td>1680</td>\n",
              "      <td>2600</td>\n",
              "    </tr>\n",
              "    <tr>\n",
              "      <th>40169</th>\n",
              "      <td>154925</td>\n",
              "      <td>3.0</td>\n",
              "      <td>107599</td>\n",
              "      <td>18618</td>\n",
              "      <td>11556</td>\n",
              "      <td>6930</td>\n",
              "      <td>7200</td>\n",
              "      <td>8400</td>\n",
              "    </tr>\n",
              "    <tr>\n",
              "      <th>40170</th>\n",
              "      <td>110166</td>\n",
              "      <td>2.0</td>\n",
              "      <td>93012</td>\n",
              "      <td>18708</td>\n",
              "      <td>5100</td>\n",
              "      <td>2748</td>\n",
              "      <td>1140</td>\n",
              "      <td>7938</td>\n",
              "    </tr>\n",
              "  </tbody>\n",
              "</table>\n",
              "<p>40171 rows × 8 columns</p>\n",
              "</div>\n",
              "    <div class=\"colab-df-buttons\">\n",
              "\n",
              "  <div class=\"colab-df-container\">\n",
              "    <button class=\"colab-df-convert\" onclick=\"convertToInteractive('df-4a007cfe-ec20-4a61-a736-91fe3221576c')\"\n",
              "            title=\"Convert this dataframe to an interactive table.\"\n",
              "            style=\"display:none;\">\n",
              "\n",
              "  <svg xmlns=\"http://www.w3.org/2000/svg\" height=\"24px\" viewBox=\"0 -960 960 960\">\n",
              "    <path d=\"M120-120v-720h720v720H120Zm60-500h600v-160H180v160Zm220 220h160v-160H400v160Zm0 220h160v-160H400v160ZM180-400h160v-160H180v160Zm440 0h160v-160H620v160ZM180-180h160v-160H180v160Zm440 0h160v-160H620v160Z\"/>\n",
              "  </svg>\n",
              "    </button>\n",
              "\n",
              "  <style>\n",
              "    .colab-df-container {\n",
              "      display:flex;\n",
              "      gap: 12px;\n",
              "    }\n",
              "\n",
              "    .colab-df-convert {\n",
              "      background-color: #E8F0FE;\n",
              "      border: none;\n",
              "      border-radius: 50%;\n",
              "      cursor: pointer;\n",
              "      display: none;\n",
              "      fill: #1967D2;\n",
              "      height: 32px;\n",
              "      padding: 0 0 0 0;\n",
              "      width: 32px;\n",
              "    }\n",
              "\n",
              "    .colab-df-convert:hover {\n",
              "      background-color: #E2EBFA;\n",
              "      box-shadow: 0px 1px 2px rgba(60, 64, 67, 0.3), 0px 1px 3px 1px rgba(60, 64, 67, 0.15);\n",
              "      fill: #174EA6;\n",
              "    }\n",
              "\n",
              "    .colab-df-buttons div {\n",
              "      margin-bottom: 4px;\n",
              "    }\n",
              "\n",
              "    [theme=dark] .colab-df-convert {\n",
              "      background-color: #3B4455;\n",
              "      fill: #D2E3FC;\n",
              "    }\n",
              "\n",
              "    [theme=dark] .colab-df-convert:hover {\n",
              "      background-color: #434B5C;\n",
              "      box-shadow: 0px 1px 3px 1px rgba(0, 0, 0, 0.15);\n",
              "      filter: drop-shadow(0px 1px 2px rgba(0, 0, 0, 0.3));\n",
              "      fill: #FFFFFF;\n",
              "    }\n",
              "  </style>\n",
              "\n",
              "    <script>\n",
              "      const buttonEl =\n",
              "        document.querySelector('#df-4a007cfe-ec20-4a61-a736-91fe3221576c button.colab-df-convert');\n",
              "      buttonEl.style.display =\n",
              "        google.colab.kernel.accessAllowed ? 'block' : 'none';\n",
              "\n",
              "      async function convertToInteractive(key) {\n",
              "        const element = document.querySelector('#df-4a007cfe-ec20-4a61-a736-91fe3221576c');\n",
              "        const dataTable =\n",
              "          await google.colab.kernel.invokeFunction('convertToInteractive',\n",
              "                                                    [key], {});\n",
              "        if (!dataTable) return;\n",
              "\n",
              "        const docLinkHtml = 'Like what you see? Visit the ' +\n",
              "          '<a target=\"_blank\" href=https://colab.research.google.com/notebooks/data_table.ipynb>data table notebook</a>'\n",
              "          + ' to learn more about interactive tables.';\n",
              "        element.innerHTML = '';\n",
              "        dataTable['output_type'] = 'display_data';\n",
              "        await google.colab.output.renderOutput(dataTable, element);\n",
              "        const docLink = document.createElement('div');\n",
              "        docLink.innerHTML = docLinkHtml;\n",
              "        element.appendChild(docLink);\n",
              "      }\n",
              "    </script>\n",
              "  </div>\n",
              "\n",
              "\n",
              "<div id=\"df-2fd3e336-beec-4bf6-b70b-f339fb3e4840\">\n",
              "  <button class=\"colab-df-quickchart\" onclick=\"quickchart('df-2fd3e336-beec-4bf6-b70b-f339fb3e4840')\"\n",
              "            title=\"Suggest charts\"\n",
              "            style=\"display:none;\">\n",
              "\n",
              "<svg xmlns=\"http://www.w3.org/2000/svg\" height=\"24px\"viewBox=\"0 0 24 24\"\n",
              "     width=\"24px\">\n",
              "    <g>\n",
              "        <path d=\"M19 3H5c-1.1 0-2 .9-2 2v14c0 1.1.9 2 2 2h14c1.1 0 2-.9 2-2V5c0-1.1-.9-2-2-2zM9 17H7v-7h2v7zm4 0h-2V7h2v10zm4 0h-2v-4h2v4z\"/>\n",
              "    </g>\n",
              "</svg>\n",
              "  </button>\n",
              "\n",
              "<style>\n",
              "  .colab-df-quickchart {\n",
              "      --bg-color: #E8F0FE;\n",
              "      --fill-color: #1967D2;\n",
              "      --hover-bg-color: #E2EBFA;\n",
              "      --hover-fill-color: #174EA6;\n",
              "      --disabled-fill-color: #AAA;\n",
              "      --disabled-bg-color: #DDD;\n",
              "  }\n",
              "\n",
              "  [theme=dark] .colab-df-quickchart {\n",
              "      --bg-color: #3B4455;\n",
              "      --fill-color: #D2E3FC;\n",
              "      --hover-bg-color: #434B5C;\n",
              "      --hover-fill-color: #FFFFFF;\n",
              "      --disabled-bg-color: #3B4455;\n",
              "      --disabled-fill-color: #666;\n",
              "  }\n",
              "\n",
              "  .colab-df-quickchart {\n",
              "    background-color: var(--bg-color);\n",
              "    border: none;\n",
              "    border-radius: 50%;\n",
              "    cursor: pointer;\n",
              "    display: none;\n",
              "    fill: var(--fill-color);\n",
              "    height: 32px;\n",
              "    padding: 0;\n",
              "    width: 32px;\n",
              "  }\n",
              "\n",
              "  .colab-df-quickchart:hover {\n",
              "    background-color: var(--hover-bg-color);\n",
              "    box-shadow: 0 1px 2px rgba(60, 64, 67, 0.3), 0 1px 3px 1px rgba(60, 64, 67, 0.15);\n",
              "    fill: var(--button-hover-fill-color);\n",
              "  }\n",
              "\n",
              "  .colab-df-quickchart-complete:disabled,\n",
              "  .colab-df-quickchart-complete:disabled:hover {\n",
              "    background-color: var(--disabled-bg-color);\n",
              "    fill: var(--disabled-fill-color);\n",
              "    box-shadow: none;\n",
              "  }\n",
              "\n",
              "  .colab-df-spinner {\n",
              "    border: 2px solid var(--fill-color);\n",
              "    border-color: transparent;\n",
              "    border-bottom-color: var(--fill-color);\n",
              "    animation:\n",
              "      spin 1s steps(1) infinite;\n",
              "  }\n",
              "\n",
              "  @keyframes spin {\n",
              "    0% {\n",
              "      border-color: transparent;\n",
              "      border-bottom-color: var(--fill-color);\n",
              "      border-left-color: var(--fill-color);\n",
              "    }\n",
              "    20% {\n",
              "      border-color: transparent;\n",
              "      border-left-color: var(--fill-color);\n",
              "      border-top-color: var(--fill-color);\n",
              "    }\n",
              "    30% {\n",
              "      border-color: transparent;\n",
              "      border-left-color: var(--fill-color);\n",
              "      border-top-color: var(--fill-color);\n",
              "      border-right-color: var(--fill-color);\n",
              "    }\n",
              "    40% {\n",
              "      border-color: transparent;\n",
              "      border-right-color: var(--fill-color);\n",
              "      border-top-color: var(--fill-color);\n",
              "    }\n",
              "    60% {\n",
              "      border-color: transparent;\n",
              "      border-right-color: var(--fill-color);\n",
              "    }\n",
              "    80% {\n",
              "      border-color: transparent;\n",
              "      border-right-color: var(--fill-color);\n",
              "      border-bottom-color: var(--fill-color);\n",
              "    }\n",
              "    90% {\n",
              "      border-color: transparent;\n",
              "      border-bottom-color: var(--fill-color);\n",
              "    }\n",
              "  }\n",
              "</style>\n",
              "\n",
              "  <script>\n",
              "    async function quickchart(key) {\n",
              "      const quickchartButtonEl =\n",
              "        document.querySelector('#' + key + ' button');\n",
              "      quickchartButtonEl.disabled = true;  // To prevent multiple clicks.\n",
              "      quickchartButtonEl.classList.add('colab-df-spinner');\n",
              "      try {\n",
              "        const charts = await google.colab.kernel.invokeFunction(\n",
              "            'suggestCharts', [key], {});\n",
              "      } catch (error) {\n",
              "        console.error('Error during call to suggestCharts:', error);\n",
              "      }\n",
              "      quickchartButtonEl.classList.remove('colab-df-spinner');\n",
              "      quickchartButtonEl.classList.add('colab-df-quickchart-complete');\n",
              "    }\n",
              "    (() => {\n",
              "      let quickchartButtonEl =\n",
              "        document.querySelector('#df-2fd3e336-beec-4bf6-b70b-f339fb3e4840 button');\n",
              "      quickchartButtonEl.style.display =\n",
              "        google.colab.kernel.accessAllowed ? 'block' : 'none';\n",
              "    })();\n",
              "  </script>\n",
              "</div>\n",
              "\n",
              "  <div id=\"id_c72a5493-261a-47d6-92bd-1c7ab0b7a516\">\n",
              "    <style>\n",
              "      .colab-df-generate {\n",
              "        background-color: #E8F0FE;\n",
              "        border: none;\n",
              "        border-radius: 50%;\n",
              "        cursor: pointer;\n",
              "        display: none;\n",
              "        fill: #1967D2;\n",
              "        height: 32px;\n",
              "        padding: 0 0 0 0;\n",
              "        width: 32px;\n",
              "      }\n",
              "\n",
              "      .colab-df-generate:hover {\n",
              "        background-color: #E2EBFA;\n",
              "        box-shadow: 0px 1px 2px rgba(60, 64, 67, 0.3), 0px 1px 3px 1px rgba(60, 64, 67, 0.15);\n",
              "        fill: #174EA6;\n",
              "      }\n",
              "\n",
              "      [theme=dark] .colab-df-generate {\n",
              "        background-color: #3B4455;\n",
              "        fill: #D2E3FC;\n",
              "      }\n",
              "\n",
              "      [theme=dark] .colab-df-generate:hover {\n",
              "        background-color: #434B5C;\n",
              "        box-shadow: 0px 1px 3px 1px rgba(0, 0, 0, 0.15);\n",
              "        filter: drop-shadow(0px 1px 2px rgba(0, 0, 0, 0.3));\n",
              "        fill: #FFFFFF;\n",
              "      }\n",
              "    </style>\n",
              "    <button class=\"colab-df-generate\" onclick=\"generateWithVariable('selected_df')\"\n",
              "            title=\"Generate code using this dataframe.\"\n",
              "            style=\"display:none;\">\n",
              "\n",
              "  <svg xmlns=\"http://www.w3.org/2000/svg\" height=\"24px\"viewBox=\"0 0 24 24\"\n",
              "       width=\"24px\">\n",
              "    <path d=\"M7,19H8.4L18.45,9,17,7.55,7,17.6ZM5,21V16.75L18.45,3.32a2,2,0,0,1,2.83,0l1.4,1.43a1.91,1.91,0,0,1,.58,1.4,1.91,1.91,0,0,1-.58,1.4L9.25,21ZM18.45,9,17,7.55Zm-12,3A5.31,5.31,0,0,0,4.9,8.1,5.31,5.31,0,0,0,1,6.5,5.31,5.31,0,0,0,4.9,4.9,5.31,5.31,0,0,0,6.5,1,5.31,5.31,0,0,0,8.1,4.9,5.31,5.31,0,0,0,12,6.5,5.46,5.46,0,0,0,6.5,12Z\"/>\n",
              "  </svg>\n",
              "    </button>\n",
              "    <script>\n",
              "      (() => {\n",
              "      const buttonEl =\n",
              "        document.querySelector('#id_c72a5493-261a-47d6-92bd-1c7ab0b7a516 button.colab-df-generate');\n",
              "      buttonEl.style.display =\n",
              "        google.colab.kernel.accessAllowed ? 'block' : 'none';\n",
              "\n",
              "      buttonEl.onclick = () => {\n",
              "        google.colab.notebook.generateWithVariable('selected_df');\n",
              "      }\n",
              "      })();\n",
              "    </script>\n",
              "  </div>\n",
              "\n",
              "    </div>\n",
              "  </div>\n"
            ],
            "application/vnd.google.colaboratory.intrinsic+json": {
              "type": "dataframe",
              "variable_name": "selected_df",
              "summary": "{\n  \"name\": \"selected_df\",\n  \"rows\": 40171,\n  \"fields\": [\n    {\n      \"column\": \"TOINC\",\n      \"properties\": {\n        \"dtype\": \"number\",\n        \"std\": 253695,\n        \"min\": 5201,\n        \"max\": 8652144,\n        \"num_unique_values\": 37235,\n        \"samples\": [\n          426102,\n          119280,\n          243988\n        ],\n        \"semantic_type\": \"\",\n        \"description\": \"\"\n      }\n    },\n    {\n      \"column\": \"HGC\",\n      \"properties\": {\n        \"dtype\": \"number\",\n        \"std\": 2.4221970137896087,\n        \"min\": 0.0,\n        \"max\": 10.0,\n        \"num_unique_values\": 11,\n        \"samples\": [\n          9.0,\n          3.0,\n          6.0\n        ],\n        \"semantic_type\": \"\",\n        \"description\": \"\"\n      }\n    },\n    {\n      \"column\": \"T_FOOD_HOME\",\n      \"properties\": {\n        \"dtype\": \"number\",\n        \"std\": 36474,\n        \"min\": 0,\n        \"max\": 575057,\n        \"num_unique_values\": 33463,\n        \"samples\": [\n          81362,\n          32797,\n          71389\n        ],\n        \"semantic_type\": \"\",\n        \"description\": \"\"\n      }\n    },\n    {\n      \"column\": \"T_HOUSING_WATER\",\n      \"properties\": {\n        \"dtype\": \"number\",\n        \"std\": 46716,\n        \"min\": 720,\n        \"max\": 1062600,\n        \"num_unique_values\": 12593,\n        \"samples\": [\n          67464,\n          28872,\n          8694\n        ],\n        \"semantic_type\": \"\",\n        \"description\": \"\"\n      }\n    },\n    {\n      \"column\": \"T_TRANSPORT\",\n      \"properties\": {\n        \"dtype\": \"number\",\n        \"std\": 32395,\n        \"min\": 0,\n        \"max\": 1530804,\n        \"num_unique_values\": 7600,\n        \"samples\": [\n          23802,\n          14058,\n          26736\n        ],\n        \"semantic_type\": \"\",\n        \"description\": \"\"\n      }\n    },\n    {\n      \"column\": \"T_MISCELLANEOUS\",\n      \"properties\": {\n        \"dtype\": \"number\",\n        \"std\": 18832,\n        \"min\": 0,\n        \"max\": 507786,\n        \"num_unique_values\": 7386,\n        \"samples\": [\n          77652,\n          47196,\n          10788\n        ],\n        \"semantic_type\": \"\",\n        \"description\": \"\"\n      }\n    },\n    {\n      \"column\": \"T_COMMUNICATION\",\n      \"properties\": {\n        \"dtype\": \"number\",\n        \"std\": 8907,\n        \"min\": 0,\n        \"max\": 260760,\n        \"num_unique_values\": 3805,\n        \"samples\": [\n          13584,\n          1734,\n          162\n        ],\n        \"semantic_type\": \"\",\n        \"description\": \"\"\n      }\n    },\n    {\n      \"column\": \"T_MEAT\",\n      \"properties\": {\n        \"dtype\": \"number\",\n        \"std\": 10817,\n        \"min\": 0,\n        \"max\": 227284,\n        \"num_unique_values\": 17960,\n        \"samples\": [\n          16499,\n          43015,\n          28796\n        ],\n        \"semantic_type\": \"\",\n        \"description\": \"\"\n      }\n    }\n  ]\n}"
            }
          },
          "metadata": {},
          "execution_count": 1517
        }
      ],
      "source": [
        "selected_df"
      ]
    },
    {
      "cell_type": "code",
      "execution_count": null,
      "metadata": {
        "id": "_EmiEKyJuDVR",
        "outputId": "3294324c-4fac-43d7-9439-b460893618aa",
        "colab": {
          "base_uri": "https://localhost:8080/",
          "height": 335
        }
      },
      "outputs": [
        {
          "output_type": "execute_result",
          "data": {
            "text/plain": [
              "TOINC              0\n",
              "HGC                0\n",
              "T_FOOD_HOME        0\n",
              "T_HOUSING_WATER    0\n",
              "T_TRANSPORT        0\n",
              "T_MISCELLANEOUS    0\n",
              "T_COMMUNICATION    0\n",
              "T_MEAT             0\n",
              "dtype: int64"
            ],
            "text/html": [
              "<div>\n",
              "<style scoped>\n",
              "    .dataframe tbody tr th:only-of-type {\n",
              "        vertical-align: middle;\n",
              "    }\n",
              "\n",
              "    .dataframe tbody tr th {\n",
              "        vertical-align: top;\n",
              "    }\n",
              "\n",
              "    .dataframe thead th {\n",
              "        text-align: right;\n",
              "    }\n",
              "</style>\n",
              "<table border=\"1\" class=\"dataframe\">\n",
              "  <thead>\n",
              "    <tr style=\"text-align: right;\">\n",
              "      <th></th>\n",
              "      <th>0</th>\n",
              "    </tr>\n",
              "  </thead>\n",
              "  <tbody>\n",
              "    <tr>\n",
              "      <th>TOINC</th>\n",
              "      <td>0</td>\n",
              "    </tr>\n",
              "    <tr>\n",
              "      <th>HGC</th>\n",
              "      <td>0</td>\n",
              "    </tr>\n",
              "    <tr>\n",
              "      <th>T_FOOD_HOME</th>\n",
              "      <td>0</td>\n",
              "    </tr>\n",
              "    <tr>\n",
              "      <th>T_HOUSING_WATER</th>\n",
              "      <td>0</td>\n",
              "    </tr>\n",
              "    <tr>\n",
              "      <th>T_TRANSPORT</th>\n",
              "      <td>0</td>\n",
              "    </tr>\n",
              "    <tr>\n",
              "      <th>T_MISCELLANEOUS</th>\n",
              "      <td>0</td>\n",
              "    </tr>\n",
              "    <tr>\n",
              "      <th>T_COMMUNICATION</th>\n",
              "      <td>0</td>\n",
              "    </tr>\n",
              "    <tr>\n",
              "      <th>T_MEAT</th>\n",
              "      <td>0</td>\n",
              "    </tr>\n",
              "  </tbody>\n",
              "</table>\n",
              "</div><br><label><b>dtype:</b> int64</label>"
            ]
          },
          "metadata": {},
          "execution_count": 1518
        }
      ],
      "source": [
        "selected_df[[\"TOINC\", \"HGC\", \"T_FOOD_HOME\", \"T_HOUSING_WATER\",\"T_TRANSPORT\",\"T_MISCELLANEOUS\", \"T_COMMUNICATION\", \"T_MEAT\"]].isnull().sum()"
      ]
    },
    {
      "cell_type": "markdown",
      "source": [
        "# **Additional Preprocessing**"
      ],
      "metadata": {
        "id": "BSGrfvatHDLn"
      }
    },
    {
      "cell_type": "markdown",
      "source": [
        "### **`TOINC`** - ***Total Income***"
      ],
      "metadata": {
        "id": "tmb-8esoHGrW"
      }
    },
    {
      "cell_type": "code",
      "source": [
        "selected_df[selected_df[\"TOINC\"] < 0]"
      ],
      "metadata": {
        "colab": {
          "base_uri": "https://localhost:8080/",
          "height": 53
        },
        "id": "vtvVcloUHCsD",
        "outputId": "dad2d614-b378-4e3f-bdbb-aed1f29364ae"
      },
      "execution_count": null,
      "outputs": [
        {
          "output_type": "execute_result",
          "data": {
            "text/plain": [
              "Empty DataFrame\n",
              "Columns: [TOINC, HGC, T_FOOD_HOME, T_HOUSING_WATER, T_TRANSPORT, T_MISCELLANEOUS, T_COMMUNICATION, T_MEAT]\n",
              "Index: []"
            ],
            "text/html": [
              "\n",
              "  <div id=\"df-a7a8080f-f3a5-4305-b898-c30eb29720c1\" class=\"colab-df-container\">\n",
              "    <div>\n",
              "<style scoped>\n",
              "    .dataframe tbody tr th:only-of-type {\n",
              "        vertical-align: middle;\n",
              "    }\n",
              "\n",
              "    .dataframe tbody tr th {\n",
              "        vertical-align: top;\n",
              "    }\n",
              "\n",
              "    .dataframe thead th {\n",
              "        text-align: right;\n",
              "    }\n",
              "</style>\n",
              "<table border=\"1\" class=\"dataframe\">\n",
              "  <thead>\n",
              "    <tr style=\"text-align: right;\">\n",
              "      <th></th>\n",
              "      <th>TOINC</th>\n",
              "      <th>HGC</th>\n",
              "      <th>T_FOOD_HOME</th>\n",
              "      <th>T_HOUSING_WATER</th>\n",
              "      <th>T_TRANSPORT</th>\n",
              "      <th>T_MISCELLANEOUS</th>\n",
              "      <th>T_COMMUNICATION</th>\n",
              "      <th>T_MEAT</th>\n",
              "    </tr>\n",
              "  </thead>\n",
              "  <tbody>\n",
              "  </tbody>\n",
              "</table>\n",
              "</div>\n",
              "    <div class=\"colab-df-buttons\">\n",
              "\n",
              "  <div class=\"colab-df-container\">\n",
              "    <button class=\"colab-df-convert\" onclick=\"convertToInteractive('df-a7a8080f-f3a5-4305-b898-c30eb29720c1')\"\n",
              "            title=\"Convert this dataframe to an interactive table.\"\n",
              "            style=\"display:none;\">\n",
              "\n",
              "  <svg xmlns=\"http://www.w3.org/2000/svg\" height=\"24px\" viewBox=\"0 -960 960 960\">\n",
              "    <path d=\"M120-120v-720h720v720H120Zm60-500h600v-160H180v160Zm220 220h160v-160H400v160Zm0 220h160v-160H400v160ZM180-400h160v-160H180v160Zm440 0h160v-160H620v160ZM180-180h160v-160H180v160Zm440 0h160v-160H620v160Z\"/>\n",
              "  </svg>\n",
              "    </button>\n",
              "\n",
              "  <style>\n",
              "    .colab-df-container {\n",
              "      display:flex;\n",
              "      gap: 12px;\n",
              "    }\n",
              "\n",
              "    .colab-df-convert {\n",
              "      background-color: #E8F0FE;\n",
              "      border: none;\n",
              "      border-radius: 50%;\n",
              "      cursor: pointer;\n",
              "      display: none;\n",
              "      fill: #1967D2;\n",
              "      height: 32px;\n",
              "      padding: 0 0 0 0;\n",
              "      width: 32px;\n",
              "    }\n",
              "\n",
              "    .colab-df-convert:hover {\n",
              "      background-color: #E2EBFA;\n",
              "      box-shadow: 0px 1px 2px rgba(60, 64, 67, 0.3), 0px 1px 3px 1px rgba(60, 64, 67, 0.15);\n",
              "      fill: #174EA6;\n",
              "    }\n",
              "\n",
              "    .colab-df-buttons div {\n",
              "      margin-bottom: 4px;\n",
              "    }\n",
              "\n",
              "    [theme=dark] .colab-df-convert {\n",
              "      background-color: #3B4455;\n",
              "      fill: #D2E3FC;\n",
              "    }\n",
              "\n",
              "    [theme=dark] .colab-df-convert:hover {\n",
              "      background-color: #434B5C;\n",
              "      box-shadow: 0px 1px 3px 1px rgba(0, 0, 0, 0.15);\n",
              "      filter: drop-shadow(0px 1px 2px rgba(0, 0, 0, 0.3));\n",
              "      fill: #FFFFFF;\n",
              "    }\n",
              "  </style>\n",
              "\n",
              "    <script>\n",
              "      const buttonEl =\n",
              "        document.querySelector('#df-a7a8080f-f3a5-4305-b898-c30eb29720c1 button.colab-df-convert');\n",
              "      buttonEl.style.display =\n",
              "        google.colab.kernel.accessAllowed ? 'block' : 'none';\n",
              "\n",
              "      async function convertToInteractive(key) {\n",
              "        const element = document.querySelector('#df-a7a8080f-f3a5-4305-b898-c30eb29720c1');\n",
              "        const dataTable =\n",
              "          await google.colab.kernel.invokeFunction('convertToInteractive',\n",
              "                                                    [key], {});\n",
              "        if (!dataTable) return;\n",
              "\n",
              "        const docLinkHtml = 'Like what you see? Visit the ' +\n",
              "          '<a target=\"_blank\" href=https://colab.research.google.com/notebooks/data_table.ipynb>data table notebook</a>'\n",
              "          + ' to learn more about interactive tables.';\n",
              "        element.innerHTML = '';\n",
              "        dataTable['output_type'] = 'display_data';\n",
              "        await google.colab.output.renderOutput(dataTable, element);\n",
              "        const docLink = document.createElement('div');\n",
              "        docLink.innerHTML = docLinkHtml;\n",
              "        element.appendChild(docLink);\n",
              "      }\n",
              "    </script>\n",
              "  </div>\n",
              "\n",
              "\n",
              "    </div>\n",
              "  </div>\n"
            ],
            "application/vnd.google.colaboratory.intrinsic+json": {
              "type": "dataframe",
              "summary": "{\n  \"name\": \"selected_df[selected_df[\\\"TOINC\\\"] < 0]\",\n  \"rows\": 0,\n  \"fields\": [\n    {\n      \"column\": \"TOINC\",\n      \"properties\": {\n        \"dtype\": \"number\",\n        \"std\": null,\n        \"min\": null,\n        \"max\": null,\n        \"num_unique_values\": 0,\n        \"samples\": [],\n        \"semantic_type\": \"\",\n        \"description\": \"\"\n      }\n    },\n    {\n      \"column\": \"HGC\",\n      \"properties\": {\n        \"dtype\": \"number\",\n        \"std\": null,\n        \"min\": null,\n        \"max\": null,\n        \"num_unique_values\": 0,\n        \"samples\": [],\n        \"semantic_type\": \"\",\n        \"description\": \"\"\n      }\n    },\n    {\n      \"column\": \"T_FOOD_HOME\",\n      \"properties\": {\n        \"dtype\": \"number\",\n        \"std\": null,\n        \"min\": null,\n        \"max\": null,\n        \"num_unique_values\": 0,\n        \"samples\": [],\n        \"semantic_type\": \"\",\n        \"description\": \"\"\n      }\n    },\n    {\n      \"column\": \"T_HOUSING_WATER\",\n      \"properties\": {\n        \"dtype\": \"number\",\n        \"std\": null,\n        \"min\": null,\n        \"max\": null,\n        \"num_unique_values\": 0,\n        \"samples\": [],\n        \"semantic_type\": \"\",\n        \"description\": \"\"\n      }\n    },\n    {\n      \"column\": \"T_TRANSPORT\",\n      \"properties\": {\n        \"dtype\": \"number\",\n        \"std\": null,\n        \"min\": null,\n        \"max\": null,\n        \"num_unique_values\": 0,\n        \"samples\": [],\n        \"semantic_type\": \"\",\n        \"description\": \"\"\n      }\n    },\n    {\n      \"column\": \"T_MISCELLANEOUS\",\n      \"properties\": {\n        \"dtype\": \"number\",\n        \"std\": null,\n        \"min\": null,\n        \"max\": null,\n        \"num_unique_values\": 0,\n        \"samples\": [],\n        \"semantic_type\": \"\",\n        \"description\": \"\"\n      }\n    },\n    {\n      \"column\": \"T_COMMUNICATION\",\n      \"properties\": {\n        \"dtype\": \"number\",\n        \"std\": null,\n        \"min\": null,\n        \"max\": null,\n        \"num_unique_values\": 0,\n        \"samples\": [],\n        \"semantic_type\": \"\",\n        \"description\": \"\"\n      }\n    },\n    {\n      \"column\": \"T_MEAT\",\n      \"properties\": {\n        \"dtype\": \"number\",\n        \"std\": null,\n        \"min\": null,\n        \"max\": null,\n        \"num_unique_values\": 0,\n        \"samples\": [],\n        \"semantic_type\": \"\",\n        \"description\": \"\"\n      }\n    }\n  ]\n}"
            }
          },
          "metadata": {},
          "execution_count": 1519
        }
      ]
    },
    {
      "cell_type": "code",
      "source": [
        "plt.figure(figsize=(8, 4))\n",
        "sns.boxplot(x=selected_df[\"TOINC\"])\n",
        "plt.title(\"Boxplot of TOINC\")\n",
        "plt.show()"
      ],
      "metadata": {
        "colab": {
          "base_uri": "https://localhost:8080/",
          "height": 410
        },
        "id": "zmqBBRCzHa1H",
        "outputId": "b637b880-d515-42d5-b3a9-9107dfe4faac"
      },
      "execution_count": null,
      "outputs": [
        {
          "output_type": "display_data",
          "data": {
            "text/plain": [
              "<Figure size 800x400 with 1 Axes>"
            ],
            "image/png": "[encoded data removed]"
          },
          "metadata": {}
        }
      ]
    },
    {
      "cell_type": "markdown",
      "source": [
        "# **Exploratory Data Analysis**"
      ],
      "metadata": {
        "id": "jAyd60_MLqmI"
      }
    },
    {
      "cell_type": "markdown",
      "source": [
        "### ***Log Transformation***"
      ],
      "metadata": {
        "id": "ZbiKYAxDL_TY"
      }
    },
    {
      "cell_type": "markdown",
      "source": [
        "### **`TOINC`**"
      ],
      "metadata": {
        "id": "BaaucQEHHott"
      }
    },
    {
      "cell_type": "code",
      "source": [
        "selected_df = selected_df.copy()\n",
        "selected_df[\"TOINC\"] = np.log1p(selected_df[\"TOINC\"])"
      ],
      "metadata": {
        "id": "5HnU8IdQHy_a"
      },
      "execution_count": null,
      "outputs": []
    },
    {
      "cell_type": "code",
      "source": [
        "plt.figure(figsize=(8, 4))\n",
        "sns.boxplot(x=selected_df[\"TOINC\"])\n",
        "plt.title(\"Boxplot of TOINC\")\n",
        "plt.show()"
      ],
      "metadata": {
        "id": "LVy5rq5-H5tc",
        "outputId": "d53ee5d0-7922-4885-e912-1e332f3cfd80",
        "colab": {
          "base_uri": "https://localhost:8080/",
          "height": 410
        }
      },
      "execution_count": null,
      "outputs": [
        {
          "output_type": "display_data",
          "data": {
            "text/plain": [
              "<Figure size 800x400 with 1 Axes>"
            ],
            "image/png": "[encoded data removed]"
          },
          "metadata": {}
        }
      ]
    },
    {
      "cell_type": "markdown",
      "source": [
        "### ***Standardization***"
      ],
      "metadata": {
        "id": "j3bJ2l8tImU_"
      }
    },
    {
      "cell_type": "code",
      "source": [
        "selected_df = selected_df.copy()\n",
        "scaler = StandardScaler()\n",
        "selected_df[['TOINC']] = scaler.fit_transform(selected_df[['TOINC']])"
      ],
      "metadata": {
        "id": "3jyQkLVlImFF"
      },
      "execution_count": null,
      "outputs": []
    },
    {
      "cell_type": "code",
      "source": [
        "plt.figure(figsize=(10, 8))\n",
        "sns.heatmap(selected_df.corr(), annot=True, cmap=\"coolwarm\", fmt=\".2f\", linewidths=0.5)\n",
        "plt.title(\"Correlation Heatmap\")\n",
        "plt.show()"
      ],
      "metadata": {
        "id": "Y4mmWd7xRAVh",
        "outputId": "70ca67ef-5a40-460d-ec08-8e9035dc4555",
        "colab": {
          "base_uri": "https://localhost:8080/",
          "height": 821
        }
      },
      "execution_count": null,
      "outputs": [
        {
          "output_type": "display_data",
          "data": {
            "text/plain": [
              "<Figure size 1000x800 with 2 Axes>"
            ],
            "image/png": "[encoded data removed]"
          },
          "metadata": {}
        }
      ]
    },
    {
      "cell_type": "markdown",
      "metadata": {
        "id": "ZZI1QyRcuDVV"
      },
      "source": [
        "# **Splitting the Dataset**"
      ]
    },
    {
      "cell_type": "markdown",
      "source": [],
      "metadata": {
        "id": "Jdu5OvKQwE_6"
      }
    },
    {
      "cell_type": "code",
      "execution_count": null,
      "metadata": {
        "id": "yA7b69XquDVV"
      },
      "outputs": [],
      "source": [
        "X = selected_df.drop(columns=[\"TOINC\"])\n",
        "y = selected_df[\"TOINC\"]"
      ]
    },
    {
      "cell_type": "code",
      "execution_count": null,
      "metadata": {
        "id": "STwDgdIUuDVW"
      },
      "outputs": [],
      "source": [
        "X_train, X_test, y_train, y_test = train_test_split(X, y, random_state=11, test_size=0.2)"
      ]
    },
    {
      "cell_type": "markdown",
      "source": [
        "# **Initial Model Training**"
      ],
      "metadata": {
        "id": "euNBih-ZwMcm"
      }
    },
    {
      "cell_type": "markdown",
      "source": [
        "chuchuchuchu"
      ],
      "metadata": {
        "id": "bHwuyVm3wS1-"
      }
    },
    {
      "cell_type": "markdown",
      "source": [],
      "metadata": {
        "id": "9SI8fpB7wSsh"
      }
    }
  ],
  "metadata": {
    "kernelspec": {
      "display_name": "Python 3",
      "language": "python",
      "name": "python3"
    },
    "language_info": {
      "codemirror_mode": {
        "name": "ipython",
        "version": 3
      },
      "file_extension": ".py",
      "mimetype": "text/x-python",
      "name": "python",
      "nbconvert_exporter": "python",
      "pygments_lexer": "ipython3",
      "version": "3.11.9"
    },
    "colab": {
      "provenance": []
    }
  },
  "nbformat": 4,
  "nbformat_minor": 0
}