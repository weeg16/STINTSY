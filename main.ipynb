{
  "cells": [
    {
      "cell_type": "markdown",
      "metadata": {
        "id": "view-in-github",
        "colab_type": "text"
      },
      "source": [
        "<a href=\"https://colab.research.google.com/github/weeg16/STINTSY/blob/main/main.ipynb\" target=\"_parent\"><img src=\"https://colab.research.google.com/assets/colab-badge.svg\" alt=\"Open In Colab\"/></a>"
      ]
    },
    {
      "cell_type": "markdown",
      "metadata": {
        "id": "Rhd44EMwuDVO"
      },
      "source": [
        "# **STINTSY Machine Project**"
      ]
    },
    {
      "cell_type": "markdown",
      "source": [
        "<font face=\"Comic Sans MS\" size=7 color='#d39aed'>??????????????????<font>"
      ],
      "metadata": {
        "id": "wSWyx5iF_edA"
      }
    },
    {
      "cell_type": "markdown",
      "metadata": {
        "id": "ZzlG6D0NuDVP"
      },
      "source": [
        "## *Group # - S16*\n",
        "- **Ang, Danielle Faith**\n",
        "- **De Los Santos, Hanna Angela**\n",
        "- **Robles, Luis Miguel**\n",
        "- **Sarreal, Sophia Althea**"
      ]
    },
    {
      "cell_type": "markdown",
      "metadata": {
        "id": "OMjIXNBVuDVP"
      },
      "source": [
        "# **Import Libraries**"
      ]
    },
    {
      "cell_type": "code",
      "execution_count": 3823,
      "metadata": {
        "id": "WB_1zi_DuDVP"
      },
      "outputs": [],
      "source": [
        "import pandas as pd\n",
        "import numpy as np\n",
        "import matplotlib.pyplot as plt\n",
        "import seaborn as sns\n",
        "from sklearn.preprocessing import StandardScaler\n",
        "from sklearn.model_selection import train_test_split, learning_curve\n",
        "from sklearn.neighbors import KNeighborsRegressor\n",
        "from sklearn.metrics import mean_squared_error, mean_absolute_error\n",
        "from scipy.stats import skew\n",
        "from sklearn.feature_selection import SelectKBest, f_regression, mutual_info_regression # may remove\n",
        "from sklearn.impute import SimpleImputer\n",
        "from sklearn.linear_model import LinearRegression, Lasso, LassoCV\n",
        "from statsmodels.stats.outliers_influence import variance_inflation_factor\n",
        "from sklearn.feature_selection import RFE # may use insead of selectKbest\n",
        "from sklearn.decomposition import PCA\n",
        "\n",
        "# for neural networks\n",
        "\n",
        "import tensorflow as tf\n",
        "from tensorflow import keras\n",
        "from tensorflow.keras.models import Sequential\n",
        "from tensorflow.keras.layers import Dense, Dropout, BatchNormalization, Activation\n",
        "from tensorflow.keras.optimizers import Adam\n",
        "from tensorflow.keras.callbacks import EarlyStopping, ReduceLROnPlateau"
      ]
    },
    {
      "cell_type": "markdown",
      "metadata": {
        "id": "CHSZDr7zuDVQ"
      },
      "source": [
        "# **Dataset Description**"
      ]
    },
    {
      "cell_type": "markdown",
      "metadata": {
        "id": "mbPT9SbNuDVQ"
      },
      "source": [
        "The file contains data about expenditures and other disbursements, housing characteristics, social protection, Income and other receipts and Entrepreneural Activities."
      ]
    },
    {
      "cell_type": "markdown",
      "metadata": {
        "id": "1WymCJuruDVQ"
      },
      "source": [
        "# **Structure of the Dataset**"
      ]
    },
    {
      "cell_type": "markdown",
      "metadata": {
        "id": "ySQnXnrCuDVQ"
      },
      "source": []
    },
    {
      "cell_type": "markdown",
      "metadata": {
        "id": "Nvz-uyMiuDVQ"
      },
      "source": [
        "# **Reading the Dataset**"
      ]
    },
    {
      "cell_type": "code",
      "execution_count": 3824,
      "metadata": {
        "id": "_Nafd1NLuDVQ"
      },
      "outputs": [],
      "source": [
        "fies_df = pd.read_csv('FIES PUF 2012 Vol.1.CSV')"
      ]
    },
    {
      "cell_type": "markdown",
      "metadata": {
        "id": "Pi-eeDrzuDVQ"
      },
      "source": [
        "# **Cleaning the Dataset**"
      ]
    },
    {
      "cell_type": "code",
      "execution_count": 3825,
      "metadata": {
        "id": "CWYBJBrKuDVR",
        "colab": {
          "base_uri": "https://localhost:8080/",
          "height": 255
        },
        "outputId": "6d3cf015-2d8b-4404-b3e1-eee8306dc964"
      },
      "outputs": [
        {
          "output_type": "display_data",
          "data": {
            "text/plain": [
              "   W_REGN      W_OID  W_SHSN  W_HCN  URB   RSTR     PSU  BWEIGHT     RFACT  \\\n",
              "0      14  101001000       2     25    2  21100  415052   138.25  200.6576   \n",
              "1      14  101001000       3     43    2  21100  415052   138.25  200.6576   \n",
              "2      14  101001000       4     62    2  21100  415052   138.25  200.6576   \n",
              "3      14  101001000       5     79    2  21100  415052   138.25  200.6576   \n",
              "4      14  101001000      10    165    2  21100  415052   138.25  200.6576   \n",
              "\n",
              "   FSIZE  ...  PC_QTY  OVEN_QTY  MOTOR_BANCA_QTY  MOTORCYCLE_QTY   POP_ADJ  \\\n",
              "0    3.0  ...      01        01                                   0.946172   \n",
              "1   12.5  ...                01                               01  0.946172   \n",
              "2    2.0  ...                01                                   0.946172   \n",
              "3    4.0  ...                01                                   0.946172   \n",
              "4    5.0  ...                                                 01  0.946172   \n",
              "\n",
              "       PCINC  NATPC  NATDC  REGDC  REGPC  \n",
              "0  108417.00      9      8      8      9  \n",
              "1   30631.60      5      9      9      4  \n",
              "2   86992.50      9      6      6      8  \n",
              "3   43325.75      6      6      6      6  \n",
              "4   37481.80      6      6      6      5  \n",
              "\n",
              "[5 rows x 119 columns]"
            ],
            "text/html": [
              "\n",
              "  <div id=\"df-df9b6523-85cc-4df2-8ca4-99e9492b0afb\" class=\"colab-df-container\">\n",
              "    <div>\n",
              "<style scoped>\n",
              "    .dataframe tbody tr th:only-of-type {\n",
              "        vertical-align: middle;\n",
              "    }\n",
              "\n",
              "    .dataframe tbody tr th {\n",
              "        vertical-align: top;\n",
              "    }\n",
              "\n",
              "    .dataframe thead th {\n",
              "        text-align: right;\n",
              "    }\n",
              "</style>\n",
              "<table border=\"1\" class=\"dataframe\">\n",
              "  <thead>\n",
              "    <tr style=\"text-align: right;\">\n",
              "      <th></th>\n",
              "      <th>W_REGN</th>\n",
              "      <th>W_OID</th>\n",
              "      <th>W_SHSN</th>\n",
              "      <th>W_HCN</th>\n",
              "      <th>URB</th>\n",
              "      <th>RSTR</th>\n",
              "      <th>PSU</th>\n",
              "      <th>BWEIGHT</th>\n",
              "      <th>RFACT</th>\n",
              "      <th>FSIZE</th>\n",
              "      <th>...</th>\n",
              "      <th>PC_QTY</th>\n",
              "      <th>OVEN_QTY</th>\n",
              "      <th>MOTOR_BANCA_QTY</th>\n",
              "      <th>MOTORCYCLE_QTY</th>\n",
              "      <th>POP_ADJ</th>\n",
              "      <th>PCINC</th>\n",
              "      <th>NATPC</th>\n",
              "      <th>NATDC</th>\n",
              "      <th>REGDC</th>\n",
              "      <th>REGPC</th>\n",
              "    </tr>\n",
              "  </thead>\n",
              "  <tbody>\n",
              "    <tr>\n",
              "      <th>0</th>\n",
              "      <td>14</td>\n",
              "      <td>101001000</td>\n",
              "      <td>2</td>\n",
              "      <td>25</td>\n",
              "      <td>2</td>\n",
              "      <td>21100</td>\n",
              "      <td>415052</td>\n",
              "      <td>138.25</td>\n",
              "      <td>200.6576</td>\n",
              "      <td>3.0</td>\n",
              "      <td>...</td>\n",
              "      <td>01</td>\n",
              "      <td>01</td>\n",
              "      <td></td>\n",
              "      <td></td>\n",
              "      <td>0.946172</td>\n",
              "      <td>108417.00</td>\n",
              "      <td>9</td>\n",
              "      <td>8</td>\n",
              "      <td>8</td>\n",
              "      <td>9</td>\n",
              "    </tr>\n",
              "    <tr>\n",
              "      <th>1</th>\n",
              "      <td>14</td>\n",
              "      <td>101001000</td>\n",
              "      <td>3</td>\n",
              "      <td>43</td>\n",
              "      <td>2</td>\n",
              "      <td>21100</td>\n",
              "      <td>415052</td>\n",
              "      <td>138.25</td>\n",
              "      <td>200.6576</td>\n",
              "      <td>12.5</td>\n",
              "      <td>...</td>\n",
              "      <td></td>\n",
              "      <td>01</td>\n",
              "      <td></td>\n",
              "      <td>01</td>\n",
              "      <td>0.946172</td>\n",
              "      <td>30631.60</td>\n",
              "      <td>5</td>\n",
              "      <td>9</td>\n",
              "      <td>9</td>\n",
              "      <td>4</td>\n",
              "    </tr>\n",
              "    <tr>\n",
              "      <th>2</th>\n",
              "      <td>14</td>\n",
              "      <td>101001000</td>\n",
              "      <td>4</td>\n",
              "      <td>62</td>\n",
              "      <td>2</td>\n",
              "      <td>21100</td>\n",
              "      <td>415052</td>\n",
              "      <td>138.25</td>\n",
              "      <td>200.6576</td>\n",
              "      <td>2.0</td>\n",
              "      <td>...</td>\n",
              "      <td></td>\n",
              "      <td>01</td>\n",
              "      <td></td>\n",
              "      <td></td>\n",
              "      <td>0.946172</td>\n",
              "      <td>86992.50</td>\n",
              "      <td>9</td>\n",
              "      <td>6</td>\n",
              "      <td>6</td>\n",
              "      <td>8</td>\n",
              "    </tr>\n",
              "    <tr>\n",
              "      <th>3</th>\n",
              "      <td>14</td>\n",
              "      <td>101001000</td>\n",
              "      <td>5</td>\n",
              "      <td>79</td>\n",
              "      <td>2</td>\n",
              "      <td>21100</td>\n",
              "      <td>415052</td>\n",
              "      <td>138.25</td>\n",
              "      <td>200.6576</td>\n",
              "      <td>4.0</td>\n",
              "      <td>...</td>\n",
              "      <td></td>\n",
              "      <td>01</td>\n",
              "      <td></td>\n",
              "      <td></td>\n",
              "      <td>0.946172</td>\n",
              "      <td>43325.75</td>\n",
              "      <td>6</td>\n",
              "      <td>6</td>\n",
              "      <td>6</td>\n",
              "      <td>6</td>\n",
              "    </tr>\n",
              "    <tr>\n",
              "      <th>4</th>\n",
              "      <td>14</td>\n",
              "      <td>101001000</td>\n",
              "      <td>10</td>\n",
              "      <td>165</td>\n",
              "      <td>2</td>\n",
              "      <td>21100</td>\n",
              "      <td>415052</td>\n",
              "      <td>138.25</td>\n",
              "      <td>200.6576</td>\n",
              "      <td>5.0</td>\n",
              "      <td>...</td>\n",
              "      <td></td>\n",
              "      <td></td>\n",
              "      <td></td>\n",
              "      <td>01</td>\n",
              "      <td>0.946172</td>\n",
              "      <td>37481.80</td>\n",
              "      <td>6</td>\n",
              "      <td>6</td>\n",
              "      <td>6</td>\n",
              "      <td>5</td>\n",
              "    </tr>\n",
              "  </tbody>\n",
              "</table>\n",
              "<p>5 rows × 119 columns</p>\n",
              "</div>\n",
              "    <div class=\"colab-df-buttons\">\n",
              "\n",
              "  <div class=\"colab-df-container\">\n",
              "    <button class=\"colab-df-convert\" onclick=\"convertToInteractive('df-df9b6523-85cc-4df2-8ca4-99e9492b0afb')\"\n",
              "            title=\"Convert this dataframe to an interactive table.\"\n",
              "            style=\"display:none;\">\n",
              "\n",
              "  <svg xmlns=\"http://www.w3.org/2000/svg\" height=\"24px\" viewBox=\"0 -960 960 960\">\n",
              "    <path d=\"M120-120v-720h720v720H120Zm60-500h600v-160H180v160Zm220 220h160v-160H400v160Zm0 220h160v-160H400v160ZM180-400h160v-160H180v160Zm440 0h160v-160H620v160ZM180-180h160v-160H180v160Zm440 0h160v-160H620v160Z\"/>\n",
              "  </svg>\n",
              "    </button>\n",
              "\n",
              "  <style>\n",
              "    .colab-df-container {\n",
              "      display:flex;\n",
              "      gap: 12px;\n",
              "    }\n",
              "\n",
              "    .colab-df-convert {\n",
              "      background-color: #E8F0FE;\n",
              "      border: none;\n",
              "      border-radius: 50%;\n",
              "      cursor: pointer;\n",
              "      display: none;\n",
              "      fill: #1967D2;\n",
              "      height: 32px;\n",
              "      padding: 0 0 0 0;\n",
              "      width: 32px;\n",
              "    }\n",
              "\n",
              "    .colab-df-convert:hover {\n",
              "      background-color: #E2EBFA;\n",
              "      box-shadow: 0px 1px 2px rgba(60, 64, 67, 0.3), 0px 1px 3px 1px rgba(60, 64, 67, 0.15);\n",
              "      fill: #174EA6;\n",
              "    }\n",
              "\n",
              "    .colab-df-buttons div {\n",
              "      margin-bottom: 4px;\n",
              "    }\n",
              "\n",
              "    [theme=dark] .colab-df-convert {\n",
              "      background-color: #3B4455;\n",
              "      fill: #D2E3FC;\n",
              "    }\n",
              "\n",
              "    [theme=dark] .colab-df-convert:hover {\n",
              "      background-color: #434B5C;\n",
              "      box-shadow: 0px 1px 3px 1px rgba(0, 0, 0, 0.15);\n",
              "      filter: drop-shadow(0px 1px 2px rgba(0, 0, 0, 0.3));\n",
              "      fill: #FFFFFF;\n",
              "    }\n",
              "  </style>\n",
              "\n",
              "    <script>\n",
              "      const buttonEl =\n",
              "        document.querySelector('#df-df9b6523-85cc-4df2-8ca4-99e9492b0afb button.colab-df-convert');\n",
              "      buttonEl.style.display =\n",
              "        google.colab.kernel.accessAllowed ? 'block' : 'none';\n",
              "\n",
              "      async function convertToInteractive(key) {\n",
              "        const element = document.querySelector('#df-df9b6523-85cc-4df2-8ca4-99e9492b0afb');\n",
              "        const dataTable =\n",
              "          await google.colab.kernel.invokeFunction('convertToInteractive',\n",
              "                                                    [key], {});\n",
              "        if (!dataTable) return;\n",
              "\n",
              "        const docLinkHtml = 'Like what you see? Visit the ' +\n",
              "          '<a target=\"_blank\" href=https://colab.research.google.com/notebooks/data_table.ipynb>data table notebook</a>'\n",
              "          + ' to learn more about interactive tables.';\n",
              "        element.innerHTML = '';\n",
              "        dataTable['output_type'] = 'display_data';\n",
              "        await google.colab.output.renderOutput(dataTable, element);\n",
              "        const docLink = document.createElement('div');\n",
              "        docLink.innerHTML = docLinkHtml;\n",
              "        element.appendChild(docLink);\n",
              "      }\n",
              "    </script>\n",
              "  </div>\n",
              "\n",
              "\n",
              "<div id=\"df-56b524aa-4181-48b3-8d4b-ec4df2e39bb7\">\n",
              "  <button class=\"colab-df-quickchart\" onclick=\"quickchart('df-56b524aa-4181-48b3-8d4b-ec4df2e39bb7')\"\n",
              "            title=\"Suggest charts\"\n",
              "            style=\"display:none;\">\n",
              "\n",
              "<svg xmlns=\"http://www.w3.org/2000/svg\" height=\"24px\"viewBox=\"0 0 24 24\"\n",
              "     width=\"24px\">\n",
              "    <g>\n",
              "        <path d=\"M19 3H5c-1.1 0-2 .9-2 2v14c0 1.1.9 2 2 2h14c1.1 0 2-.9 2-2V5c0-1.1-.9-2-2-2zM9 17H7v-7h2v7zm4 0h-2V7h2v10zm4 0h-2v-4h2v4z\"/>\n",
              "    </g>\n",
              "</svg>\n",
              "  </button>\n",
              "\n",
              "<style>\n",
              "  .colab-df-quickchart {\n",
              "      --bg-color: #E8F0FE;\n",
              "      --fill-color: #1967D2;\n",
              "      --hover-bg-color: #E2EBFA;\n",
              "      --hover-fill-color: #174EA6;\n",
              "      --disabled-fill-color: #AAA;\n",
              "      --disabled-bg-color: #DDD;\n",
              "  }\n",
              "\n",
              "  [theme=dark] .colab-df-quickchart {\n",
              "      --bg-color: #3B4455;\n",
              "      --fill-color: #D2E3FC;\n",
              "      --hover-bg-color: #434B5C;\n",
              "      --hover-fill-color: #FFFFFF;\n",
              "      --disabled-bg-color: #3B4455;\n",
              "      --disabled-fill-color: #666;\n",
              "  }\n",
              "\n",
              "  .colab-df-quickchart {\n",
              "    background-color: var(--bg-color);\n",
              "    border: none;\n",
              "    border-radius: 50%;\n",
              "    cursor: pointer;\n",
              "    display: none;\n",
              "    fill: var(--fill-color);\n",
              "    height: 32px;\n",
              "    padding: 0;\n",
              "    width: 32px;\n",
              "  }\n",
              "\n",
              "  .colab-df-quickchart:hover {\n",
              "    background-color: var(--hover-bg-color);\n",
              "    box-shadow: 0 1px 2px rgba(60, 64, 67, 0.3), 0 1px 3px 1px rgba(60, 64, 67, 0.15);\n",
              "    fill: var(--button-hover-fill-color);\n",
              "  }\n",
              "\n",
              "  .colab-df-quickchart-complete:disabled,\n",
              "  .colab-df-quickchart-complete:disabled:hover {\n",
              "    background-color: var(--disabled-bg-color);\n",
              "    fill: var(--disabled-fill-color);\n",
              "    box-shadow: none;\n",
              "  }\n",
              "\n",
              "  .colab-df-spinner {\n",
              "    border: 2px solid var(--fill-color);\n",
              "    border-color: transparent;\n",
              "    border-bottom-color: var(--fill-color);\n",
              "    animation:\n",
              "      spin 1s steps(1) infinite;\n",
              "  }\n",
              "\n",
              "  @keyframes spin {\n",
              "    0% {\n",
              "      border-color: transparent;\n",
              "      border-bottom-color: var(--fill-color);\n",
              "      border-left-color: var(--fill-color);\n",
              "    }\n",
              "    20% {\n",
              "      border-color: transparent;\n",
              "      border-left-color: var(--fill-color);\n",
              "      border-top-color: var(--fill-color);\n",
              "    }\n",
              "    30% {\n",
              "      border-color: transparent;\n",
              "      border-left-color: var(--fill-color);\n",
              "      border-top-color: var(--fill-color);\n",
              "      border-right-color: var(--fill-color);\n",
              "    }\n",
              "    40% {\n",
              "      border-color: transparent;\n",
              "      border-right-color: var(--fill-color);\n",
              "      border-top-color: var(--fill-color);\n",
              "    }\n",
              "    60% {\n",
              "      border-color: transparent;\n",
              "      border-right-color: var(--fill-color);\n",
              "    }\n",
              "    80% {\n",
              "      border-color: transparent;\n",
              "      border-right-color: var(--fill-color);\n",
              "      border-bottom-color: var(--fill-color);\n",
              "    }\n",
              "    90% {\n",
              "      border-color: transparent;\n",
              "      border-bottom-color: var(--fill-color);\n",
              "    }\n",
              "  }\n",
              "</style>\n",
              "\n",
              "  <script>\n",
              "    async function quickchart(key) {\n",
              "      const quickchartButtonEl =\n",
              "        document.querySelector('#' + key + ' button');\n",
              "      quickchartButtonEl.disabled = true;  // To prevent multiple clicks.\n",
              "      quickchartButtonEl.classList.add('colab-df-spinner');\n",
              "      try {\n",
              "        const charts = await google.colab.kernel.invokeFunction(\n",
              "            'suggestCharts', [key], {});\n",
              "      } catch (error) {\n",
              "        console.error('Error during call to suggestCharts:', error);\n",
              "      }\n",
              "      quickchartButtonEl.classList.remove('colab-df-spinner');\n",
              "      quickchartButtonEl.classList.add('colab-df-quickchart-complete');\n",
              "    }\n",
              "    (() => {\n",
              "      let quickchartButtonEl =\n",
              "        document.querySelector('#df-56b524aa-4181-48b3-8d4b-ec4df2e39bb7 button');\n",
              "      quickchartButtonEl.style.display =\n",
              "        google.colab.kernel.accessAllowed ? 'block' : 'none';\n",
              "    })();\n",
              "  </script>\n",
              "</div>\n",
              "\n",
              "    </div>\n",
              "  </div>\n"
            ],
            "application/vnd.google.colaboratory.intrinsic+json": {
              "type": "dataframe"
            }
          },
          "metadata": {}
        }
      ],
      "source": [
        "display(fies_df.head())"
      ]
    },
    {
      "cell_type": "code",
      "source": [
        "fies_df.info()"
      ],
      "metadata": {
        "id": "MOvTKR7kbVO6",
        "colab": {
          "base_uri": "https://localhost:8080/"
        },
        "outputId": "a5db2543-7840-4656-c801-409ea0f5e734"
      },
      "execution_count": 3826,
      "outputs": [
        {
          "output_type": "stream",
          "name": "stdout",
          "text": [
            "<class 'pandas.core.frame.DataFrame'>\n",
            "RangeIndex: 40171 entries, 0 to 40170\n",
            "Columns: 119 entries, W_REGN to REGPC\n",
            "dtypes: float64(5), int64(92), object(22)\n",
            "memory usage: 36.5+ MB\n"
          ]
        }
      ]
    },
    {
      "cell_type": "markdown",
      "source": [
        "### ***Drop ID Columns***"
      ],
      "metadata": {
        "id": "eTV8a_rUdyhX"
      }
    },
    {
      "cell_type": "code",
      "source": [
        "id_cols = [\"W_OID\", \"W_SHSN\", \"W_HCN\"]\n",
        "fies_df.drop(columns=id_cols, inplace=True, errors='ignore')"
      ],
      "metadata": {
        "id": "AN78Pt72dx8C"
      },
      "execution_count": 3827,
      "outputs": []
    },
    {
      "cell_type": "markdown",
      "source": [
        "### ***Categorical Variables***"
      ],
      "metadata": {
        "id": "APtuKiHo5ivA"
      }
    },
    {
      "cell_type": "code",
      "source": [
        "object_columns = fies_df.select_dtypes(include=['object']).columns\n",
        "print(\"Categorical Variables (Object Dtypes):\")\n",
        "print(object_columns)"
      ],
      "metadata": {
        "id": "fnvgAxKRcNhe",
        "colab": {
          "base_uri": "https://localhost:8080/"
        },
        "outputId": "af5875cd-533f-4edc-f97d-2a33d7caf115"
      },
      "execution_count": 3828,
      "outputs": [
        {
          "output_type": "stream",
          "name": "stdout",
          "text": [
            "Categorical Variables (Object Dtypes):\n",
            "Index(['OCCUP', 'KB', 'CW', 'AGELESS5', 'AGE5_17', 'EMPLOYED_PAY',\n",
            "       'EMPLOYED_PROF', 'DISTANCE', 'RADIO_QTY', 'TV_QTY', 'CD_QTY',\n",
            "       'STEREO_QTY', 'REF_QTY', 'WASH_QTY', 'AIRCON_QTY', 'CAR_QTY',\n",
            "       'LANDLINE_QTY', 'CELLPHONE_QTY', 'PC_QTY', 'OVEN_QTY',\n",
            "       'MOTOR_BANCA_QTY', 'MOTORCYCLE_QTY'],\n",
            "      dtype='object')\n"
          ]
        }
      ]
    },
    {
      "cell_type": "markdown",
      "source": [
        "By studying the dataset, we see that `AGELESS5`, `AGE5_17`, `EMPLOYED_PAY`,\n",
        "       `EMPLOYED_PROF`, `DISTANCE`, `RADIO_QTY`, `TV_QTY`, `CD_QTY`,\n",
        "       `STEREO_QTY`, `REF_QTY`, `WASH_QTY`, `AIRCON_QTY`, `CAR_QTY`,\n",
        "       `LANDLINE_QTY`, `CELLPHONE_QTY`, `PC_QTY`, `OVEN_QTY`,\n",
        "       `MOTOR_BANCA_QTY`, `MOTORCYCLE_QTY` all represent numeric quantities."
      ],
      "metadata": {
        "id": "Azt7kH825zeS"
      }
    },
    {
      "cell_type": "code",
      "source": [
        "cols = ['AGELESS5', 'AGE5_17', 'EMPLOYED_PAY',\n",
        "       'EMPLOYED_PROF', 'DISTANCE', 'RADIO_QTY', 'TV_QTY', 'CD_QTY',\n",
        "       'STEREO_QTY', 'REF_QTY', 'WASH_QTY', 'AIRCON_QTY', 'CAR_QTY',\n",
        "       'LANDLINE_QTY', 'CELLPHONE_QTY', 'PC_QTY', 'OVEN_QTY',\n",
        "       'MOTOR_BANCA_QTY', 'MOTORCYCLE_QTY']\n",
        "\n",
        "fies_df[cols] = fies_df[cols].apply(pd.to_numeric, errors='coerce')\n"
      ],
      "metadata": {
        "id": "UUdpvd-beejG"
      },
      "execution_count": 3829,
      "outputs": []
    },
    {
      "cell_type": "markdown",
      "source": [
        "### ***Mapping/One-Hot Encoding for Categorical Variables***"
      ],
      "metadata": {
        "id": "G0ZexYiP6tAg"
      }
    },
    {
      "cell_type": "markdown",
      "metadata": {
        "id": "f81XsyNYuDVR"
      },
      "source": [
        "### **`HGC`** - ***(Household Head) Highest Grade Completed***"
      ]
    },
    {
      "cell_type": "markdown",
      "metadata": {
        "id": "rdGmG1M5uDVR"
      },
      "source": [
        "The **HGC** variable represents the highest level of education completed by the household head.\n",
        "\n",
        "### **Education Levels and Codes:**\n",
        "\n",
        "- **No Grade Completed:** `0`  \n",
        "- **Preschool:** `10`  \n",
        "- **Elementary Undergraduate:** `210-260`  \n",
        "- **Elementary Graduate:** `280`  \n",
        "- **High School Undergraduate:** `310-330`  \n",
        "- **High School Graduate:** `350`  \n",
        "- **Post-Secondary Undergraduate:** `410-420`  \n",
        "- **Post-Secondary Graduate (Technical/Vocational):** `501-589`  \n",
        "- **College Undergraduate:** `810-840`  \n",
        "- **College Graduate:** `601-689`  \n",
        "- **Post-Baccalaureate:** `900`  "
      ]
    },
    {
      "cell_type": "code",
      "execution_count": 3830,
      "metadata": {
        "id": "rxTyste8uDVR",
        "colab": {
          "base_uri": "https://localhost:8080/"
        },
        "outputId": "74633e9e-c186-467e-ad0c-fda3c8517952"
      },
      "outputs": [
        {
          "output_type": "execute_result",
          "data": {
            "text/plain": [
              "array([280, 250, 552, 830, 350, 634, 554, 320, 514, 240, 581, 810, 614,\n",
              "       900, 652, 330,   0, 840, 230, 584, 534, 562, 220, 310, 210, 622,\n",
              "       410, 686, 572, 662, 672, 820, 260, 681, 420, 631, 684, 642, 648,\n",
              "       601, 646, 676, 586, 589, 658, 689, 501, 621, 548, 632, 654, 638,\n",
              "       664,  10, 522, 685, 521, 644, 542, 531, 558, 532])"
            ]
          },
          "metadata": {},
          "execution_count": 3830
        }
      ],
      "source": [
        "fies_df[\"HGC\"].unique()"
      ]
    },
    {
      "cell_type": "markdown",
      "metadata": {
        "id": "bblE9JmUuDVS"
      },
      "source": [
        "As seen by using **`.unique()`**, these codes are not continuous single values, but instead appear in ranges for certain education levels.\n",
        "\n",
        "With this, we mapped these numerical codes into standardized categories based on the dictionary.\n",
        "\n",
        "<small>***Note that the dictionary lists College Undergraduate as ranging from **810-840** and College Graduate as **601-689**, so their values in the mapping may seem reversed.* </small>"
      ]
    },
    {
      "cell_type": "code",
      "execution_count": 3831,
      "metadata": {
        "id": "E-MeY1OHuDVS",
        "colab": {
          "base_uri": "https://localhost:8080/"
        },
        "outputId": "117259b0-cab9-4244-b953-913b3c9e031a"
      },
      "outputs": [
        {
          "output_type": "stream",
          "name": "stdout",
          "text": [
            "4210\n",
            "3237\n"
          ]
        }
      ],
      "source": [
        "print(fies_df[\"HGC\"].between(601, 689).sum())  # Expected graduates\n",
        "print(fies_df[\"HGC\"].between(810, 840).sum())  # Expected undergraduates\n"
      ]
    },
    {
      "cell_type": "markdown",
      "source": [
        "An ordinal mapping was used to represent educational attainment levels. This ensures that there is a meaningful order."
      ],
      "metadata": {
        "id": "YpdEJSxp7SPV"
      }
    },
    {
      "cell_type": "code",
      "execution_count": 3832,
      "metadata": {
        "id": "eUIvZ29VuDVS",
        "colab": {
          "base_uri": "https://localhost:8080/",
          "height": 458
        },
        "outputId": "6a0de7ef-09a5-43c9-d3bc-ede3a7a7a34f"
      },
      "outputs": [
        {
          "output_type": "execute_result",
          "data": {
            "text/plain": [
              "0        3.0\n",
              "1        2.0\n",
              "2        7.0\n",
              "3        8.0\n",
              "4        5.0\n",
              "        ... \n",
              "40166    5.0\n",
              "40167    5.0\n",
              "40168    2.0\n",
              "40169    3.0\n",
              "40170    2.0\n",
              "Name: HGC, Length: 40171, dtype: float64"
            ],
            "text/html": [
              "<div>\n",
              "<style scoped>\n",
              "    .dataframe tbody tr th:only-of-type {\n",
              "        vertical-align: middle;\n",
              "    }\n",
              "\n",
              "    .dataframe tbody tr th {\n",
              "        vertical-align: top;\n",
              "    }\n",
              "\n",
              "    .dataframe thead th {\n",
              "        text-align: right;\n",
              "    }\n",
              "</style>\n",
              "<table border=\"1\" class=\"dataframe\">\n",
              "  <thead>\n",
              "    <tr style=\"text-align: right;\">\n",
              "      <th></th>\n",
              "      <th>HGC</th>\n",
              "    </tr>\n",
              "  </thead>\n",
              "  <tbody>\n",
              "    <tr>\n",
              "      <th>0</th>\n",
              "      <td>3.0</td>\n",
              "    </tr>\n",
              "    <tr>\n",
              "      <th>1</th>\n",
              "      <td>2.0</td>\n",
              "    </tr>\n",
              "    <tr>\n",
              "      <th>2</th>\n",
              "      <td>7.0</td>\n",
              "    </tr>\n",
              "    <tr>\n",
              "      <th>3</th>\n",
              "      <td>8.0</td>\n",
              "    </tr>\n",
              "    <tr>\n",
              "      <th>4</th>\n",
              "      <td>5.0</td>\n",
              "    </tr>\n",
              "    <tr>\n",
              "      <th>...</th>\n",
              "      <td>...</td>\n",
              "    </tr>\n",
              "    <tr>\n",
              "      <th>40166</th>\n",
              "      <td>5.0</td>\n",
              "    </tr>\n",
              "    <tr>\n",
              "      <th>40167</th>\n",
              "      <td>5.0</td>\n",
              "    </tr>\n",
              "    <tr>\n",
              "      <th>40168</th>\n",
              "      <td>2.0</td>\n",
              "    </tr>\n",
              "    <tr>\n",
              "      <th>40169</th>\n",
              "      <td>3.0</td>\n",
              "    </tr>\n",
              "    <tr>\n",
              "      <th>40170</th>\n",
              "      <td>2.0</td>\n",
              "    </tr>\n",
              "  </tbody>\n",
              "</table>\n",
              "<p>40171 rows × 1 columns</p>\n",
              "</div><br><label><b>dtype:</b> float64</label>"
            ]
          },
          "metadata": {},
          "execution_count": 3832
        }
      ],
      "source": [
        "conditions = [\n",
        "    (fies_df[\"HGC\"] == 0),\n",
        "    (fies_df[\"HGC\"] == 10),\n",
        "    (fies_df[\"HGC\"].between(210, 260)),\n",
        "    (fies_df[\"HGC\"] == 280),\n",
        "    (fies_df[\"HGC\"].between(310, 330)),\n",
        "    (fies_df[\"HGC\"] == 350),\n",
        "    (fies_df[\"HGC\"].between(410, 420)),\n",
        "    (fies_df[\"HGC\"].between(501, 589)),\n",
        "    (fies_df[\"HGC\"].between(810, 840)),\n",
        "    (fies_df[\"HGC\"].between(601, 689)),\n",
        "    (fies_df[\"HGC\"] >= 900)\n",
        "]\n",
        "\n",
        "values = [0, 1, 2, 3, 4, 5, 6, 7, 8, 9, 10]\n",
        "\n",
        "fies_df[\"HGC\"] = np.select(conditions, values, default=np.nan)\n",
        "\n",
        "fies_df[\"HGC\"]"
      ]
    },
    {
      "cell_type": "markdown",
      "source": [
        "### **`OCCUP`** - ***Primary occupation of the head of the family during the past six months***"
      ],
      "metadata": {
        "id": "ro30PgxApIUK"
      }
    },
    {
      "cell_type": "markdown",
      "source": [
        "The **OCCUP** variable categorizes the primary occupation of the household head based on standardized occupation codes. These codes are grouped into broader occupational categories.\n",
        "\n",
        "### **Occupation Groups and Codes:**\n",
        "- **Officials, Executives, and Managers:** `1110-1490`  \n",
        "- **Professionals:** `2111-2460`  \n",
        "- **Technicians and Associate Professionals:** `3111-3480`  \n",
        "- **Clerks:** `4111-4223`  \n",
        "- **Service Workers and Sales Workers:** `5111-5230`  \n",
        "- **Farmers, Forestry Workers, and Fishermen:** `6111-6590`  \n",
        "- **Trades and Related Workers:** `7111-7442`  \n",
        "- **Plant and Machine Operators and Assemblers:** `8111-8340`  \n",
        "- **Laborers and Unskilled Workers:** `9111-9333`  \n",
        "- **Special Occupations:** `111-113, 121-129, 930`  "
      ],
      "metadata": {
        "id": "3lXMk95BEUSp"
      }
    },
    {
      "cell_type": "code",
      "source": [
        "fies_df['OCCUP'].unique()"
      ],
      "metadata": {
        "id": "tZSfq7OEpH1f",
        "colab": {
          "base_uri": "https://localhost:8080/"
        },
        "outputId": "5506b4d2-0304-4a66-e87b-137f3c370c0b"
      },
      "execution_count": 3833,
      "outputs": [
        {
          "output_type": "execute_result",
          "data": {
            "text/plain": [
              "array(['    ', '1314', '6111', '5220', '6212', '6114', '5132', '7122',\n",
              "       '9211', '1316', '4121', '1130', '8322', '2331', '3118', '9132',\n",
              "       '7241', '1312', '7231', '1317', '7123', '4115', '4142', '1120',\n",
              "       '8324', '8263', '8321', '9131', '9112', '3152', '9133', '6420',\n",
              "       '1430', '2341', '4215', '6119', '7433', '9313', '1412', '5162',\n",
              "       '2449', '3450', '6219', '8141', '6112', '6122', '9151', '5169',\n",
              "       '6116', '6124', '6121', '7243', '7422', '5123', '2310', '1490',\n",
              "       '3434', '4190', '2412', '6310', '7414', '8275', '3415', '3151',\n",
              "       '9333', '7212', '9322', '9311', '4113', '2152', '3431', '1319',\n",
              "       '7141', '1224', '1231', '3131', '4211', '7242', '9120', '6330',\n",
              "       '5151', '1313', '6340', '7111', '9212', '8222', '5139', '9213',\n",
              "       '2154', '8231', '9312', '4131', '2224', '9152', '8113', '0129',\n",
              "       '6129', '5131', '6115', '7415', '0121', '8323', '3232', '5161',\n",
              "       '3416', '7432', '9161', '3132', '1315', '2221', '9111', '4133',\n",
              "       '3114', '6123', '7411', '6320', '3112', '3480', '3449', '2446',\n",
              "       '4141', '9141', '8240', '6413', '3460', '8274', '5122', '3439',\n",
              "       '7246', '2351', '8340', '3242', '3475', '4213', '6131', '5112',\n",
              "       '9113', '3472', '7142', '1318', '5230', '3212', '1222', '1110',\n",
              "       '1311', '2227', '2151', '7332', '9331', '9162', '7412', '3300',\n",
              "       '8331', '9321', '4214', '0113', '2222', '7244', '7424', '6211',\n",
              "       '2460', '6113', '6430', '4222', '7221', '7435', '7213', '1411',\n",
              "       '7136', '0112', '7322', '7442', '8273', '0930', '1227', '8266',\n",
              "       '6221', '3417', '1225', '7233', '7235', '6411', '0122', '7347',\n",
              "       '3133', '3141', '8267', '8334', '3413', '7331', '5133', '4223',\n",
              "       '5153', '3113', '3143', '1441', '8171', '5113', '3432', '7423',\n",
              "       '3222', '2131', '3121', '2399', '1236', '7133', '3231', '4132',\n",
              "       '1210', '3229', '4122', '2419', '2132', '2231', '2226', '2153',\n",
              "       '3122', '2139', '2411', '2232', '6117', '1239', '7234', '3117',\n",
              "       '8111', '6139', '2423', '2213', '2214', '1221', '2453', '1233',\n",
              "       '8261', '7425', '3219', '7341', '1237', '3414', '2332', '6222',\n",
              "       '8290', '7436', '3473', '7222', '8268', '3412', '7434', '8332',\n",
              "       '4212', '7129', '3116', '2157', '8124', '7214', '7313', '7224',\n",
              "       '8232', '2228', '1226', '0111', '1449', '5152', '3441', '3241',\n",
              "       '0119', '2333', '2421', '4112', '1429', '3421', '1442', '7421',\n",
              "       '8223', '8311', '3115', '1235', '8262', '3429', '1232', '8333',\n",
              "       '5121', '8131', '3471', '2158', '8264', '3423', '8254', '8211',\n",
              "       '3139', '8163', '7131', '6490', '7215', '9332', '7311', '2141',\n",
              "       '4111', '8253', '8276', '7321', '8265', '2113', '8122', '2451',\n",
              "       '1223', '5142', '3142', '7245', '7344', '6229', '3433', '6414',\n",
              "       '7346', '3442', '8112', '2454', '2320', '5159', '2225', '7416',\n",
              "       '7323', '3119', '8212', '8271', '7324', '8139', '3474', '1421',\n",
              "       '6290', '2353', '6419', '8161', '0123', '2142', '7223', '8159',\n",
              "       '2391', '3411', '3144', '4221', '3444', '2452', '2430', '5163',\n",
              "       '3422', '2352', '2122', '2422', '3221', '9142', '2155', '8221',\n",
              "       '2229', '7113', '4143', '1229', '2159', '7343', '7211', '8162',\n",
              "       '8272', '2459', '7413', '7312', '7132', '5210', '7345', '8229',\n",
              "       '8255', '2455', '8259', '2156', '8251', '8252', '7134', '8143',\n",
              "       '3224', '5111', '1144', '2443'], dtype=object)"
            ]
          },
          "metadata": {},
          "execution_count": 3833
        }
      ]
    },
    {
      "cell_type": "code",
      "source": [
        "fies_df['OCCUP'] = fies_df['OCCUP'].apply(pd.to_numeric, errors='coerce')"
      ],
      "metadata": {
        "id": "jc0-yZityIf2"
      },
      "execution_count": 3834,
      "outputs": []
    },
    {
      "cell_type": "markdown",
      "source": [
        "Like the previous variable, we will map the ranges to represent the categories covered by `OCCUP`. We will do this before applying one-hot encoding because applying one-hot encoding directly to the raw occupation codes would treat each unique value as a separate category, resulting in an unnecessarily large number of features. This would also fail to capture the intended grouping of occupations as defined in the dataset."
      ],
      "metadata": {
        "id": "Ax0dY-c-8niK"
      }
    },
    {
      "cell_type": "code",
      "source": [
        "conditions = [\n",
        "    fies_df[\"OCCUP\"].between(1110, 1490),\n",
        "    fies_df[\"OCCUP\"].between(2111, 2460),\n",
        "    fies_df[\"OCCUP\"].between(3111, 3480),\n",
        "    fies_df[\"OCCUP\"].between(4111, 4223),\n",
        "    fies_df[\"OCCUP\"].between(5111, 5230),\n",
        "    fies_df[\"OCCUP\"].between(6111, 6590),\n",
        "    fies_df[\"OCCUP\"].between(7111, 7442),\n",
        "    fies_df[\"OCCUP\"].between(8111, 8340),\n",
        "    fies_df[\"OCCUP\"].between(9111, 9333),\n",
        "    fies_df[\"OCCUP\"].isin([111, 112, 113, 121, 122, 123, 124, 125, 126, 127, 128, 129, 930])\n",
        "]\n",
        "\n",
        "values = [\n",
        "    \"Officials & Executives\",\n",
        "    \"Professionals\",\n",
        "    \"Technicians\",\n",
        "    \"Clerks\",\n",
        "    \"Service Workers\",\n",
        "    \"Farmers & Fishers\",\n",
        "    \"Trades Workers\",\n",
        "    \"Machine Operators\",\n",
        "    \"Laborers\",\n",
        "    \"Special Occupations\"\n",
        "]\n",
        "\n",
        "fies_df[\"OCCUP_GROUP\"] = np.select(conditions, values, default=\"Unknown\")\n",
        "\n",
        "fies_df[\"OCCUP_GROUP\"].unique()"
      ],
      "metadata": {
        "id": "KoYubFu8xQ-H",
        "colab": {
          "base_uri": "https://localhost:8080/"
        },
        "outputId": "45266644-998c-4d7f-859c-2d78de71a38a"
      },
      "execution_count": 3835,
      "outputs": [
        {
          "output_type": "execute_result",
          "data": {
            "text/plain": [
              "array(['Unknown', 'Officials & Executives', 'Farmers & Fishers',\n",
              "       'Service Workers', 'Trades Workers', 'Laborers', 'Clerks',\n",
              "       'Machine Operators', 'Professionals', 'Technicians',\n",
              "       'Special Occupations'], dtype=object)"
            ]
          },
          "metadata": {},
          "execution_count": 3835
        }
      ]
    },
    {
      "cell_type": "markdown",
      "source": [
        "After, one-hot encoding is applied."
      ],
      "metadata": {
        "id": "STIsDFKVDZxk"
      }
    },
    {
      "cell_type": "code",
      "source": [
        "fies_df = pd.get_dummies(fies_df, columns=[\"OCCUP_GROUP\"], drop_first=True, dtype=int)\n"
      ],
      "metadata": {
        "id": "BTISB78xytzV"
      },
      "execution_count": 3836,
      "outputs": []
    },
    {
      "cell_type": "code",
      "source": [
        "fies_df.drop(columns=[\"OCCUP\"], inplace=True, errors='ignore')"
      ],
      "metadata": {
        "id": "2f2OEv-RFQiv"
      },
      "execution_count": 3837,
      "outputs": []
    },
    {
      "cell_type": "markdown",
      "source": [
        "### **`KB`** - ***Household Head Kind of Business/Industry***"
      ],
      "metadata": {
        "id": "JtCNZcjhz2i6"
      }
    },
    {
      "cell_type": "markdown",
      "source": [
        "The **KB** variable categorizes the primary business or industry in which the household head is engaged. These industries are grouped based on standardized industry codes.\n",
        "\n",
        "### **Business/Industry Categories and Codes:**\n",
        "- **Agriculture, Forestry, and Fishing:** `111-329`  \n",
        "- **Mining and Quarrying:** `510-990`  \n",
        "- **Manufacturing:** `1011-3320`  \n",
        "- **Electricity, Gas, Steam, and Airconditioning Supply:** `3510-3530`  \n",
        "- **Water Supply, Sewerage, Waste Management, and Remediation Activities:** `3600-3900`  \n",
        "- **Construction:** `4100-4390`  \n",
        "- **Wholesale and Retail Trade; Repair of Motor Vehicles and Motorcycles:** `4510-4799`  \n",
        "- **Transportation and Storage:** `4911-5320`  \n",
        "- **Accommodation and Food Service Activities:** `5510-5630`  \n",
        "- **Information and Communication:** `5811-6399`  \n",
        "- **Financial and Insurance Activities:** `6411-6630`  \n",
        "- **Real Estate Activities:** `6811-6820`  \n",
        "- **Professional, Scientific, and Technical Activities:** `6910-7500`  \n",
        "- **Administrative and Support Service Activities:** `7710-8299`  \n",
        "- **Public Administration and Defense; Compulsory Social Security:** `8411-8430`  \n",
        "- **Education:** `8511-8560`  \n",
        "- **Human Health and Social Work Services:** `8611-8890`  \n",
        "- **Arts, Entertainment, and Recreation:** `9000-9329`  \n",
        "- **Other Service Activities:** `9411-9690`  \n",
        "- **Activities of Households as Employers of Domestic Personnel:** `9700`  \n",
        "- **Activities of Extra-Territorial Organizations and Bodies:** `9901-9909`  "
      ],
      "metadata": {
        "id": "pEpSW9m2H2_j"
      }
    },
    {
      "cell_type": "code",
      "source": [
        "fies_df['KB'] = fies_df['KB'].apply(pd.to_numeric, errors='coerce')"
      ],
      "metadata": {
        "id": "UY0sxeDh06gY"
      },
      "execution_count": 3838,
      "outputs": []
    },
    {
      "cell_type": "markdown",
      "source": [
        "Using the same rationale as the previous variable, mapping the ranges first before one-hot encoding ensures that the business categories are grouped appropriately."
      ],
      "metadata": {
        "id": "4f6CjWCqIAXJ"
      }
    },
    {
      "cell_type": "code",
      "source": [
        "conditions = [\n",
        "    fies_df[\"KB\"].between(111, 329),\n",
        "    fies_df[\"KB\"].between(510, 990),\n",
        "    fies_df[\"KB\"].between(1011, 3320),\n",
        "    fies_df[\"KB\"].between(3510, 3530),\n",
        "    fies_df[\"KB\"].between(3600, 3900),\n",
        "    fies_df[\"KB\"].between(4100, 4390),\n",
        "    fies_df[\"KB\"].between(4510, 4799),\n",
        "    fies_df[\"KB\"].between(4911, 5320),\n",
        "    fies_df[\"KB\"].between(5510, 5630),\n",
        "    fies_df[\"KB\"].between(5811, 6399),\n",
        "    fies_df[\"KB\"].between(6411, 6630),\n",
        "    fies_df[\"KB\"].between(6811, 6820),\n",
        "    fies_df[\"KB\"].between(6910, 7500),\n",
        "    fies_df[\"KB\"].between(7710, 8299),\n",
        "    fies_df[\"KB\"].between(8411, 8430),\n",
        "    fies_df[\"KB\"].between(8511, 8560),\n",
        "    fies_df[\"KB\"].between(8611, 8890),\n",
        "    fies_df[\"KB\"].between(9000, 9329),\n",
        "    fies_df[\"KB\"].between(9411, 9690),\n",
        "    fies_df[\"KB\"] == 9700,\n",
        "    fies_df[\"KB\"].between(9901, 9909)\n",
        "]\n",
        "\n",
        "values = [\n",
        "    \"Agriculture\", \"Mining\", \"Manufacturing\", \"Electricity\", \"Water Supply\", \"Construction\",\n",
        "    \"Retail\", \"Transport\", \"Food Service\", \"IT\", \"Finance\", \"Real Estate\", \"Professional\",\n",
        "    \"Admin\", \"Public Admin\", \"Education\", \"Health\", \"Arts\", \"Other Services\",\n",
        "    \"Household Employers\", \"Extra-territorial\"\n",
        "]\n",
        "\n",
        "fies_df[\"KB_Group\"] = np.select(conditions, values, default=\"Unknown\")"
      ],
      "metadata": {
        "id": "bVLGy9GT0Z9g"
      },
      "execution_count": 3839,
      "outputs": []
    },
    {
      "cell_type": "markdown",
      "source": [
        "After nominal mapping, we can apply one-hot encoding."
      ],
      "metadata": {
        "id": "NhYd3qlpIXKV"
      }
    },
    {
      "cell_type": "code",
      "source": [
        "fies_df = pd.get_dummies(fies_df, columns=[\"KB_Group\"], drop_first=True, dtype=int)"
      ],
      "metadata": {
        "id": "Lmq3tV_F1XmD"
      },
      "execution_count": 3840,
      "outputs": []
    },
    {
      "cell_type": "code",
      "source": [
        "fies_df.drop(columns=[\"KB\"], inplace=True, errors='ignore')"
      ],
      "metadata": {
        "id": "WfH8NFwPFbz_"
      },
      "execution_count": 3841,
      "outputs": []
    },
    {
      "cell_type": "markdown",
      "source": [
        "### **`CW`** - ***Household Head Class of Worker***"
      ],
      "metadata": {
        "id": "vKD3MIPX2X4F"
      }
    },
    {
      "cell_type": "markdown",
      "source": [
        "The **CW** variable identifies the **class of worker** for the household head during the second visit. It categorizes the employment type based on the nature of the employer or work arrangement.  \n",
        "\n",
        "### **Categories and Codes:**  \n",
        "- **Worked for private household**: `0`  \n",
        "- **Worked for private establishment**: `1`  \n",
        "- **Worked for government/government corporation**: `2`  \n",
        "- **Self-employed without any employee**: `3`  \n",
        "- **Employer in own family-operated farm or business**: `4`  \n",
        "- **Worked with pay in own family-operated farm or business**: `5`  \n",
        "- **Worked without pay in own family-operated farm or business**: `6`  "
      ],
      "metadata": {
        "id": "GQ9wQ06SKzu6"
      }
    },
    {
      "cell_type": "code",
      "source": [
        "fies_df['CW'] = fies_df['CW'].apply(pd.to_numeric, errors='coerce')"
      ],
      "metadata": {
        "id": "Ob5N-5Tr2mAd"
      },
      "execution_count": 3842,
      "outputs": []
    },
    {
      "cell_type": "markdown",
      "source": [
        "This is mapped into categorical labels to make the data more interpretable before applying one-hot encoding."
      ],
      "metadata": {
        "id": "Kku7exLRLuhj"
      }
    },
    {
      "cell_type": "code",
      "source": [
        "cw_mapping = {\n",
        "    0: \"Private Household\",\n",
        "    1: \"Private Establishment\",\n",
        "    2: \"Government\",\n",
        "    3: \"Self-Employed\",\n",
        "    4: \"Employer in Family Business\",\n",
        "    5: \"Worked with Pay in Family Business\",\n",
        "    6: \"Worked without Pay in Family Business\"\n",
        "}\n",
        "\n",
        "fies_df[\"CW_Group\"] = fies_df[\"CW\"].map(cw_mapping)\n"
      ],
      "metadata": {
        "id": "UivfIq0v2pqC"
      },
      "execution_count": 3843,
      "outputs": []
    },
    {
      "cell_type": "markdown",
      "source": [
        "Apply one-hot encoding."
      ],
      "metadata": {
        "id": "KpiAXJ5EMVGG"
      }
    },
    {
      "cell_type": "code",
      "source": [
        "fies_df = pd.get_dummies(fies_df, columns=[\"CW_Group\"], drop_first=True, dtype=int)"
      ],
      "metadata": {
        "id": "6puZGm2lMWd4"
      },
      "execution_count": 3844,
      "outputs": []
    },
    {
      "cell_type": "code",
      "source": [
        "fies_df.drop(columns=[\"CW\"], inplace=True, errors='ignore')"
      ],
      "metadata": {
        "id": "zrutlVFXJaU3"
      },
      "execution_count": 3845,
      "outputs": []
    },
    {
      "cell_type": "markdown",
      "source": [
        "Check if there are any more `object` dtypes."
      ],
      "metadata": {
        "id": "5xZckXFS4_Pz"
      }
    },
    {
      "cell_type": "code",
      "source": [
        "fies_df.info()"
      ],
      "metadata": {
        "id": "VXXlslwaeqa_",
        "colab": {
          "base_uri": "https://localhost:8080/"
        },
        "outputId": "5b26384d-c102-49a9-e525-6f32ef329e83"
      },
      "execution_count": 3846,
      "outputs": [
        {
          "output_type": "stream",
          "name": "stdout",
          "text": [
            "<class 'pandas.core.frame.DataFrame'>\n",
            "RangeIndex: 40171 entries, 0 to 40170\n",
            "Columns: 150 entries, W_REGN to CW_Group_Worked without Pay in Family Business\n",
            "dtypes: float64(25), int64(125)\n",
            "memory usage: 46.0 MB\n"
          ]
        }
      ]
    },
    {
      "cell_type": "markdown",
      "source": [
        "### **`WALLS`** - ***Type of Walls***"
      ],
      "metadata": {
        "id": "UXHf0Ci6Hhrk"
      }
    },
    {
      "cell_type": "markdown",
      "source": [
        "The **WALLS** variable identifies the **type of wall** during the second visit.\n",
        "\n",
        "### **Categories and Codes:**  \n",
        "- **Strong materials**: `1`  \n",
        "- **Light materials**: `2`  \n",
        "- **Salvage/makeshift**: `3`  \n",
        "- **Mixed but predominantly strong**: `4`  \n",
        "- **Mixed but predominantly light**: `5`  \n",
        "- **Mixed but predominantly salvaged**: `6`  \n",
        "- **Not Applicable**: `7`  "
      ],
      "metadata": {
        "id": "GNHz9K03Ht6C"
      }
    },
    {
      "cell_type": "code",
      "source": [
        "fies_df['WALLS'] = fies_df['WALLS'].apply(pd.to_numeric, errors='coerce')"
      ],
      "metadata": {
        "id": "xNhRQg5nIpRu"
      },
      "execution_count": 3847,
      "outputs": []
    },
    {
      "cell_type": "code",
      "source": [
        "fies_df[\"WALLS\"].value_counts()"
      ],
      "metadata": {
        "id": "Rurfu6V6HcIW",
        "colab": {
          "base_uri": "https://localhost:8080/",
          "height": 335
        },
        "outputId": "163880e1-1f86-463e-ae4a-bb1192b14419"
      },
      "execution_count": 3848,
      "outputs": [
        {
          "output_type": "execute_result",
          "data": {
            "text/plain": [
              "WALLS\n",
              "1    26582\n",
              "2     8198\n",
              "4     3432\n",
              "5     1518\n",
              "3      334\n",
              "6      102\n",
              "7        5\n",
              "Name: count, dtype: int64"
            ],
            "text/html": [
              "<div>\n",
              "<style scoped>\n",
              "    .dataframe tbody tr th:only-of-type {\n",
              "        vertical-align: middle;\n",
              "    }\n",
              "\n",
              "    .dataframe tbody tr th {\n",
              "        vertical-align: top;\n",
              "    }\n",
              "\n",
              "    .dataframe thead th {\n",
              "        text-align: right;\n",
              "    }\n",
              "</style>\n",
              "<table border=\"1\" class=\"dataframe\">\n",
              "  <thead>\n",
              "    <tr style=\"text-align: right;\">\n",
              "      <th></th>\n",
              "      <th>count</th>\n",
              "    </tr>\n",
              "    <tr>\n",
              "      <th>WALLS</th>\n",
              "      <th></th>\n",
              "    </tr>\n",
              "  </thead>\n",
              "  <tbody>\n",
              "    <tr>\n",
              "      <th>1</th>\n",
              "      <td>26582</td>\n",
              "    </tr>\n",
              "    <tr>\n",
              "      <th>2</th>\n",
              "      <td>8198</td>\n",
              "    </tr>\n",
              "    <tr>\n",
              "      <th>4</th>\n",
              "      <td>3432</td>\n",
              "    </tr>\n",
              "    <tr>\n",
              "      <th>5</th>\n",
              "      <td>1518</td>\n",
              "    </tr>\n",
              "    <tr>\n",
              "      <th>3</th>\n",
              "      <td>334</td>\n",
              "    </tr>\n",
              "    <tr>\n",
              "      <th>6</th>\n",
              "      <td>102</td>\n",
              "    </tr>\n",
              "    <tr>\n",
              "      <th>7</th>\n",
              "      <td>5</td>\n",
              "    </tr>\n",
              "  </tbody>\n",
              "</table>\n",
              "</div><br><label><b>dtype:</b> int64</label>"
            ]
          },
          "metadata": {},
          "execution_count": 3848
        }
      ]
    },
    {
      "cell_type": "code",
      "source": [
        "fies_df = fies_df[fies_df[\"WALLS\"] != 7]"
      ],
      "metadata": {
        "id": "TDDnnBKaJIXO"
      },
      "execution_count": 3849,
      "outputs": []
    },
    {
      "cell_type": "code",
      "source": [
        "walls_mapping = {\n",
        "    1: \"Strong materials\",\n",
        "    2: \"Light materials\",\n",
        "    3: \"Salvage/makeshift\",\n",
        "    4: \"Mixed but predominantly strong\",\n",
        "    5: \"Mixed but predominantly light\",\n",
        "    6: \"Mixed but predominantly salvaged\"\n",
        "}\n",
        "\n",
        "fies_df[\"WALLS_Group\"] = fies_df[\"WALLS\"].map(walls_mapping)\n"
      ],
      "metadata": {
        "id": "ZHcyvgHdIt1n",
        "colab": {
          "base_uri": "https://localhost:8080/"
        },
        "outputId": "a15d7d2b-33e3-40b3-9f44-f9126ba507a8"
      },
      "execution_count": 3850,
      "outputs": [
        {
          "output_type": "stream",
          "name": "stderr",
          "text": [
            "<ipython-input-3850-5ccc8c0b8c17>:10: SettingWithCopyWarning: \n",
            "A value is trying to be set on a copy of a slice from a DataFrame.\n",
            "Try using .loc[row_indexer,col_indexer] = value instead\n",
            "\n",
            "See the caveats in the documentation: https://pandas.pydata.org/pandas-docs/stable/user_guide/indexing.html#returning-a-view-versus-a-copy\n",
            "  fies_df[\"WALLS_Group\"] = fies_df[\"WALLS\"].map(walls_mapping)\n"
          ]
        }
      ]
    },
    {
      "cell_type": "code",
      "source": [
        "fies_df = pd.get_dummies(fies_df, columns=[\"WALLS_Group\"], drop_first=True, dtype=int)"
      ],
      "metadata": {
        "id": "gJlaN-1aJTyr"
      },
      "execution_count": 3851,
      "outputs": []
    },
    {
      "cell_type": "code",
      "source": [
        "fies_df.drop(columns=[\"WALLS\"], inplace=True, errors='ignore')"
      ],
      "metadata": {
        "id": "zzrw9KQbJcL_"
      },
      "execution_count": 3852,
      "outputs": []
    },
    {
      "cell_type": "markdown",
      "source": [
        "### **`WATER`** - ***Water Source***\n",
        "\n",
        "The **WATER** variable identifies the **water source** during the second visit.\n",
        "\n",
        "### **Categories and Codes:**  \n",
        "- **Own use, faucet, community water system**: `1`  \n",
        "- **Shared, faucet, community water system**: `2`  \n",
        "- **Own use, tubed/piped deep well**: `3`  \n",
        "- **Shared, tubed/piped deep well**: `4`  \n",
        "- **Tubed/piped shallow well**: `5`  \n",
        "- **Dug well**: `6`  \n",
        "- **Protected spring**: `7`  \n",
        "- **Unprotected spring**: `8`\n",
        "- **Lake, river, rain, and others**: `9`\n",
        "- **Peddler**: `10 `\n",
        "- **Bottled water**: `11`\n",
        "- **Others**: `12`"
      ],
      "metadata": {
        "id": "u3X5BFHNIXKo"
      }
    },
    {
      "cell_type": "code",
      "source": [
        "fies_df['WATER'] = fies_df['WATER'].apply(pd.to_numeric, errors='coerce')"
      ],
      "metadata": {
        "id": "Sz6U0YvLOl2z"
      },
      "execution_count": 3853,
      "outputs": []
    },
    {
      "cell_type": "code",
      "source": [
        "water_mapping = {\n",
        "    1: \"Own use, faucet, community water system\",\n",
        "    2: \"Shared, faucet, community water system\",\n",
        "    3: \"Own use, tubed/piped deep well\",\n",
        "    4: \"Shared, tubed/piped deep well\",\n",
        "    5: \"Tubed/piped shallow well\",\n",
        "    6: \"Dug well\",\n",
        "    7: \"Protected spring\",\n",
        "    8: \"Unprotected spring\",\n",
        "    9: \"Lake, river, rain, and others\",\n",
        "    10: \"Peddler\",\n",
        "    11: \"Bottled water\",\n",
        "    12: \"Others\"\n",
        "}\n",
        "\n",
        "fies_df[\"WATER_Group\"] = fies_df[\"WATER\"].map(walls_mapping)\n"
      ],
      "metadata": {
        "id": "FlLtf9BnPNzS"
      },
      "execution_count": 3854,
      "outputs": []
    },
    {
      "cell_type": "code",
      "source": [
        "fies_df = pd.get_dummies(fies_df, columns=[\"WATER_Group\"], drop_first=True, dtype=int)"
      ],
      "metadata": {
        "id": "HdF-xMLLPYpi"
      },
      "execution_count": 3855,
      "outputs": []
    },
    {
      "cell_type": "code",
      "source": [
        "fies_df.drop(columns=[\"WATER\"], inplace=True, errors='ignore')"
      ],
      "metadata": {
        "id": "oCqAgRm3PZt7"
      },
      "execution_count": 3856,
      "outputs": []
    },
    {
      "cell_type": "markdown",
      "source": [
        "### **`W_REGN`** - ***Region***"
      ],
      "metadata": {
        "id": "7QtT2Z886Ji9"
      }
    },
    {
      "cell_type": "code",
      "source": [
        "fies_df['W_REGN'] = fies_df['W_REGN'].apply(pd.to_numeric, errors='coerce')"
      ],
      "metadata": {
        "id": "SMb0Gx-36UQX"
      },
      "execution_count": 3857,
      "outputs": []
    },
    {
      "cell_type": "code",
      "source": [
        "region_mapping = {\n",
        "    13: \"Region XIII - NCR\",\n",
        "    14: \"Region XIV - CAR\",\n",
        "    1: \"Region I - Ilocos Region\",\n",
        "    2: \"Region II - Cagayan Valley\",\n",
        "    3: \"Region III - Central Luzon\",\n",
        "    41: \"Region IVa - Calabarzon\",\n",
        "    42: \"Region IVb - Mimaropa\",\n",
        "    5: \"Region V - Bicol Region\",\n",
        "    6: \"Region VI - Western Visayas\",\n",
        "    7: \"Region VII - Central Visayas\",\n",
        "    8: \"Region VIII - Eastern Visayas\",\n",
        "    9: \"Region IX - Western Mindanao\",\n",
        "    10: \"Region X - Northern Mindanao\",\n",
        "    11: \"Region XI - Southern Mindanao\",\n",
        "    12: \"Region XII - Central Mindanao\",\n",
        "    15: \"Region XV - ARMM\",\n",
        "    16: \"Region XVI - CARAGA\"\n",
        "}"
      ],
      "metadata": {
        "id": "wiudB16Y6YR3"
      },
      "execution_count": 3858,
      "outputs": []
    },
    {
      "cell_type": "code",
      "source": [
        "fies_df[\"Region\"] = fies_df[\"W_REGN\"].map(region_mapping)"
      ],
      "metadata": {
        "id": "JLeJxwJL6ipb"
      },
      "execution_count": 3859,
      "outputs": []
    },
    {
      "cell_type": "code",
      "source": [
        "fies_df = pd.get_dummies(fies_df, columns=[\"Region\"], drop_first=True, dtype=int)"
      ],
      "metadata": {
        "id": "Lbh5sCVr6jeb"
      },
      "execution_count": 3860,
      "outputs": []
    },
    {
      "cell_type": "code",
      "source": [
        "fies_df.drop(columns=[\"W_REGN\"], inplace=True, errors='ignore')"
      ],
      "metadata": {
        "id": "BaEI7_cd6ljG"
      },
      "execution_count": 3861,
      "outputs": []
    },
    {
      "cell_type": "markdown",
      "source": [
        "### **`MS`** - ***Marital Status***"
      ],
      "metadata": {
        "id": "CN_AGig07hnE"
      }
    },
    {
      "cell_type": "code",
      "source": [
        "fies_df['MS'] = fies_df['MS'].apply(pd.to_numeric, errors='coerce')"
      ],
      "metadata": {
        "id": "9nOb31AC7nP7"
      },
      "execution_count": 3862,
      "outputs": []
    },
    {
      "cell_type": "code",
      "source": [
        "marital_mapping = {\n",
        "    1: \"Single\",\n",
        "    2: \"Married\",\n",
        "    3: \"Widowed\",\n",
        "    4: \"Divorced\",\n",
        "    5: \"Separated\",\n",
        "}"
      ],
      "metadata": {
        "id": "cHTRKT_f7vC7"
      },
      "execution_count": 3863,
      "outputs": []
    },
    {
      "cell_type": "code",
      "source": [
        "fies_df['MS_Group'] = fies_df['MS'].map(marital_mapping)"
      ],
      "metadata": {
        "id": "Yu5RufDe77lJ"
      },
      "execution_count": 3864,
      "outputs": []
    },
    {
      "cell_type": "code",
      "source": [
        "fies_df = pd.get_dummies(fies_df, columns=['MS_Group'], drop_first=True, dtype=int)"
      ],
      "metadata": {
        "id": "5GAWV05m8MWh"
      },
      "execution_count": 3865,
      "outputs": []
    },
    {
      "cell_type": "code",
      "source": [
        "fies_df.drop(columns=[\"MS\"], inplace=True, errors='ignore')"
      ],
      "metadata": {
        "id": "qGxAfAry8Oqi"
      },
      "execution_count": 3866,
      "outputs": []
    },
    {
      "cell_type": "markdown",
      "source": [
        "### ***Handling Missing Data***"
      ],
      "metadata": {
        "id": "168NXZLEHVOL"
      }
    },
    {
      "cell_type": "markdown",
      "source": [
        "Now, since we converted the dtypes of categorical variables into float/int, we check for missing values."
      ],
      "metadata": {
        "id": "MpD-qNRj5XBx"
      }
    },
    {
      "cell_type": "code",
      "source": [
        "missing_values = fies_df.isnull().sum()\n",
        "print(\"Missing values per col: \", missing_values[missing_values>0])"
      ],
      "metadata": {
        "id": "rZENCQMFS0cM",
        "colab": {
          "base_uri": "https://localhost:8080/"
        },
        "outputId": "5ae6bb87-67d5-4080-ce3c-1edf64d8dd75"
      },
      "execution_count": 3867,
      "outputs": [
        {
          "output_type": "stream",
          "name": "stdout",
          "text": [
            "Missing values per col:  AGELESS5           15359\n",
            "AGE5_17             8236\n",
            "EMPLOYED_PAY        8295\n",
            "EMPLOYED_PROF      12696\n",
            "DISTANCE           16804\n",
            "RADIO_QTY          16051\n",
            "TV_QTY              7810\n",
            "CD_QTY             14263\n",
            "STEREO_QTY         23010\n",
            "REF_QTY            17777\n",
            "WASH_QTY           20103\n",
            "AIRCON_QTY         25627\n",
            "CAR_QTY            26154\n",
            "LANDLINE_QTY       26130\n",
            "CELLPHONE_QTY       6424\n",
            "PC_QTY             23426\n",
            "OVEN_QTY           24131\n",
            "MOTOR_BANCA_QTY    27532\n",
            "MOTORCYCLE_QTY     23125\n",
            "dtype: int64\n"
          ]
        }
      ]
    },
    {
      "cell_type": "markdown",
      "source": [
        "We check the percentage of missing data per column."
      ],
      "metadata": {
        "id": "fGoUrWkGMi3j"
      }
    },
    {
      "cell_type": "code",
      "source": [
        "missing_percent = (fies_df.isnull().sum() / len(fies_df)) * 100\n",
        "missing_percent = missing_percent[missing_percent > 0]\n",
        "print(missing_percent)\n"
      ],
      "metadata": {
        "id": "jNrMPBDR3oKh",
        "colab": {
          "base_uri": "https://localhost:8080/"
        },
        "outputId": "0d13c0a2-5476-45db-e602-57a41a803692"
      },
      "execution_count": 3868,
      "outputs": [
        {
          "output_type": "stream",
          "name": "stdout",
          "text": [
            "AGELESS5           38.238809\n",
            "AGE5_17            20.504905\n",
            "EMPLOYED_PAY       20.651795\n",
            "EMPLOYED_PROF      31.608823\n",
            "DISTANCE           41.836379\n",
            "RADIO_QTY          39.961659\n",
            "TV_QTY             19.444306\n",
            "CD_QTY             35.510133\n",
            "STEREO_QTY         57.287258\n",
            "REF_QTY            44.258826\n",
            "WASH_QTY           50.049793\n",
            "AIRCON_QTY         63.802719\n",
            "CAR_QTY            65.114774\n",
            "LANDLINE_QTY       65.055022\n",
            "CELLPHONE_QTY      15.993626\n",
            "PC_QTY             58.322960\n",
            "OVEN_QTY           60.078176\n",
            "MOTOR_BANCA_QTY    68.545536\n",
            "MOTORCYCLE_QTY     57.573570\n",
            "dtype: float64\n"
          ]
        }
      ]
    },
    {
      "cell_type": "markdown",
      "source": [
        "For those with missing values `> 50%` , we drop the column."
      ],
      "metadata": {
        "id": "T4Xa1H_ila6R"
      }
    },
    {
      "cell_type": "code",
      "source": [
        "missing_threshold = 0.50\n",
        "missing_percent = fies_df.isnull().mean()\n",
        "\n",
        "cols_to_drop = missing_percent[missing_percent > missing_threshold].index\n",
        "fies_df = fies_df.drop(columns=cols_to_drop)\n",
        "\n",
        "print(\"Dropped columns:\", cols_to_drop.tolist())"
      ],
      "metadata": {
        "id": "WHuxH4gk_Sme",
        "colab": {
          "base_uri": "https://localhost:8080/"
        },
        "outputId": "431a3ade-d581-4b54-8eab-417d62c017d0"
      },
      "execution_count": 3869,
      "outputs": [
        {
          "output_type": "stream",
          "name": "stdout",
          "text": [
            "Dropped columns: ['STEREO_QTY', 'WASH_QTY', 'AIRCON_QTY', 'CAR_QTY', 'LANDLINE_QTY', 'PC_QTY', 'OVEN_QTY', 'MOTOR_BANCA_QTY', 'MOTORCYCLE_QTY']\n"
          ]
        }
      ]
    },
    {
      "cell_type": "code",
      "source": [
        "num_imputer = SimpleImputer(strategy=\"median\")\n",
        "numeric_cols = fies_df.select_dtypes(include=['number']).columns\n",
        "fies_df[numeric_cols] = num_imputer.fit_transform(fies_df[numeric_cols])"
      ],
      "metadata": {
        "id": "a3OrLVF5laqc"
      },
      "execution_count": 3870,
      "outputs": []
    },
    {
      "cell_type": "markdown",
      "source": [
        "# **Exploratory Data Analysis**"
      ],
      "metadata": {
        "id": "Vdk-i3nmuCRV"
      }
    },
    {
      "cell_type": "code",
      "source": [
        "numeric_cols = fies_df.select_dtypes(include=['int64', 'float64']).columns"
      ],
      "metadata": {
        "id": "I8qZ2CIruFVD"
      },
      "execution_count": 3871,
      "outputs": []
    },
    {
      "cell_type": "markdown",
      "source": [
        "### ***What are the skew values of each variable?***"
      ],
      "metadata": {
        "id": "i8KLuTfoSW57"
      }
    },
    {
      "cell_type": "markdown",
      "source": [
        "Since there are 100+ variables, visually representing and analyzing the distribution would be difficult. Instead, we will use the `.skew()` function. We will consider a value to be **highly skewed** if the skew value is `> 1`."
      ],
      "metadata": {
        "id": "bBUzoLnxTe2-"
      }
    },
    {
      "cell_type": "code",
      "source": [
        "skewness_values = fies_df[numeric_cols].skew()\n",
        "print(skewness_values)"
      ],
      "metadata": {
        "id": "RdPDWqSTuF_6",
        "colab": {
          "base_uri": "https://localhost:8080/"
        },
        "outputId": "f7f37da6-d3c8-4cc2-f044-70a108d26823"
      },
      "execution_count": 3872,
      "outputs": [
        {
          "output_type": "stream",
          "name": "stdout",
          "text": [
            "URB                           -0.482746\n",
            "RSTR                          -2.233403\n",
            "PSU                            0.019687\n",
            "BWEIGHT                        2.159891\n",
            "RFACT                          1.904616\n",
            "                                ...    \n",
            "Region_Region XVI - CARAGA     4.647087\n",
            "MS_Group_Married              -1.237853\n",
            "MS_Group_Separated            75.732612\n",
            "MS_Group_Single                4.450211\n",
            "MS_Group_Widowed               1.821132\n",
            "Length: 167, dtype: float64\n"
          ]
        }
      ]
    },
    {
      "cell_type": "markdown",
      "source": [
        "For values that are categorical and were mapped/one-hot encoded, we will exclude them from **Log Transformation**. We will also exclude variables that are discrete, for example, quantity variables such as number of children aged less than 5 in a household."
      ],
      "metadata": {
        "id": "YgYqncm5T43t"
      }
    },
    {
      "cell_type": "code",
      "source": [
        "exclude_cols = [\n",
        "    \"SEX\", \"JOB\",\n",
        "    \"HGC\",\n",
        "    \"OCCUP_GROUP\", \"KB_Group\", \"CW_Group\"\n",
        "]\n",
        "\n",
        "exclude_one_hot = [col for col in fies_df.columns if \"OCCUP_GROUP_\" in col or \"KB_Group_\" in col or \"CW_Group_\" in col]\n",
        "\n",
        "exclude_cols += exclude_one_hot\n",
        "\n",
        "exclude_qty = [col for col in fies_df.columns if \"QTY\" in col or \"AGELESS5\" in col or \"AGE5_17\" in col]\n",
        "\n",
        "exclude_cols += exclude_qty\n",
        "\n",
        "print(\"Columns to Exclude from transformation:\", exclude_cols)\n"
      ],
      "metadata": {
        "id": "913p6E-32gKk",
        "colab": {
          "base_uri": "https://localhost:8080/"
        },
        "outputId": "763c1a72-0ccc-4902-990f-8d5b28ac716a"
      },
      "execution_count": 3873,
      "outputs": [
        {
          "output_type": "stream",
          "name": "stdout",
          "text": [
            "Columns to Exclude from transformation: ['SEX', 'JOB', 'HGC', 'OCCUP_GROUP', 'KB_Group', 'CW_Group', 'OCCUP_GROUP_Farmers & Fishers', 'OCCUP_GROUP_Laborers', 'OCCUP_GROUP_Machine Operators', 'OCCUP_GROUP_Officials & Executives', 'OCCUP_GROUP_Professionals', 'OCCUP_GROUP_Service Workers', 'OCCUP_GROUP_Special Occupations', 'OCCUP_GROUP_Technicians', 'OCCUP_GROUP_Trades Workers', 'OCCUP_GROUP_Unknown', 'KB_Group_Agriculture', 'KB_Group_Arts', 'KB_Group_Construction', 'KB_Group_Education', 'KB_Group_Electricity', 'KB_Group_Extra-territorial', 'KB_Group_Finance', 'KB_Group_Food Service', 'KB_Group_Health', 'KB_Group_Household Employers', 'KB_Group_IT', 'KB_Group_Manufacturing', 'KB_Group_Mining', 'KB_Group_Other Services', 'KB_Group_Professional', 'KB_Group_Public Admin', 'KB_Group_Real Estate', 'KB_Group_Retail', 'KB_Group_Transport', 'KB_Group_Unknown', 'KB_Group_Water Supply', 'CW_Group_Government', 'CW_Group_Private Establishment', 'CW_Group_Private Household', 'CW_Group_Self-Employed', 'CW_Group_Worked with Pay in Family Business', 'CW_Group_Worked without Pay in Family Business', 'AGELESS5', 'AGE5_17', 'RADIO_QTY', 'TV_QTY', 'CD_QTY', 'REF_QTY', 'CELLPHONE_QTY']\n"
          ]
        }
      ]
    },
    {
      "cell_type": "code",
      "source": [
        "skewed_cols = skewness_values[skewness_values > 1].index\n",
        "print(\"Highly skewed variables:\", skewed_cols)"
      ],
      "metadata": {
        "id": "8KCk2LfquMOD",
        "colab": {
          "base_uri": "https://localhost:8080/"
        },
        "outputId": "88331ab6-564d-41f5-bb96-921d97fd29e9"
      },
      "execution_count": 3874,
      "outputs": [
        {
          "output_type": "stream",
          "name": "stdout",
          "text": [
            "Highly skewed variables: Index(['BWEIGHT', 'RFACT', 'AGRI_SAL', 'NONAGRI_SAL', 'WAGES', 'NETSHARE',\n",
            "       'CASH_ABROAD', 'CASH_DOMESTIC', 'RENTALS_REC', 'INTEREST',\n",
            "       ...\n",
            "       'Region_Region X - Northern Mindanao',\n",
            "       'Region_Region XI - Southern Mindanao',\n",
            "       'Region_Region XII - Central Mindanao', 'Region_Region XIII - NCR',\n",
            "       'Region_Region XIV - CAR', 'Region_Region XV - ARMM',\n",
            "       'Region_Region XVI - CARAGA', 'MS_Group_Separated', 'MS_Group_Single',\n",
            "       'MS_Group_Widowed'],\n",
            "      dtype='object', length=141)\n"
          ]
        }
      ]
    },
    {
      "cell_type": "code",
      "source": [
        "negatively_skewed_cols = skewness_values[skewness_values < -1].index\n",
        "print(\"Negatively skewed variables: \", negatively_skewed_cols)"
      ],
      "metadata": {
        "id": "Ky7bvRn6VKRN",
        "colab": {
          "base_uri": "https://localhost:8080/"
        },
        "outputId": "1d9e54d6-cd74-4db9-b342-da87c949d5b9"
      },
      "execution_count": 3875,
      "outputs": [
        {
          "output_type": "stream",
          "name": "stdout",
          "text": [
            "Negatively skewed variables:  Index(['RSTR', 'HSE_ALTERTN', 'MS_Group_Married'], dtype='object')\n"
          ]
        }
      ]
    },
    {
      "cell_type": "markdown",
      "source": [
        "For skewed variables `> 1`, we will use **Log Transformation**."
      ],
      "metadata": {
        "id": "1LqCrpLZVr3c"
      }
    },
    {
      "cell_type": "code",
      "source": [
        "skewed_cols = [col for col in skewed_cols if col not in exclude_cols]\n",
        "\n",
        "for col in skewed_cols:\n",
        "    min_val = fies_df[col].min()\n",
        "    if min_val < 0:\n",
        "        fies_df[col] = np.log1p(fies_df[col] - min_val + 1)\n",
        "    else:\n",
        "        fies_df[col] = np.log1p(fies_df[col])\n",
        "\n",
        "numeric_cols = [col for col in fies_df.select_dtypes(include=[\"int64\", \"float64\"]).columns if col not in exclude_cols and col not in skewed_cols]\n",
        "\n",
        "for col in numeric_cols:\n",
        "    min_val = fies_df[col].min()\n",
        "    if min_val < 0:\n",
        "        fies_df[col] = np.log1p(fies_df[col] - min_val + 1)\n",
        "    else:\n",
        "        fies_df[col] = np.log1p(fies_df[col])\n"
      ],
      "metadata": {
        "id": "lSSh4NyQuYDC"
      },
      "execution_count": 3876,
      "outputs": []
    },
    {
      "cell_type": "markdown",
      "source": [
        "For skewed variables `< -1`, we will use **Square Transformation**."
      ],
      "metadata": {
        "id": "D5b-sH1yVyjk"
      }
    },
    {
      "cell_type": "code",
      "source": [
        "fies_df[negatively_skewed_cols] = fies_df[negatively_skewed_cols] ** 2"
      ],
      "metadata": {
        "id": "r1eExiSvV9JE"
      },
      "execution_count": 3877,
      "outputs": []
    },
    {
      "cell_type": "markdown",
      "metadata": {
        "id": "ZZI1QyRcuDVV"
      },
      "source": [
        "# **Splitting the Dataset**"
      ]
    },
    {
      "cell_type": "code",
      "execution_count": 3878,
      "metadata": {
        "id": "yA7b69XquDVV"
      },
      "outputs": [],
      "source": [
        "X = fies_df.drop(columns=[\"TOINC\"])\n",
        "y = fies_df[\"TOINC\"]"
      ]
    },
    {
      "cell_type": "code",
      "execution_count": 3879,
      "metadata": {
        "id": "STwDgdIUuDVW"
      },
      "outputs": [],
      "source": [
        "X_train, X_test, y_train, y_test = train_test_split(X, y, random_state=42, test_size=0.2)"
      ]
    },
    {
      "cell_type": "code",
      "source": [
        "reduce_lr = ReduceLROnPlateau(monitor=\"val_loss\", factor=0.5, patience=5, verbose=1, min_lr=1e-5)\n",
        "\n",
        "early_stopping = EarlyStopping(monitor=\"val_loss\", patience=10, restore_best_weights=True)"
      ],
      "metadata": {
        "id": "wQjJ_4kKd4o3"
      },
      "execution_count": 3880,
      "outputs": []
    },
    {
      "cell_type": "markdown",
      "source": [
        "Lowering **patience** to ~10 may stop training earlier without hurting performance.\n",
        "\n",
        "standardize after splitting dataset"
      ],
      "metadata": {
        "id": "_9MrdfPAtBHn"
      }
    },
    {
      "cell_type": "code",
      "source": [
        "scaler = StandardScaler()\n",
        "X_train_scaled = scaler.fit_transform(X_train)\n",
        "X_test_scaled = scaler.transform(X_test)"
      ],
      "metadata": {
        "id": "ArQwzsN8tHXu"
      },
      "execution_count": 3881,
      "outputs": []
    },
    {
      "cell_type": "code",
      "source": [
        "#corr_matrix = fies_df.corr()\n",
        "\n",
        "# Set up the figure size\n",
        "#plt.figure(figsize=(12, 8))\n",
        "\n",
        "# Create a heatmap\n",
        "#sns.heatmap(corr_matrix, annot=True, fmt=\".2f\", cmap=\"coolwarm\", linewidths=0.5)\n",
        "\n",
        "# Set title\n",
        "#plt.title(\"Correlation Heatmap of Selected Variables\")\n",
        "\n",
        "# Show the plot\n",
        "#plt.show()"
      ],
      "metadata": {
        "id": "XYR6kHtycZfM"
      },
      "execution_count": 3882,
      "outputs": []
    },
    {
      "cell_type": "markdown",
      "source": [
        "# **Initial Model Training**"
      ],
      "metadata": {
        "id": "euNBih-ZwMcm"
      }
    },
    {
      "cell_type": "code",
      "source": [
        "print(X_train.isna().sum())  # Check missing values in features\n",
        "print(y_train.isna().sum())  # Check missing values in target"
      ],
      "metadata": {
        "id": "wy5RVMcbKKNQ",
        "colab": {
          "base_uri": "https://localhost:8080/"
        },
        "outputId": "afb756c2-f34d-4843-968a-1eaa133f29f3"
      },
      "execution_count": 3883,
      "outputs": [
        {
          "output_type": "stream",
          "name": "stdout",
          "text": [
            "URB                           0\n",
            "RSTR                          0\n",
            "PSU                           0\n",
            "BWEIGHT                       0\n",
            "RFACT                         0\n",
            "                             ..\n",
            "Region_Region XVI - CARAGA    0\n",
            "MS_Group_Married              0\n",
            "MS_Group_Separated            0\n",
            "MS_Group_Single               0\n",
            "MS_Group_Widowed              0\n",
            "Length: 166, dtype: int64\n",
            "0\n"
          ]
        }
      ]
    },
    {
      "cell_type": "markdown",
      "source": [
        "## **Linear Regression**"
      ],
      "metadata": {
        "id": "dBmZTpST4pG0"
      }
    },
    {
      "cell_type": "code",
      "source": [
        "lasso = Lasso(alpha=0.01)\n",
        "lasso.fit(X_train_scaled, y_train)"
      ],
      "metadata": {
        "id": "gqidGaSxnxhG",
        "colab": {
          "base_uri": "https://localhost:8080/",
          "height": 80
        },
        "outputId": "d241624e-60cf-4b7c-c527-bebea805e84e"
      },
      "execution_count": 3884,
      "outputs": [
        {
          "output_type": "execute_result",
          "data": {
            "text/plain": [
              "Lasso(alpha=0.01)"
            ],
            "text/html": [
              "<style>#sk-container-id-77 {\n",
              "  /* Definition of color scheme common for light and dark mode */\n",
              "  --sklearn-color-text: #000;\n",
              "  --sklearn-color-text-muted: #666;\n",
              "  --sklearn-color-line: gray;\n",
              "  /* Definition of color scheme for unfitted estimators */\n",
              "  --sklearn-color-unfitted-level-0: #fff5e6;\n",
              "  --sklearn-color-unfitted-level-1: #f6e4d2;\n",
              "  --sklearn-color-unfitted-level-2: #ffe0b3;\n",
              "  --sklearn-color-unfitted-level-3: chocolate;\n",
              "  /* Definition of color scheme for fitted estimators */\n",
              "  --sklearn-color-fitted-level-0: #f0f8ff;\n",
              "  --sklearn-color-fitted-level-1: #d4ebff;\n",
              "  --sklearn-color-fitted-level-2: #b3dbfd;\n",
              "  --sklearn-color-fitted-level-3: cornflowerblue;\n",
              "\n",
              "  /* Specific color for light theme */\n",
              "  --sklearn-color-text-on-default-background: var(--sg-text-color, var(--theme-code-foreground, var(--jp-content-font-color1, black)));\n",
              "  --sklearn-color-background: var(--sg-background-color, var(--theme-background, var(--jp-layout-color0, white)));\n",
              "  --sklearn-color-border-box: var(--sg-text-color, var(--theme-code-foreground, var(--jp-content-font-color1, black)));\n",
              "  --sklearn-color-icon: #696969;\n",
              "\n",
              "  @media (prefers-color-scheme: dark) {\n",
              "    /* Redefinition of color scheme for dark theme */\n",
              "    --sklearn-color-text-on-default-background: var(--sg-text-color, var(--theme-code-foreground, var(--jp-content-font-color1, white)));\n",
              "    --sklearn-color-background: var(--sg-background-color, var(--theme-background, var(--jp-layout-color0, #111)));\n",
              "    --sklearn-color-border-box: var(--sg-text-color, var(--theme-code-foreground, var(--jp-content-font-color1, white)));\n",
              "    --sklearn-color-icon: #878787;\n",
              "  }\n",
              "}\n",
              "\n",
              "#sk-container-id-77 {\n",
              "  color: var(--sklearn-color-text);\n",
              "}\n",
              "\n",
              "#sk-container-id-77 pre {\n",
              "  padding: 0;\n",
              "}\n",
              "\n",
              "#sk-container-id-77 input.sk-hidden--visually {\n",
              "  border: 0;\n",
              "  clip: rect(1px 1px 1px 1px);\n",
              "  clip: rect(1px, 1px, 1px, 1px);\n",
              "  height: 1px;\n",
              "  margin: -1px;\n",
              "  overflow: hidden;\n",
              "  padding: 0;\n",
              "  position: absolute;\n",
              "  width: 1px;\n",
              "}\n",
              "\n",
              "#sk-container-id-77 div.sk-dashed-wrapped {\n",
              "  border: 1px dashed var(--sklearn-color-line);\n",
              "  margin: 0 0.4em 0.5em 0.4em;\n",
              "  box-sizing: border-box;\n",
              "  padding-bottom: 0.4em;\n",
              "  background-color: var(--sklearn-color-background);\n",
              "}\n",
              "\n",
              "#sk-container-id-77 div.sk-container {\n",
              "  /* jupyter's `normalize.less` sets `[hidden] { display: none; }`\n",
              "     but bootstrap.min.css set `[hidden] { display: none !important; }`\n",
              "     so we also need the `!important` here to be able to override the\n",
              "     default hidden behavior on the sphinx rendered scikit-learn.org.\n",
              "     See: https://github.com/scikit-learn/scikit-learn/issues/21755 */\n",
              "  display: inline-block !important;\n",
              "  position: relative;\n",
              "}\n",
              "\n",
              "#sk-container-id-77 div.sk-text-repr-fallback {\n",
              "  display: none;\n",
              "}\n",
              "\n",
              "div.sk-parallel-item,\n",
              "div.sk-serial,\n",
              "div.sk-item {\n",
              "  /* draw centered vertical line to link estimators */\n",
              "  background-image: linear-gradient(var(--sklearn-color-text-on-default-background), var(--sklearn-color-text-on-default-background));\n",
              "  background-size: 2px 100%;\n",
              "  background-repeat: no-repeat;\n",
              "  background-position: center center;\n",
              "}\n",
              "\n",
              "/* Parallel-specific style estimator block */\n",
              "\n",
              "#sk-container-id-77 div.sk-parallel-item::after {\n",
              "  content: \"\";\n",
              "  width: 100%;\n",
              "  border-bottom: 2px solid var(--sklearn-color-text-on-default-background);\n",
              "  flex-grow: 1;\n",
              "}\n",
              "\n",
              "#sk-container-id-77 div.sk-parallel {\n",
              "  display: flex;\n",
              "  align-items: stretch;\n",
              "  justify-content: center;\n",
              "  background-color: var(--sklearn-color-background);\n",
              "  position: relative;\n",
              "}\n",
              "\n",
              "#sk-container-id-77 div.sk-parallel-item {\n",
              "  display: flex;\n",
              "  flex-direction: column;\n",
              "}\n",
              "\n",
              "#sk-container-id-77 div.sk-parallel-item:first-child::after {\n",
              "  align-self: flex-end;\n",
              "  width: 50%;\n",
              "}\n",
              "\n",
              "#sk-container-id-77 div.sk-parallel-item:last-child::after {\n",
              "  align-self: flex-start;\n",
              "  width: 50%;\n",
              "}\n",
              "\n",
              "#sk-container-id-77 div.sk-parallel-item:only-child::after {\n",
              "  width: 0;\n",
              "}\n",
              "\n",
              "/* Serial-specific style estimator block */\n",
              "\n",
              "#sk-container-id-77 div.sk-serial {\n",
              "  display: flex;\n",
              "  flex-direction: column;\n",
              "  align-items: center;\n",
              "  background-color: var(--sklearn-color-background);\n",
              "  padding-right: 1em;\n",
              "  padding-left: 1em;\n",
              "}\n",
              "\n",
              "\n",
              "/* Toggleable style: style used for estimator/Pipeline/ColumnTransformer box that is\n",
              "clickable and can be expanded/collapsed.\n",
              "- Pipeline and ColumnTransformer use this feature and define the default style\n",
              "- Estimators will overwrite some part of the style using the `sk-estimator` class\n",
              "*/\n",
              "\n",
              "/* Pipeline and ColumnTransformer style (default) */\n",
              "\n",
              "#sk-container-id-77 div.sk-toggleable {\n",
              "  /* Default theme specific background. It is overwritten whether we have a\n",
              "  specific estimator or a Pipeline/ColumnTransformer */\n",
              "  background-color: var(--sklearn-color-background);\n",
              "}\n",
              "\n",
              "/* Toggleable label */\n",
              "#sk-container-id-77 label.sk-toggleable__label {\n",
              "  cursor: pointer;\n",
              "  display: flex;\n",
              "  width: 100%;\n",
              "  margin-bottom: 0;\n",
              "  padding: 0.5em;\n",
              "  box-sizing: border-box;\n",
              "  text-align: center;\n",
              "  align-items: start;\n",
              "  justify-content: space-between;\n",
              "  gap: 0.5em;\n",
              "}\n",
              "\n",
              "#sk-container-id-77 label.sk-toggleable__label .caption {\n",
              "  font-size: 0.6rem;\n",
              "  font-weight: lighter;\n",
              "  color: var(--sklearn-color-text-muted);\n",
              "}\n",
              "\n",
              "#sk-container-id-77 label.sk-toggleable__label-arrow:before {\n",
              "  /* Arrow on the left of the label */\n",
              "  content: \"▸\";\n",
              "  float: left;\n",
              "  margin-right: 0.25em;\n",
              "  color: var(--sklearn-color-icon);\n",
              "}\n",
              "\n",
              "#sk-container-id-77 label.sk-toggleable__label-arrow:hover:before {\n",
              "  color: var(--sklearn-color-text);\n",
              "}\n",
              "\n",
              "/* Toggleable content - dropdown */\n",
              "\n",
              "#sk-container-id-77 div.sk-toggleable__content {\n",
              "  max-height: 0;\n",
              "  max-width: 0;\n",
              "  overflow: hidden;\n",
              "  text-align: left;\n",
              "  /* unfitted */\n",
              "  background-color: var(--sklearn-color-unfitted-level-0);\n",
              "}\n",
              "\n",
              "#sk-container-id-77 div.sk-toggleable__content.fitted {\n",
              "  /* fitted */\n",
              "  background-color: var(--sklearn-color-fitted-level-0);\n",
              "}\n",
              "\n",
              "#sk-container-id-77 div.sk-toggleable__content pre {\n",
              "  margin: 0.2em;\n",
              "  border-radius: 0.25em;\n",
              "  color: var(--sklearn-color-text);\n",
              "  /* unfitted */\n",
              "  background-color: var(--sklearn-color-unfitted-level-0);\n",
              "}\n",
              "\n",
              "#sk-container-id-77 div.sk-toggleable__content.fitted pre {\n",
              "  /* unfitted */\n",
              "  background-color: var(--sklearn-color-fitted-level-0);\n",
              "}\n",
              "\n",
              "#sk-container-id-77 input.sk-toggleable__control:checked~div.sk-toggleable__content {\n",
              "  /* Expand drop-down */\n",
              "  max-height: 200px;\n",
              "  max-width: 100%;\n",
              "  overflow: auto;\n",
              "}\n",
              "\n",
              "#sk-container-id-77 input.sk-toggleable__control:checked~label.sk-toggleable__label-arrow:before {\n",
              "  content: \"▾\";\n",
              "}\n",
              "\n",
              "/* Pipeline/ColumnTransformer-specific style */\n",
              "\n",
              "#sk-container-id-77 div.sk-label input.sk-toggleable__control:checked~label.sk-toggleable__label {\n",
              "  color: var(--sklearn-color-text);\n",
              "  background-color: var(--sklearn-color-unfitted-level-2);\n",
              "}\n",
              "\n",
              "#sk-container-id-77 div.sk-label.fitted input.sk-toggleable__control:checked~label.sk-toggleable__label {\n",
              "  background-color: var(--sklearn-color-fitted-level-2);\n",
              "}\n",
              "\n",
              "/* Estimator-specific style */\n",
              "\n",
              "/* Colorize estimator box */\n",
              "#sk-container-id-77 div.sk-estimator input.sk-toggleable__control:checked~label.sk-toggleable__label {\n",
              "  /* unfitted */\n",
              "  background-color: var(--sklearn-color-unfitted-level-2);\n",
              "}\n",
              "\n",
              "#sk-container-id-77 div.sk-estimator.fitted input.sk-toggleable__control:checked~label.sk-toggleable__label {\n",
              "  /* fitted */\n",
              "  background-color: var(--sklearn-color-fitted-level-2);\n",
              "}\n",
              "\n",
              "#sk-container-id-77 div.sk-label label.sk-toggleable__label,\n",
              "#sk-container-id-77 div.sk-label label {\n",
              "  /* The background is the default theme color */\n",
              "  color: var(--sklearn-color-text-on-default-background);\n",
              "}\n",
              "\n",
              "/* On hover, darken the color of the background */\n",
              "#sk-container-id-77 div.sk-label:hover label.sk-toggleable__label {\n",
              "  color: var(--sklearn-color-text);\n",
              "  background-color: var(--sklearn-color-unfitted-level-2);\n",
              "}\n",
              "\n",
              "/* Label box, darken color on hover, fitted */\n",
              "#sk-container-id-77 div.sk-label.fitted:hover label.sk-toggleable__label.fitted {\n",
              "  color: var(--sklearn-color-text);\n",
              "  background-color: var(--sklearn-color-fitted-level-2);\n",
              "}\n",
              "\n",
              "/* Estimator label */\n",
              "\n",
              "#sk-container-id-77 div.sk-label label {\n",
              "  font-family: monospace;\n",
              "  font-weight: bold;\n",
              "  display: inline-block;\n",
              "  line-height: 1.2em;\n",
              "}\n",
              "\n",
              "#sk-container-id-77 div.sk-label-container {\n",
              "  text-align: center;\n",
              "}\n",
              "\n",
              "/* Estimator-specific */\n",
              "#sk-container-id-77 div.sk-estimator {\n",
              "  font-family: monospace;\n",
              "  border: 1px dotted var(--sklearn-color-border-box);\n",
              "  border-radius: 0.25em;\n",
              "  box-sizing: border-box;\n",
              "  margin-bottom: 0.5em;\n",
              "  /* unfitted */\n",
              "  background-color: var(--sklearn-color-unfitted-level-0);\n",
              "}\n",
              "\n",
              "#sk-container-id-77 div.sk-estimator.fitted {\n",
              "  /* fitted */\n",
              "  background-color: var(--sklearn-color-fitted-level-0);\n",
              "}\n",
              "\n",
              "/* on hover */\n",
              "#sk-container-id-77 div.sk-estimator:hover {\n",
              "  /* unfitted */\n",
              "  background-color: var(--sklearn-color-unfitted-level-2);\n",
              "}\n",
              "\n",
              "#sk-container-id-77 div.sk-estimator.fitted:hover {\n",
              "  /* fitted */\n",
              "  background-color: var(--sklearn-color-fitted-level-2);\n",
              "}\n",
              "\n",
              "/* Specification for estimator info (e.g. \"i\" and \"?\") */\n",
              "\n",
              "/* Common style for \"i\" and \"?\" */\n",
              "\n",
              ".sk-estimator-doc-link,\n",
              "a:link.sk-estimator-doc-link,\n",
              "a:visited.sk-estimator-doc-link {\n",
              "  float: right;\n",
              "  font-size: smaller;\n",
              "  line-height: 1em;\n",
              "  font-family: monospace;\n",
              "  background-color: var(--sklearn-color-background);\n",
              "  border-radius: 1em;\n",
              "  height: 1em;\n",
              "  width: 1em;\n",
              "  text-decoration: none !important;\n",
              "  margin-left: 0.5em;\n",
              "  text-align: center;\n",
              "  /* unfitted */\n",
              "  border: var(--sklearn-color-unfitted-level-1) 1pt solid;\n",
              "  color: var(--sklearn-color-unfitted-level-1);\n",
              "}\n",
              "\n",
              ".sk-estimator-doc-link.fitted,\n",
              "a:link.sk-estimator-doc-link.fitted,\n",
              "a:visited.sk-estimator-doc-link.fitted {\n",
              "  /* fitted */\n",
              "  border: var(--sklearn-color-fitted-level-1) 1pt solid;\n",
              "  color: var(--sklearn-color-fitted-level-1);\n",
              "}\n",
              "\n",
              "/* On hover */\n",
              "div.sk-estimator:hover .sk-estimator-doc-link:hover,\n",
              ".sk-estimator-doc-link:hover,\n",
              "div.sk-label-container:hover .sk-estimator-doc-link:hover,\n",
              ".sk-estimator-doc-link:hover {\n",
              "  /* unfitted */\n",
              "  background-color: var(--sklearn-color-unfitted-level-3);\n",
              "  color: var(--sklearn-color-background);\n",
              "  text-decoration: none;\n",
              "}\n",
              "\n",
              "div.sk-estimator.fitted:hover .sk-estimator-doc-link.fitted:hover,\n",
              ".sk-estimator-doc-link.fitted:hover,\n",
              "div.sk-label-container:hover .sk-estimator-doc-link.fitted:hover,\n",
              ".sk-estimator-doc-link.fitted:hover {\n",
              "  /* fitted */\n",
              "  background-color: var(--sklearn-color-fitted-level-3);\n",
              "  color: var(--sklearn-color-background);\n",
              "  text-decoration: none;\n",
              "}\n",
              "\n",
              "/* Span, style for the box shown on hovering the info icon */\n",
              ".sk-estimator-doc-link span {\n",
              "  display: none;\n",
              "  z-index: 9999;\n",
              "  position: relative;\n",
              "  font-weight: normal;\n",
              "  right: .2ex;\n",
              "  padding: .5ex;\n",
              "  margin: .5ex;\n",
              "  width: min-content;\n",
              "  min-width: 20ex;\n",
              "  max-width: 50ex;\n",
              "  color: var(--sklearn-color-text);\n",
              "  box-shadow: 2pt 2pt 4pt #999;\n",
              "  /* unfitted */\n",
              "  background: var(--sklearn-color-unfitted-level-0);\n",
              "  border: .5pt solid var(--sklearn-color-unfitted-level-3);\n",
              "}\n",
              "\n",
              ".sk-estimator-doc-link.fitted span {\n",
              "  /* fitted */\n",
              "  background: var(--sklearn-color-fitted-level-0);\n",
              "  border: var(--sklearn-color-fitted-level-3);\n",
              "}\n",
              "\n",
              ".sk-estimator-doc-link:hover span {\n",
              "  display: block;\n",
              "}\n",
              "\n",
              "/* \"?\"-specific style due to the `<a>` HTML tag */\n",
              "\n",
              "#sk-container-id-77 a.estimator_doc_link {\n",
              "  float: right;\n",
              "  font-size: 1rem;\n",
              "  line-height: 1em;\n",
              "  font-family: monospace;\n",
              "  background-color: var(--sklearn-color-background);\n",
              "  border-radius: 1rem;\n",
              "  height: 1rem;\n",
              "  width: 1rem;\n",
              "  text-decoration: none;\n",
              "  /* unfitted */\n",
              "  color: var(--sklearn-color-unfitted-level-1);\n",
              "  border: var(--sklearn-color-unfitted-level-1) 1pt solid;\n",
              "}\n",
              "\n",
              "#sk-container-id-77 a.estimator_doc_link.fitted {\n",
              "  /* fitted */\n",
              "  border: var(--sklearn-color-fitted-level-1) 1pt solid;\n",
              "  color: var(--sklearn-color-fitted-level-1);\n",
              "}\n",
              "\n",
              "/* On hover */\n",
              "#sk-container-id-77 a.estimator_doc_link:hover {\n",
              "  /* unfitted */\n",
              "  background-color: var(--sklearn-color-unfitted-level-3);\n",
              "  color: var(--sklearn-color-background);\n",
              "  text-decoration: none;\n",
              "}\n",
              "\n",
              "#sk-container-id-77 a.estimator_doc_link.fitted:hover {\n",
              "  /* fitted */\n",
              "  background-color: var(--sklearn-color-fitted-level-3);\n",
              "}\n",
              "</style><div id=\"sk-container-id-77\" class=\"sk-top-container\"><div class=\"sk-text-repr-fallback\"><pre>Lasso(alpha=0.01)</pre><b>In a Jupyter environment, please rerun this cell to show the HTML representation or trust the notebook. <br />On GitHub, the HTML representation is unable to render, please try loading this page with nbviewer.org.</b></div><div class=\"sk-container\" hidden><div class=\"sk-item\"><div class=\"sk-estimator fitted sk-toggleable\"><input class=\"sk-toggleable__control sk-hidden--visually\" id=\"sk-estimator-id-77\" type=\"checkbox\" checked><label for=\"sk-estimator-id-77\" class=\"sk-toggleable__label fitted sk-toggleable__label-arrow\"><div><div>Lasso</div></div><div><a class=\"sk-estimator-doc-link fitted\" rel=\"noreferrer\" target=\"_blank\" href=\"https://scikit-learn.org/1.6/modules/generated/sklearn.linear_model.Lasso.html\">?<span>Documentation for Lasso</span></a><span class=\"sk-estimator-doc-link fitted\">i<span>Fitted</span></span></div></label><div class=\"sk-toggleable__content fitted\"><pre>Lasso(alpha=0.01)</pre></div> </div></div></div></div>"
            ]
          },
          "metadata": {},
          "execution_count": 3884
        }
      ]
    },
    {
      "cell_type": "code",
      "source": [
        "feature_importance = pd.DataFrame({\n",
        "    \"Feature\": X.columns,\n",
        "    \"Coefficient\": lasso.coef_\n",
        "})\n",
        "\n",
        "# Keep only non-zero coefficients (selected features)\n",
        "selected_features = feature_importance.loc[feature_importance[\"Coefficient\"] != 0, \"Feature\"].tolist()\n",
        "print(sorted(selected_features, reverse=True))\n",
        "\n",
        "X_train_selected = X_train_scaled[:, lasso.coef_ != 0]\n",
        "X_test_selected = X_test_scaled[:, lasso.coef_ != 0]"
      ],
      "metadata": {
        "id": "eCQjTgP4oa3V",
        "colab": {
          "base_uri": "https://localhost:8080/"
        },
        "outputId": "4abe4995-cb1f-4b16-8ea4-ff04ecb0b3f0"
      },
      "execution_count": 3885,
      "outputs": [
        {
          "output_type": "stream",
          "name": "stdout",
          "text": [
            "['T_TOTEX', 'T_TOREC', 'T_OTHREC', 'T_MISCELLANEOUS', 'T_FOOD_HOME', 'T_FOOD', 'REGDC', 'PCINC', 'NATDC', 'FSIZE']\n"
          ]
        }
      ]
    },
    {
      "cell_type": "code",
      "source": [
        "model = LinearRegression()"
      ],
      "metadata": {
        "id": "T-fR-TRHJbzj"
      },
      "execution_count": 3886,
      "outputs": []
    },
    {
      "cell_type": "code",
      "source": [
        "#selector = SelectKBest(score_func=mutual_info_regression, k=20)\n",
        "#X_train_selected = selector.fit_transform(X_train, y_train)\n",
        "#X_test_selected = selector.transform(X_test)"
      ],
      "metadata": {
        "id": "wP-8UxRkXdBn"
      },
      "execution_count": 3887,
      "outputs": []
    },
    {
      "cell_type": "code",
      "source": [
        "#selected_features = X_train.columns[selector.get_support()]\n",
        "#print(\"Selected Features:\\n\", selected_features)"
      ],
      "metadata": {
        "id": "LcTzJq0TvSzS"
      },
      "execution_count": 3888,
      "outputs": []
    },
    {
      "cell_type": "code",
      "source": [
        "model.fit(X_train_selected, y_train)"
      ],
      "metadata": {
        "id": "9rV0V-8B6hK_",
        "colab": {
          "base_uri": "https://localhost:8080/",
          "height": 80
        },
        "outputId": "f3ab0a4d-2c80-49c6-aba0-140477f10136"
      },
      "execution_count": 3889,
      "outputs": [
        {
          "output_type": "execute_result",
          "data": {
            "text/plain": [
              "LinearRegression()"
            ],
            "text/html": [
              "<style>#sk-container-id-78 {\n",
              "  /* Definition of color scheme common for light and dark mode */\n",
              "  --sklearn-color-text: #000;\n",
              "  --sklearn-color-text-muted: #666;\n",
              "  --sklearn-color-line: gray;\n",
              "  /* Definition of color scheme for unfitted estimators */\n",
              "  --sklearn-color-unfitted-level-0: #fff5e6;\n",
              "  --sklearn-color-unfitted-level-1: #f6e4d2;\n",
              "  --sklearn-color-unfitted-level-2: #ffe0b3;\n",
              "  --sklearn-color-unfitted-level-3: chocolate;\n",
              "  /* Definition of color scheme for fitted estimators */\n",
              "  --sklearn-color-fitted-level-0: #f0f8ff;\n",
              "  --sklearn-color-fitted-level-1: #d4ebff;\n",
              "  --sklearn-color-fitted-level-2: #b3dbfd;\n",
              "  --sklearn-color-fitted-level-3: cornflowerblue;\n",
              "\n",
              "  /* Specific color for light theme */\n",
              "  --sklearn-color-text-on-default-background: var(--sg-text-color, var(--theme-code-foreground, var(--jp-content-font-color1, black)));\n",
              "  --sklearn-color-background: var(--sg-background-color, var(--theme-background, var(--jp-layout-color0, white)));\n",
              "  --sklearn-color-border-box: var(--sg-text-color, var(--theme-code-foreground, var(--jp-content-font-color1, black)));\n",
              "  --sklearn-color-icon: #696969;\n",
              "\n",
              "  @media (prefers-color-scheme: dark) {\n",
              "    /* Redefinition of color scheme for dark theme */\n",
              "    --sklearn-color-text-on-default-background: var(--sg-text-color, var(--theme-code-foreground, var(--jp-content-font-color1, white)));\n",
              "    --sklearn-color-background: var(--sg-background-color, var(--theme-background, var(--jp-layout-color0, #111)));\n",
              "    --sklearn-color-border-box: var(--sg-text-color, var(--theme-code-foreground, var(--jp-content-font-color1, white)));\n",
              "    --sklearn-color-icon: #878787;\n",
              "  }\n",
              "}\n",
              "\n",
              "#sk-container-id-78 {\n",
              "  color: var(--sklearn-color-text);\n",
              "}\n",
              "\n",
              "#sk-container-id-78 pre {\n",
              "  padding: 0;\n",
              "}\n",
              "\n",
              "#sk-container-id-78 input.sk-hidden--visually {\n",
              "  border: 0;\n",
              "  clip: rect(1px 1px 1px 1px);\n",
              "  clip: rect(1px, 1px, 1px, 1px);\n",
              "  height: 1px;\n",
              "  margin: -1px;\n",
              "  overflow: hidden;\n",
              "  padding: 0;\n",
              "  position: absolute;\n",
              "  width: 1px;\n",
              "}\n",
              "\n",
              "#sk-container-id-78 div.sk-dashed-wrapped {\n",
              "  border: 1px dashed var(--sklearn-color-line);\n",
              "  margin: 0 0.4em 0.5em 0.4em;\n",
              "  box-sizing: border-box;\n",
              "  padding-bottom: 0.4em;\n",
              "  background-color: var(--sklearn-color-background);\n",
              "}\n",
              "\n",
              "#sk-container-id-78 div.sk-container {\n",
              "  /* jupyter's `normalize.less` sets `[hidden] { display: none; }`\n",
              "     but bootstrap.min.css set `[hidden] { display: none !important; }`\n",
              "     so we also need the `!important` here to be able to override the\n",
              "     default hidden behavior on the sphinx rendered scikit-learn.org.\n",
              "     See: https://github.com/scikit-learn/scikit-learn/issues/21755 */\n",
              "  display: inline-block !important;\n",
              "  position: relative;\n",
              "}\n",
              "\n",
              "#sk-container-id-78 div.sk-text-repr-fallback {\n",
              "  display: none;\n",
              "}\n",
              "\n",
              "div.sk-parallel-item,\n",
              "div.sk-serial,\n",
              "div.sk-item {\n",
              "  /* draw centered vertical line to link estimators */\n",
              "  background-image: linear-gradient(var(--sklearn-color-text-on-default-background), var(--sklearn-color-text-on-default-background));\n",
              "  background-size: 2px 100%;\n",
              "  background-repeat: no-repeat;\n",
              "  background-position: center center;\n",
              "}\n",
              "\n",
              "/* Parallel-specific style estimator block */\n",
              "\n",
              "#sk-container-id-78 div.sk-parallel-item::after {\n",
              "  content: \"\";\n",
              "  width: 100%;\n",
              "  border-bottom: 2px solid var(--sklearn-color-text-on-default-background);\n",
              "  flex-grow: 1;\n",
              "}\n",
              "\n",
              "#sk-container-id-78 div.sk-parallel {\n",
              "  display: flex;\n",
              "  align-items: stretch;\n",
              "  justify-content: center;\n",
              "  background-color: var(--sklearn-color-background);\n",
              "  position: relative;\n",
              "}\n",
              "\n",
              "#sk-container-id-78 div.sk-parallel-item {\n",
              "  display: flex;\n",
              "  flex-direction: column;\n",
              "}\n",
              "\n",
              "#sk-container-id-78 div.sk-parallel-item:first-child::after {\n",
              "  align-self: flex-end;\n",
              "  width: 50%;\n",
              "}\n",
              "\n",
              "#sk-container-id-78 div.sk-parallel-item:last-child::after {\n",
              "  align-self: flex-start;\n",
              "  width: 50%;\n",
              "}\n",
              "\n",
              "#sk-container-id-78 div.sk-parallel-item:only-child::after {\n",
              "  width: 0;\n",
              "}\n",
              "\n",
              "/* Serial-specific style estimator block */\n",
              "\n",
              "#sk-container-id-78 div.sk-serial {\n",
              "  display: flex;\n",
              "  flex-direction: column;\n",
              "  align-items: center;\n",
              "  background-color: var(--sklearn-color-background);\n",
              "  padding-right: 1em;\n",
              "  padding-left: 1em;\n",
              "}\n",
              "\n",
              "\n",
              "/* Toggleable style: style used for estimator/Pipeline/ColumnTransformer box that is\n",
              "clickable and can be expanded/collapsed.\n",
              "- Pipeline and ColumnTransformer use this feature and define the default style\n",
              "- Estimators will overwrite some part of the style using the `sk-estimator` class\n",
              "*/\n",
              "\n",
              "/* Pipeline and ColumnTransformer style (default) */\n",
              "\n",
              "#sk-container-id-78 div.sk-toggleable {\n",
              "  /* Default theme specific background. It is overwritten whether we have a\n",
              "  specific estimator or a Pipeline/ColumnTransformer */\n",
              "  background-color: var(--sklearn-color-background);\n",
              "}\n",
              "\n",
              "/* Toggleable label */\n",
              "#sk-container-id-78 label.sk-toggleable__label {\n",
              "  cursor: pointer;\n",
              "  display: flex;\n",
              "  width: 100%;\n",
              "  margin-bottom: 0;\n",
              "  padding: 0.5em;\n",
              "  box-sizing: border-box;\n",
              "  text-align: center;\n",
              "  align-items: start;\n",
              "  justify-content: space-between;\n",
              "  gap: 0.5em;\n",
              "}\n",
              "\n",
              "#sk-container-id-78 label.sk-toggleable__label .caption {\n",
              "  font-size: 0.6rem;\n",
              "  font-weight: lighter;\n",
              "  color: var(--sklearn-color-text-muted);\n",
              "}\n",
              "\n",
              "#sk-container-id-78 label.sk-toggleable__label-arrow:before {\n",
              "  /* Arrow on the left of the label */\n",
              "  content: \"▸\";\n",
              "  float: left;\n",
              "  margin-right: 0.25em;\n",
              "  color: var(--sklearn-color-icon);\n",
              "}\n",
              "\n",
              "#sk-container-id-78 label.sk-toggleable__label-arrow:hover:before {\n",
              "  color: var(--sklearn-color-text);\n",
              "}\n",
              "\n",
              "/* Toggleable content - dropdown */\n",
              "\n",
              "#sk-container-id-78 div.sk-toggleable__content {\n",
              "  max-height: 0;\n",
              "  max-width: 0;\n",
              "  overflow: hidden;\n",
              "  text-align: left;\n",
              "  /* unfitted */\n",
              "  background-color: var(--sklearn-color-unfitted-level-0);\n",
              "}\n",
              "\n",
              "#sk-container-id-78 div.sk-toggleable__content.fitted {\n",
              "  /* fitted */\n",
              "  background-color: var(--sklearn-color-fitted-level-0);\n",
              "}\n",
              "\n",
              "#sk-container-id-78 div.sk-toggleable__content pre {\n",
              "  margin: 0.2em;\n",
              "  border-radius: 0.25em;\n",
              "  color: var(--sklearn-color-text);\n",
              "  /* unfitted */\n",
              "  background-color: var(--sklearn-color-unfitted-level-0);\n",
              "}\n",
              "\n",
              "#sk-container-id-78 div.sk-toggleable__content.fitted pre {\n",
              "  /* unfitted */\n",
              "  background-color: var(--sklearn-color-fitted-level-0);\n",
              "}\n",
              "\n",
              "#sk-container-id-78 input.sk-toggleable__control:checked~div.sk-toggleable__content {\n",
              "  /* Expand drop-down */\n",
              "  max-height: 200px;\n",
              "  max-width: 100%;\n",
              "  overflow: auto;\n",
              "}\n",
              "\n",
              "#sk-container-id-78 input.sk-toggleable__control:checked~label.sk-toggleable__label-arrow:before {\n",
              "  content: \"▾\";\n",
              "}\n",
              "\n",
              "/* Pipeline/ColumnTransformer-specific style */\n",
              "\n",
              "#sk-container-id-78 div.sk-label input.sk-toggleable__control:checked~label.sk-toggleable__label {\n",
              "  color: var(--sklearn-color-text);\n",
              "  background-color: var(--sklearn-color-unfitted-level-2);\n",
              "}\n",
              "\n",
              "#sk-container-id-78 div.sk-label.fitted input.sk-toggleable__control:checked~label.sk-toggleable__label {\n",
              "  background-color: var(--sklearn-color-fitted-level-2);\n",
              "}\n",
              "\n",
              "/* Estimator-specific style */\n",
              "\n",
              "/* Colorize estimator box */\n",
              "#sk-container-id-78 div.sk-estimator input.sk-toggleable__control:checked~label.sk-toggleable__label {\n",
              "  /* unfitted */\n",
              "  background-color: var(--sklearn-color-unfitted-level-2);\n",
              "}\n",
              "\n",
              "#sk-container-id-78 div.sk-estimator.fitted input.sk-toggleable__control:checked~label.sk-toggleable__label {\n",
              "  /* fitted */\n",
              "  background-color: var(--sklearn-color-fitted-level-2);\n",
              "}\n",
              "\n",
              "#sk-container-id-78 div.sk-label label.sk-toggleable__label,\n",
              "#sk-container-id-78 div.sk-label label {\n",
              "  /* The background is the default theme color */\n",
              "  color: var(--sklearn-color-text-on-default-background);\n",
              "}\n",
              "\n",
              "/* On hover, darken the color of the background */\n",
              "#sk-container-id-78 div.sk-label:hover label.sk-toggleable__label {\n",
              "  color: var(--sklearn-color-text);\n",
              "  background-color: var(--sklearn-color-unfitted-level-2);\n",
              "}\n",
              "\n",
              "/* Label box, darken color on hover, fitted */\n",
              "#sk-container-id-78 div.sk-label.fitted:hover label.sk-toggleable__label.fitted {\n",
              "  color: var(--sklearn-color-text);\n",
              "  background-color: var(--sklearn-color-fitted-level-2);\n",
              "}\n",
              "\n",
              "/* Estimator label */\n",
              "\n",
              "#sk-container-id-78 div.sk-label label {\n",
              "  font-family: monospace;\n",
              "  font-weight: bold;\n",
              "  display: inline-block;\n",
              "  line-height: 1.2em;\n",
              "}\n",
              "\n",
              "#sk-container-id-78 div.sk-label-container {\n",
              "  text-align: center;\n",
              "}\n",
              "\n",
              "/* Estimator-specific */\n",
              "#sk-container-id-78 div.sk-estimator {\n",
              "  font-family: monospace;\n",
              "  border: 1px dotted var(--sklearn-color-border-box);\n",
              "  border-radius: 0.25em;\n",
              "  box-sizing: border-box;\n",
              "  margin-bottom: 0.5em;\n",
              "  /* unfitted */\n",
              "  background-color: var(--sklearn-color-unfitted-level-0);\n",
              "}\n",
              "\n",
              "#sk-container-id-78 div.sk-estimator.fitted {\n",
              "  /* fitted */\n",
              "  background-color: var(--sklearn-color-fitted-level-0);\n",
              "}\n",
              "\n",
              "/* on hover */\n",
              "#sk-container-id-78 div.sk-estimator:hover {\n",
              "  /* unfitted */\n",
              "  background-color: var(--sklearn-color-unfitted-level-2);\n",
              "}\n",
              "\n",
              "#sk-container-id-78 div.sk-estimator.fitted:hover {\n",
              "  /* fitted */\n",
              "  background-color: var(--sklearn-color-fitted-level-2);\n",
              "}\n",
              "\n",
              "/* Specification for estimator info (e.g. \"i\" and \"?\") */\n",
              "\n",
              "/* Common style for \"i\" and \"?\" */\n",
              "\n",
              ".sk-estimator-doc-link,\n",
              "a:link.sk-estimator-doc-link,\n",
              "a:visited.sk-estimator-doc-link {\n",
              "  float: right;\n",
              "  font-size: smaller;\n",
              "  line-height: 1em;\n",
              "  font-family: monospace;\n",
              "  background-color: var(--sklearn-color-background);\n",
              "  border-radius: 1em;\n",
              "  height: 1em;\n",
              "  width: 1em;\n",
              "  text-decoration: none !important;\n",
              "  margin-left: 0.5em;\n",
              "  text-align: center;\n",
              "  /* unfitted */\n",
              "  border: var(--sklearn-color-unfitted-level-1) 1pt solid;\n",
              "  color: var(--sklearn-color-unfitted-level-1);\n",
              "}\n",
              "\n",
              ".sk-estimator-doc-link.fitted,\n",
              "a:link.sk-estimator-doc-link.fitted,\n",
              "a:visited.sk-estimator-doc-link.fitted {\n",
              "  /* fitted */\n",
              "  border: var(--sklearn-color-fitted-level-1) 1pt solid;\n",
              "  color: var(--sklearn-color-fitted-level-1);\n",
              "}\n",
              "\n",
              "/* On hover */\n",
              "div.sk-estimator:hover .sk-estimator-doc-link:hover,\n",
              ".sk-estimator-doc-link:hover,\n",
              "div.sk-label-container:hover .sk-estimator-doc-link:hover,\n",
              ".sk-estimator-doc-link:hover {\n",
              "  /* unfitted */\n",
              "  background-color: var(--sklearn-color-unfitted-level-3);\n",
              "  color: var(--sklearn-color-background);\n",
              "  text-decoration: none;\n",
              "}\n",
              "\n",
              "div.sk-estimator.fitted:hover .sk-estimator-doc-link.fitted:hover,\n",
              ".sk-estimator-doc-link.fitted:hover,\n",
              "div.sk-label-container:hover .sk-estimator-doc-link.fitted:hover,\n",
              ".sk-estimator-doc-link.fitted:hover {\n",
              "  /* fitted */\n",
              "  background-color: var(--sklearn-color-fitted-level-3);\n",
              "  color: var(--sklearn-color-background);\n",
              "  text-decoration: none;\n",
              "}\n",
              "\n",
              "/* Span, style for the box shown on hovering the info icon */\n",
              ".sk-estimator-doc-link span {\n",
              "  display: none;\n",
              "  z-index: 9999;\n",
              "  position: relative;\n",
              "  font-weight: normal;\n",
              "  right: .2ex;\n",
              "  padding: .5ex;\n",
              "  margin: .5ex;\n",
              "  width: min-content;\n",
              "  min-width: 20ex;\n",
              "  max-width: 50ex;\n",
              "  color: var(--sklearn-color-text);\n",
              "  box-shadow: 2pt 2pt 4pt #999;\n",
              "  /* unfitted */\n",
              "  background: var(--sklearn-color-unfitted-level-0);\n",
              "  border: .5pt solid var(--sklearn-color-unfitted-level-3);\n",
              "}\n",
              "\n",
              ".sk-estimator-doc-link.fitted span {\n",
              "  /* fitted */\n",
              "  background: var(--sklearn-color-fitted-level-0);\n",
              "  border: var(--sklearn-color-fitted-level-3);\n",
              "}\n",
              "\n",
              ".sk-estimator-doc-link:hover span {\n",
              "  display: block;\n",
              "}\n",
              "\n",
              "/* \"?\"-specific style due to the `<a>` HTML tag */\n",
              "\n",
              "#sk-container-id-78 a.estimator_doc_link {\n",
              "  float: right;\n",
              "  font-size: 1rem;\n",
              "  line-height: 1em;\n",
              "  font-family: monospace;\n",
              "  background-color: var(--sklearn-color-background);\n",
              "  border-radius: 1rem;\n",
              "  height: 1rem;\n",
              "  width: 1rem;\n",
              "  text-decoration: none;\n",
              "  /* unfitted */\n",
              "  color: var(--sklearn-color-unfitted-level-1);\n",
              "  border: var(--sklearn-color-unfitted-level-1) 1pt solid;\n",
              "}\n",
              "\n",
              "#sk-container-id-78 a.estimator_doc_link.fitted {\n",
              "  /* fitted */\n",
              "  border: var(--sklearn-color-fitted-level-1) 1pt solid;\n",
              "  color: var(--sklearn-color-fitted-level-1);\n",
              "}\n",
              "\n",
              "/* On hover */\n",
              "#sk-container-id-78 a.estimator_doc_link:hover {\n",
              "  /* unfitted */\n",
              "  background-color: var(--sklearn-color-unfitted-level-3);\n",
              "  color: var(--sklearn-color-background);\n",
              "  text-decoration: none;\n",
              "}\n",
              "\n",
              "#sk-container-id-78 a.estimator_doc_link.fitted:hover {\n",
              "  /* fitted */\n",
              "  background-color: var(--sklearn-color-fitted-level-3);\n",
              "}\n",
              "</style><div id=\"sk-container-id-78\" class=\"sk-top-container\"><div class=\"sk-text-repr-fallback\"><pre>LinearRegression()</pre><b>In a Jupyter environment, please rerun this cell to show the HTML representation or trust the notebook. <br />On GitHub, the HTML representation is unable to render, please try loading this page with nbviewer.org.</b></div><div class=\"sk-container\" hidden><div class=\"sk-item\"><div class=\"sk-estimator fitted sk-toggleable\"><input class=\"sk-toggleable__control sk-hidden--visually\" id=\"sk-estimator-id-78\" type=\"checkbox\" checked><label for=\"sk-estimator-id-78\" class=\"sk-toggleable__label fitted sk-toggleable__label-arrow\"><div><div>LinearRegression</div></div><div><a class=\"sk-estimator-doc-link fitted\" rel=\"noreferrer\" target=\"_blank\" href=\"https://scikit-learn.org/1.6/modules/generated/sklearn.linear_model.LinearRegression.html\">?<span>Documentation for LinearRegression</span></a><span class=\"sk-estimator-doc-link fitted\">i<span>Fitted</span></span></div></label><div class=\"sk-toggleable__content fitted\"><pre>LinearRegression()</pre></div> </div></div></div></div>"
            ]
          },
          "metadata": {},
          "execution_count": 3889
        }
      ]
    },
    {
      "cell_type": "code",
      "source": [
        "y_pred = model.predict(X_test_selected)"
      ],
      "metadata": {
        "id": "zvlxFia46r2S"
      },
      "execution_count": 3890,
      "outputs": []
    },
    {
      "cell_type": "code",
      "source": [
        "mae = mean_absolute_error(y_test, y_pred)"
      ],
      "metadata": {
        "id": "MDHuSNRO6tzn"
      },
      "execution_count": 3891,
      "outputs": []
    },
    {
      "cell_type": "code",
      "source": [
        "print(\"Linear Regression MAE:\", mae)"
      ],
      "metadata": {
        "id": "CnPbit--6vPc",
        "colab": {
          "base_uri": "https://localhost:8080/"
        },
        "outputId": "f1efc981-0a42-483d-b332-d3275fc0d591"
      },
      "execution_count": 3892,
      "outputs": [
        {
          "output_type": "stream",
          "name": "stdout",
          "text": [
            "Linear Regression MAE: 0.02855055228274192\n"
          ]
        }
      ]
    },
    {
      "cell_type": "markdown",
      "source": [
        "### ***Check for Overfitting and Multicollinearity***"
      ],
      "metadata": {
        "id": "dl05Jk6w6xfy"
      }
    },
    {
      "cell_type": "code",
      "source": [
        "train_sizes, train_scores, val_scores = learning_curve(\n",
        "    model, X_train_selected, y_train, cv=5, scoring=\"r2\", n_jobs=-1\n",
        ")\n",
        "\n",
        "train_mean = np.mean(train_scores, axis=1)\n",
        "train_std = np.std(train_scores, axis=1)\n",
        "val_mean = np.mean(val_scores, axis=1)\n",
        "val_std = np.std(val_scores, axis=1)\n",
        "\n",
        "plt.figure(figsize=(8, 6))\n",
        "plt.plot(train_sizes, train_mean, 'o-', label=\"Training Score\", color=\"blue\")\n",
        "plt.fill_between(train_sizes, train_mean - train_std, train_mean + train_std, alpha=0.1, color=\"blue\")\n",
        "\n",
        "plt.plot(train_sizes, val_mean, 'o-', label=\"Validation Score\", color=\"red\")\n",
        "plt.fill_between(train_sizes, val_mean - val_std, val_mean + val_std, alpha=0.1, color=\"red\")\n",
        "\n",
        "plt.xlabel(\"Training Set Size\")\n",
        "plt.ylabel(\"Score (R²)\")\n",
        "plt.title(\"Learning Curve\")\n",
        "plt.legend()\n",
        "plt.show()"
      ],
      "metadata": {
        "id": "R-sjR2zf8xbY",
        "colab": {
          "base_uri": "https://localhost:8080/",
          "height": 564
        },
        "outputId": "e3b234f1-5f65-4d9c-a582-d9199e2e73d6"
      },
      "execution_count": 3893,
      "outputs": [
        {
          "output_type": "display_data",
          "data": {
            "text/plain": [
              "<Figure size 800x600 with 1 Axes>"
            ],
            "image/png": "[encoded data removed]"
          },
          "metadata": {}
        }
      ]
    },
    {
      "cell_type": "code",
      "source": [
        "X_train_selected_df = pd.DataFrame(X_train_selected, columns=selected_features)\n",
        "\n",
        "# Calculate VIF\n",
        "vif_df = pd.DataFrame()\n",
        "vif_df[\"Feature\"] = selected_features\n",
        "vif_df[\"VIF\"] = [variance_inflation_factor(X_train_selected_df.values, i) for i in range(X_train_selected_df.shape[1])]\n",
        "\n",
        "# Sort and display\n",
        "print(\"VIF Scores:\\n\", vif_df.sort_values(by=\"VIF\", ascending=False))"
      ],
      "metadata": {
        "id": "2wBTss1x6xD4",
        "colab": {
          "base_uri": "https://localhost:8080/"
        },
        "outputId": "ca7c3c78-44d4-4743-e2f5-9094b9ee07a4"
      },
      "execution_count": 3894,
      "outputs": [
        {
          "output_type": "stream",
          "name": "stdout",
          "text": [
            "VIF Scores:\n",
            "            Feature        VIF\n",
            "7            PCINC  67.168286\n",
            "6          T_TOREC  65.075432\n",
            "0            FSIZE  28.814692\n",
            "4          T_TOTEX  18.776699\n",
            "2           T_FOOD  12.403402\n",
            "8            NATDC  11.038395\n",
            "1      T_FOOD_HOME   5.805550\n",
            "9            REGDC   5.478791\n",
            "3  T_MISCELLANEOUS   3.562285\n",
            "5         T_OTHREC   1.521216\n"
          ]
        }
      ]
    },
    {
      "cell_type": "markdown",
      "source": [
        "## **K Nearest Neighbors Regression**"
      ],
      "metadata": {
        "id": "P6vp25bmYJrb"
      }
    },
    {
      "cell_type": "markdown",
      "source": [
        "We first initialized an instance of the imported KNeighborsRegressor class from sklearn.neighbors. The KNN regressor will be used to predict target values based on the k-nearest neighbors in the feature space."
      ],
      "metadata": {
        "id": "3OGuGIzejfym"
      }
    },
    {
      "cell_type": "code",
      "source": [
        "knn = KNeighborsRegressor()"
      ],
      "metadata": {
        "id": "hMi1NptRYLNT"
      },
      "execution_count": 3895,
      "outputs": []
    },
    {
      "cell_type": "markdown",
      "source": [
        "Here, the KNN regressor is fitted to the training data (X_train and y_train). This step allows the model to learn the relationship between the features and the target values."
      ],
      "metadata": {
        "id": "D8bn2oHcjhhj"
      }
    },
    {
      "cell_type": "code",
      "source": [
        "knn.fit(X_train, y_train)"
      ],
      "metadata": {
        "id": "U09KKOnDYMvU",
        "colab": {
          "base_uri": "https://localhost:8080/",
          "height": 80
        },
        "outputId": "e76115df-ee3c-4f25-be7d-378290679bd8"
      },
      "execution_count": 3896,
      "outputs": [
        {
          "output_type": "execute_result",
          "data": {
            "text/plain": [
              "KNeighborsRegressor()"
            ],
            "text/html": [
              "<style>#sk-container-id-79 {\n",
              "  /* Definition of color scheme common for light and dark mode */\n",
              "  --sklearn-color-text: #000;\n",
              "  --sklearn-color-text-muted: #666;\n",
              "  --sklearn-color-line: gray;\n",
              "  /* Definition of color scheme for unfitted estimators */\n",
              "  --sklearn-color-unfitted-level-0: #fff5e6;\n",
              "  --sklearn-color-unfitted-level-1: #f6e4d2;\n",
              "  --sklearn-color-unfitted-level-2: #ffe0b3;\n",
              "  --sklearn-color-unfitted-level-3: chocolate;\n",
              "  /* Definition of color scheme for fitted estimators */\n",
              "  --sklearn-color-fitted-level-0: #f0f8ff;\n",
              "  --sklearn-color-fitted-level-1: #d4ebff;\n",
              "  --sklearn-color-fitted-level-2: #b3dbfd;\n",
              "  --sklearn-color-fitted-level-3: cornflowerblue;\n",
              "\n",
              "  /* Specific color for light theme */\n",
              "  --sklearn-color-text-on-default-background: var(--sg-text-color, var(--theme-code-foreground, var(--jp-content-font-color1, black)));\n",
              "  --sklearn-color-background: var(--sg-background-color, var(--theme-background, var(--jp-layout-color0, white)));\n",
              "  --sklearn-color-border-box: var(--sg-text-color, var(--theme-code-foreground, var(--jp-content-font-color1, black)));\n",
              "  --sklearn-color-icon: #696969;\n",
              "\n",
              "  @media (prefers-color-scheme: dark) {\n",
              "    /* Redefinition of color scheme for dark theme */\n",
              "    --sklearn-color-text-on-default-background: var(--sg-text-color, var(--theme-code-foreground, var(--jp-content-font-color1, white)));\n",
              "    --sklearn-color-background: var(--sg-background-color, var(--theme-background, var(--jp-layout-color0, #111)));\n",
              "    --sklearn-color-border-box: var(--sg-text-color, var(--theme-code-foreground, var(--jp-content-font-color1, white)));\n",
              "    --sklearn-color-icon: #878787;\n",
              "  }\n",
              "}\n",
              "\n",
              "#sk-container-id-79 {\n",
              "  color: var(--sklearn-color-text);\n",
              "}\n",
              "\n",
              "#sk-container-id-79 pre {\n",
              "  padding: 0;\n",
              "}\n",
              "\n",
              "#sk-container-id-79 input.sk-hidden--visually {\n",
              "  border: 0;\n",
              "  clip: rect(1px 1px 1px 1px);\n",
              "  clip: rect(1px, 1px, 1px, 1px);\n",
              "  height: 1px;\n",
              "  margin: -1px;\n",
              "  overflow: hidden;\n",
              "  padding: 0;\n",
              "  position: absolute;\n",
              "  width: 1px;\n",
              "}\n",
              "\n",
              "#sk-container-id-79 div.sk-dashed-wrapped {\n",
              "  border: 1px dashed var(--sklearn-color-line);\n",
              "  margin: 0 0.4em 0.5em 0.4em;\n",
              "  box-sizing: border-box;\n",
              "  padding-bottom: 0.4em;\n",
              "  background-color: var(--sklearn-color-background);\n",
              "}\n",
              "\n",
              "#sk-container-id-79 div.sk-container {\n",
              "  /* jupyter's `normalize.less` sets `[hidden] { display: none; }`\n",
              "     but bootstrap.min.css set `[hidden] { display: none !important; }`\n",
              "     so we also need the `!important` here to be able to override the\n",
              "     default hidden behavior on the sphinx rendered scikit-learn.org.\n",
              "     See: https://github.com/scikit-learn/scikit-learn/issues/21755 */\n",
              "  display: inline-block !important;\n",
              "  position: relative;\n",
              "}\n",
              "\n",
              "#sk-container-id-79 div.sk-text-repr-fallback {\n",
              "  display: none;\n",
              "}\n",
              "\n",
              "div.sk-parallel-item,\n",
              "div.sk-serial,\n",
              "div.sk-item {\n",
              "  /* draw centered vertical line to link estimators */\n",
              "  background-image: linear-gradient(var(--sklearn-color-text-on-default-background), var(--sklearn-color-text-on-default-background));\n",
              "  background-size: 2px 100%;\n",
              "  background-repeat: no-repeat;\n",
              "  background-position: center center;\n",
              "}\n",
              "\n",
              "/* Parallel-specific style estimator block */\n",
              "\n",
              "#sk-container-id-79 div.sk-parallel-item::after {\n",
              "  content: \"\";\n",
              "  width: 100%;\n",
              "  border-bottom: 2px solid var(--sklearn-color-text-on-default-background);\n",
              "  flex-grow: 1;\n",
              "}\n",
              "\n",
              "#sk-container-id-79 div.sk-parallel {\n",
              "  display: flex;\n",
              "  align-items: stretch;\n",
              "  justify-content: center;\n",
              "  background-color: var(--sklearn-color-background);\n",
              "  position: relative;\n",
              "}\n",
              "\n",
              "#sk-container-id-79 div.sk-parallel-item {\n",
              "  display: flex;\n",
              "  flex-direction: column;\n",
              "}\n",
              "\n",
              "#sk-container-id-79 div.sk-parallel-item:first-child::after {\n",
              "  align-self: flex-end;\n",
              "  width: 50%;\n",
              "}\n",
              "\n",
              "#sk-container-id-79 div.sk-parallel-item:last-child::after {\n",
              "  align-self: flex-start;\n",
              "  width: 50%;\n",
              "}\n",
              "\n",
              "#sk-container-id-79 div.sk-parallel-item:only-child::after {\n",
              "  width: 0;\n",
              "}\n",
              "\n",
              "/* Serial-specific style estimator block */\n",
              "\n",
              "#sk-container-id-79 div.sk-serial {\n",
              "  display: flex;\n",
              "  flex-direction: column;\n",
              "  align-items: center;\n",
              "  background-color: var(--sklearn-color-background);\n",
              "  padding-right: 1em;\n",
              "  padding-left: 1em;\n",
              "}\n",
              "\n",
              "\n",
              "/* Toggleable style: style used for estimator/Pipeline/ColumnTransformer box that is\n",
              "clickable and can be expanded/collapsed.\n",
              "- Pipeline and ColumnTransformer use this feature and define the default style\n",
              "- Estimators will overwrite some part of the style using the `sk-estimator` class\n",
              "*/\n",
              "\n",
              "/* Pipeline and ColumnTransformer style (default) */\n",
              "\n",
              "#sk-container-id-79 div.sk-toggleable {\n",
              "  /* Default theme specific background. It is overwritten whether we have a\n",
              "  specific estimator or a Pipeline/ColumnTransformer */\n",
              "  background-color: var(--sklearn-color-background);\n",
              "}\n",
              "\n",
              "/* Toggleable label */\n",
              "#sk-container-id-79 label.sk-toggleable__label {\n",
              "  cursor: pointer;\n",
              "  display: flex;\n",
              "  width: 100%;\n",
              "  margin-bottom: 0;\n",
              "  padding: 0.5em;\n",
              "  box-sizing: border-box;\n",
              "  text-align: center;\n",
              "  align-items: start;\n",
              "  justify-content: space-between;\n",
              "  gap: 0.5em;\n",
              "}\n",
              "\n",
              "#sk-container-id-79 label.sk-toggleable__label .caption {\n",
              "  font-size: 0.6rem;\n",
              "  font-weight: lighter;\n",
              "  color: var(--sklearn-color-text-muted);\n",
              "}\n",
              "\n",
              "#sk-container-id-79 label.sk-toggleable__label-arrow:before {\n",
              "  /* Arrow on the left of the label */\n",
              "  content: \"▸\";\n",
              "  float: left;\n",
              "  margin-right: 0.25em;\n",
              "  color: var(--sklearn-color-icon);\n",
              "}\n",
              "\n",
              "#sk-container-id-79 label.sk-toggleable__label-arrow:hover:before {\n",
              "  color: var(--sklearn-color-text);\n",
              "}\n",
              "\n",
              "/* Toggleable content - dropdown */\n",
              "\n",
              "#sk-container-id-79 div.sk-toggleable__content {\n",
              "  max-height: 0;\n",
              "  max-width: 0;\n",
              "  overflow: hidden;\n",
              "  text-align: left;\n",
              "  /* unfitted */\n",
              "  background-color: var(--sklearn-color-unfitted-level-0);\n",
              "}\n",
              "\n",
              "#sk-container-id-79 div.sk-toggleable__content.fitted {\n",
              "  /* fitted */\n",
              "  background-color: var(--sklearn-color-fitted-level-0);\n",
              "}\n",
              "\n",
              "#sk-container-id-79 div.sk-toggleable__content pre {\n",
              "  margin: 0.2em;\n",
              "  border-radius: 0.25em;\n",
              "  color: var(--sklearn-color-text);\n",
              "  /* unfitted */\n",
              "  background-color: var(--sklearn-color-unfitted-level-0);\n",
              "}\n",
              "\n",
              "#sk-container-id-79 div.sk-toggleable__content.fitted pre {\n",
              "  /* unfitted */\n",
              "  background-color: var(--sklearn-color-fitted-level-0);\n",
              "}\n",
              "\n",
              "#sk-container-id-79 input.sk-toggleable__control:checked~div.sk-toggleable__content {\n",
              "  /* Expand drop-down */\n",
              "  max-height: 200px;\n",
              "  max-width: 100%;\n",
              "  overflow: auto;\n",
              "}\n",
              "\n",
              "#sk-container-id-79 input.sk-toggleable__control:checked~label.sk-toggleable__label-arrow:before {\n",
              "  content: \"▾\";\n",
              "}\n",
              "\n",
              "/* Pipeline/ColumnTransformer-specific style */\n",
              "\n",
              "#sk-container-id-79 div.sk-label input.sk-toggleable__control:checked~label.sk-toggleable__label {\n",
              "  color: var(--sklearn-color-text);\n",
              "  background-color: var(--sklearn-color-unfitted-level-2);\n",
              "}\n",
              "\n",
              "#sk-container-id-79 div.sk-label.fitted input.sk-toggleable__control:checked~label.sk-toggleable__label {\n",
              "  background-color: var(--sklearn-color-fitted-level-2);\n",
              "}\n",
              "\n",
              "/* Estimator-specific style */\n",
              "\n",
              "/* Colorize estimator box */\n",
              "#sk-container-id-79 div.sk-estimator input.sk-toggleable__control:checked~label.sk-toggleable__label {\n",
              "  /* unfitted */\n",
              "  background-color: var(--sklearn-color-unfitted-level-2);\n",
              "}\n",
              "\n",
              "#sk-container-id-79 div.sk-estimator.fitted input.sk-toggleable__control:checked~label.sk-toggleable__label {\n",
              "  /* fitted */\n",
              "  background-color: var(--sklearn-color-fitted-level-2);\n",
              "}\n",
              "\n",
              "#sk-container-id-79 div.sk-label label.sk-toggleable__label,\n",
              "#sk-container-id-79 div.sk-label label {\n",
              "  /* The background is the default theme color */\n",
              "  color: var(--sklearn-color-text-on-default-background);\n",
              "}\n",
              "\n",
              "/* On hover, darken the color of the background */\n",
              "#sk-container-id-79 div.sk-label:hover label.sk-toggleable__label {\n",
              "  color: var(--sklearn-color-text);\n",
              "  background-color: var(--sklearn-color-unfitted-level-2);\n",
              "}\n",
              "\n",
              "/* Label box, darken color on hover, fitted */\n",
              "#sk-container-id-79 div.sk-label.fitted:hover label.sk-toggleable__label.fitted {\n",
              "  color: var(--sklearn-color-text);\n",
              "  background-color: var(--sklearn-color-fitted-level-2);\n",
              "}\n",
              "\n",
              "/* Estimator label */\n",
              "\n",
              "#sk-container-id-79 div.sk-label label {\n",
              "  font-family: monospace;\n",
              "  font-weight: bold;\n",
              "  display: inline-block;\n",
              "  line-height: 1.2em;\n",
              "}\n",
              "\n",
              "#sk-container-id-79 div.sk-label-container {\n",
              "  text-align: center;\n",
              "}\n",
              "\n",
              "/* Estimator-specific */\n",
              "#sk-container-id-79 div.sk-estimator {\n",
              "  font-family: monospace;\n",
              "  border: 1px dotted var(--sklearn-color-border-box);\n",
              "  border-radius: 0.25em;\n",
              "  box-sizing: border-box;\n",
              "  margin-bottom: 0.5em;\n",
              "  /* unfitted */\n",
              "  background-color: var(--sklearn-color-unfitted-level-0);\n",
              "}\n",
              "\n",
              "#sk-container-id-79 div.sk-estimator.fitted {\n",
              "  /* fitted */\n",
              "  background-color: var(--sklearn-color-fitted-level-0);\n",
              "}\n",
              "\n",
              "/* on hover */\n",
              "#sk-container-id-79 div.sk-estimator:hover {\n",
              "  /* unfitted */\n",
              "  background-color: var(--sklearn-color-unfitted-level-2);\n",
              "}\n",
              "\n",
              "#sk-container-id-79 div.sk-estimator.fitted:hover {\n",
              "  /* fitted */\n",
              "  background-color: var(--sklearn-color-fitted-level-2);\n",
              "}\n",
              "\n",
              "/* Specification for estimator info (e.g. \"i\" and \"?\") */\n",
              "\n",
              "/* Common style for \"i\" and \"?\" */\n",
              "\n",
              ".sk-estimator-doc-link,\n",
              "a:link.sk-estimator-doc-link,\n",
              "a:visited.sk-estimator-doc-link {\n",
              "  float: right;\n",
              "  font-size: smaller;\n",
              "  line-height: 1em;\n",
              "  font-family: monospace;\n",
              "  background-color: var(--sklearn-color-background);\n",
              "  border-radius: 1em;\n",
              "  height: 1em;\n",
              "  width: 1em;\n",
              "  text-decoration: none !important;\n",
              "  margin-left: 0.5em;\n",
              "  text-align: center;\n",
              "  /* unfitted */\n",
              "  border: var(--sklearn-color-unfitted-level-1) 1pt solid;\n",
              "  color: var(--sklearn-color-unfitted-level-1);\n",
              "}\n",
              "\n",
              ".sk-estimator-doc-link.fitted,\n",
              "a:link.sk-estimator-doc-link.fitted,\n",
              "a:visited.sk-estimator-doc-link.fitted {\n",
              "  /* fitted */\n",
              "  border: var(--sklearn-color-fitted-level-1) 1pt solid;\n",
              "  color: var(--sklearn-color-fitted-level-1);\n",
              "}\n",
              "\n",
              "/* On hover */\n",
              "div.sk-estimator:hover .sk-estimator-doc-link:hover,\n",
              ".sk-estimator-doc-link:hover,\n",
              "div.sk-label-container:hover .sk-estimator-doc-link:hover,\n",
              ".sk-estimator-doc-link:hover {\n",
              "  /* unfitted */\n",
              "  background-color: var(--sklearn-color-unfitted-level-3);\n",
              "  color: var(--sklearn-color-background);\n",
              "  text-decoration: none;\n",
              "}\n",
              "\n",
              "div.sk-estimator.fitted:hover .sk-estimator-doc-link.fitted:hover,\n",
              ".sk-estimator-doc-link.fitted:hover,\n",
              "div.sk-label-container:hover .sk-estimator-doc-link.fitted:hover,\n",
              ".sk-estimator-doc-link.fitted:hover {\n",
              "  /* fitted */\n",
              "  background-color: var(--sklearn-color-fitted-level-3);\n",
              "  color: var(--sklearn-color-background);\n",
              "  text-decoration: none;\n",
              "}\n",
              "\n",
              "/* Span, style for the box shown on hovering the info icon */\n",
              ".sk-estimator-doc-link span {\n",
              "  display: none;\n",
              "  z-index: 9999;\n",
              "  position: relative;\n",
              "  font-weight: normal;\n",
              "  right: .2ex;\n",
              "  padding: .5ex;\n",
              "  margin: .5ex;\n",
              "  width: min-content;\n",
              "  min-width: 20ex;\n",
              "  max-width: 50ex;\n",
              "  color: var(--sklearn-color-text);\n",
              "  box-shadow: 2pt 2pt 4pt #999;\n",
              "  /* unfitted */\n",
              "  background: var(--sklearn-color-unfitted-level-0);\n",
              "  border: .5pt solid var(--sklearn-color-unfitted-level-3);\n",
              "}\n",
              "\n",
              ".sk-estimator-doc-link.fitted span {\n",
              "  /* fitted */\n",
              "  background: var(--sklearn-color-fitted-level-0);\n",
              "  border: var(--sklearn-color-fitted-level-3);\n",
              "}\n",
              "\n",
              ".sk-estimator-doc-link:hover span {\n",
              "  display: block;\n",
              "}\n",
              "\n",
              "/* \"?\"-specific style due to the `<a>` HTML tag */\n",
              "\n",
              "#sk-container-id-79 a.estimator_doc_link {\n",
              "  float: right;\n",
              "  font-size: 1rem;\n",
              "  line-height: 1em;\n",
              "  font-family: monospace;\n",
              "  background-color: var(--sklearn-color-background);\n",
              "  border-radius: 1rem;\n",
              "  height: 1rem;\n",
              "  width: 1rem;\n",
              "  text-decoration: none;\n",
              "  /* unfitted */\n",
              "  color: var(--sklearn-color-unfitted-level-1);\n",
              "  border: var(--sklearn-color-unfitted-level-1) 1pt solid;\n",
              "}\n",
              "\n",
              "#sk-container-id-79 a.estimator_doc_link.fitted {\n",
              "  /* fitted */\n",
              "  border: var(--sklearn-color-fitted-level-1) 1pt solid;\n",
              "  color: var(--sklearn-color-fitted-level-1);\n",
              "}\n",
              "\n",
              "/* On hover */\n",
              "#sk-container-id-79 a.estimator_doc_link:hover {\n",
              "  /* unfitted */\n",
              "  background-color: var(--sklearn-color-unfitted-level-3);\n",
              "  color: var(--sklearn-color-background);\n",
              "  text-decoration: none;\n",
              "}\n",
              "\n",
              "#sk-container-id-79 a.estimator_doc_link.fitted:hover {\n",
              "  /* fitted */\n",
              "  background-color: var(--sklearn-color-fitted-level-3);\n",
              "}\n",
              "</style><div id=\"sk-container-id-79\" class=\"sk-top-container\"><div class=\"sk-text-repr-fallback\"><pre>KNeighborsRegressor()</pre><b>In a Jupyter environment, please rerun this cell to show the HTML representation or trust the notebook. <br />On GitHub, the HTML representation is unable to render, please try loading this page with nbviewer.org.</b></div><div class=\"sk-container\" hidden><div class=\"sk-item\"><div class=\"sk-estimator fitted sk-toggleable\"><input class=\"sk-toggleable__control sk-hidden--visually\" id=\"sk-estimator-id-79\" type=\"checkbox\" checked><label for=\"sk-estimator-id-79\" class=\"sk-toggleable__label fitted sk-toggleable__label-arrow\"><div><div>KNeighborsRegressor</div></div><div><a class=\"sk-estimator-doc-link fitted\" rel=\"noreferrer\" target=\"_blank\" href=\"https://scikit-learn.org/1.6/modules/generated/sklearn.neighbors.KNeighborsRegressor.html\">?<span>Documentation for KNeighborsRegressor</span></a><span class=\"sk-estimator-doc-link fitted\">i<span>Fitted</span></span></div></label><div class=\"sk-toggleable__content fitted\"><pre>KNeighborsRegressor()</pre></div> </div></div></div></div>"
            ]
          },
          "metadata": {},
          "execution_count": 3896
        }
      ]
    },
    {
      "cell_type": "markdown",
      "source": [
        "Next, the fitted KNN regressor is used to predict the target values for the test data (X_test). The predictions are stored in y_pred. The model's performance is then evaluated using Mean Squared Error (MSE). The mean_squared_error function compares the true target values (y_test) with the predicted values (y_pred) and calculates the MSE, which is then printed."
      ],
      "metadata": {
        "id": "9s2BVz9vYREx"
      }
    },
    {
      "cell_type": "code",
      "source": [
        "y_pred = knn.predict(X_test)\n",
        "print(mean_squared_error(y_test, y_pred))"
      ],
      "metadata": {
        "id": "_cY81x5lYNpg",
        "colab": {
          "base_uri": "https://localhost:8080/"
        },
        "outputId": "1584eb27-e99b-434a-b9e9-38d81e97e5e4"
      },
      "execution_count": 3897,
      "outputs": [
        {
          "output_type": "stream",
          "name": "stdout",
          "text": [
            "0.16344886189159216\n"
          ]
        }
      ]
    },
    {
      "cell_type": "markdown",
      "source": [
        "The same is done for the train data."
      ],
      "metadata": {
        "id": "Cfr3lK1mYS0X"
      }
    },
    {
      "cell_type": "code",
      "source": [
        "y_train_pred = knn.predict(X_train)\n",
        "print(mean_squared_error(y_train, y_train_pred))"
      ],
      "metadata": {
        "id": "368aIP29YO1p",
        "colab": {
          "base_uri": "https://localhost:8080/"
        },
        "outputId": "3c8609ad-8434-47ac-c150-294b0d01b211"
      },
      "execution_count": 3898,
      "outputs": [
        {
          "output_type": "stream",
          "name": "stdout",
          "text": [
            "0.10306021025268712\n"
          ]
        }
      ]
    },
    {
      "cell_type": "markdown",
      "source": [],
      "metadata": {
        "id": "9SI8fpB7wSsh"
      }
    },
    {
      "cell_type": "markdown",
      "source": [
        "## **Neural Networks**\n",
        "\n",
        "This section trains a **Neural Network** (**NN**) **for regression** to predict **Total Income** (**TOINC**). The model is designed to handle **non-linear relationship**s in the data and is evaluated to ensure it is **neither overfitting nor underfitting**."
      ],
      "metadata": {
        "id": "E9p3aaZHadP6"
      }
    },
    {
      "cell_type": "markdown",
      "source": [
        "To improve performance, the model consists of **three hidden layers** (128, 64, and 32 neurons) with **ReLU activation**. A **Dropout layer** (**0.2**) is added to prevent overfitting."
      ],
      "metadata": {
        "id": "clMUF0x0PqYw"
      }
    },
    {
      "cell_type": "code",
      "source": [
        "model = Sequential([\n",
        "    Dense(128, input_shape=(X_train.shape[1],)),\n",
        "    BatchNormalization(),\n",
        "    Activation(\"relu\"),\n",
        "    Dropout(0.2),\n",
        "\n",
        "    Dense(64),\n",
        "    BatchNormalization(),\n",
        "    Activation(\"relu\"),\n",
        "    Dropout(0.2),\n",
        "\n",
        "    Dense(32),\n",
        "    BatchNormalization(),\n",
        "    Activation(\"relu\"),\n",
        "    Dropout(0.2),\n",
        "\n",
        "    Dense(16),\n",
        "    BatchNormalization(),\n",
        "    Activation(\"relu\"),\n",
        "\n",
        "    Dense(1, activation=\"linear\")\n",
        "])"
      ],
      "metadata": {
        "collapsed": true,
        "id": "DqWWDn9IOdYL",
        "colab": {
          "base_uri": "https://localhost:8080/"
        },
        "outputId": "c232e39c-17e7-4c93-872e-a771d6a5f0e7"
      },
      "execution_count": 3899,
      "outputs": [
        {
          "output_type": "stream",
          "name": "stderr",
          "text": [
            "/usr/local/lib/python3.11/dist-packages/keras/src/layers/core/dense.py:87: UserWarning: Do not pass an `input_shape`/`input_dim` argument to a layer. When using Sequential models, prefer using an `Input(shape)` object as the first layer in the model instead.\n",
            "  super().__init__(activity_regularizer=activity_regularizer, **kwargs)\n"
          ]
        }
      ]
    },
    {
      "cell_type": "markdown",
      "source": [
        "Then we use the **Adam optimizer** with a **lower learning rate** (**0.005**) to improve stability and generalization. The **loss function** is **Mean Squared Error** (**MSE**), and **Mean Absolute Error** (**MAE**) is used to track performance."
      ],
      "metadata": {
        "id": "xhJtYMyEQ3W9"
      }
    },
    {
      "cell_type": "code",
      "source": [
        "model.compile(\n",
        "    optimizer=Adam(learning_rate=0.001),\n",
        "    loss=\"mse\",\n",
        "    metrics=[\"mae\"]\n",
        ")"
      ],
      "metadata": {
        "id": "tONj9927Q4wz"
      },
      "execution_count": 3900,
      "outputs": []
    },
    {
      "cell_type": "markdown",
      "source": [
        "The model is configured to optimize learning with reduced sensitivity to fluctuations."
      ],
      "metadata": {
        "id": "8euFPpmmSiRS"
      }
    },
    {
      "cell_type": "markdown",
      "source": [
        "The model is trained for 50 epochs, avoiding unnecessary computations while maintaining performance. (This might take a while. Batch size = 8 leads to longer training time but more stable results. For faster training, we can try batch size = 16 and compare MAE. )"
      ],
      "metadata": {
        "id": "siOKNLjRRPkw"
      }
    },
    {
      "cell_type": "code",
      "source": [
        "history = model.fit(\n",
        "    X_train_scaled, y_train,\n",
        "    epochs=100,\n",
        "    batch_size=16,\n",
        "    validation_data=(X_test_scaled, y_test),\n",
        "    callbacks=[early_stopping, reduce_lr],\n",
        "    verbose=1\n",
        ")"
      ],
      "metadata": {
        "collapsed": true,
        "id": "PBw7Qp4lRUM6",
        "outputId": "26d3aa64-61ab-4431-a5ac-893c1819fdee",
        "colab": {
          "base_uri": "https://localhost:8080/"
        }
      },
      "execution_count": null,
      "outputs": [
        {
          "output_type": "stream",
          "name": "stdout",
          "text": [
            "Epoch 1/100\n",
            "\u001b[1m2009/2009\u001b[0m \u001b[32m━━━━━━━━━━━━━━━━━━━━\u001b[0m\u001b[37m\u001b[0m \u001b[1m13s\u001b[0m 4ms/step - loss: 54.6911 - mae: 6.0919 - val_loss: 0.3500 - val_mae: 0.4697 - learning_rate: 0.0010\n",
            "Epoch 2/100\n",
            "\u001b[1m2009/2009\u001b[0m \u001b[32m━━━━━━━━━━━━━━━━━━━━\u001b[0m\u001b[37m\u001b[0m \u001b[1m12s\u001b[0m 5ms/step - loss: 0.5996 - mae: 0.6104 - val_loss: 0.1707 - val_mae: 0.3402 - learning_rate: 0.0010\n",
            "Epoch 3/100\n",
            "\u001b[1m2009/2009\u001b[0m \u001b[32m━━━━━━━━━━━━━━━━━━━━\u001b[0m\u001b[37m\u001b[0m \u001b[1m10s\u001b[0m 5ms/step - loss: 0.3407 - mae: 0.4600 - val_loss: 0.1025 - val_mae: 0.2581 - learning_rate: 0.0010\n",
            "Epoch 4/100\n",
            "\u001b[1m2009/2009\u001b[0m \u001b[32m━━━━━━━━━━━━━━━━━━━━\u001b[0m\u001b[37m\u001b[0m \u001b[1m11s\u001b[0m 5ms/step - loss: 0.2473 - mae: 0.3903 - val_loss: 0.0487 - val_mae: 0.1736 - learning_rate: 0.0010\n",
            "Epoch 5/100\n",
            "\u001b[1m2009/2009\u001b[0m \u001b[32m━━━━━━━━━━━━━━━━━━━━\u001b[0m\u001b[37m\u001b[0m \u001b[1m8s\u001b[0m 4ms/step - loss: 0.1941 - mae: 0.3440 - val_loss: 0.0523 - val_mae: 0.1716 - learning_rate: 0.0010\n",
            "Epoch 6/100\n",
            "\u001b[1m2009/2009\u001b[0m \u001b[32m━━━━━━━━━━━━━━━━━━━━\u001b[0m\u001b[37m\u001b[0m \u001b[1m10s\u001b[0m 5ms/step - loss: 0.1612 - mae: 0.3117 - val_loss: 0.0262 - val_mae: 0.1171 - learning_rate: 0.0010\n",
            "Epoch 7/100\n",
            "\u001b[1m2009/2009\u001b[0m \u001b[32m━━━━━━━━━━━━━━━━━━━━\u001b[0m\u001b[37m\u001b[0m \u001b[1m10s\u001b[0m 5ms/step - loss: 0.1317 - mae: 0.2821 - val_loss: 0.0270 - val_mae: 0.1128 - learning_rate: 0.0010\n",
            "Epoch 8/100\n",
            "\u001b[1m2009/2009\u001b[0m \u001b[32m━━━━━━━━━━━━━━━━━━━━\u001b[0m\u001b[37m\u001b[0m \u001b[1m11s\u001b[0m 5ms/step - loss: 0.1113 - mae: 0.2577 - val_loss: 0.0159 - val_mae: 0.0844 - learning_rate: 0.0010\n",
            "Epoch 9/100\n",
            "\u001b[1m2009/2009\u001b[0m \u001b[32m━━━━━━━━━━━━━━━━━━━━\u001b[0m\u001b[37m\u001b[0m \u001b[1m19s\u001b[0m 5ms/step - loss: 0.1008 - mae: 0.2449 - val_loss: 0.0331 - val_mae: 0.1090 - learning_rate: 0.0010\n",
            "Epoch 10/100\n",
            "\u001b[1m2009/2009\u001b[0m \u001b[32m━━━━━━━━━━━━━━━━━━━━\u001b[0m\u001b[37m\u001b[0m \u001b[1m10s\u001b[0m 5ms/step - loss: 0.0907 - mae: 0.2321 - val_loss: 0.0178 - val_mae: 0.0883 - learning_rate: 0.0010\n",
            "Epoch 11/100\n",
            "\u001b[1m2009/2009\u001b[0m \u001b[32m━━━━━━━━━━━━━━━━━━━━\u001b[0m\u001b[37m\u001b[0m \u001b[1m10s\u001b[0m 5ms/step - loss: 0.0815 - mae: 0.2209 - val_loss: 0.0168 - val_mae: 0.0906 - learning_rate: 0.0010\n",
            "Epoch 12/100\n",
            "\u001b[1m2009/2009\u001b[0m \u001b[32m━━━━━━━━━━━━━━━━━━━━\u001b[0m\u001b[37m\u001b[0m \u001b[1m8s\u001b[0m 4ms/step - loss: 0.0764 - mae: 0.2132 - val_loss: 0.0157 - val_mae: 0.0771 - learning_rate: 0.0010\n",
            "Epoch 13/100\n",
            "\u001b[1m2009/2009\u001b[0m \u001b[32m━━━━━━━━━━━━━━━━━━━━\u001b[0m\u001b[37m\u001b[0m \u001b[1m11s\u001b[0m 4ms/step - loss: 0.0721 - mae: 0.2072 - val_loss: 0.0242 - val_mae: 0.0909 - learning_rate: 0.0010\n",
            "Epoch 14/100\n",
            "\u001b[1m2009/2009\u001b[0m \u001b[32m━━━━━━━━━━━━━━━━━━━━\u001b[0m\u001b[37m\u001b[0m \u001b[1m10s\u001b[0m 5ms/step - loss: 0.0621 - mae: 0.1930 - val_loss: 0.0201 - val_mae: 0.0786 - learning_rate: 0.0010\n",
            "Epoch 15/100\n",
            "\u001b[1m2009/2009\u001b[0m \u001b[32m━━━━━━━━━━━━━━━━━━━━\u001b[0m\u001b[37m\u001b[0m \u001b[1m11s\u001b[0m 5ms/step - loss: 0.0605 - mae: 0.1900 - val_loss: 0.0229 - val_mae: 0.1022 - learning_rate: 0.0010\n",
            "Epoch 16/100\n",
            "\u001b[1m2009/2009\u001b[0m \u001b[32m━━━━━━━━━━━━━━━━━━━━\u001b[0m\u001b[37m\u001b[0m \u001b[1m9s\u001b[0m 4ms/step - loss: 0.0529 - mae: 0.1782 - val_loss: 0.0109 - val_mae: 0.0751 - learning_rate: 0.0010\n",
            "Epoch 17/100\n",
            "\u001b[1m2009/2009\u001b[0m \u001b[32m━━━━━━━━━━━━━━━━━━━━\u001b[0m\u001b[37m\u001b[0m \u001b[1m10s\u001b[0m 4ms/step - loss: 0.0501 - mae: 0.1723 - val_loss: 0.0161 - val_mae: 0.0834 - learning_rate: 0.0010\n",
            "Epoch 18/100\n",
            "\u001b[1m2009/2009\u001b[0m \u001b[32m━━━━━━━━━━━━━━━━━━━━\u001b[0m\u001b[37m\u001b[0m \u001b[1m11s\u001b[0m 5ms/step - loss: 0.0466 - mae: 0.1663 - val_loss: 0.0153 - val_mae: 0.0725 - learning_rate: 0.0010\n",
            "Epoch 19/100\n",
            "\u001b[1m2009/2009\u001b[0m \u001b[32m━━━━━━━━━━━━━━━━━━━━\u001b[0m\u001b[37m\u001b[0m \u001b[1m11s\u001b[0m 5ms/step - loss: 0.0459 - mae: 0.1641 - val_loss: 0.0132 - val_mae: 0.0845 - learning_rate: 0.0010\n",
            "Epoch 20/100\n",
            "\u001b[1m2009/2009\u001b[0m \u001b[32m━━━━━━━━━━━━━━━━━━━━\u001b[0m\u001b[37m\u001b[0m \u001b[1m9s\u001b[0m 4ms/step - loss: 0.0446 - mae: 0.1631 - val_loss: 0.0205 - val_mae: 0.1079 - learning_rate: 0.0010\n",
            "Epoch 21/100\n",
            "\u001b[1m2009/2009\u001b[0m \u001b[32m━━━━━━━━━━━━━━━━━━━━\u001b[0m\u001b[37m\u001b[0m \u001b[1m8s\u001b[0m 4ms/step - loss: 0.0411 - mae: 0.1560 - val_loss: 0.0064 - val_mae: 0.0605 - learning_rate: 0.0010\n",
            "Epoch 22/100\n",
            "\u001b[1m2009/2009\u001b[0m \u001b[32m━━━━━━━━━━━━━━━━━━━━\u001b[0m\u001b[37m\u001b[0m \u001b[1m11s\u001b[0m 5ms/step - loss: 0.0390 - mae: 0.1520 - val_loss: 0.0051 - val_mae: 0.0516 - learning_rate: 0.0010\n",
            "Epoch 23/100\n",
            "\u001b[1m2009/2009\u001b[0m \u001b[32m━━━━━━━━━━━━━━━━━━━━\u001b[0m\u001b[37m\u001b[0m \u001b[1m10s\u001b[0m 5ms/step - loss: 0.0395 - mae: 0.1526 - val_loss: 0.0053 - val_mae: 0.0535 - learning_rate: 0.0010\n",
            "Epoch 24/100\n",
            "\u001b[1m2009/2009\u001b[0m \u001b[32m━━━━━━━━━━━━━━━━━━━━\u001b[0m\u001b[37m\u001b[0m \u001b[1m9s\u001b[0m 4ms/step - loss: 0.0368 - mae: 0.1478 - val_loss: 0.0058 - val_mae: 0.0524 - learning_rate: 0.0010\n",
            "Epoch 25/100\n",
            "\u001b[1m2009/2009\u001b[0m \u001b[32m━━━━━━━━━━━━━━━━━━━━\u001b[0m\u001b[37m\u001b[0m \u001b[1m9s\u001b[0m 4ms/step - loss: 0.0375 - mae: 0.1489 - val_loss: 0.0112 - val_mae: 0.0776 - learning_rate: 0.0010\n",
            "Epoch 26/100\n",
            "\u001b[1m2009/2009\u001b[0m \u001b[32m━━━━━━━━━━━━━━━━━━━━\u001b[0m\u001b[37m\u001b[0m \u001b[1m11s\u001b[0m 5ms/step - loss: 0.0343 - mae: 0.1431 - val_loss: 0.0131 - val_mae: 0.0834 - learning_rate: 0.0010\n",
            "Epoch 27/100\n",
            "\u001b[1m2008/2009\u001b[0m \u001b[32m━━━━━━━━━━━━━━━━━━━\u001b[0m\u001b[37m━\u001b[0m \u001b[1m0s\u001b[0m 4ms/step - loss: 0.0328 - mae: 0.1390\n",
            "Epoch 27: ReduceLROnPlateau reducing learning rate to 0.0005000000237487257.\n",
            "\u001b[1m2009/2009\u001b[0m \u001b[32m━━━━━━━━━━━━━━━━━━━━\u001b[0m\u001b[37m\u001b[0m \u001b[1m10s\u001b[0m 5ms/step - loss: 0.0328 - mae: 0.1390 - val_loss: 0.0072 - val_mae: 0.0588 - learning_rate: 0.0010\n",
            "Epoch 28/100\n",
            "\u001b[1m2009/2009\u001b[0m \u001b[32m━━━━━━━━━━━━━━━━━━━━\u001b[0m\u001b[37m\u001b[0m \u001b[1m9s\u001b[0m 4ms/step - loss: 0.0327 - mae: 0.1388 - val_loss: 0.0057 - val_mae: 0.0558 - learning_rate: 5.0000e-04\n",
            "Epoch 29/100\n",
            "\u001b[1m1578/2009\u001b[0m \u001b[32m━━━━━━━━━━━━━━━\u001b[0m\u001b[37m━━━━━\u001b[0m \u001b[1m1s\u001b[0m 4ms/step - loss: 0.0309 - mae: 0.1345"
          ]
        }
      ]
    },
    {
      "cell_type": "markdown",
      "source": [
        "After training, the model has learned patterns in the training data while monitoring performance on validation data."
      ],
      "metadata": {
        "id": "2caWJ8u8RaAA"
      }
    },
    {
      "cell_type": "markdown",
      "source": [
        "The trained model is then tested on unseen data to measure **Mean Absolute Error** (**MAE**) and overall **loss** (**MSE**)."
      ],
      "metadata": {
        "id": "JeVJgQ3KXF51"
      }
    },
    {
      "cell_type": "code",
      "source": [
        "test_loss, test_mae = model.evaluate(X_test_scaled, y_test, verbose=0)\n",
        "print(f\"Test MAE: {test_mae}\")"
      ],
      "metadata": {
        "id": "NBBjg_SRRZfc"
      },
      "execution_count": null,
      "outputs": []
    },
    {
      "cell_type": "markdown",
      "source": [
        "A low MAE indicates that the model’s predictions are close to actual values. If MAE is too high, further tuning may be needed."
      ],
      "metadata": {
        "id": "Zabv1G0hXYl3"
      }
    },
    {
      "cell_type": "markdown",
      "source": [
        "To ensure proper generalization, we **plot the loss curves** for both training and validation data."
      ],
      "metadata": {
        "id": "v-bYbDt4RoXK"
      }
    },
    {
      "cell_type": "code",
      "source": [
        "plt.figure(figsize=(8,6))\n",
        "plt.plot(history.history[\"loss\"], label=\"Training Loss\")\n",
        "plt.plot(history.history[\"val_loss\"], label=\"Validation Loss\")\n",
        "plt.xlabel(\"Epochs\")\n",
        "plt.ylabel(\"Loss (MSE)\")\n",
        "plt.title(\"Training vs. Validation Loss (MSE)\")\n",
        "plt.legend()\n",
        "plt.show()"
      ],
      "metadata": {
        "id": "ox1fBzV0XhqB"
      },
      "execution_count": null,
      "outputs": []
    },
    {
      "cell_type": "markdown",
      "source": [
        "We then compare the model’s predictions with actual values from the test dataset."
      ],
      "metadata": {
        "id": "JbSZKHCEXsWO"
      }
    },
    {
      "cell_type": "code",
      "source": [
        "y_pred = model.predict(X_test_scaled)\n",
        "\n",
        "results = pd.DataFrame({\"Actual\": y_test[:5].values, \"Predicted\": y_pred[:5].flatten()})\n",
        "print(results)"
      ],
      "metadata": {
        "id": "OxNDuHc7Xu68"
      },
      "execution_count": null,
      "outputs": []
    }
  ],
  "metadata": {
    "kernelspec": {
      "display_name": "Python 3",
      "name": "python3"
    },
    "language_info": {
      "codemirror_mode": {
        "name": "ipython",
        "version": 3
      },
      "file_extension": ".py",
      "mimetype": "text/x-python",
      "name": "python",
      "nbconvert_exporter": "python",
      "pygments_lexer": "ipython3",
      "version": "3.11.9"
    },
    "colab": {
      "provenance": [],
      "gpuType": "T4",
      "include_colab_link": true
    }
  },
  "nbformat": 4,
  "nbformat_minor": 0
}